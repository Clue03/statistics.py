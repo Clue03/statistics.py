{
 "cells": [
  {
   "cell_type": "markdown",
   "metadata": {},
   "source": [
    "# Chapter03 자료의 정리\n",
    "\n",
    "- <a href=\"#3.1자료의종류\">3.1 자료의 종류</a>\n",
    "- <a href=\"#3.2질적자료의정리\">3.2 질적자료의 정리</a>\n",
    "- <a href=\"#3.3양적자료의정리\">3.3 양적자료의 정리</a>"
   ]
  },
  {
   "cell_type": "markdown",
   "metadata": {},
   "source": [
    "## <a name=\"3.1자료의종류\">3.1 자료의 종류</a>"
   ]
  },
  {
   "cell_type": "markdown",
   "metadata": {},
   "source": [
    "**- 질적자료: 숫자에 의해 표현되지 않는 자료**\n",
    "  ex: 혈액형, 만족도, 학년별\n",
    "  \n",
    "**- 양적자료: 숫자로 표현되고, 그 숫자에 의미가 부여되는 자료**\n",
    "  ex: 스팸문자 횟수, 몸무게, 키\n",
    "  \n",
    "  1. 이산자료: 셈을 할 수 있는 자료 (스팸문자 횟수) \n",
    "  2. 연속자료: 어떤 구간 안에서 측정되는 자료 (몸무게 , 키)"
   ]
  },
  {
   "cell_type": "markdown",
   "metadata": {},
   "source": [
    "### 자료를 표현하는 방법"
   ]
  },
  {
   "cell_type": "markdown",
   "metadata": {},
   "source": [
    "### [실습] 예제 3-2: 표와 그래프 나타내기"
   ]
  },
  {
   "cell_type": "markdown",
   "metadata": {},
   "source": [
    "### #1.표로 표현하기(pandas)"
   ]
  },
  {
   "cell_type": "code",
   "execution_count": null,
   "metadata": {},
   "outputs": [],
   "source": [
    "%pip install pandas"
   ]
  },
  {
   "cell_type": "markdown",
   "metadata": {},
   "source": [
    "#### 방법1: values(context), columns, index  지정해서 만들기"
   ]
  },
  {
   "cell_type": "code",
   "execution_count": 9,
   "metadata": {},
   "outputs": [
    {
     "data": {
      "text/html": [
       "<div>\n",
       "<style scoped>\n",
       "    .dataframe tbody tr th:only-of-type {\n",
       "        vertical-align: middle;\n",
       "    }\n",
       "\n",
       "    .dataframe tbody tr th {\n",
       "        vertical-align: top;\n",
       "    }\n",
       "\n",
       "    .dataframe thead th {\n",
       "        text-align: right;\n",
       "    }\n",
       "</style>\n",
       "<table border=\"1\" class=\"dataframe\">\n",
       "  <thead>\n",
       "    <tr style=\"text-align: right;\">\n",
       "      <th></th>\n",
       "      <th>2005</th>\n",
       "      <th>2006</th>\n",
       "      <th>2007</th>\n",
       "      <th>2008</th>\n",
       "      <th>2009</th>\n",
       "      <th>2010</th>\n",
       "      <th>2011</th>\n",
       "      <th>2012</th>\n",
       "      <th>2013</th>\n",
       "      <th>2014</th>\n",
       "    </tr>\n",
       "  </thead>\n",
       "  <tbody>\n",
       "    <tr>\n",
       "      <th>횟수</th>\n",
       "      <td>15</td>\n",
       "      <td>7</td>\n",
       "      <td>2</td>\n",
       "      <td>10</td>\n",
       "      <td>8</td>\n",
       "      <td>5</td>\n",
       "      <td>14</td>\n",
       "      <td>9</td>\n",
       "      <td>18</td>\n",
       "      <td>8</td>\n",
       "    </tr>\n",
       "  </tbody>\n",
       "</table>\n",
       "</div>"
      ],
      "text/plain": [
       "    2005  2006  2007  2008  2009  2010  2011  2012  2013  2014\n",
       "횟수    15     7     2    10     8     5    14     9    18     8"
      ]
     },
     "execution_count": 9,
     "metadata": {},
     "output_type": "execute_result"
    }
   ],
   "source": [
    "import pandas as pd\n",
    "\n",
    "columns = list(range(2005,2015,1))\n",
    "values  = [[15,7,2,10,8,5,14,9,18,8]]\n",
    "\n",
    "df =pd.DataFrame(values, columns=columns, index=['횟수'])\n",
    "df"
   ]
  },
  {
   "cell_type": "markdown",
   "metadata": {},
   "source": [
    "#### 방법2: dictionary 이용"
   ]
  },
  {
   "cell_type": "code",
   "execution_count": 2,
   "metadata": {
    "scrolled": true
   },
   "outputs": [
    {
     "data": {
      "text/html": [
       "<div>\n",
       "<style scoped>\n",
       "    .dataframe tbody tr th:only-of-type {\n",
       "        vertical-align: middle;\n",
       "    }\n",
       "\n",
       "    .dataframe tbody tr th {\n",
       "        vertical-align: top;\n",
       "    }\n",
       "\n",
       "    .dataframe thead th {\n",
       "        text-align: right;\n",
       "    }\n",
       "</style>\n",
       "<table border=\"1\" class=\"dataframe\">\n",
       "  <thead>\n",
       "    <tr style=\"text-align: right;\">\n",
       "      <th></th>\n",
       "      <th>2005</th>\n",
       "      <th>2006</th>\n",
       "      <th>2007</th>\n",
       "      <th>2008</th>\n",
       "      <th>2009</th>\n",
       "      <th>2010</th>\n",
       "      <th>2011</th>\n",
       "      <th>2012</th>\n",
       "      <th>2013</th>\n",
       "      <th>2014</th>\n",
       "    </tr>\n",
       "  </thead>\n",
       "  <tbody>\n",
       "    <tr>\n",
       "      <th>횟수</th>\n",
       "      <td>15</td>\n",
       "      <td>7</td>\n",
       "      <td>2</td>\n",
       "      <td>10</td>\n",
       "      <td>8</td>\n",
       "      <td>5</td>\n",
       "      <td>14</td>\n",
       "      <td>9</td>\n",
       "      <td>18</td>\n",
       "      <td>8</td>\n",
       "    </tr>\n",
       "  </tbody>\n",
       "</table>\n",
       "</div>"
      ],
      "text/plain": [
       "    2005  2006  2007  2008  2009  2010  2011  2012  2013  2014\n",
       "횟수    15     7     2    10     8     5    14     9    18     8"
      ]
     },
     "execution_count": 2,
     "metadata": {},
     "output_type": "execute_result"
    }
   ],
   "source": [
    "datas = {2005:15, 2006: 7, 2007: 2, 2008:10, 2009: 8, \n",
    "         2010: 5, 2011:14, 2012: 9, 2013:18, 2014: 8}\n",
    "\n",
    "\n",
    "df =pd.DataFrame(datas, index=['횟수'])\n",
    "df"
   ]
  },
  {
   "cell_type": "code",
   "execution_count": null,
   "metadata": {},
   "outputs": [],
   "source": [
    "# df = pd.read_csv('data/서울지역_일별_일조시간.csv', encoding='cp949')\n",
    "# df"
   ]
  },
  {
   "cell_type": "markdown",
   "metadata": {},
   "source": [
    "#### DataFrame의 컬럼 목록 추출"
   ]
  },
  {
   "cell_type": "code",
   "execution_count": null,
   "metadata": {},
   "outputs": [],
   "source": [
    "df.colunms"
   ]
  },
  {
   "cell_type": "markdown",
   "metadata": {},
   "source": [
    "#### DataFrame의 values 목록 추출"
   ]
  },
  {
   "cell_type": "code",
   "execution_count": null,
   "metadata": {},
   "outputs": [],
   "source": [
    "df.values"
   ]
  },
  {
   "cell_type": "markdown",
   "metadata": {},
   "source": [
    "### #2.그래프로 표현하기"
   ]
  },
  {
   "cell_type": "markdown",
   "metadata": {},
   "source": [
    "#### - 그래프 기본 설정"
   ]
  },
  {
   "cell_type": "code",
   "execution_count": null,
   "metadata": {},
   "outputs": [],
   "source": [
    "import matplotlib.pyplot as plt\n",
    "\n",
    "\n",
    "# 그래프 설정\n",
    "plt.rcParams['figure.figsize'] = (5, 3)        # (가로,세로) 인치 단위\n",
    "plt.rcParams['axes.unicode_minus'] = False    # 그래프 눈금 값에서 (-)숫자표시\n",
    "plt.rcParams['lines.linewidth'] = 2            # 선 굵기\n",
    "plt.rcParams['font.family'] = 'Malgun Gothic'  # 한글 폰트 사용  (AppleGothic)"
   ]
  },
  {
   "cell_type": "markdown",
   "metadata": {},
   "source": [
    "#### - 설치된 폰트 확인"
   ]
  },
  {
   "cell_type": "code",
   "execution_count": 22,
   "metadata": {},
   "outputs": [
    {
     "name": "stdout",
     "output_type": "stream",
     "text": [
      "Malgun Gothic\n",
      "Malgun Gothic\n",
      "Malgun Gothic\n",
      "Malgun Gothic\n",
      "Malgun Gothic\n",
      "Malgun Gothic\n"
     ]
    }
   ],
   "source": [
    "import matplotlib.font_manager\n",
    "\n",
    "for f in matplotlib.font_manager.fontManager.ttflist:\n",
    "    if f.name.startswith('Malgun'):\n",
    "        print(f.name)"
   ]
  },
  {
   "cell_type": "markdown",
   "metadata": {},
   "source": [
    "### Line(선) 그래프"
   ]
  },
  {
   "cell_type": "code",
   "execution_count": 11,
   "metadata": {
    "scrolled": false
   },
   "outputs": [
    {
     "data": {
      "image/png": "[encoded data removed]",
      "text/plain": [
       "<Figure size 640x480 with 1 Axes>"
      ]
     },
     "metadata": {},
     "output_type": "display_data"
    }
   ],
   "source": [
    "import matplotlib.pyplot as plt\n",
    "\n",
    "x = list(df.columns)\n",
    "y = list(df.values[0])\n",
    "\n",
    "plt.plot(x, y, linestyle='dashed', c='r')\n",
    "plt.show()\n",
    "\n"
   ]
  },
  {
   "cell_type": "markdown",
   "metadata": {},
   "source": [
    "### Scatter(점) 그래프"
   ]
  },
  {
   "cell_type": "code",
   "execution_count": 13,
   "metadata": {},
   "outputs": [
    {
     "data": {
      "image/png": "[encoded data removed]",
      "text/plain": [
       "<Figure size 640x480 with 1 Axes>"
      ]
     },
     "metadata": {},
     "output_type": "display_data"
    }
   ],
   "source": [
    "import matplotlib.pyplot as plt\n",
    "\n",
    "x = list(df.columns)\n",
    "y = list(df.values[0])\n",
    "\n",
    "plt.scatter(x, y)\n",
    "plt.show()\n",
    "\n",
    "\n"
   ]
  },
  {
   "cell_type": "markdown",
   "metadata": {},
   "source": [
    "#### - 점 크기, 색상 다르게 표현하기"
   ]
  },
  {
   "cell_type": "code",
   "execution_count": 14,
   "metadata": {},
   "outputs": [
    {
     "data": {
      "image/png": "[encoded data removed]",
      "text/plain": [
       "<Figure size 640x480 with 1 Axes>"
      ]
     },
     "metadata": {},
     "output_type": "display_data"
    }
   ],
   "source": [
    "import numpy as np\n",
    "\n",
    "# Fixing random state for reproducibility\n",
    "np.random.seed(12345678)\n",
    "\n",
    "N = len(x)\n",
    "colors = np.random.rand(N)\n",
    "size = (30 * np.random.rand(N))**2  # 0 to 15 point radii\n",
    "\n",
    "plt.scatter(x, y, s=size, c=colors, alpha=0.5)\n",
    "plt.show()"
   ]
  },
  {
   "cell_type": "markdown",
   "metadata": {},
   "source": [
    "### Bar(막대) 그래프"
   ]
  },
  {
   "cell_type": "code",
   "execution_count": 12,
   "metadata": {
    "scrolled": true
   },
   "outputs": [
    {
     "data": {
      "image/png": "[encoded data removed]",
      "text/plain": [
       "<Figure size 640x480 with 1 Axes>"
      ]
     },
     "metadata": {},
     "output_type": "display_data"
    }
   ],
   "source": [
    "\n",
    "import matplotlib.pyplot as plt\n",
    "\n",
    "x = list(df.columns)\n",
    "y = list(df.values[0])\n",
    "\n",
    "plt.bar(x, y)\n",
    "plt.show()\n"
   ]
  },
  {
   "cell_type": "markdown",
   "metadata": {},
   "source": [
    "#### - 가로 막대그래프"
   ]
  },
  {
   "cell_type": "code",
   "execution_count": 15,
   "metadata": {
    "scrolled": false
   },
   "outputs": [
    {
     "data": {
      "image/png": "[encoded data removed]",
      "text/plain": [
       "<Figure size 640x480 with 1 Axes>"
      ]
     },
     "metadata": {},
     "output_type": "display_data"
    }
   ],
   "source": [
    "import matplotlib.pyplot as plt\n",
    "\n",
    "x = list(df.columns)\n",
    "y = list(df.values[0])\n",
    "\n",
    "plt.barh(x, y)\n",
    "plt.show()\n"
   ]
  },
  {
   "cell_type": "markdown",
   "metadata": {},
   "source": [
    "#### - 그래프 색상 직접 지정"
   ]
  },
  {
   "cell_type": "code",
   "execution_count": null,
   "metadata": {
    "scrolled": false
   },
   "outputs": [],
   "source": [
    "#그래프 색상 지정\n",
    "colors = ['r','g','b','c','m','y','k','w']  # 기본색상  # Hexa코드 or CSS컬러사용\n",
    "\n",
    "plt.bar(x, y, color=colors)\n",
    "\n",
    "plt.show()"
   ]
  },
  {
   "cell_type": "markdown",
   "metadata": {},
   "source": [
    "#### 막대그래프 + 선그래프"
   ]
  },
  {
   "cell_type": "code",
   "execution_count": 16,
   "metadata": {
    "scrolled": true
   },
   "outputs": [
    {
     "data": {
      "image/png": "[encoded data removed]",
      "text/plain": [
       "<Figure size 640x480 with 1 Axes>"
      ]
     },
     "metadata": {},
     "output_type": "display_data"
    }
   ],
   "source": [
    "#막대 그래프 + 선그래프\n",
    "import matplotlib.pyplot as plt\n",
    "\n",
    "x = list(df.columns)\n",
    "y = list(df.values[0])\n",
    "\n",
    "plt.bar(x, y)\n",
    "plt.plot(x, y, marker='o', c='y')\n",
    "plt.show()\n"
   ]
  },
  {
   "cell_type": "markdown",
   "metadata": {},
   "source": [
    "### Pie(원) 그래프"
   ]
  },
  {
   "cell_type": "code",
   "execution_count": 17,
   "metadata": {
    "scrolled": true
   },
   "outputs": [
    {
     "data": {
      "image/png": "[encoded data removed]",
      "text/plain": [
       "<Figure size 640x480 with 1 Axes>"
      ]
     },
     "metadata": {},
     "output_type": "display_data"
    }
   ],
   "source": [
    "plt.pie(y)\n",
    "plt.show()"
   ]
  },
  {
   "cell_type": "markdown",
   "metadata": {},
   "source": [
    "#### - 레이블 보여주기"
   ]
  },
  {
   "cell_type": "code",
   "execution_count": 18,
   "metadata": {
    "scrolled": true
   },
   "outputs": [
    {
     "data": {
      "image/png": "[encoded data removed]",
      "text/plain": [
       "<Figure size 640x480 with 1 Axes>"
      ]
     },
     "metadata": {},
     "output_type": "display_data"
    }
   ],
   "source": [
    "plt.pie(y, labels=x, autopct='%.1f%%')\n",
    "plt.show()"
   ]
  },
  {
   "cell_type": "markdown",
   "metadata": {},
   "source": [
    "#### - 제목과 범례 표시"
   ]
  },
  {
   "cell_type": "code",
   "execution_count": 23,
   "metadata": {
    "scrolled": false
   },
   "outputs": [
    {
     "data": {
      "image/png": "[encoded data removed]",
      "text/plain": [
       "<Figure size 640x480 with 1 Axes>"
      ]
     },
     "metadata": {},
     "output_type": "display_data"
    }
   ],
   "source": [
    "plt.pie(y, labels=x,  autopct='%1.1f%%')\n",
    "plt.legend(x, title='년도', loc=\"center right\",  bbox_to_anchor=(1, 0, 0.5, 1))\n",
    "plt.title(\"3.0이상 강진 횟수\")\n",
    "plt.show()"
   ]
  },
  {
   "cell_type": "markdown",
   "metadata": {},
   "source": [
    "#### - 글씨 크기&색상 조정\n",
    "- 단, textprops 옵션 중 color를 사용하면 labels=x 이 표시되지 않는다."
   ]
  },
  {
   "cell_type": "code",
   "execution_count": 20,
   "metadata": {
    "scrolled": false
   },
   "outputs": [
    {
     "data": {
      "image/png": "[encoded data removed]",
      "text/plain": [
       "<Figure size 640x480 with 1 Axes>"
      ]
     },
     "metadata": {},
     "output_type": "display_data"
    }
   ],
   "source": [
    "plt.pie(y, labels=x, autopct='%1.1f%%', textprops={'size':12, 'color':'w'})\n",
    "plt.legend(x, title='년도', loc=\"center right\",  bbox_to_anchor=(1, 0, 0.5, 1))\n",
    "plt.title(\"3.0이상 강진 횟수\", size=15)\n",
    "plt.show()"
   ]
  },
  {
   "cell_type": "code",
   "execution_count": 21,
   "metadata": {},
   "outputs": [
    {
     "data": {
      "image/png": "[encoded data removed]",
      "text/plain": [
       "<Figure size 640x480 with 1 Axes>"
      ]
     },
     "metadata": {},
     "output_type": "display_data"
    }
   ],
   "source": [
    "plt.pie(y, labels=x, autopct='%1.1f%%', textprops={'size':12})\n",
    "plt.legend(x, title='년도', loc=\"center right\",  bbox_to_anchor=(1, 0, 0.5, 1))\n",
    "plt.title(\"3.0이상 강진 횟수\", size=15)\n",
    "plt.show()"
   ]
  },
  {
   "cell_type": "markdown",
   "metadata": {},
   "source": [
    "#### - 특정 조각이 돌출되도록 표시"
   ]
  },
  {
   "cell_type": "code",
   "execution_count": 24,
   "metadata": {
    "scrolled": true
   },
   "outputs": [
    {
     "data": {
      "image/png": "[encoded data removed]",
      "text/plain": [
       "<Figure size 640x480 with 1 Axes>"
      ]
     },
     "metadata": {},
     "output_type": "display_data"
    }
   ],
   "source": [
    "explode = (0, 0.1, 0, 0, 0, 0, 0, 0, 0, 0) #조각이 돌출되도록 표현\n",
    "\n",
    "plt.pie(y, labels=x, autopct='%1.1f%%', textprops={'size':12},\n",
    "        explode=explode, shadow=True, startangle=0)\n",
    "plt.legend(x, title='년도', loc=\"center right\",  bbox_to_anchor=(1, 0, 0.5, 1))\n",
    "plt.title(\"3.0이상 강진 횟수\", size=15)\n",
    "plt.show()"
   ]
  },
  {
   "cell_type": "markdown",
   "metadata": {},
   "source": [
    "---------------------"
   ]
  },
  {
   "cell_type": "markdown",
   "metadata": {},
   "source": [
    "### [실습] 모집단과 표본의 크기"
   ]
  },
  {
   "cell_type": "markdown",
   "metadata": {},
   "source": [
    "### [예제 3-2]"
   ]
  },
  {
   "cell_type": "code",
   "execution_count": 25,
   "metadata": {
    "scrolled": false
   },
   "outputs": [
    {
     "data": {
      "text/html": [
       "<div>\n",
       "<style scoped>\n",
       "    .dataframe tbody tr th:only-of-type {\n",
       "        vertical-align: middle;\n",
       "    }\n",
       "\n",
       "    .dataframe tbody tr th {\n",
       "        vertical-align: top;\n",
       "    }\n",
       "\n",
       "    .dataframe thead th {\n",
       "        text-align: right;\n",
       "    }\n",
       "</style>\n",
       "<table border=\"1\" class=\"dataframe\">\n",
       "  <thead>\n",
       "    <tr style=\"text-align: right;\">\n",
       "      <th>국가</th>\n",
       "      <th>한국계중국인</th>\n",
       "      <th>베트남</th>\n",
       "      <th>중국</th>\n",
       "      <th>인도네이시아</th>\n",
       "      <th>필리핀</th>\n",
       "      <th>캄보디아</th>\n",
       "      <th>스리랑카</th>\n",
       "      <th>일본</th>\n",
       "      <th>네팔</th>\n",
       "      <th>타이</th>\n",
       "      <th>기타</th>\n",
       "    </tr>\n",
       "  </thead>\n",
       "  <tbody>\n",
       "    <tr>\n",
       "      <th>인원</th>\n",
       "      <td>1076</td>\n",
       "      <td>1183</td>\n",
       "      <td>684</td>\n",
       "      <td>579</td>\n",
       "      <td>466</td>\n",
       "      <td>366</td>\n",
       "      <td>207</td>\n",
       "      <td>220</td>\n",
       "      <td>119</td>\n",
       "      <td>135</td>\n",
       "      <td>490</td>\n",
       "    </tr>\n",
       "  </tbody>\n",
       "</table>\n",
       "</div>"
      ],
      "text/plain": [
       "국가  한국계중국인   베트남   중국  인도네이시아  필리핀  캄보디아  스리랑카   일본   네팔   타이   기타\n",
       "인원    1076  1183  684     579  466   366   207  220  119  135  490"
      ]
     },
     "execution_count": 25,
     "metadata": {},
     "output_type": "execute_result"
    }
   ],
   "source": [
    "datas = {'한국계중국인':1076,'베트남':1183,'중국':684,'인도네이시아':579,'필리핀':466,\n",
    "       '캄보디아':366,'스리랑카':207,'일본':220,'네팔':119,'타이':135,'기타':490}\n",
    "\n",
    "df = pd.DataFrame(datas, index=['인원'])\n",
    "df.columns.name = '국가'\n",
    "\n",
    "df"
   ]
  },
  {
   "cell_type": "markdown",
   "metadata": {},
   "source": [
    "#### - 모집단 크기: 행별 합계"
   ]
  },
  {
   "cell_type": "code",
   "execution_count": 27,
   "metadata": {
    "scrolled": true
   },
   "outputs": [
    {
     "name": "stdout",
     "output_type": "stream",
     "text": [
      "모집단의 크기: 인원    5525\n",
      "dtype: int64\n",
      "모집단의 크기: 5035\n"
     ]
    }
   ],
   "source": [
    "print(f\"모집단의 크기: {df.sum(axis=1)}\")  \n",
    "print(f\"모집단의 크기: {sum(df.iloc[0,0:-1])}\")  \n"
   ]
  },
  {
   "cell_type": "markdown",
   "metadata": {},
   "source": [
    "#### - 표본의 크기: "
   ]
  },
  {
   "cell_type": "code",
   "execution_count": 28,
   "metadata": {},
   "outputs": [
    {
     "name": "stdout",
     "output_type": "stream",
     "text": [
      "표본의 크기: 100\n"
     ]
    }
   ],
   "source": [
    "print(f\"표본의 크기: {len(df.columns[0:-1]) * 10}\")  # 마지막 기타 컬럼 제외"
   ]
  },
  {
   "cell_type": "markdown",
   "metadata": {},
   "source": [
    "### [도시 거주민 모집단의 크기와 표본의 크기]"
   ]
  },
  {
   "cell_type": "code",
   "execution_count": null,
   "metadata": {},
   "outputs": [],
   "source": [
    "datas = {'A':50186, 'B':26468, 'C':20930, 'D':15601, 'E':32344,\n",
    "       'F':21175,'G':56621,'H':20032,'I':49200}\n",
    "\n",
    "df = pd.DataFrame(datas, index=['인원'])\n",
    "df.columns.name = '동이름'\n",
    "df.name = '30세 이상 주민의 월수입'\n",
    "\n",
    "df"
   ]
  },
  {
   "cell_type": "code",
   "execution_count": null,
   "metadata": {},
   "outputs": [],
   "source": [
    "print(f\"모집단의 크기: {    }\")   # index 0번 행의 전체 열 합계\n",
    "print( f\"표본의 크기: {   }\" )  # 전체 열에 대해"
   ]
  },
  {
   "cell_type": "markdown",
   "metadata": {},
   "source": [
    "#### - 알파벳 자동 생성"
   ]
  },
  {
   "cell_type": "code",
   "execution_count": null,
   "metadata": {},
   "outputs": [],
   "source": [
    "from string import ascii_uppercase    # 알파벳 대문자 (소문자: ascii_lowercase)\n",
    "alphabet_list = list(ascii_uppercase)\n",
    "print(alphabet_list[:9])"
   ]
  },
  {
   "cell_type": "markdown",
   "metadata": {},
   "source": [
    "--------"
   ]
  },
  {
   "cell_type": "markdown",
   "metadata": {},
   "source": [
    "## <a name=\"3.2질적자료의정리\">3.2 질적자료의 정리</a>"
   ]
  },
  {
   "cell_type": "markdown",
   "metadata": {},
   "source": [
    "### @점도표(dot plt)\n",
    "**자료에 대해 수평축에 각 범주를 작성하고 수직방향으로 각 범주의 측정값에 해당하는 수 만큼 점으로 나타낸 그림**"
   ]
  },
  {
   "cell_type": "markdown",
   "metadata": {},
   "source": [
    "### [실습] 점도표 만들기"
   ]
  },
  {
   "cell_type": "markdown",
   "metadata": {},
   "source": [
    "#### - 1단계: 산점도 표현하기"
   ]
  },
  {
   "cell_type": "code",
   "execution_count": 29,
   "metadata": {
    "scrolled": true
   },
   "outputs": [
    {
     "name": "stderr",
     "output_type": "stream",
     "text": [
      "c:\\Python\\lib\\site-packages\\IPython\\core\\pylabtools.py:152: UserWarning: Glyph 47588 (\\N{HANGUL SYLLABLE MAE}) missing from current font.\n",
      "  fig.canvas.print_figure(bytes_io, **kw)\n",
      "c:\\Python\\lib\\site-packages\\IPython\\core\\pylabtools.py:152: UserWarning: Glyph 50864 (\\N{HANGUL SYLLABLE U}) missing from current font.\n",
      "  fig.canvas.print_figure(bytes_io, **kw)\n",
      "c:\\Python\\lib\\site-packages\\IPython\\core\\pylabtools.py:152: UserWarning: Glyph 47564 (\\N{HANGUL SYLLABLE MAN}) missing from current font.\n",
      "  fig.canvas.print_figure(bytes_io, **kw)\n",
      "c:\\Python\\lib\\site-packages\\IPython\\core\\pylabtools.py:152: UserWarning: Glyph 51313 (\\N{HANGUL SYLLABLE JOG}) missing from current font.\n",
      "  fig.canvas.print_figure(bytes_io, **kw)\n",
      "c:\\Python\\lib\\site-packages\\IPython\\core\\pylabtools.py:152: UserWarning: Glyph 48372 (\\N{HANGUL SYLLABLE BO}) missing from current font.\n",
      "  fig.canvas.print_figure(bytes_io, **kw)\n",
      "c:\\Python\\lib\\site-packages\\IPython\\core\\pylabtools.py:152: UserWarning: Glyph 53685 (\\N{HANGUL SYLLABLE TONG}) missing from current font.\n",
      "  fig.canvas.print_figure(bytes_io, **kw)\n",
      "c:\\Python\\lib\\site-packages\\IPython\\core\\pylabtools.py:152: UserWarning: Glyph 48520 (\\N{HANGUL SYLLABLE BUL}) missing from current font.\n",
      "  fig.canvas.print_figure(bytes_io, **kw)\n"
     ]
    },
    {
     "data": {
      "image/png": "[encoded data removed]",
      "text/plain": [
       "<Figure size 640x480 with 1 Axes>"
      ]
     },
     "metadata": {},
     "output_type": "display_data"
    }
   ],
   "source": [
    "import matplotlib.pyplot as plt \n",
    "\n",
    "\n",
    "col = ['매우만족','만족','보통','불만족','매우불만족']\n",
    "val = [5,11,21,9,4]\n",
    "\n",
    "plt.scatter(col, val)  \n",
    "# ny = np.array([5,11,21,9,4])\n",
    "# plt.scatter(col, val, s=ny*100, c=\"g\", alpha=0.5, marker=r'$\\clubsuit$')\n",
    "plt.show()"
   ]
  },
  {
   "cell_type": "markdown",
   "metadata": {},
   "source": [
    "#### - 2단계: 산점도를 numpy를 이용하여 점도표로 만들기"
   ]
  },
  {
   "cell_type": "code",
   "execution_count": 30,
   "metadata": {
    "scrolled": true
   },
   "outputs": [
    {
     "data": {
      "image/png": "[encoded data removed]",
      "text/plain": [
       "<Figure size 640x480 with 1 Axes>"
      ]
     },
     "metadata": {},
     "output_type": "display_data"
    }
   ],
   "source": [
    "import matplotlib.pyplot as plt \n",
    "import numpy as np\n",
    "\n",
    "col = ['매우만족','만족','보통','불만족','매우불만족']\n",
    "val = [5,11,21,9,4]\n",
    "\n",
    "# x, y 를 numpy 숫자 데이터 형태(X, Y)로 변경한다.\n",
    "x = np.arange(1, len(col)+1)       # [1 2 3 4 5]\n",
    "y = np.arange(1, max(val)+1)\n",
    "X,Y = np.meshgrid(x,y)  # X, Y의 meshgrid 만들기\n",
    "# print(X)\n",
    "# print(Y)\n",
    "\n",
    "\n",
    "plt.scatter(X, Y)  \n",
    "plt.show()"
   ]
  },
  {
   "cell_type": "markdown",
   "metadata": {},
   "source": [
    "#### -3단계: 점도표의 색상을 해당 값만큼에 대해서만 색칠하기"
   ]
  },
  {
   "cell_type": "code",
   "execution_count": 31,
   "metadata": {},
   "outputs": [
    {
     "data": {
      "image/png": "[encoded data removed]",
      "text/plain": [
       "<Figure size 640x480 with 1 Axes>"
      ]
     },
     "metadata": {},
     "output_type": "display_data"
    }
   ],
   "source": [
    "import matplotlib.pyplot as plt \n",
    "import numpy as np\n",
    "\n",
    "col = ['매우만족','만족','보통','불만족','매우불만족']\n",
    "val = [5,11,21,9,4]\n",
    "\n",
    "# x, y 를 numpy 숫자 데이터 형태(X, Y)로 변경한다.\n",
    "x = np.arange(1, len(col)+1)       # [1 2 3 4 5]\n",
    "y = np.arange(1, max(val)+1)\n",
    "X,Y = np.meshgrid(x,y)    # X, Y의 meshgrid 만들기\n",
    "\n",
    "\n",
    "# 점 색상 지정을 부등호를 이용하여 해당 값만큼만 나타내기  \n",
    "ny = np.array( val )   # 점을 쌓기 위해 Y와 같은 동일한 numpy데이터로 만든다. 리스트 타입도 가능\n",
    "plt.scatter(X, Y, c=(Y<=ny), cmap=\"Oranges\")  #  Greys, Blues 등등\n",
    "plt.show()"
   ]
  },
  {
   "cell_type": "markdown",
   "metadata": {},
   "source": [
    "#### -4단계: 그래프 꾸미기"
   ]
  },
  {
   "cell_type": "code",
   "execution_count": 32,
   "metadata": {
    "scrolled": true
   },
   "outputs": [
    {
     "name": "stderr",
     "output_type": "stream",
     "text": [
      "c:\\Python\\lib\\site-packages\\IPython\\core\\pylabtools.py:152: UserWarning: Glyph 51064 (\\N{HANGUL SYLLABLE IN}) missing from current font.\n",
      "  fig.canvas.print_figure(bytes_io, **kw)\n",
      "c:\\Python\\lib\\site-packages\\IPython\\core\\pylabtools.py:152: UserWarning: Glyph 50896 (\\N{HANGUL SYLLABLE WEON}) missing from current font.\n",
      "  fig.canvas.print_figure(bytes_io, **kw)\n",
      "c:\\Python\\lib\\site-packages\\IPython\\core\\pylabtools.py:152: UserWarning: Glyph 54364 (\\N{HANGUL SYLLABLE PYO}) missing from current font.\n",
      "  fig.canvas.print_figure(bytes_io, **kw)\n",
      "c:\\Python\\lib\\site-packages\\IPython\\core\\pylabtools.py:152: UserWarning: Glyph 44256 (\\N{HANGUL SYLLABLE GO}) missing from current font.\n",
      "  fig.canvas.print_figure(bytes_io, **kw)\n",
      "c:\\Python\\lib\\site-packages\\IPython\\core\\pylabtools.py:152: UserWarning: Glyph 44061 (\\N{HANGUL SYLLABLE GAEG}) missing from current font.\n",
      "  fig.canvas.print_figure(bytes_io, **kw)\n",
      "c:\\Python\\lib\\site-packages\\IPython\\core\\pylabtools.py:152: UserWarning: Glyph 46020 (\\N{HANGUL SYLLABLE DO}) missing from current font.\n",
      "  fig.canvas.print_figure(bytes_io, **kw)\n",
      "c:\\Python\\lib\\site-packages\\IPython\\core\\pylabtools.py:152: UserWarning: Glyph 51312 (\\N{HANGUL SYLLABLE JO}) missing from current font.\n",
      "  fig.canvas.print_figure(bytes_io, **kw)\n",
      "c:\\Python\\lib\\site-packages\\IPython\\core\\pylabtools.py:152: UserWarning: Glyph 49324 (\\N{HANGUL SYLLABLE SA}) missing from current font.\n",
      "  fig.canvas.print_figure(bytes_io, **kw)\n"
     ]
    },
    {
     "data": {
      "image/png": "[encoded data removed]",
      "text/plain": [
       "<Figure size 640x480 with 1 Axes>"
      ]
     },
     "metadata": {},
     "output_type": "display_data"
    }
   ],
   "source": [
    "import matplotlib.pyplot as plt \n",
    "import numpy as np\n",
    "\n",
    "col = ['매우만족','만족','보통','불만족','매우불만족']\n",
    "val = [5,11,21,9,4]\n",
    "\n",
    "# x, y 를 numpy 숫자 데이터 형태(X, Y)로 변경한다.\n",
    "x = np.arange(1, len(col)+1)       # [1 2 3 4 5]\n",
    "y = np.arange(1, max(val)+1)\n",
    "X,Y = np.meshgrid(x,y)    # X, Y의 meshgrid 만들기\n",
    "\n",
    "\n",
    "# 점 색상 지정을 부등호를 이용하여 해당 값만큼만 나타내기  \n",
    "ny = np.array( val )   # 점을 쌓기 위해 Y와 같은 동일한 numpy데이터로 만든다.\n",
    "plt.scatter(X, Y, c=(Y<=ny), cmap=\"Oranges\")  #  Greys, Blues 등등\n",
    "\n",
    "plt.title('표3-1: 고객 만족도 조사', fontsize=15)\n",
    "plt.xticks(ticks=x, labels=col) \n",
    "plt.xlabel('만족도')\n",
    "plt.ylabel('인원')\n",
    "plt.show()"
   ]
  },
  {
   "cell_type": "markdown",
   "metadata": {},
   "source": [
    "### [실습] 예제3-3: 점도표로 나타내기"
   ]
  },
  {
   "cell_type": "code",
   "execution_count": 33,
   "metadata": {
    "scrolled": false
   },
   "outputs": [
    {
     "name": "stderr",
     "output_type": "stream",
     "text": [
      "c:\\Python\\lib\\site-packages\\IPython\\core\\pylabtools.py:152: UserWarning: Glyph 54617 (\\N{HANGUL SYLLABLE HAG}) missing from current font.\n",
      "  fig.canvas.print_figure(bytes_io, **kw)\n",
      "c:\\Python\\lib\\site-packages\\IPython\\core\\pylabtools.py:152: UserWarning: Glyph 45380 (\\N{HANGUL SYLLABLE NYEON}) missing from current font.\n",
      "  fig.canvas.print_figure(bytes_io, **kw)\n"
     ]
    },
    {
     "data": {
      "image/png": "[encoded data removed]",
      "text/plain": [
       "<Figure size 640x480 with 1 Axes>"
      ]
     },
     "metadata": {},
     "output_type": "display_data"
    }
   ],
   "source": [
    "import matplotlib.pyplot as plt \n",
    "import numpy as np\n",
    "\n",
    "col = ['1학년','2학년','3학년','4학년']  # 학년\n",
    "val = [16, 12, 7, 5]                     # 인원\n",
    "\n",
    "# x, y 를 numpy 숫자 데이터 형태(X, Y)로 변경한다.\n",
    "x = np.arange(1, len(col)+1)       # [1 2 3 4 5]\n",
    "y = np.arange(1, max(val)+1)\n",
    "X,Y = np.meshgrid(x,y)    # X, Y의 meshgrid 만들기\n",
    "\n",
    "\n",
    "# 점 색상 지정을 부등호를 이용하여 해당 값만큼만 나타내기  \n",
    "ny = np.array( val )   # 점을 쌓기 위해 Y와 같은 동일한 numpy데이터로 만든다.\n",
    "plt.scatter(X, Y, c=(Y<=ny), cmap=\"Oranges\")  #  Greys, Blues 등등\n",
    "\n",
    "plt.title('표3-1: 고객 만족도 조사', fontsize=15)\n",
    "plt.xticks(ticks=x, labels=col) \n",
    "plt.xlabel('만족도')\n",
    "plt.ylabel('인원')\n",
    "plt.show()\n",
    "\n"
   ]
  },
  {
   "cell_type": "markdown",
   "metadata": {},
   "source": [
    "-----------------------------"
   ]
  },
  {
   "cell_type": "markdown",
   "metadata": {},
   "source": [
    "### @도수표(frequency tables)\n",
    "**각 범주의 도수와 상대도수 또는 범주의 백분율을 기입하여 보여주는 표**"
   ]
  },
  {
   "cell_type": "markdown",
   "metadata": {},
   "source": [
    "### [실습] 예제3-4:  도수표 만들기"
   ]
  },
  {
   "cell_type": "markdown",
   "metadata": {},
   "source": [
    "#### - 1단계: Pandas 표로 나타내기"
   ]
  },
  {
   "cell_type": "code",
   "execution_count": 34,
   "metadata": {},
   "outputs": [
    {
     "data": {
      "text/html": [
       "<div>\n",
       "<style scoped>\n",
       "    .dataframe tbody tr th:only-of-type {\n",
       "        vertical-align: middle;\n",
       "    }\n",
       "\n",
       "    .dataframe tbody tr th {\n",
       "        vertical-align: top;\n",
       "    }\n",
       "\n",
       "    .dataframe thead th {\n",
       "        text-align: right;\n",
       "    }\n",
       "</style>\n",
       "<table border=\"1\" class=\"dataframe\">\n",
       "  <thead>\n",
       "    <tr style=\"text-align: right;\">\n",
       "      <th></th>\n",
       "      <th>도수</th>\n",
       "    </tr>\n",
       "    <tr>\n",
       "      <th>학년</th>\n",
       "      <th></th>\n",
       "    </tr>\n",
       "  </thead>\n",
       "  <tbody>\n",
       "    <tr>\n",
       "      <th>1학년</th>\n",
       "      <td>16</td>\n",
       "    </tr>\n",
       "    <tr>\n",
       "      <th>2학년</th>\n",
       "      <td>12</td>\n",
       "    </tr>\n",
       "    <tr>\n",
       "      <th>3학년</th>\n",
       "      <td>7</td>\n",
       "    </tr>\n",
       "    <tr>\n",
       "      <th>4학년</th>\n",
       "      <td>5</td>\n",
       "    </tr>\n",
       "  </tbody>\n",
       "</table>\n",
       "</div>"
      ],
      "text/plain": [
       "     도수\n",
       "학년     \n",
       "1학년  16\n",
       "2학년  12\n",
       "3학년   7\n",
       "4학년   5"
      ]
     },
     "execution_count": 34,
     "metadata": {},
     "output_type": "execute_result"
    }
   ],
   "source": [
    "import pandas as pd\n",
    "\n",
    "col = ['1학년','2학년','3학년','4학년']  # 학년\n",
    "val = [16, 12, 7, 5]                     # 인원\n",
    "\n",
    "df  = pd.DataFrame( val, index=col, columns=['도수'])\n",
    "df.index.name = '학년'\n",
    "df"
   ]
  },
  {
   "cell_type": "markdown",
   "metadata": {},
   "source": [
    "#### - 2단계: 상대도수, 백분률 컬럼 추가하기"
   ]
  },
  {
   "cell_type": "code",
   "execution_count": 35,
   "metadata": {
    "scrolled": true
   },
   "outputs": [
    {
     "data": {
      "text/html": [
       "<div>\n",
       "<style scoped>\n",
       "    .dataframe tbody tr th:only-of-type {\n",
       "        vertical-align: middle;\n",
       "    }\n",
       "\n",
       "    .dataframe tbody tr th {\n",
       "        vertical-align: top;\n",
       "    }\n",
       "\n",
       "    .dataframe thead th {\n",
       "        text-align: right;\n",
       "    }\n",
       "</style>\n",
       "<table border=\"1\" class=\"dataframe\">\n",
       "  <thead>\n",
       "    <tr style=\"text-align: right;\">\n",
       "      <th>인원</th>\n",
       "      <th>도수</th>\n",
       "      <th>상대도수</th>\n",
       "      <th>백분율(%)</th>\n",
       "    </tr>\n",
       "    <tr>\n",
       "      <th>학년</th>\n",
       "      <th></th>\n",
       "      <th></th>\n",
       "      <th></th>\n",
       "    </tr>\n",
       "  </thead>\n",
       "  <tbody>\n",
       "    <tr>\n",
       "      <th>1학년</th>\n",
       "      <td>16</td>\n",
       "      <td>0.400</td>\n",
       "      <td>40.0</td>\n",
       "    </tr>\n",
       "    <tr>\n",
       "      <th>2학년</th>\n",
       "      <td>12</td>\n",
       "      <td>0.300</td>\n",
       "      <td>30.0</td>\n",
       "    </tr>\n",
       "    <tr>\n",
       "      <th>3학년</th>\n",
       "      <td>7</td>\n",
       "      <td>0.175</td>\n",
       "      <td>17.5</td>\n",
       "    </tr>\n",
       "    <tr>\n",
       "      <th>4학년</th>\n",
       "      <td>5</td>\n",
       "      <td>0.125</td>\n",
       "      <td>12.5</td>\n",
       "    </tr>\n",
       "  </tbody>\n",
       "</table>\n",
       "</div>"
      ],
      "text/plain": [
       "인원   도수   상대도수  백분율(%)\n",
       "학년                    \n",
       "1학년  16  0.400    40.0\n",
       "2학년  12  0.300    30.0\n",
       "3학년   7  0.175    17.5\n",
       "4학년   5  0.125    12.5"
      ]
     },
     "execution_count": 35,
     "metadata": {},
     "output_type": "execute_result"
    }
   ],
   "source": [
    "import pandas as pd\n",
    "\n",
    "col = ['1학년','2학년','3학년','4학년']  # index\n",
    "val = [16, 12, 7, 5]    # column\n",
    "\n",
    "df  = pd.DataFrame( val, index=col, columns=['도수'])\n",
    "df.index.name = '학년'\n",
    "df.columns.name='인원'\n",
    "\n",
    "\n",
    "# 상대도수, 백분율 컬럼 추가\n",
    "df['상대도수']  = [ x / sum(val) for x in val ]    # 리스트를 만들어 컬럼으로 지정하기\n",
    "df['백분율(%)'] = [ x / sum(val)*100 for x in val ]\n",
    "\n",
    "df"
   ]
  },
  {
   "cell_type": "markdown",
   "metadata": {},
   "source": [
    "------------------------------"
   ]
  },
  {
   "cell_type": "markdown",
   "metadata": {},
   "source": [
    "### @막대그래프(bar chart)\n",
    "**각 법주의 도수에 해당하는 높이를 갖는 막대모양의 직사각형으로 나타낸 그림**"
   ]
  },
  {
   "cell_type": "markdown",
   "metadata": {},
   "source": [
    "### [실습] 예제3-5: 막대그래프 그리기"
   ]
  },
  {
   "cell_type": "code",
   "execution_count": null,
   "metadata": {},
   "outputs": [],
   "source": [
    "import matplotlib.pyplot as plt\n",
    "import pandas as pd\n",
    "\n",
    "col = ['1학년','2학년','3학년','4학년']  # index\n",
    "val = [16, 12, 7, 5]    # column\n",
    "\n",
    "df  = pd.DataFrame( val, index=col, columns=['도수'])\n",
    "df.columns.name='인원'\n",
    "\n",
    "# 상대도수, 백분율 컬럼 추가\n",
    "df['상대도수']  = [ x / sum(val) for x in val ]    # 리스트를 만들어 컬럼으로 지정하기\n",
    "df['백분율(%)'] = [ x / sum(val)*100 for x in val ]\n",
    "\n",
    "# 막대 그래프\n",
    "\n",
    "\n",
    "\n",
    "\n",
    "plt.title('학년별 동아리 회원 수')\n",
    "plt.xlabel('학년')\n",
    "plt.ylabel('상대도수')\n",
    "\n",
    "plt.show()"
   ]
  },
  {
   "cell_type": "markdown",
   "metadata": {},
   "source": [
    "#### - 막대그래프 끝에 Text(val) 값 나타내기"
   ]
  },
  {
   "cell_type": "code",
   "execution_count": null,
   "metadata": {
    "scrolled": false
   },
   "outputs": [],
   "source": [
    "df['상대도수'].plot(kind='bar')   # kind='line' , pie"
   ]
  },
  {
   "cell_type": "markdown",
   "metadata": {},
   "source": [
    "#### - 막대그래프 끝에 Text(val) 값 나타내기"
   ]
  },
  {
   "cell_type": "code",
   "execution_count": null,
   "metadata": {},
   "outputs": [],
   "source": [
    "plt.bar(col, df['상대도수'], label=df['상대도수'])\n",
    "\n",
    "plt.title('학년별 동아리 회원 수')\n",
    "plt.xlabel('학년')\n",
    "plt.ylabel('상대도수')\n",
    "\n",
    "# 막대그래프에 숫자 값 표시하기\n",
    "for idx, c in enumerate(col):  # enumerate(): index와 값 함께 나타내주는 함수\n",
    "    # plt.text(x, y, text)\n",
    "    plt.text(c, df['상대도수'][idx],  df['도수'][idx],\n",
    "             fontsize=12,\n",
    "             color=\"red\")\n",
    "    \n",
    "plt.show()"
   ]
  },
  {
   "cell_type": "markdown",
   "metadata": {},
   "source": [
    "### [실습] 도수표와 파레토 그래프 나타내기"
   ]
  },
  {
   "cell_type": "markdown",
   "metadata": {},
   "source": [
    "- 1단계: Pandas 도수표 그리기\n",
    "- 2단계: 특정 열 기준으로 정렬하기\n",
    "- 3단계: 막대그래프 그리기"
   ]
  },
  {
   "cell_type": "code",
   "execution_count": 1,
   "metadata": {},
   "outputs": [
    {
     "data": {
      "text/html": [
       "<div>\n",
       "<style scoped>\n",
       "    .dataframe tbody tr th:only-of-type {\n",
       "        vertical-align: middle;\n",
       "    }\n",
       "\n",
       "    .dataframe tbody tr th {\n",
       "        vertical-align: top;\n",
       "    }\n",
       "\n",
       "    .dataframe thead th {\n",
       "        text-align: right;\n",
       "    }\n",
       "</style>\n",
       "<table border=\"1\" class=\"dataframe\">\n",
       "  <thead>\n",
       "    <tr style=\"text-align: right;\">\n",
       "      <th>인원</th>\n",
       "      <th>도수</th>\n",
       "      <th>상대도수</th>\n",
       "      <th>백분율(%)</th>\n",
       "    </tr>\n",
       "  </thead>\n",
       "  <tbody>\n",
       "    <tr>\n",
       "      <th>매우만족</th>\n",
       "      <td>5</td>\n",
       "      <td>0.10</td>\n",
       "      <td>10.0</td>\n",
       "    </tr>\n",
       "    <tr>\n",
       "      <th>만족</th>\n",
       "      <td>11</td>\n",
       "      <td>0.22</td>\n",
       "      <td>22.0</td>\n",
       "    </tr>\n",
       "    <tr>\n",
       "      <th>보통</th>\n",
       "      <td>21</td>\n",
       "      <td>0.42</td>\n",
       "      <td>42.0</td>\n",
       "    </tr>\n",
       "    <tr>\n",
       "      <th>불만족</th>\n",
       "      <td>9</td>\n",
       "      <td>0.18</td>\n",
       "      <td>18.0</td>\n",
       "    </tr>\n",
       "    <tr>\n",
       "      <th>매우불만족</th>\n",
       "      <td>4</td>\n",
       "      <td>0.08</td>\n",
       "      <td>8.0</td>\n",
       "    </tr>\n",
       "  </tbody>\n",
       "</table>\n",
       "</div>"
      ],
      "text/plain": [
       "인원     도수  상대도수  백분율(%)\n",
       "매우만족    5  0.10    10.0\n",
       "만족     11  0.22    22.0\n",
       "보통     21  0.42    42.0\n",
       "불만족     9  0.18    18.0\n",
       "매우불만족   4  0.08     8.0"
      ]
     },
     "execution_count": 1,
     "metadata": {},
     "output_type": "execute_result"
    }
   ],
   "source": [
    "import matplotlib.pyplot as plt\n",
    "import pandas as pd\n",
    "\n",
    "col = ['매우만족', '만족', '보통', '불만족', '매우불만족']\n",
    "val = [5,11,21,9,4]\n",
    "\n",
    "# 1단계: Pandas 도수표 만들기\n",
    "df  = pd.DataFrame( val, index=col, columns=['도수'])\n",
    "df.columns.name='인원'\n",
    "\n",
    "\n",
    "# 상대도수, 백분율 컬럼 추가\n",
    "df['상대도수']  = [ x / sum(val) for x in val ]    # 리스트를 만들어 컬럼으로 지정하기\n",
    "df['백분율(%)'] = [ x / sum(val)*100 for x in val ]\n",
    "\n",
    "df"
   ]
  },
  {
   "cell_type": "code",
   "execution_count": 3,
   "metadata": {
    "scrolled": true
   },
   "outputs": [
    {
     "data": {
      "text/html": [
       "<div>\n",
       "<style scoped>\n",
       "    .dataframe tbody tr th:only-of-type {\n",
       "        vertical-align: middle;\n",
       "    }\n",
       "\n",
       "    .dataframe tbody tr th {\n",
       "        vertical-align: top;\n",
       "    }\n",
       "\n",
       "    .dataframe thead th {\n",
       "        text-align: right;\n",
       "    }\n",
       "</style>\n",
       "<table border=\"1\" class=\"dataframe\">\n",
       "  <thead>\n",
       "    <tr style=\"text-align: right;\">\n",
       "      <th>인원</th>\n",
       "      <th>도수</th>\n",
       "      <th>상대도수</th>\n",
       "      <th>백분율(%)</th>\n",
       "    </tr>\n",
       "  </thead>\n",
       "  <tbody>\n",
       "    <tr>\n",
       "      <th>보통</th>\n",
       "      <td>21</td>\n",
       "      <td>0.42</td>\n",
       "      <td>42.0</td>\n",
       "    </tr>\n",
       "    <tr>\n",
       "      <th>만족</th>\n",
       "      <td>11</td>\n",
       "      <td>0.22</td>\n",
       "      <td>22.0</td>\n",
       "    </tr>\n",
       "    <tr>\n",
       "      <th>불만족</th>\n",
       "      <td>9</td>\n",
       "      <td>0.18</td>\n",
       "      <td>18.0</td>\n",
       "    </tr>\n",
       "    <tr>\n",
       "      <th>매우만족</th>\n",
       "      <td>5</td>\n",
       "      <td>0.10</td>\n",
       "      <td>10.0</td>\n",
       "    </tr>\n",
       "    <tr>\n",
       "      <th>매우불만족</th>\n",
       "      <td>4</td>\n",
       "      <td>0.08</td>\n",
       "      <td>8.0</td>\n",
       "    </tr>\n",
       "  </tbody>\n",
       "</table>\n",
       "</div>"
      ],
      "text/plain": [
       "인원     도수  상대도수  백분율(%)\n",
       "보통     21  0.42    42.0\n",
       "만족     11  0.22    22.0\n",
       "불만족     9  0.18    18.0\n",
       "매우만족    5  0.10    10.0\n",
       "매우불만족   4  0.08     8.0"
      ]
     },
     "execution_count": 3,
     "metadata": {},
     "output_type": "execute_result"
    }
   ],
   "source": [
    "# 2단계: 도수표를 특정 열 기준으로 정렬하기 \n",
    "df = df.sort_values(by=['도수'],ascending=False)\n",
    "\n",
    "df"
   ]
  },
  {
   "cell_type": "code",
   "execution_count": null,
   "metadata": {},
   "outputs": [],
   "source": [
    "%precision 2"
   ]
  },
  {
   "cell_type": "code",
   "execution_count": 4,
   "metadata": {
    "scrolled": true
   },
   "outputs": [
    {
     "name": "stderr",
     "output_type": "stream",
     "text": [
      "c:\\Python\\lib\\site-packages\\IPython\\core\\pylabtools.py:152: UserWarning: Glyph 51064 (\\N{HANGUL SYLLABLE IN}) missing from current font.\n",
      "  fig.canvas.print_figure(bytes_io, **kw)\n",
      "c:\\Python\\lib\\site-packages\\IPython\\core\\pylabtools.py:152: UserWarning: Glyph 50896 (\\N{HANGUL SYLLABLE WEON}) missing from current font.\n",
      "  fig.canvas.print_figure(bytes_io, **kw)\n",
      "c:\\Python\\lib\\site-packages\\IPython\\core\\pylabtools.py:152: UserWarning: Glyph 44256 (\\N{HANGUL SYLLABLE GO}) missing from current font.\n",
      "  fig.canvas.print_figure(bytes_io, **kw)\n",
      "c:\\Python\\lib\\site-packages\\IPython\\core\\pylabtools.py:152: UserWarning: Glyph 44061 (\\N{HANGUL SYLLABLE GAEG}) missing from current font.\n",
      "  fig.canvas.print_figure(bytes_io, **kw)\n",
      "c:\\Python\\lib\\site-packages\\IPython\\core\\pylabtools.py:152: UserWarning: Glyph 47564 (\\N{HANGUL SYLLABLE MAN}) missing from current font.\n",
      "  fig.canvas.print_figure(bytes_io, **kw)\n",
      "c:\\Python\\lib\\site-packages\\IPython\\core\\pylabtools.py:152: UserWarning: Glyph 51313 (\\N{HANGUL SYLLABLE JOG}) missing from current font.\n",
      "  fig.canvas.print_figure(bytes_io, **kw)\n",
      "c:\\Python\\lib\\site-packages\\IPython\\core\\pylabtools.py:152: UserWarning: Glyph 46020 (\\N{HANGUL SYLLABLE DO}) missing from current font.\n",
      "  fig.canvas.print_figure(bytes_io, **kw)\n",
      "c:\\Python\\lib\\site-packages\\IPython\\core\\pylabtools.py:152: UserWarning: Glyph 47588 (\\N{HANGUL SYLLABLE MAE}) missing from current font.\n",
      "  fig.canvas.print_figure(bytes_io, **kw)\n",
      "c:\\Python\\lib\\site-packages\\IPython\\core\\pylabtools.py:152: UserWarning: Glyph 50864 (\\N{HANGUL SYLLABLE U}) missing from current font.\n",
      "  fig.canvas.print_figure(bytes_io, **kw)\n",
      "c:\\Python\\lib\\site-packages\\IPython\\core\\pylabtools.py:152: UserWarning: Glyph 48372 (\\N{HANGUL SYLLABLE BO}) missing from current font.\n",
      "  fig.canvas.print_figure(bytes_io, **kw)\n",
      "c:\\Python\\lib\\site-packages\\IPython\\core\\pylabtools.py:152: UserWarning: Glyph 53685 (\\N{HANGUL SYLLABLE TONG}) missing from current font.\n",
      "  fig.canvas.print_figure(bytes_io, **kw)\n",
      "c:\\Python\\lib\\site-packages\\IPython\\core\\pylabtools.py:152: UserWarning: Glyph 48520 (\\N{HANGUL SYLLABLE BUL}) missing from current font.\n",
      "  fig.canvas.print_figure(bytes_io, **kw)\n"
     ]
    },
    {
     "data": {
      "image/png": "[encoded data removed]",
      "text/plain": [
       "<Figure size 640x480 with 1 Axes>"
      ]
     },
     "metadata": {},
     "output_type": "display_data"
    }
   ],
   "source": [
    "# 3단계: 막대 그래프 그리기\n",
    "plt.bar(col, df['도수'], label=df['상대도수'])\n",
    "\n",
    "\n",
    "plt.title('고객만족도')\n",
    "plt.xlabel('만족도')\n",
    "plt.ylabel('인원')\n",
    "\n",
    "# 막대그래프에 숫자 값 표시하기\n",
    "for idx, c in enumerate(col):  # enumerate(): index와 값 함께 나타내주는 함수\n",
    "    # plt.text(x, y, text)\n",
    "    plt.text(c, df['상대도수'][idx],  df['도수'][idx],\n",
    "             fontsize=12,\n",
    "             color=\"red\")\n",
    "    \n",
    "# plt.yticks(np.around(np.linspace(0.0, 0.5, num=8),2)) # Y축 눈금 간격 지정\n",
    "\n",
    "\n",
    "plt.show()"
   ]
  },
  {
   "cell_type": "markdown",
   "metadata": {},
   "source": [
    "-----------------------------"
   ]
  },
  {
   "cell_type": "markdown",
   "metadata": {},
   "source": [
    "### @꺽은선 그래프(graph of broken line)\n",
    "**막대그래프의 상단 중심부를 직선으로 연결하여 각 범주를 비교하는 그림**"
   ]
  },
  {
   "cell_type": "markdown",
   "metadata": {},
   "source": [
    "### [실습] 꺽은선 그래프 : 성별에 따른 고객 만족도"
   ]
  },
  {
   "cell_type": "markdown",
   "metadata": {},
   "source": [
    "#### - 1.Pandas 표로 나타내기"
   ]
  },
  {
   "cell_type": "code",
   "execution_count": 6,
   "metadata": {
    "scrolled": true
   },
   "outputs": [
    {
     "data": {
      "text/html": [
       "<div>\n",
       "<style scoped>\n",
       "    .dataframe tbody tr th:only-of-type {\n",
       "        vertical-align: middle;\n",
       "    }\n",
       "\n",
       "    .dataframe tbody tr th {\n",
       "        vertical-align: top;\n",
       "    }\n",
       "\n",
       "    .dataframe thead th {\n",
       "        text-align: right;\n",
       "    }\n",
       "</style>\n",
       "<table border=\"1\" class=\"dataframe\">\n",
       "  <thead>\n",
       "    <tr style=\"text-align: right;\">\n",
       "      <th></th>\n",
       "      <th></th>\n",
       "      <th>매우만족</th>\n",
       "      <th>만족</th>\n",
       "      <th>보통</th>\n",
       "      <th>불만족</th>\n",
       "      <th>매우불만족</th>\n",
       "    </tr>\n",
       "  </thead>\n",
       "  <tbody>\n",
       "    <tr>\n",
       "      <th rowspan=\"2\" valign=\"top\">인원</th>\n",
       "      <th>남자</th>\n",
       "      <td>3</td>\n",
       "      <td>7</td>\n",
       "      <td>10</td>\n",
       "      <td>4</td>\n",
       "      <td>2</td>\n",
       "    </tr>\n",
       "    <tr>\n",
       "      <th>여자</th>\n",
       "      <td>2</td>\n",
       "      <td>4</td>\n",
       "      <td>11</td>\n",
       "      <td>5</td>\n",
       "      <td>2</td>\n",
       "    </tr>\n",
       "  </tbody>\n",
       "</table>\n",
       "</div>"
      ],
      "text/plain": [
       "       매우만족  만족  보통  불만족  매우불만족\n",
       "인원 남자     3   7  10    4      2\n",
       "   여자     2   4  11    5      2"
      ]
     },
     "execution_count": 6,
     "metadata": {},
     "output_type": "execute_result"
    }
   ],
   "source": [
    "df  = pd.DataFrame([[3,7,10,4,2],[2,4,11,5,2]], \n",
    "                   index=[['인원','인원'],['남자','여자']],  # multi-index \n",
    "                   columns=['매우만족','만족','보통','불만족','매우불만족'])\n",
    "df"
   ]
  },
  {
   "cell_type": "markdown",
   "metadata": {},
   "source": [
    "#### - 2.막대 그래프 : pandas bar"
   ]
  },
  {
   "cell_type": "code",
   "execution_count": 7,
   "metadata": {
    "scrolled": false
   },
   "outputs": [
    {
     "name": "stderr",
     "output_type": "stream",
     "text": [
      "c:\\Python\\lib\\site-packages\\IPython\\core\\pylabtools.py:152: UserWarning: Glyph 51064 (\\N{HANGUL SYLLABLE IN}) missing from current font.\n",
      "  fig.canvas.print_figure(bytes_io, **kw)\n",
      "c:\\Python\\lib\\site-packages\\IPython\\core\\pylabtools.py:152: UserWarning: Glyph 50896 (\\N{HANGUL SYLLABLE WEON}) missing from current font.\n",
      "  fig.canvas.print_figure(bytes_io, **kw)\n",
      "c:\\Python\\lib\\site-packages\\IPython\\core\\pylabtools.py:152: UserWarning: Glyph 49457 (\\N{HANGUL SYLLABLE SEONG}) missing from current font.\n",
      "  fig.canvas.print_figure(bytes_io, **kw)\n",
      "c:\\Python\\lib\\site-packages\\IPython\\core\\pylabtools.py:152: UserWarning: Glyph 48324 (\\N{HANGUL SYLLABLE BYEOL}) missing from current font.\n",
      "  fig.canvas.print_figure(bytes_io, **kw)\n",
      "c:\\Python\\lib\\site-packages\\IPython\\core\\pylabtools.py:152: UserWarning: Glyph 50640 (\\N{HANGUL SYLLABLE E}) missing from current font.\n",
      "  fig.canvas.print_figure(bytes_io, **kw)\n",
      "c:\\Python\\lib\\site-packages\\IPython\\core\\pylabtools.py:152: UserWarning: Glyph 46384 (\\N{HANGUL SYLLABLE DDA}) missing from current font.\n",
      "  fig.canvas.print_figure(bytes_io, **kw)\n",
      "c:\\Python\\lib\\site-packages\\IPython\\core\\pylabtools.py:152: UserWarning: Glyph 47480 (\\N{HANGUL SYLLABLE REUN}) missing from current font.\n",
      "  fig.canvas.print_figure(bytes_io, **kw)\n",
      "c:\\Python\\lib\\site-packages\\IPython\\core\\pylabtools.py:152: UserWarning: Glyph 44256 (\\N{HANGUL SYLLABLE GO}) missing from current font.\n",
      "  fig.canvas.print_figure(bytes_io, **kw)\n",
      "c:\\Python\\lib\\site-packages\\IPython\\core\\pylabtools.py:152: UserWarning: Glyph 44061 (\\N{HANGUL SYLLABLE GAEG}) missing from current font.\n",
      "  fig.canvas.print_figure(bytes_io, **kw)\n",
      "c:\\Python\\lib\\site-packages\\IPython\\core\\pylabtools.py:152: UserWarning: Glyph 47564 (\\N{HANGUL SYLLABLE MAN}) missing from current font.\n",
      "  fig.canvas.print_figure(bytes_io, **kw)\n",
      "c:\\Python\\lib\\site-packages\\IPython\\core\\pylabtools.py:152: UserWarning: Glyph 51313 (\\N{HANGUL SYLLABLE JOG}) missing from current font.\n",
      "  fig.canvas.print_figure(bytes_io, **kw)\n",
      "c:\\Python\\lib\\site-packages\\IPython\\core\\pylabtools.py:152: UserWarning: Glyph 46020 (\\N{HANGUL SYLLABLE DO}) missing from current font.\n",
      "  fig.canvas.print_figure(bytes_io, **kw)\n",
      "c:\\Python\\lib\\site-packages\\IPython\\core\\pylabtools.py:152: UserWarning: Glyph 45224 (\\N{HANGUL SYLLABLE NAM}) missing from current font.\n",
      "  fig.canvas.print_figure(bytes_io, **kw)\n",
      "c:\\Python\\lib\\site-packages\\IPython\\core\\pylabtools.py:152: UserWarning: Glyph 51088 (\\N{HANGUL SYLLABLE JA}) missing from current font.\n",
      "  fig.canvas.print_figure(bytes_io, **kw)\n",
      "c:\\Python\\lib\\site-packages\\IPython\\core\\pylabtools.py:152: UserWarning: Glyph 50668 (\\N{HANGUL SYLLABLE YEO}) missing from current font.\n",
      "  fig.canvas.print_figure(bytes_io, **kw)\n",
      "c:\\Python\\lib\\site-packages\\IPython\\core\\pylabtools.py:152: UserWarning: Glyph 47588 (\\N{HANGUL SYLLABLE MAE}) missing from current font.\n",
      "  fig.canvas.print_figure(bytes_io, **kw)\n",
      "c:\\Python\\lib\\site-packages\\IPython\\core\\pylabtools.py:152: UserWarning: Glyph 50864 (\\N{HANGUL SYLLABLE U}) missing from current font.\n",
      "  fig.canvas.print_figure(bytes_io, **kw)\n",
      "c:\\Python\\lib\\site-packages\\IPython\\core\\pylabtools.py:152: UserWarning: Glyph 48372 (\\N{HANGUL SYLLABLE BO}) missing from current font.\n",
      "  fig.canvas.print_figure(bytes_io, **kw)\n",
      "c:\\Python\\lib\\site-packages\\IPython\\core\\pylabtools.py:152: UserWarning: Glyph 53685 (\\N{HANGUL SYLLABLE TONG}) missing from current font.\n",
      "  fig.canvas.print_figure(bytes_io, **kw)\n",
      "c:\\Python\\lib\\site-packages\\IPython\\core\\pylabtools.py:152: UserWarning: Glyph 48520 (\\N{HANGUL SYLLABLE BUL}) missing from current font.\n",
      "  fig.canvas.print_figure(bytes_io, **kw)\n"
     ]
    },
    {
     "data": {
      "image/png": "[encoded data removed]",
      "text/plain": [
       "<Figure size 640x480 with 1 Axes>"
      ]
     },
     "metadata": {},
     "output_type": "display_data"
    }
   ],
   "source": [
    "df.plot(kind='bar')\n",
    "\n",
    "plt.title('성별에 따른 고객 만족도')\n",
    "plt.xlabel('만족도')\n",
    "plt.ylabel('인원')\n",
    "\n",
    "plt.show()"
   ]
  },
  {
   "cell_type": "markdown",
   "metadata": {},
   "source": [
    "#### - 막대그래프 2개 사용 : \n",
    "- x축 범위를 숫자로 변환하고\n",
    "- x축 값 기준으로 좌/우로 막대 배치한다."
   ]
  },
  {
   "cell_type": "code",
   "execution_count": 8,
   "metadata": {
    "scrolled": true
   },
   "outputs": [
    {
     "ename": "NameError",
     "evalue": "name 'np' is not defined",
     "output_type": "error",
     "traceback": [
      "\u001b[1;31m---------------------------------------------------------------------------\u001b[0m",
      "\u001b[1;31mNameError\u001b[0m                                 Traceback (most recent call last)",
      "Cell \u001b[1;32mIn[8], line 2\u001b[0m\n\u001b[0;32m      1\u001b[0m \u001b[39m# x축 범위를 숫자로 변환\u001b[39;00m\n\u001b[1;32m----> 2\u001b[0m x \u001b[39m=\u001b[39m np\u001b[39m.\u001b[39marange(\u001b[39mlen\u001b[39m(df\u001b[39m.\u001b[39mcolumns))  \n\u001b[0;32m      4\u001b[0m \u001b[39m# x축 값 기준으로 좌/우로 막대 배치한다.\u001b[39;00m\n\u001b[0;32m      5\u001b[0m plt\u001b[39m.\u001b[39mbar(x \u001b[39m-\u001b[39m \u001b[39m0.2\u001b[39m, df\u001b[39m.\u001b[39mloc[(\u001b[39m'\u001b[39m\u001b[39m인원\u001b[39m\u001b[39m'\u001b[39m, \u001b[39m'\u001b[39m\u001b[39m남자\u001b[39m\u001b[39m'\u001b[39m)], width\u001b[39m=\u001b[39m\u001b[39m0.4\u001b[39m, label\u001b[39m=\u001b[39m\u001b[39m'\u001b[39m\u001b[39m남자\u001b[39m\u001b[39m'\u001b[39m, edgecolor\u001b[39m=\u001b[39m\u001b[39m'\u001b[39m\u001b[39mw\u001b[39m\u001b[39m'\u001b[39m)\n",
      "\u001b[1;31mNameError\u001b[0m: name 'np' is not defined"
     ]
    }
   ],
   "source": [
    "# x축 범위를 숫자로 변환\n",
    "x = np.arange(len(df.columns))  \n",
    "\n",
    "# x축 값 기준으로 좌/우로 막대 배치한다.\n",
    "plt.bar(x - 0.2, df.loc[('인원', '남자')], width=0.4, label='남자', edgecolor='w')\n",
    "plt.bar(x + 0.2, df.loc[('인원', '여자')], width=0.4, label='여자', edgecolor='w')\n",
    "\n",
    "plt.title('성별에 따른 고객 만족도')\n",
    "plt.xlabel('만족도')\n",
    "plt.ylabel('인원')\n",
    "plt.xticks(x + 0.01, df.columns)  # 적절하게 그리드 선에 맞춘다.\n",
    "plt.legend()\n",
    "\n",
    "plt.show()"
   ]
  },
  {
   "cell_type": "markdown",
   "metadata": {},
   "source": [
    "#### -3.꺽은선 그래프"
   ]
  },
  {
   "cell_type": "code",
   "execution_count": null,
   "metadata": {
    "scrolled": true
   },
   "outputs": [],
   "source": [
    "# 꺽은선 그래 프\n",
    "plt.plot(df.columns, df.loc[('인원', '남자')], 'o', linestyle='solid', label='남자', )\n",
    "plt.plot(df.columns, df.loc[('인원', '여자')], 'v', linestyle='solid', label='여자', )\n",
    "\n",
    "plt.title('성별에 따른 고객 만족도')\n",
    "plt.xlabel('만족도')\n",
    "plt.ylabel('인원')\n",
    "plt.legend()\n",
    "\n",
    "plt.show()"
   ]
  },
  {
   "cell_type": "markdown",
   "metadata": {},
   "source": [
    "### [참고] plotly 라이브러리 사용\n",
    "- https://plotly.com/python/ "
   ]
  },
  {
   "cell_type": "code",
   "execution_count": null,
   "metadata": {},
   "outputs": [],
   "source": [
    "!pip install plotly"
   ]
  },
  {
   "cell_type": "code",
   "execution_count": null,
   "metadata": {},
   "outputs": [],
   "source": [
    "import plotly.graph_objects as go\n",
    "\n",
    "data1 = go.Bar(x=df.columns, y=df.loc[('인원','남자')]) # x축 컬럼명, y축 남자\n",
    "data2 = go.Bar(x=df.columns, y=df.loc[('인원','여자')])\n",
    "layout = go.Layout(title='고객만족도') \n",
    "\n",
    "# 생성된 Bar 클래스를 리스트로 만들어 data 인자로 설정\n",
    "fig = go.Figure(data=[data1, data2], layout=layout) \n",
    "\n",
    "fig.show()"
   ]
  },
  {
   "cell_type": "markdown",
   "metadata": {},
   "source": [
    "----------------------------------------------"
   ]
  },
  {
   "cell_type": "markdown",
   "metadata": {},
   "source": [
    "### [실습] 예제 3-6: 학년별 동아리 수 꺽은선 그래프 그리기"
   ]
  },
  {
   "cell_type": "code",
   "execution_count": 18,
   "metadata": {},
   "outputs": [
    {
     "data": {
      "text/plain": [
       "[<matplotlib.lines.Line2D at 0x2dcd89ad180>]"
      ]
     },
     "execution_count": 18,
     "metadata": {},
     "output_type": "execute_result"
    },
    {
     "name": "stderr",
     "output_type": "stream",
     "text": [
      "c:\\Python\\lib\\site-packages\\IPython\\core\\events.py:89: UserWarning: Glyph 54617 (\\N{HANGUL SYLLABLE HAG}) missing from current font.\n",
      "  func(*args, **kwargs)\n",
      "c:\\Python\\lib\\site-packages\\IPython\\core\\events.py:89: UserWarning: Glyph 45380 (\\N{HANGUL SYLLABLE NYEON}) missing from current font.\n",
      "  func(*args, **kwargs)\n"
     ]
    },
    {
     "data": {
      "image/png": "[encoded data removed]",
      "text/plain": [
       "<Figure size 640x480 with 1 Axes>"
      ]
     },
     "metadata": {},
     "output_type": "display_data"
    }
   ],
   "source": [
    "import matplotlib.pyplot as plt\n",
    "import pandas as pd\n",
    "\n",
    "col = ['1학년','2학년','3학년','4학년'] \n",
    "val = [16, 12, 7, 5]    # column\n",
    "\n",
    "# 꺽은선 그래프 나타내기\n",
    "\n",
    "plt.plot(col, val, linestyle='solid', label='인원',\n",
    "         color='blueviolet', marker='^', markersize=9)\n",
    "\n"
   ]
  },
  {
   "cell_type": "markdown",
   "metadata": {},
   "source": [
    "----------------------"
   ]
  },
  {
   "cell_type": "markdown",
   "metadata": {},
   "source": [
    "### @비율 그래프(percentage graph)\n",
    "**각 범주의 크기를 비율로 나타낸 그림**"
   ]
  },
  {
   "cell_type": "markdown",
   "metadata": {},
   "source": [
    "#### -띠 그래프(band graph) "
   ]
  },
  {
   "cell_type": "code",
   "execution_count": 9,
   "metadata": {
    "scrolled": false
   },
   "outputs": [
    {
     "data": {
      "text/html": [
       "<div>\n",
       "<style scoped>\n",
       "    .dataframe tbody tr th:only-of-type {\n",
       "        vertical-align: middle;\n",
       "    }\n",
       "\n",
       "    .dataframe tbody tr th {\n",
       "        vertical-align: top;\n",
       "    }\n",
       "\n",
       "    .dataframe thead tr th {\n",
       "        text-align: left;\n",
       "    }\n",
       "</style>\n",
       "<table border=\"1\" class=\"dataframe\">\n",
       "  <thead>\n",
       "    <tr>\n",
       "      <th></th>\n",
       "      <th colspan=\"2\" halign=\"left\">인원</th>\n",
       "    </tr>\n",
       "    <tr>\n",
       "      <th></th>\n",
       "      <th>남자</th>\n",
       "      <th>여자</th>\n",
       "    </tr>\n",
       "  </thead>\n",
       "  <tbody>\n",
       "    <tr>\n",
       "      <th>매우만족</th>\n",
       "      <td>3</td>\n",
       "      <td>2</td>\n",
       "    </tr>\n",
       "    <tr>\n",
       "      <th>만족</th>\n",
       "      <td>7</td>\n",
       "      <td>4</td>\n",
       "    </tr>\n",
       "    <tr>\n",
       "      <th>보통</th>\n",
       "      <td>10</td>\n",
       "      <td>11</td>\n",
       "    </tr>\n",
       "    <tr>\n",
       "      <th>불만족</th>\n",
       "      <td>4</td>\n",
       "      <td>5</td>\n",
       "    </tr>\n",
       "    <tr>\n",
       "      <th>매우불만족</th>\n",
       "      <td>2</td>\n",
       "      <td>2</td>\n",
       "    </tr>\n",
       "  </tbody>\n",
       "</table>\n",
       "</div>"
      ],
      "text/plain": [
       "       인원    \n",
       "       남자  여자\n",
       "매우만족    3   2\n",
       "만족      7   4\n",
       "보통     10  11\n",
       "불만족     4   5\n",
       "매우불만족   2   2"
      ]
     },
     "execution_count": 9,
     "metadata": {},
     "output_type": "execute_result"
    }
   ],
   "source": [
    "df  = pd.DataFrame([[3,7,10,4,2],[2,4,11,5,2]], \n",
    "                   index=[['인원','인원'],['남자','여자']],  # multi-index \n",
    "                   columns=['매우만족','만족','보통','불만족','매우불만족'])\n",
    "\n",
    "df_t = df.T\n",
    "df_t"
   ]
  },
  {
   "cell_type": "code",
   "execution_count": 12,
   "metadata": {},
   "outputs": [
    {
     "data": {
      "image/png": "[encoded data removed]",
      "text/plain": [
       "<Figure size 640x480 with 1 Axes>"
      ]
     },
     "metadata": {},
     "output_type": "display_data"
    }
   ],
   "source": [
    "df.plot(kind='barh', stacked=True, title=\"고객만족도\")\n",
    "plt.legend(df.index, title='고객만족도', loc=\"center right\",  \n",
    "           bbox_to_anchor=(1, 0, 0.5, 1))  #bbox_to_anchor=(x0, y0, width, height)\n",
    "\n",
    "plt.show()"
   ]
  },
  {
   "cell_type": "markdown",
   "metadata": {},
   "source": [
    "#### -plotly 띠 그래프\n",
    "- https://plotly.com/python/categorical-axes/"
   ]
  },
  {
   "cell_type": "code",
   "execution_count": 19,
   "metadata": {
    "scrolled": false
   },
   "outputs": [
    {
     "data": {
      "application/vnd.plotly.v1+json": {
       "config": {
        "plotlyServerURL": "https://plot.ly"
       },
       "data": [
        {
         "name": "매우만족",
         "type": "bar",
         "x": [
          "매우만족",
          "만족",
          "보통",
          "불만족",
          "매우불만족"
         ],
         "y": [
          3,
          2,
          5
         ]
        },
        {
         "name": "만족",
         "type": "bar",
         "x": [
          "매우만족",
          "만족",
          "보통",
          "불만족",
          "매우불만족"
         ],
         "y": [
          7,
          4,
          11
         ]
        },
        {
         "name": "보통",
         "type": "bar",
         "x": [
          "매우만족",
          "만족",
          "보통",
          "불만족",
          "매우불만족"
         ],
         "y": [
          10,
          11,
          21
         ]
        },
        {
         "name": "불만족",
         "type": "bar",
         "x": [
          "매우만족",
          "만족",
          "보통",
          "불만족",
          "매우불만족"
         ],
         "y": [
          4,
          5,
          9
         ]
        },
        {
         "name": "매우불만족",
         "type": "bar",
         "x": [
          "매우만족",
          "만족",
          "보통",
          "불만족",
          "매우불만족"
         ],
         "y": [
          2,
          2,
          4
         ]
        }
       ],
       "layout": {
        "barmode": "stack",
        "template": {
         "data": {
          "bar": [
           {
            "error_x": {
             "color": "#2a3f5f"
            },
            "error_y": {
             "color": "#2a3f5f"
            },
            "marker": {
             "line": {
              "color": "#E5ECF6",
              "width": 0.5
             },
             "pattern": {
              "fillmode": "overlay",
              "size": 10,
              "solidity": 0.2
             }
            },
            "type": "bar"
           }
          ],
          "barpolar": [
           {
            "marker": {
             "line": {
              "color": "#E5ECF6",
              "width": 0.5
             },
             "pattern": {
              "fillmode": "overlay",
              "size": 10,
              "solidity": 0.2
             }
            },
            "type": "barpolar"
           }
          ],
          "carpet": [
           {
            "aaxis": {
             "endlinecolor": "#2a3f5f",
             "gridcolor": "white",
             "linecolor": "white",
             "minorgridcolor": "white",
             "startlinecolor": "#2a3f5f"
            },
            "baxis": {
             "endlinecolor": "#2a3f5f",
             "gridcolor": "white",
             "linecolor": "white",
             "minorgridcolor": "white",
             "startlinecolor": "#2a3f5f"
            },
            "type": "carpet"
           }
          ],
          "choropleth": [
           {
            "colorbar": {
             "outlinewidth": 0,
             "ticks": ""
            },
            "type": "choropleth"
           }
          ],
          "contour": [
           {
            "colorbar": {
             "outlinewidth": 0,
             "ticks": ""
            },
            "colorscale": [
             [
              0,
              "#0d0887"
             ],
             [
              0.1111111111111111,
              "#46039f"
             ],
             [
              0.2222222222222222,
              "#7201a8"
             ],
             [
              0.3333333333333333,
              "#9c179e"
             ],
             [
              0.4444444444444444,
              "#bd3786"
             ],
             [
              0.5555555555555556,
              "#d8576b"
             ],
             [
              0.6666666666666666,
              "#ed7953"
             ],
             [
              0.7777777777777778,
              "#fb9f3a"
             ],
             [
              0.8888888888888888,
              "#fdca26"
             ],
             [
              1,
              "#f0f921"
             ]
            ],
            "type": "contour"
           }
          ],
          "contourcarpet": [
           {
            "colorbar": {
             "outlinewidth": 0,
             "ticks": ""
            },
            "type": "contourcarpet"
           }
          ],
          "heatmap": [
           {
            "colorbar": {
             "outlinewidth": 0,
             "ticks": ""
            },
            "colorscale": [
             [
              0,
              "#0d0887"
             ],
             [
              0.1111111111111111,
              "#46039f"
             ],
             [
              0.2222222222222222,
              "#7201a8"
             ],
             [
              0.3333333333333333,
              "#9c179e"
             ],
             [
              0.4444444444444444,
              "#bd3786"
             ],
             [
              0.5555555555555556,
              "#d8576b"
             ],
             [
              0.6666666666666666,
              "#ed7953"
             ],
             [
              0.7777777777777778,
              "#fb9f3a"
             ],
             [
              0.8888888888888888,
              "#fdca26"
             ],
             [
              1,
              "#f0f921"
             ]
            ],
            "type": "heatmap"
           }
          ],
          "heatmapgl": [
           {
            "colorbar": {
             "outlinewidth": 0,
             "ticks": ""
            },
            "colorscale": [
             [
              0,
              "#0d0887"
             ],
             [
              0.1111111111111111,
              "#46039f"
             ],
             [
              0.2222222222222222,
              "#7201a8"
             ],
             [
              0.3333333333333333,
              "#9c179e"
             ],
             [
              0.4444444444444444,
              "#bd3786"
             ],
             [
              0.5555555555555556,
              "#d8576b"
             ],
             [
              0.6666666666666666,
              "#ed7953"
             ],
             [
              0.7777777777777778,
              "#fb9f3a"
             ],
             [
              0.8888888888888888,
              "#fdca26"
             ],
             [
              1,
              "#f0f921"
             ]
            ],
            "type": "heatmapgl"
           }
          ],
          "histogram": [
           {
            "marker": {
             "pattern": {
              "fillmode": "overlay",
              "size": 10,
              "solidity": 0.2
             }
            },
            "type": "histogram"
           }
          ],
          "histogram2d": [
           {
            "colorbar": {
             "outlinewidth": 0,
             "ticks": ""
            },
            "colorscale": [
             [
              0,
              "#0d0887"
             ],
             [
              0.1111111111111111,
              "#46039f"
             ],
             [
              0.2222222222222222,
              "#7201a8"
             ],
             [
              0.3333333333333333,
              "#9c179e"
             ],
             [
              0.4444444444444444,
              "#bd3786"
             ],
             [
              0.5555555555555556,
              "#d8576b"
             ],
             [
              0.6666666666666666,
              "#ed7953"
             ],
             [
              0.7777777777777778,
              "#fb9f3a"
             ],
             [
              0.8888888888888888,
              "#fdca26"
             ],
             [
              1,
              "#f0f921"
             ]
            ],
            "type": "histogram2d"
           }
          ],
          "histogram2dcontour": [
           {
            "colorbar": {
             "outlinewidth": 0,
             "ticks": ""
            },
            "colorscale": [
             [
              0,
              "#0d0887"
             ],
             [
              0.1111111111111111,
              "#46039f"
             ],
             [
              0.2222222222222222,
              "#7201a8"
             ],
             [
              0.3333333333333333,
              "#9c179e"
             ],
             [
              0.4444444444444444,
              "#bd3786"
             ],
             [
              0.5555555555555556,
              "#d8576b"
             ],
             [
              0.6666666666666666,
              "#ed7953"
             ],
             [
              0.7777777777777778,
              "#fb9f3a"
             ],
             [
              0.8888888888888888,
              "#fdca26"
             ],
             [
              1,
              "#f0f921"
             ]
            ],
            "type": "histogram2dcontour"
           }
          ],
          "mesh3d": [
           {
            "colorbar": {
             "outlinewidth": 0,
             "ticks": ""
            },
            "type": "mesh3d"
           }
          ],
          "parcoords": [
           {
            "line": {
             "colorbar": {
              "outlinewidth": 0,
              "ticks": ""
             }
            },
            "type": "parcoords"
           }
          ],
          "pie": [
           {
            "automargin": true,
            "type": "pie"
           }
          ],
          "scatter": [
           {
            "fillpattern": {
             "fillmode": "overlay",
             "size": 10,
             "solidity": 0.2
            },
            "type": "scatter"
           }
          ],
          "scatter3d": [
           {
            "line": {
             "colorbar": {
              "outlinewidth": 0,
              "ticks": ""
             }
            },
            "marker": {
             "colorbar": {
              "outlinewidth": 0,
              "ticks": ""
             }
            },
            "type": "scatter3d"
           }
          ],
          "scattercarpet": [
           {
            "marker": {
             "colorbar": {
              "outlinewidth": 0,
              "ticks": ""
             }
            },
            "type": "scattercarpet"
           }
          ],
          "scattergeo": [
           {
            "marker": {
             "colorbar": {
              "outlinewidth": 0,
              "ticks": ""
             }
            },
            "type": "scattergeo"
           }
          ],
          "scattergl": [
           {
            "marker": {
             "colorbar": {
              "outlinewidth": 0,
              "ticks": ""
             }
            },
            "type": "scattergl"
           }
          ],
          "scattermapbox": [
           {
            "marker": {
             "colorbar": {
              "outlinewidth": 0,
              "ticks": ""
             }
            },
            "type": "scattermapbox"
           }
          ],
          "scatterpolar": [
           {
            "marker": {
             "colorbar": {
              "outlinewidth": 0,
              "ticks": ""
             }
            },
            "type": "scatterpolar"
           }
          ],
          "scatterpolargl": [
           {
            "marker": {
             "colorbar": {
              "outlinewidth": 0,
              "ticks": ""
             }
            },
            "type": "scatterpolargl"
           }
          ],
          "scatterternary": [
           {
            "marker": {
             "colorbar": {
              "outlinewidth": 0,
              "ticks": ""
             }
            },
            "type": "scatterternary"
           }
          ],
          "surface": [
           {
            "colorbar": {
             "outlinewidth": 0,
             "ticks": ""
            },
            "colorscale": [
             [
              0,
              "#0d0887"
             ],
             [
              0.1111111111111111,
              "#46039f"
             ],
             [
              0.2222222222222222,
              "#7201a8"
             ],
             [
              0.3333333333333333,
              "#9c179e"
             ],
             [
              0.4444444444444444,
              "#bd3786"
             ],
             [
              0.5555555555555556,
              "#d8576b"
             ],
             [
              0.6666666666666666,
              "#ed7953"
             ],
             [
              0.7777777777777778,
              "#fb9f3a"
             ],
             [
              0.8888888888888888,
              "#fdca26"
             ],
             [
              1,
              "#f0f921"
             ]
            ],
            "type": "surface"
           }
          ],
          "table": [
           {
            "cells": {
             "fill": {
              "color": "#EBF0F8"
             },
             "line": {
              "color": "white"
             }
            },
            "header": {
             "fill": {
              "color": "#C8D4E3"
             },
             "line": {
              "color": "white"
             }
            },
            "type": "table"
           }
          ]
         },
         "layout": {
          "annotationdefaults": {
           "arrowcolor": "#2a3f5f",
           "arrowhead": 0,
           "arrowwidth": 1
          },
          "autotypenumbers": "strict",
          "coloraxis": {
           "colorbar": {
            "outlinewidth": 0,
            "ticks": ""
           }
          },
          "colorscale": {
           "diverging": [
            [
             0,
             "#8e0152"
            ],
            [
             0.1,
             "#c51b7d"
            ],
            [
             0.2,
             "#de77ae"
            ],
            [
             0.3,
             "#f1b6da"
            ],
            [
             0.4,
             "#fde0ef"
            ],
            [
             0.5,
             "#f7f7f7"
            ],
            [
             0.6,
             "#e6f5d0"
            ],
            [
             0.7,
             "#b8e186"
            ],
            [
             0.8,
             "#7fbc41"
            ],
            [
             0.9,
             "#4d9221"
            ],
            [
             1,
             "#276419"
            ]
           ],
           "sequential": [
            [
             0,
             "#0d0887"
            ],
            [
             0.1111111111111111,
             "#46039f"
            ],
            [
             0.2222222222222222,
             "#7201a8"
            ],
            [
             0.3333333333333333,
             "#9c179e"
            ],
            [
             0.4444444444444444,
             "#bd3786"
            ],
            [
             0.5555555555555556,
             "#d8576b"
            ],
            [
             0.6666666666666666,
             "#ed7953"
            ],
            [
             0.7777777777777778,
             "#fb9f3a"
            ],
            [
             0.8888888888888888,
             "#fdca26"
            ],
            [
             1,
             "#f0f921"
            ]
           ],
           "sequentialminus": [
            [
             0,
             "#0d0887"
            ],
            [
             0.1111111111111111,
             "#46039f"
            ],
            [
             0.2222222222222222,
             "#7201a8"
            ],
            [
             0.3333333333333333,
             "#9c179e"
            ],
            [
             0.4444444444444444,
             "#bd3786"
            ],
            [
             0.5555555555555556,
             "#d8576b"
            ],
            [
             0.6666666666666666,
             "#ed7953"
            ],
            [
             0.7777777777777778,
             "#fb9f3a"
            ],
            [
             0.8888888888888888,
             "#fdca26"
            ],
            [
             1,
             "#f0f921"
            ]
           ]
          },
          "colorway": [
           "#636efa",
           "#EF553B",
           "#00cc96",
           "#ab63fa",
           "#FFA15A",
           "#19d3f3",
           "#FF6692",
           "#B6E880",
           "#FF97FF",
           "#FECB52"
          ],
          "font": {
           "color": "#2a3f5f"
          },
          "geo": {
           "bgcolor": "white",
           "lakecolor": "white",
           "landcolor": "#E5ECF6",
           "showlakes": true,
           "showland": true,
           "subunitcolor": "white"
          },
          "hoverlabel": {
           "align": "left"
          },
          "hovermode": "closest",
          "mapbox": {
           "style": "light"
          },
          "paper_bgcolor": "white",
          "plot_bgcolor": "#E5ECF6",
          "polar": {
           "angularaxis": {
            "gridcolor": "white",
            "linecolor": "white",
            "ticks": ""
           },
           "bgcolor": "#E5ECF6",
           "radialaxis": {
            "gridcolor": "white",
            "linecolor": "white",
            "ticks": ""
           }
          },
          "scene": {
           "xaxis": {
            "backgroundcolor": "#E5ECF6",
            "gridcolor": "white",
            "gridwidth": 2,
            "linecolor": "white",
            "showbackground": true,
            "ticks": "",
            "zerolinecolor": "white"
           },
           "yaxis": {
            "backgroundcolor": "#E5ECF6",
            "gridcolor": "white",
            "gridwidth": 2,
            "linecolor": "white",
            "showbackground": true,
            "ticks": "",
            "zerolinecolor": "white"
           },
           "zaxis": {
            "backgroundcolor": "#E5ECF6",
            "gridcolor": "white",
            "gridwidth": 2,
            "linecolor": "white",
            "showbackground": true,
            "ticks": "",
            "zerolinecolor": "white"
           }
          },
          "shapedefaults": {
           "line": {
            "color": "#2a3f5f"
           }
          },
          "ternary": {
           "aaxis": {
            "gridcolor": "white",
            "linecolor": "white",
            "ticks": ""
           },
           "baxis": {
            "gridcolor": "white",
            "linecolor": "white",
            "ticks": ""
           },
           "bgcolor": "#E5ECF6",
           "caxis": {
            "gridcolor": "white",
            "linecolor": "white",
            "ticks": ""
           }
          },
          "title": {
           "x": 0.05
          },
          "xaxis": {
           "automargin": true,
           "gridcolor": "white",
           "linecolor": "white",
           "ticks": "",
           "title": {
            "standoff": 15
           },
           "zerolinecolor": "white",
           "zerolinewidth": 2
          },
          "yaxis": {
           "automargin": true,
           "gridcolor": "white",
           "linecolor": "white",
           "ticks": "",
           "title": {
            "standoff": 15
           },
           "zerolinecolor": "white",
           "zerolinewidth": 2
          }
         }
        },
        "title": {
         "text": "고객만족도"
        }
       }
      }
     },
     "metadata": {},
     "output_type": "display_data"
    }
   ],
   "source": [
    "import plotly.graph_objects as go\n",
    "\n",
    "data1 = go.Bar(x=df.columns, y=df_t.loc['매우만족'], name='매우만족') # x축 컬럼명, y축 남자\n",
    "data2 = go.Bar(x=df.columns, y=df_t.loc['만족'], name='만족')\n",
    "data3 = go.Bar(x=df.columns, y=df_t.loc['보통'], name='보통')\n",
    "data4 = go.Bar(x=df.columns, y=df_t.loc['불만족'], name='불만족')\n",
    "data5 = go.Bar(x=df.columns, y=df_t.loc['매우불만족'], name='매우불만족')\n",
    "# layout = go.Layout(title='고객만족도') \n",
    "layout = go.Layout(title='고객만족도', barmode='stack') \n",
    "\n",
    "# 생성된 Bar 클래스를 리스트로 만들어 data 인자로 설정\n",
    "fig = go.Figure(data=[data1, data2, data3, data4, data5], layout=layout) \n",
    "\n",
    "fig.show()"
   ]
  },
  {
   "cell_type": "markdown",
   "metadata": {},
   "source": [
    "#### - 원 그래프(Pie chart)\n",
    "- https://matplotlib.org/stable/gallery/pie_and_polar_charts/pie_and_donut_labels.html#sphx-glr-gallery-pie-and-polar-charts-pie-and-donut-labels-py"
   ]
  },
  {
   "cell_type": "code",
   "execution_count": 15,
   "metadata": {},
   "outputs": [
    {
     "data": {
      "text/html": [
       "<div>\n",
       "<style scoped>\n",
       "    .dataframe tbody tr th:only-of-type {\n",
       "        vertical-align: middle;\n",
       "    }\n",
       "\n",
       "    .dataframe tbody tr th {\n",
       "        vertical-align: top;\n",
       "    }\n",
       "\n",
       "    .dataframe thead tr th {\n",
       "        text-align: left;\n",
       "    }\n",
       "</style>\n",
       "<table border=\"1\" class=\"dataframe\">\n",
       "  <thead>\n",
       "    <tr>\n",
       "      <th></th>\n",
       "      <th colspan=\"2\" halign=\"left\">인원</th>\n",
       "      <th>합계</th>\n",
       "    </tr>\n",
       "    <tr>\n",
       "      <th></th>\n",
       "      <th>남자</th>\n",
       "      <th>여자</th>\n",
       "      <th></th>\n",
       "    </tr>\n",
       "  </thead>\n",
       "  <tbody>\n",
       "    <tr>\n",
       "      <th>매우만족</th>\n",
       "      <td>3</td>\n",
       "      <td>2</td>\n",
       "      <td>5</td>\n",
       "    </tr>\n",
       "    <tr>\n",
       "      <th>만족</th>\n",
       "      <td>7</td>\n",
       "      <td>4</td>\n",
       "      <td>11</td>\n",
       "    </tr>\n",
       "    <tr>\n",
       "      <th>보통</th>\n",
       "      <td>10</td>\n",
       "      <td>11</td>\n",
       "      <td>21</td>\n",
       "    </tr>\n",
       "    <tr>\n",
       "      <th>불만족</th>\n",
       "      <td>4</td>\n",
       "      <td>5</td>\n",
       "      <td>9</td>\n",
       "    </tr>\n",
       "    <tr>\n",
       "      <th>매우불만족</th>\n",
       "      <td>2</td>\n",
       "      <td>2</td>\n",
       "      <td>4</td>\n",
       "    </tr>\n",
       "  </tbody>\n",
       "</table>\n",
       "</div>"
      ],
      "text/plain": [
       "       인원      합계\n",
       "       남자  여자    \n",
       "매우만족    3   2   5\n",
       "만족      7   4  11\n",
       "보통     10  11  21\n",
       "불만족     4   5   9\n",
       "매우불만족   2   2   4"
      ]
     },
     "execution_count": 15,
     "metadata": {},
     "output_type": "execute_result"
    }
   ],
   "source": [
    "# pie 그래프를 위해 새로운 컬럼(합계) 추가\n",
    "df_t['합계'] = df_t.sum(axis=1)  # 행별 합계\n",
    "df_t"
   ]
  },
  {
   "cell_type": "code",
   "execution_count": 16,
   "metadata": {
    "scrolled": true
   },
   "outputs": [
    {
     "name": "stderr",
     "output_type": "stream",
     "text": [
      "c:\\Python\\lib\\site-packages\\IPython\\core\\pylabtools.py:152: UserWarning: Glyph 44256 (\\N{HANGUL SYLLABLE GO}) missing from current font.\n",
      "  fig.canvas.print_figure(bytes_io, **kw)\n",
      "c:\\Python\\lib\\site-packages\\IPython\\core\\pylabtools.py:152: UserWarning: Glyph 44061 (\\N{HANGUL SYLLABLE GAEG}) missing from current font.\n",
      "  fig.canvas.print_figure(bytes_io, **kw)\n",
      "c:\\Python\\lib\\site-packages\\IPython\\core\\pylabtools.py:152: UserWarning: Glyph 47564 (\\N{HANGUL SYLLABLE MAN}) missing from current font.\n",
      "  fig.canvas.print_figure(bytes_io, **kw)\n",
      "c:\\Python\\lib\\site-packages\\IPython\\core\\pylabtools.py:152: UserWarning: Glyph 51313 (\\N{HANGUL SYLLABLE JOG}) missing from current font.\n",
      "  fig.canvas.print_figure(bytes_io, **kw)\n",
      "c:\\Python\\lib\\site-packages\\IPython\\core\\pylabtools.py:152: UserWarning: Glyph 46020 (\\N{HANGUL SYLLABLE DO}) missing from current font.\n",
      "  fig.canvas.print_figure(bytes_io, **kw)\n",
      "c:\\Python\\lib\\site-packages\\IPython\\core\\pylabtools.py:152: UserWarning: Glyph 54617 (\\N{HANGUL SYLLABLE HAG}) missing from current font.\n",
      "  fig.canvas.print_figure(bytes_io, **kw)\n",
      "c:\\Python\\lib\\site-packages\\IPython\\core\\pylabtools.py:152: UserWarning: Glyph 45380 (\\N{HANGUL SYLLABLE NYEON}) missing from current font.\n",
      "  fig.canvas.print_figure(bytes_io, **kw)\n",
      "c:\\Python\\lib\\site-packages\\IPython\\core\\pylabtools.py:152: UserWarning: Glyph 51064 (\\N{HANGUL SYLLABLE IN}) missing from current font.\n",
      "  fig.canvas.print_figure(bytes_io, **kw)\n",
      "c:\\Python\\lib\\site-packages\\IPython\\core\\pylabtools.py:152: UserWarning: Glyph 50896 (\\N{HANGUL SYLLABLE WEON}) missing from current font.\n",
      "  fig.canvas.print_figure(bytes_io, **kw)\n",
      "c:\\Python\\lib\\site-packages\\IPython\\core\\pylabtools.py:152: UserWarning: Glyph 45224 (\\N{HANGUL SYLLABLE NAM}) missing from current font.\n",
      "  fig.canvas.print_figure(bytes_io, **kw)\n",
      "c:\\Python\\lib\\site-packages\\IPython\\core\\pylabtools.py:152: UserWarning: Glyph 51088 (\\N{HANGUL SYLLABLE JA}) missing from current font.\n",
      "  fig.canvas.print_figure(bytes_io, **kw)\n",
      "c:\\Python\\lib\\site-packages\\IPython\\core\\pylabtools.py:152: UserWarning: Glyph 50668 (\\N{HANGUL SYLLABLE YEO}) missing from current font.\n",
      "  fig.canvas.print_figure(bytes_io, **kw)\n"
     ]
    },
    {
     "data": {
      "image/png": "[encoded data removed]",
      "text/plain": [
       "<Figure size 640x480 with 1 Axes>"
      ]
     },
     "metadata": {},
     "output_type": "display_data"
    }
   ],
   "source": [
    "# pie 그래프 그리기\n",
    "plt.pie(df_t['합계'], labels=df_t['합계'], autopct='%.1f%%', textprops={'size':12})\n",
    "\n",
    "\n",
    "plt.legend(df.index, title='학년', loc=\"center right\",  \n",
    "           bbox_to_anchor=(1.5, 0, 0.5, 1))\n",
    "plt.title(\"고객만족도\", size=15)\n",
    "\n",
    "plt.show()"
   ]
  },
  {
   "cell_type": "markdown",
   "metadata": {},
   "source": [
    "### [실습] 예제3-7 : (학년별 동아리 수)원 그래프 그리기"
   ]
  },
  {
   "cell_type": "code",
   "execution_count": 17,
   "metadata": {},
   "outputs": [],
   "source": [
    "import matplotlib.pyplot as plt \n",
    "import pandas as pd\n",
    "\n",
    "col = ['1학년','2학년','3학년','4학년']  # index\n",
    "val = [16, 12, 7, 5]    # column\n",
    "\n",
    "\n",
    "\n",
    "\n"
   ]
  },
  {
   "cell_type": "markdown",
   "metadata": {},
   "source": [
    "--------"
   ]
  },
  {
   "cell_type": "markdown",
   "metadata": {},
   "source": [
    "## <a name=\"3.3양적자료의정리\">3.2 양적자료의 정리</a>"
   ]
  },
  {
   "attachments": {},
   "cell_type": "markdown",
   "metadata": {},
   "source": [
    "**숫자에 의해 표현되고, 그 숫자에 의미가 부여되는 자료**"
   ]
  },
  {
   "cell_type": "markdown",
   "metadata": {},
   "source": [
    "### @점도표(dot plt)\n",
    "**자료에 대해 수평축에 각 범주를 작성하고 수직방향으로 각 범주의 측정값에 해당하는 수 만큼 점으로 나타낸 그림**"
   ]
  },
  {
   "cell_type": "markdown",
   "metadata": {},
   "source": [
    "### [실습] 점도표 만들기"
   ]
  },
  {
   "cell_type": "code",
   "execution_count": 20,
   "metadata": {
    "scrolled": true
   },
   "outputs": [
    {
     "name": "stdout",
     "output_type": "stream",
     "text": [
      "unique data: [10, 11, 12, 15, 18, 20, 22, 23, 25, 26, 28, 30, 32, 35, 37, 38, 51]\n",
      "unique data_count: [1, 1, 2, 3, 3, 7, 10, 4, 5, 3, 3, 2, 2, 1, 1, 1, 1]\n"
     ]
    },
    {
     "name": "stderr",
     "output_type": "stream",
     "text": [
      "c:\\Python\\lib\\site-packages\\IPython\\core\\pylabtools.py:152: UserWarning:\n",
      "\n",
      "Glyph 44148 (\\N{HANGUL SYLLABLE GEON}) missing from current font.\n",
      "\n",
      "c:\\Python\\lib\\site-packages\\IPython\\core\\pylabtools.py:152: UserWarning:\n",
      "\n",
      "Glyph 49688 (\\N{HANGUL SYLLABLE SU}) missing from current font.\n",
      "\n",
      "c:\\Python\\lib\\site-packages\\IPython\\core\\pylabtools.py:152: UserWarning:\n",
      "\n",
      "Glyph 54364 (\\N{HANGUL SYLLABLE PYO}) missing from current font.\n",
      "\n",
      "c:\\Python\\lib\\site-packages\\IPython\\core\\pylabtools.py:152: UserWarning:\n",
      "\n",
      "Glyph 52397 (\\N{HANGUL SYLLABLE CEONG}) missing from current font.\n",
      "\n",
      "c:\\Python\\lib\\site-packages\\IPython\\core\\pylabtools.py:152: UserWarning:\n",
      "\n",
      "Glyph 49548 (\\N{HANGUL SYLLABLE SO}) missing from current font.\n",
      "\n",
      "c:\\Python\\lib\\site-packages\\IPython\\core\\pylabtools.py:152: UserWarning:\n",
      "\n",
      "Glyph 45380 (\\N{HANGUL SYLLABLE NYEON}) missing from current font.\n",
      "\n",
      "c:\\Python\\lib\\site-packages\\IPython\\core\\pylabtools.py:152: UserWarning:\n",
      "\n",
      "Glyph 51032 (\\N{HANGUL SYLLABLE YI}) missing from current font.\n",
      "\n",
      "c:\\Python\\lib\\site-packages\\IPython\\core\\pylabtools.py:152: UserWarning:\n",
      "\n",
      "Glyph 54648 (\\N{HANGUL SYLLABLE HAEN}) missing from current font.\n",
      "\n",
      "c:\\Python\\lib\\site-packages\\IPython\\core\\pylabtools.py:152: UserWarning:\n",
      "\n",
      "Glyph 46300 (\\N{HANGUL SYLLABLE DEU}) missing from current font.\n",
      "\n",
      "c:\\Python\\lib\\site-packages\\IPython\\core\\pylabtools.py:152: UserWarning:\n",
      "\n",
      "Glyph 54256 (\\N{HANGUL SYLLABLE PON}) missing from current font.\n",
      "\n",
      "c:\\Python\\lib\\site-packages\\IPython\\core\\pylabtools.py:152: UserWarning:\n",
      "\n",
      "Glyph 49324 (\\N{HANGUL SYLLABLE SA}) missing from current font.\n",
      "\n",
      "c:\\Python\\lib\\site-packages\\IPython\\core\\pylabtools.py:152: UserWarning:\n",
      "\n",
      "Glyph 50857 (\\N{HANGUL SYLLABLE YONG}) missing from current font.\n",
      "\n",
      "c:\\Python\\lib\\site-packages\\IPython\\core\\pylabtools.py:152: UserWarning:\n",
      "\n",
      "Glyph 49884 (\\N{HANGUL SYLLABLE SI}) missing from current font.\n",
      "\n",
      "c:\\Python\\lib\\site-packages\\IPython\\core\\pylabtools.py:152: UserWarning:\n",
      "\n",
      "Glyph 44036 (\\N{HANGUL SYLLABLE GAN}) missing from current font.\n",
      "\n"
     ]
    },
    {
     "data": {
      "image/png": "[encoded data removed]",
      "text/plain": [
       "<Figure size 640x480 with 1 Axes>"
      ]
     },
     "metadata": {},
     "output_type": "display_data"
    }
   ],
   "source": [
    "import matplotlib.pyplot as plt \n",
    "import numpy as np\n",
    "\n",
    "# 청소년 핸드폰 사용시간\n",
    "datas = [10, 37, 22, 32, 18, 15, 15, 18, 22, 15,\n",
    "        20, 25, 38, 28, 25, 30, 20, 22, 18, 22,\n",
    "        22, 12, 22, 26, 22, 32, 22, 23, 20, 23,\n",
    "        23, 20, 25, 51, 20, 25, 26, 22, 26, 28,\n",
    "        28, 20, 23, 30, 12, 22, 35, 11, 20, 25]\n",
    "\n",
    "# 1.x축, y축에 배치시킬 데이터 추출하기\n",
    "data = list(set(datas))    # np.unique(datas)\n",
    "data.sort()\n",
    "data_count = [ datas.count(i) for i in data ]\n",
    "print(f'unique data: {data}')\n",
    "print(f'unique data_count: {data_count}')\n",
    "\n",
    "\n",
    "# 2.점도표를 위해 x축, y축을 numpy 숫자 데이터 형태(X, Y)로 변경한다.\n",
    "x = np.arange(len(data)) + 1           # X축: 고유한 데이터\n",
    "y = np.arange(1, max(data_count) + 1)  # Y축: 고유한 데이터의 빈도수\n",
    "X,Y = np.meshgrid(x,y)                 # X,Y의 meshgrid(격자) 만들기\n",
    "\n",
    "\n",
    "# 점 색상 지정을 부등호를 이용하여 해당 값만큼만 나타내기  \n",
    "ny = np.array( data_count )   # 점을 쌓기 위해 Y와 같은 동일한 numpy데이터로 만든다.\n",
    "plt.scatter(X, Y, c=(Y<=ny), cmap=\"Oranges\")  #  Greys, Blues 등등\n",
    "\n",
    "plt.title('표3-4: 청소년의 핸드폰 사용시간', fontsize=15)\n",
    "plt.xticks(ticks=x, labels=data) \n",
    "plt.xlabel('사용시간')\n",
    "plt.ylabel('건수')\n",
    "plt.show()"
   ]
  },
  {
   "cell_type": "markdown",
   "metadata": {},
   "source": [
    "### [실습] 예제 3-8: 점도표 표현하기"
   ]
  },
  {
   "cell_type": "code",
   "execution_count": 21,
   "metadata": {},
   "outputs": [],
   "source": [
    "import matplotlib.pyplot as plt \n",
    "import numpy as np\n",
    "\n",
    "# 청소년 핸드폰 사용시간\n",
    "datas = [4.1, 4.2, 3.8, 4.2, 3.9, 4.2, 3.9, 4.1, 3.9, 4.3,\n",
    "         3.9, 3.8, 3.8, 4.0, 4.3, 3.8, 3.9, 4.1, 4.1, 4.0]\n",
    "\n",
    "\n",
    "\n",
    "\n",
    "\n",
    "\n"
   ]
  },
  {
   "cell_type": "markdown",
   "metadata": {},
   "source": [
    "### [실습] 파일 데이터 사용 : 기상청 데이터 - 일조시간\n",
    "- 출처: https://data.kma.go.kr/data/grnd/selectAsosRltmList.do?pgmNo=36"
   ]
  },
  {
   "cell_type": "code",
   "execution_count": 22,
   "metadata": {
    "scrolled": true
   },
   "outputs": [
    {
     "data": {
      "text/html": [
       "<div>\n",
       "<style scoped>\n",
       "    .dataframe tbody tr th:only-of-type {\n",
       "        vertical-align: middle;\n",
       "    }\n",
       "\n",
       "    .dataframe tbody tr th {\n",
       "        vertical-align: top;\n",
       "    }\n",
       "\n",
       "    .dataframe thead th {\n",
       "        text-align: right;\n",
       "    }\n",
       "</style>\n",
       "<table border=\"1\" class=\"dataframe\">\n",
       "  <thead>\n",
       "    <tr style=\"text-align: right;\">\n",
       "      <th></th>\n",
       "      <th>지점</th>\n",
       "      <th>지점명</th>\n",
       "      <th>일시</th>\n",
       "      <th>합계 일조시간(hr)</th>\n",
       "      <th>일조시간</th>\n",
       "    </tr>\n",
       "  </thead>\n",
       "  <tbody>\n",
       "    <tr>\n",
       "      <th>0</th>\n",
       "      <td>108</td>\n",
       "      <td>서울</td>\n",
       "      <td>2013-03-01</td>\n",
       "      <td>9.1</td>\n",
       "      <td>9</td>\n",
       "    </tr>\n",
       "    <tr>\n",
       "      <th>1</th>\n",
       "      <td>108</td>\n",
       "      <td>서울</td>\n",
       "      <td>2013-03-02</td>\n",
       "      <td>9.7</td>\n",
       "      <td>10</td>\n",
       "    </tr>\n",
       "    <tr>\n",
       "      <th>2</th>\n",
       "      <td>108</td>\n",
       "      <td>서울</td>\n",
       "      <td>2013-03-03</td>\n",
       "      <td>10.4</td>\n",
       "      <td>10</td>\n",
       "    </tr>\n",
       "    <tr>\n",
       "      <th>3</th>\n",
       "      <td>108</td>\n",
       "      <td>서울</td>\n",
       "      <td>2013-03-04</td>\n",
       "      <td>5.8</td>\n",
       "      <td>6</td>\n",
       "    </tr>\n",
       "    <tr>\n",
       "      <th>4</th>\n",
       "      <td>108</td>\n",
       "      <td>서울</td>\n",
       "      <td>2013-03-05</td>\n",
       "      <td>10.7</td>\n",
       "      <td>11</td>\n",
       "    </tr>\n",
       "  </tbody>\n",
       "</table>\n",
       "</div>"
      ],
      "text/plain": [
       "    지점 지점명          일시  합계 일조시간(hr)  일조시간\n",
       "0  108  서울  2013-03-01          9.1     9\n",
       "1  108  서울  2013-03-02          9.7    10\n",
       "2  108  서울  2013-03-03         10.4    10\n",
       "3  108  서울  2013-03-04          5.8     6\n",
       "4  108  서울  2013-03-05         10.7    11"
      ]
     },
     "execution_count": 22,
     "metadata": {},
     "output_type": "execute_result"
    }
   ],
   "source": [
    "df = pd.read_csv('data/서울지역_일별_일조시간.csv', encoding='cp949')\n",
    "\n",
    "df['일조시간'] = df['합계 일조시간(hr)'].round(0).astype(int)  # 실수를 반올림하여 정수로 변환\n",
    "df.head(5) # 앞에서부터 5개 가져오기"
   ]
  },
  {
   "cell_type": "code",
   "execution_count": 23,
   "metadata": {
    "scrolled": false
   },
   "outputs": [
    {
     "name": "stdout",
     "output_type": "stream",
     "text": [
      "unique data: [3.8, 3.9, 4.0, 4.1, 4.2, 4.3]\n",
      "unique data_count: [4, 5, 2, 4, 3, 2]\n"
     ]
    },
    {
     "name": "stderr",
     "output_type": "stream",
     "text": [
      "c:\\Python\\lib\\site-packages\\IPython\\core\\pylabtools.py:152: UserWarning:\n",
      "\n",
      "Glyph 44148 (\\N{HANGUL SYLLABLE GEON}) missing from current font.\n",
      "\n",
      "c:\\Python\\lib\\site-packages\\IPython\\core\\pylabtools.py:152: UserWarning:\n",
      "\n",
      "Glyph 49688 (\\N{HANGUL SYLLABLE SU}) missing from current font.\n",
      "\n",
      "c:\\Python\\lib\\site-packages\\IPython\\core\\pylabtools.py:152: UserWarning:\n",
      "\n",
      "Glyph 54364 (\\N{HANGUL SYLLABLE PYO}) missing from current font.\n",
      "\n",
      "c:\\Python\\lib\\site-packages\\IPython\\core\\pylabtools.py:152: UserWarning:\n",
      "\n",
      "Glyph 52397 (\\N{HANGUL SYLLABLE CEONG}) missing from current font.\n",
      "\n",
      "c:\\Python\\lib\\site-packages\\IPython\\core\\pylabtools.py:152: UserWarning:\n",
      "\n",
      "Glyph 49548 (\\N{HANGUL SYLLABLE SO}) missing from current font.\n",
      "\n",
      "c:\\Python\\lib\\site-packages\\IPython\\core\\pylabtools.py:152: UserWarning:\n",
      "\n",
      "Glyph 45380 (\\N{HANGUL SYLLABLE NYEON}) missing from current font.\n",
      "\n",
      "c:\\Python\\lib\\site-packages\\IPython\\core\\pylabtools.py:152: UserWarning:\n",
      "\n",
      "Glyph 51032 (\\N{HANGUL SYLLABLE YI}) missing from current font.\n",
      "\n",
      "c:\\Python\\lib\\site-packages\\IPython\\core\\pylabtools.py:152: UserWarning:\n",
      "\n",
      "Glyph 54648 (\\N{HANGUL SYLLABLE HAEN}) missing from current font.\n",
      "\n",
      "c:\\Python\\lib\\site-packages\\IPython\\core\\pylabtools.py:152: UserWarning:\n",
      "\n",
      "Glyph 46300 (\\N{HANGUL SYLLABLE DEU}) missing from current font.\n",
      "\n",
      "c:\\Python\\lib\\site-packages\\IPython\\core\\pylabtools.py:152: UserWarning:\n",
      "\n",
      "Glyph 54256 (\\N{HANGUL SYLLABLE PON}) missing from current font.\n",
      "\n",
      "c:\\Python\\lib\\site-packages\\IPython\\core\\pylabtools.py:152: UserWarning:\n",
      "\n",
      "Glyph 49324 (\\N{HANGUL SYLLABLE SA}) missing from current font.\n",
      "\n",
      "c:\\Python\\lib\\site-packages\\IPython\\core\\pylabtools.py:152: UserWarning:\n",
      "\n",
      "Glyph 50857 (\\N{HANGUL SYLLABLE YONG}) missing from current font.\n",
      "\n",
      "c:\\Python\\lib\\site-packages\\IPython\\core\\pylabtools.py:152: UserWarning:\n",
      "\n",
      "Glyph 49884 (\\N{HANGUL SYLLABLE SI}) missing from current font.\n",
      "\n",
      "c:\\Python\\lib\\site-packages\\IPython\\core\\pylabtools.py:152: UserWarning:\n",
      "\n",
      "Glyph 44036 (\\N{HANGUL SYLLABLE GAN}) missing from current font.\n",
      "\n"
     ]
    },
    {
     "data": {
      "image/png": "[encoded data removed]",
      "text/plain": [
       "<Figure size 640x480 with 1 Axes>"
      ]
     },
     "metadata": {},
     "output_type": "display_data"
    }
   ],
   "source": [
    "import matplotlib.pyplot as plt \n",
    "import numpy as np\n",
    "\n",
    "# 파일 읽어오기\n",
    "\n",
    "\n",
    "\n",
    "\n",
    "\n",
    "\n",
    "\n",
    "# 1.x축, y축에 배치시킬 데이터 추출하기\n",
    "data = list(set(datas))    # np.unique(datas)\n",
    "data.sort()\n",
    "data_count = [ datas.count(i) for i in data ]\n",
    "print(f'unique data: {data}')\n",
    "print(f'unique data_count: {data_count}')\n",
    "\n",
    "# 2.점도표를 위해 x축, y축을 numpy 숫자 데이터 형태(X, Y)로 변경한다.\n",
    "x = np.arange(len(data)) + 1     # X축: 고유한 데이터\n",
    "y = np.arange(1, max(data_count) + 1)  # Y축: 고유한 데이터의 빈도수\n",
    "X,Y = np.meshgrid(x,y)    # X, Y의 meshgrid 만들기\n",
    "\n",
    "\n",
    "# 점 색상 지정을 부등호를 이용하여 해당 값만큼만 나타내기  \n",
    "ny = np.array( data_count )   # 점을 쌓기 위해 Y와 같은 동일한 numpy데이터로 만든다.\n",
    "plt.scatter(X, Y, c=(Y<=ny), cmap=\"Oranges\")  #  Greys, Blues 등등\n",
    "\n",
    "plt.title('표3-4: 청소년의 핸드폰 사용시간', fontsize=15)\n",
    "plt.xticks(ticks=x, labels=data) \n",
    "plt.xlabel('사용시간')\n",
    "plt.ylabel('건수')\n",
    "plt.show()"
   ]
  },
  {
   "cell_type": "markdown",
   "metadata": {},
   "source": [
    "-------------------"
   ]
  },
  {
   "cell_type": "markdown",
   "metadata": {},
   "source": [
    "### @도수분포표(frequency distribution table)\n",
    "**양적자료를 적당한 간격으로 집단화하여 계급, 도수, 상대도수, 누적도수, 누적상대도수, 계급값 등을 기입한 표**"
   ]
  },
  {
   "attachments": {},
   "cell_type": "markdown",
   "metadata": {},
   "source": [
    "### [실습] 도수분포표 만들기\n",
    "\n",
    "-양적자료를 일정한 간격으로 묶어서 집단화한 자료의 도수표"
   ]
  },
  {
   "cell_type": "code",
   "execution_count": null,
   "metadata": {},
   "outputs": [],
   "source": [
    "# 이미지 파일 사용하려면 설치\n",
    "!pip install IPython "
   ]
  },
  {
   "cell_type": "code",
   "execution_count": null,
   "metadata": {
    "scrolled": false
   },
   "outputs": [],
   "source": [
    "from IPython.display import Image\n",
    "#import IPython.display\n",
    "Image(\"image/핸드폰_사용시간.png\")"
   ]
  },
  {
   "cell_type": "markdown",
   "metadata": {},
   "source": [
    "- 올림: math.ceil()  # math 모듈내 함수\n",
    "- 내림: math.floor() # math 모듈내 함수\n",
    "- 반올림: round()    # 사사오입"
   ]
  },
  {
   "cell_type": "markdown",
   "metadata": {},
   "source": [
    "### #[표3-4] 핸드폰 사용시간 데이터에 대해 계급수 K=5인 도수분포표 만들기"
   ]
  },
  {
   "cell_type": "code",
   "execution_count": 24,
   "metadata": {
    "scrolled": true
   },
   "outputs": [
    {
     "name": "stdout",
     "output_type": "stream",
     "text": [
      "계급 수:     5\n",
      "R : 최대측정값 - 최소측정값: 41\n",
      "계급 간격:   9\n",
      "시작 계급값: 9.5\n",
      "계급:        [ 9.5 18.5 27.5 36.5 45.5 54.5]\n"
     ]
    }
   ],
   "source": [
    "import math \n",
    "import numpy as np\n",
    "import pandas as pd\n",
    "\n",
    "# 청소년 핸드폰 사용시간\n",
    "datas = [10, 37, 22, 32, 18, 15, 15, 18, 22, 15,\n",
    "        20, 25, 38, 28, 25, 30, 20, 22, 18, 22,\n",
    "        22, 12, 22, 26, 22, 32, 22, 23, 20, 23,\n",
    "        23, 20, 25, 51, 20, 25, 26, 22, 26, 28,\n",
    "        28, 20, 23, 30, 12, 22, 35, 11, 20, 25]\n",
    "\n",
    "# 1.계급 수\n",
    "k = 5\n",
    "print(f\"계급 수:     {k}\")\n",
    "\n",
    "# 2.R : 최대측정값 - 최소측정값\n",
    "R = max(datas) - min(datas)\n",
    "print(f\"R : 최대측정값 - 최소측정값: {R }\")\n",
    "\n",
    "# 3.계급 간격\n",
    "w = math.ceil(R/k) \n",
    "print(f\"계급 간격:   {w}\")\n",
    "\n",
    "# 4.시작 계급값\n",
    "s = min(datas) - 0.5\n",
    "print(f\"시작 계급값: {s}\")\n",
    "\n",
    "# 계급\n",
    "bins = np.arange(s, max(datas)+w, step=w)  #계급\n",
    "print(f\"계급:        {bins}\")\n",
    "\n",
    "# print(f'계급수(K):{k}, R:{R}, 계급간격(w):{w}, 계급시작값(s):{s}')\n",
    "# print(f'계급:{bins}')"
   ]
  },
  {
   "cell_type": "code",
   "execution_count": 25,
   "metadata": {},
   "outputs": [
    {
     "data": {
      "text/plain": [
       "['9.5 ~ 18.5', '18.5 ~ 27.5', '27.5 ~ 36.5', '36.5 ~ 45.5', '45.5 ~ 54.5']"
      ]
     },
     "execution_count": 25,
     "metadata": {},
     "output_type": "execute_result"
    }
   ],
   "source": [
    "# 계급 구간 만들기\n",
    "# index = []\n",
    "# for i in range(len(bins)):\n",
    "#     if i<(len(bins)-1): \n",
    "#         index.append(f'{bins[i]} ~ {bins[i+1]}')\n",
    "\n",
    "index = [f'{bins[i]} ~ {bins[i+1]}' for i in range(len(bins)) if i<(len(bins)-1) ]\n",
    "index"
   ]
  },
  {
   "cell_type": "code",
   "execution_count": 26,
   "metadata": {},
   "outputs": [
    {
     "data": {
      "text/plain": [
       "array([10, 29,  8,  2,  1], dtype=int64)"
      ]
     },
     "execution_count": 26,
     "metadata": {},
     "output_type": "execute_result"
    }
   ],
   "source": [
    "# 계급 구간별 도수 데이터\n",
    "hist, bins = np.histogram(datas, bins)\n",
    "hist"
   ]
  },
  {
   "cell_type": "markdown",
   "metadata": {},
   "source": [
    "#### - 도수분포표 만들기"
   ]
  },
  {
   "cell_type": "code",
   "execution_count": 27,
   "metadata": {},
   "outputs": [
    {
     "data": {
      "text/html": [
       "<div>\n",
       "<style scoped>\n",
       "    .dataframe tbody tr th:only-of-type {\n",
       "        vertical-align: middle;\n",
       "    }\n",
       "\n",
       "    .dataframe tbody tr th {\n",
       "        vertical-align: top;\n",
       "    }\n",
       "\n",
       "    .dataframe thead th {\n",
       "        text-align: right;\n",
       "    }\n",
       "</style>\n",
       "<table border=\"1\" class=\"dataframe\">\n",
       "  <thead>\n",
       "    <tr style=\"text-align: right;\">\n",
       "      <th></th>\n",
       "      <th>도수</th>\n",
       "    </tr>\n",
       "    <tr>\n",
       "      <th>계급간격</th>\n",
       "      <th></th>\n",
       "    </tr>\n",
       "  </thead>\n",
       "  <tbody>\n",
       "    <tr>\n",
       "      <th>9.5 ~ 18.5</th>\n",
       "      <td>10</td>\n",
       "    </tr>\n",
       "    <tr>\n",
       "      <th>18.5 ~ 27.5</th>\n",
       "      <td>29</td>\n",
       "    </tr>\n",
       "    <tr>\n",
       "      <th>27.5 ~ 36.5</th>\n",
       "      <td>8</td>\n",
       "    </tr>\n",
       "    <tr>\n",
       "      <th>36.5 ~ 45.5</th>\n",
       "      <td>2</td>\n",
       "    </tr>\n",
       "    <tr>\n",
       "      <th>45.5 ~ 54.5</th>\n",
       "      <td>1</td>\n",
       "    </tr>\n",
       "  </tbody>\n",
       "</table>\n",
       "</div>"
      ],
      "text/plain": [
       "             도수\n",
       "계급간격           \n",
       "9.5 ~ 18.5   10\n",
       "18.5 ~ 27.5  29\n",
       "27.5 ~ 36.5   8\n",
       "36.5 ~ 45.5   2\n",
       "45.5 ~ 54.5   1"
      ]
     },
     "execution_count": 27,
     "metadata": {},
     "output_type": "execute_result"
    }
   ],
   "source": [
    "# 도수분포표 만들기\n",
    "df = pd.DataFrame(hist, index=index, columns=['도수'])\n",
    "df.index.name = '계급간격'\n",
    "\n",
    "df"
   ]
  },
  {
   "cell_type": "code",
   "execution_count": 28,
   "metadata": {},
   "outputs": [
    {
     "data": {
      "text/html": [
       "<div>\n",
       "<style scoped>\n",
       "    .dataframe tbody tr th:only-of-type {\n",
       "        vertical-align: middle;\n",
       "    }\n",
       "\n",
       "    .dataframe tbody tr th {\n",
       "        vertical-align: top;\n",
       "    }\n",
       "\n",
       "    .dataframe thead th {\n",
       "        text-align: right;\n",
       "    }\n",
       "</style>\n",
       "<table border=\"1\" class=\"dataframe\">\n",
       "  <thead>\n",
       "    <tr style=\"text-align: right;\">\n",
       "      <th></th>\n",
       "      <th>도수</th>\n",
       "      <th>상대도수</th>\n",
       "    </tr>\n",
       "    <tr>\n",
       "      <th>계급간격</th>\n",
       "      <th></th>\n",
       "      <th></th>\n",
       "    </tr>\n",
       "  </thead>\n",
       "  <tbody>\n",
       "    <tr>\n",
       "      <th>9.5 ~ 18.5</th>\n",
       "      <td>10</td>\n",
       "      <td>0.20</td>\n",
       "    </tr>\n",
       "    <tr>\n",
       "      <th>18.5 ~ 27.5</th>\n",
       "      <td>29</td>\n",
       "      <td>0.58</td>\n",
       "    </tr>\n",
       "    <tr>\n",
       "      <th>27.5 ~ 36.5</th>\n",
       "      <td>8</td>\n",
       "      <td>0.16</td>\n",
       "    </tr>\n",
       "    <tr>\n",
       "      <th>36.5 ~ 45.5</th>\n",
       "      <td>2</td>\n",
       "      <td>0.04</td>\n",
       "    </tr>\n",
       "    <tr>\n",
       "      <th>45.5 ~ 54.5</th>\n",
       "      <td>1</td>\n",
       "      <td>0.02</td>\n",
       "    </tr>\n",
       "  </tbody>\n",
       "</table>\n",
       "</div>"
      ],
      "text/plain": [
       "             도수  상대도수\n",
       "계급간격                 \n",
       "9.5 ~ 18.5   10  0.20\n",
       "18.5 ~ 27.5  29  0.58\n",
       "27.5 ~ 36.5   8  0.16\n",
       "36.5 ~ 45.5   2  0.04\n",
       "45.5 ~ 54.5   1  0.02"
      ]
     },
     "execution_count": 28,
     "metadata": {},
     "output_type": "execute_result"
    }
   ],
   "source": [
    "# 상대도수\n",
    "df['상대도수'] = [x/sum(hist) for x in hist]\n",
    "df"
   ]
  },
  {
   "cell_type": "code",
   "execution_count": 29,
   "metadata": {
    "scrolled": false
   },
   "outputs": [
    {
     "data": {
      "text/html": [
       "<div>\n",
       "<style scoped>\n",
       "    .dataframe tbody tr th:only-of-type {\n",
       "        vertical-align: middle;\n",
       "    }\n",
       "\n",
       "    .dataframe tbody tr th {\n",
       "        vertical-align: top;\n",
       "    }\n",
       "\n",
       "    .dataframe thead th {\n",
       "        text-align: right;\n",
       "    }\n",
       "</style>\n",
       "<table border=\"1\" class=\"dataframe\">\n",
       "  <thead>\n",
       "    <tr style=\"text-align: right;\">\n",
       "      <th></th>\n",
       "      <th>도수</th>\n",
       "      <th>상대도수</th>\n",
       "      <th>누적도수</th>\n",
       "    </tr>\n",
       "    <tr>\n",
       "      <th>계급간격</th>\n",
       "      <th></th>\n",
       "      <th></th>\n",
       "      <th></th>\n",
       "    </tr>\n",
       "  </thead>\n",
       "  <tbody>\n",
       "    <tr>\n",
       "      <th>9.5 ~ 18.5</th>\n",
       "      <td>10</td>\n",
       "      <td>0.20</td>\n",
       "      <td>10</td>\n",
       "    </tr>\n",
       "    <tr>\n",
       "      <th>18.5 ~ 27.5</th>\n",
       "      <td>29</td>\n",
       "      <td>0.58</td>\n",
       "      <td>39</td>\n",
       "    </tr>\n",
       "    <tr>\n",
       "      <th>27.5 ~ 36.5</th>\n",
       "      <td>8</td>\n",
       "      <td>0.16</td>\n",
       "      <td>47</td>\n",
       "    </tr>\n",
       "    <tr>\n",
       "      <th>36.5 ~ 45.5</th>\n",
       "      <td>2</td>\n",
       "      <td>0.04</td>\n",
       "      <td>49</td>\n",
       "    </tr>\n",
       "    <tr>\n",
       "      <th>45.5 ~ 54.5</th>\n",
       "      <td>1</td>\n",
       "      <td>0.02</td>\n",
       "      <td>50</td>\n",
       "    </tr>\n",
       "  </tbody>\n",
       "</table>\n",
       "</div>"
      ],
      "text/plain": [
       "             도수  상대도수  누적도수\n",
       "계급간격                       \n",
       "9.5 ~ 18.5   10  0.20    10\n",
       "18.5 ~ 27.5  29  0.58    39\n",
       "27.5 ~ 36.5   8  0.16    47\n",
       "36.5 ~ 45.5   2  0.04    49\n",
       "45.5 ~ 54.5   1  0.02    50"
      ]
     },
     "execution_count": 29,
     "metadata": {},
     "output_type": "execute_result"
    }
   ],
   "source": [
    "# 누적도수\n",
    "# tmp = []\n",
    "# for i in range(len(hist)):\n",
    "#     if i>0: tmp.append(sum(hist[:i+1]))\n",
    "#     else: tmp.append(hist[i])\n",
    "# df['누적도수'] = tmp\n",
    "\n",
    "df['누적도수'] = [sum(hist[:i+1]) if i>0 else hist[i] for i in range(k)]\n",
    "df"
   ]
  },
  {
   "cell_type": "code",
   "execution_count": 30,
   "metadata": {
    "scrolled": true
   },
   "outputs": [
    {
     "data": {
      "text/html": [
       "<div>\n",
       "<style scoped>\n",
       "    .dataframe tbody tr th:only-of-type {\n",
       "        vertical-align: middle;\n",
       "    }\n",
       "\n",
       "    .dataframe tbody tr th {\n",
       "        vertical-align: top;\n",
       "    }\n",
       "\n",
       "    .dataframe thead th {\n",
       "        text-align: right;\n",
       "    }\n",
       "</style>\n",
       "<table border=\"1\" class=\"dataframe\">\n",
       "  <thead>\n",
       "    <tr style=\"text-align: right;\">\n",
       "      <th></th>\n",
       "      <th>도수</th>\n",
       "      <th>상대도수</th>\n",
       "      <th>누적도수</th>\n",
       "      <th>누적상대도수</th>\n",
       "    </tr>\n",
       "    <tr>\n",
       "      <th>계급간격</th>\n",
       "      <th></th>\n",
       "      <th></th>\n",
       "      <th></th>\n",
       "      <th></th>\n",
       "    </tr>\n",
       "  </thead>\n",
       "  <tbody>\n",
       "    <tr>\n",
       "      <th>9.5 ~ 18.5</th>\n",
       "      <td>10</td>\n",
       "      <td>0.20</td>\n",
       "      <td>10</td>\n",
       "      <td>0.20</td>\n",
       "    </tr>\n",
       "    <tr>\n",
       "      <th>18.5 ~ 27.5</th>\n",
       "      <td>29</td>\n",
       "      <td>0.58</td>\n",
       "      <td>39</td>\n",
       "      <td>0.78</td>\n",
       "    </tr>\n",
       "    <tr>\n",
       "      <th>27.5 ~ 36.5</th>\n",
       "      <td>8</td>\n",
       "      <td>0.16</td>\n",
       "      <td>47</td>\n",
       "      <td>0.94</td>\n",
       "    </tr>\n",
       "    <tr>\n",
       "      <th>36.5 ~ 45.5</th>\n",
       "      <td>2</td>\n",
       "      <td>0.04</td>\n",
       "      <td>49</td>\n",
       "      <td>0.98</td>\n",
       "    </tr>\n",
       "    <tr>\n",
       "      <th>45.5 ~ 54.5</th>\n",
       "      <td>1</td>\n",
       "      <td>0.02</td>\n",
       "      <td>50</td>\n",
       "      <td>1.00</td>\n",
       "    </tr>\n",
       "  </tbody>\n",
       "</table>\n",
       "</div>"
      ],
      "text/plain": [
       "             도수  상대도수  누적도수  누적상대도수\n",
       "계급간격                               \n",
       "9.5 ~ 18.5   10  0.20    10    0.20\n",
       "18.5 ~ 27.5  29  0.58    39    0.78\n",
       "27.5 ~ 36.5   8  0.16    47    0.94\n",
       "36.5 ~ 45.5   2  0.04    49    0.98\n",
       "45.5 ~ 54.5   1  0.02    50    1.00"
      ]
     },
     "execution_count": 30,
     "metadata": {},
     "output_type": "execute_result"
    }
   ],
   "source": [
    "# 누적상대도수\n",
    "tmp = df['상대도수'].values\n",
    "df['누적상대도수'] = [sum(tmp[:i+1]) if i>0 else tmp[i] for i in range(k)]\n",
    "df"
   ]
  },
  {
   "cell_type": "code",
   "execution_count": 31,
   "metadata": {
    "scrolled": true
   },
   "outputs": [
    {
     "data": {
      "text/html": [
       "<div>\n",
       "<style scoped>\n",
       "    .dataframe tbody tr th:only-of-type {\n",
       "        vertical-align: middle;\n",
       "    }\n",
       "\n",
       "    .dataframe tbody tr th {\n",
       "        vertical-align: top;\n",
       "    }\n",
       "\n",
       "    .dataframe thead th {\n",
       "        text-align: right;\n",
       "    }\n",
       "</style>\n",
       "<table border=\"1\" class=\"dataframe\">\n",
       "  <thead>\n",
       "    <tr style=\"text-align: right;\">\n",
       "      <th></th>\n",
       "      <th>도수</th>\n",
       "      <th>상대도수</th>\n",
       "      <th>누적도수</th>\n",
       "      <th>누적상대도수</th>\n",
       "      <th>계급값</th>\n",
       "    </tr>\n",
       "    <tr>\n",
       "      <th>계급간격</th>\n",
       "      <th></th>\n",
       "      <th></th>\n",
       "      <th></th>\n",
       "      <th></th>\n",
       "      <th></th>\n",
       "    </tr>\n",
       "  </thead>\n",
       "  <tbody>\n",
       "    <tr>\n",
       "      <th>9.5 ~ 18.5</th>\n",
       "      <td>10</td>\n",
       "      <td>0.20</td>\n",
       "      <td>10</td>\n",
       "      <td>0.20</td>\n",
       "      <td>14</td>\n",
       "    </tr>\n",
       "    <tr>\n",
       "      <th>18.5 ~ 27.5</th>\n",
       "      <td>29</td>\n",
       "      <td>0.58</td>\n",
       "      <td>39</td>\n",
       "      <td>0.78</td>\n",
       "      <td>23</td>\n",
       "    </tr>\n",
       "    <tr>\n",
       "      <th>27.5 ~ 36.5</th>\n",
       "      <td>8</td>\n",
       "      <td>0.16</td>\n",
       "      <td>47</td>\n",
       "      <td>0.94</td>\n",
       "      <td>32</td>\n",
       "    </tr>\n",
       "    <tr>\n",
       "      <th>36.5 ~ 45.5</th>\n",
       "      <td>2</td>\n",
       "      <td>0.04</td>\n",
       "      <td>49</td>\n",
       "      <td>0.98</td>\n",
       "      <td>41</td>\n",
       "    </tr>\n",
       "    <tr>\n",
       "      <th>45.5 ~ 54.5</th>\n",
       "      <td>1</td>\n",
       "      <td>0.02</td>\n",
       "      <td>50</td>\n",
       "      <td>1.00</td>\n",
       "      <td>50</td>\n",
       "    </tr>\n",
       "  </tbody>\n",
       "</table>\n",
       "</div>"
      ],
      "text/plain": [
       "             도수  상대도수  누적도수  누적상대도수  계급값\n",
       "계급간격                                    \n",
       "9.5 ~ 18.5   10  0.20    10    0.20   14\n",
       "18.5 ~ 27.5  29  0.58    39    0.78   23\n",
       "27.5 ~ 36.5   8  0.16    47    0.94   32\n",
       "36.5 ~ 45.5   2  0.04    49    0.98   41\n",
       "45.5 ~ 54.5   1  0.02    50    1.00   50"
      ]
     },
     "execution_count": 31,
     "metadata": {},
     "output_type": "execute_result"
    }
   ],
   "source": [
    "df['계급값'] = [ int((bins[x]+bins[x+1])/2) for x in range(k)]\n",
    "df"
   ]
  },
  {
   "cell_type": "code",
   "execution_count": 32,
   "metadata": {
    "scrolled": false
   },
   "outputs": [
    {
     "data": {
      "text/html": [
       "<div>\n",
       "<style scoped>\n",
       "    .dataframe tbody tr th:only-of-type {\n",
       "        vertical-align: middle;\n",
       "    }\n",
       "\n",
       "    .dataframe tbody tr th {\n",
       "        vertical-align: top;\n",
       "    }\n",
       "\n",
       "    .dataframe thead th {\n",
       "        text-align: right;\n",
       "    }\n",
       "</style>\n",
       "<table border=\"1\" class=\"dataframe\">\n",
       "  <thead>\n",
       "    <tr style=\"text-align: right;\">\n",
       "      <th></th>\n",
       "      <th>도수</th>\n",
       "      <th>상대도수</th>\n",
       "      <th>누적도수</th>\n",
       "      <th>누적상대도수</th>\n",
       "      <th>계급값</th>\n",
       "    </tr>\n",
       "    <tr>\n",
       "      <th>계급간격</th>\n",
       "      <th></th>\n",
       "      <th></th>\n",
       "      <th></th>\n",
       "      <th></th>\n",
       "      <th></th>\n",
       "    </tr>\n",
       "  </thead>\n",
       "  <tbody>\n",
       "    <tr>\n",
       "      <th>9.5 ~ 18.5</th>\n",
       "      <td>10</td>\n",
       "      <td>0.20</td>\n",
       "      <td>10</td>\n",
       "      <td>0.2</td>\n",
       "      <td>14</td>\n",
       "    </tr>\n",
       "    <tr>\n",
       "      <th>18.5 ~ 27.5</th>\n",
       "      <td>29</td>\n",
       "      <td>0.58</td>\n",
       "      <td>39</td>\n",
       "      <td>0.78</td>\n",
       "      <td>23</td>\n",
       "    </tr>\n",
       "    <tr>\n",
       "      <th>27.5 ~ 36.5</th>\n",
       "      <td>8</td>\n",
       "      <td>0.16</td>\n",
       "      <td>47</td>\n",
       "      <td>0.94</td>\n",
       "      <td>32</td>\n",
       "    </tr>\n",
       "    <tr>\n",
       "      <th>36.5 ~ 45.5</th>\n",
       "      <td>2</td>\n",
       "      <td>0.04</td>\n",
       "      <td>49</td>\n",
       "      <td>0.98</td>\n",
       "      <td>41</td>\n",
       "    </tr>\n",
       "    <tr>\n",
       "      <th>45.5 ~ 54.5</th>\n",
       "      <td>1</td>\n",
       "      <td>0.02</td>\n",
       "      <td>50</td>\n",
       "      <td>1.0</td>\n",
       "      <td>50</td>\n",
       "    </tr>\n",
       "    <tr>\n",
       "      <th>합계</th>\n",
       "      <td>50</td>\n",
       "      <td>1.00</td>\n",
       "      <td></td>\n",
       "      <td></td>\n",
       "      <td></td>\n",
       "    </tr>\n",
       "  </tbody>\n",
       "</table>\n",
       "</div>"
      ],
      "text/plain": [
       "             도수  상대도수 누적도수 누적상대도수 계급값\n",
       "계급간격                                 \n",
       "9.5 ~ 18.5   10  0.20   10    0.2  14\n",
       "18.5 ~ 27.5  29  0.58   39   0.78  23\n",
       "27.5 ~ 36.5   8  0.16   47   0.94  32\n",
       "36.5 ~ 45.5   2  0.04   49   0.98  41\n",
       "45.5 ~ 54.5   1  0.02   50    1.0  50\n",
       "합계           50  1.00                "
      ]
     },
     "execution_count": 32,
     "metadata": {},
     "output_type": "execute_result"
    }
   ],
   "source": [
    "# 합계는 추가하지 않아도 된다.!!!\n",
    "df.loc['합계'] = [ sum(hist), sum(tmp),'','','' ]\n",
    "df"
   ]
  },
  {
   "cell_type": "markdown",
   "metadata": {},
   "source": [
    "### [실습] 예제3-9: 도수분포표 만들기"
   ]
  },
  {
   "cell_type": "code",
   "execution_count": 33,
   "metadata": {
    "scrolled": true
   },
   "outputs": [
    {
     "name": "stdout",
     "output_type": "stream",
     "text": [
      "계급수(K):5, R:46, 계급간격(w):10, 계급시작값(s):11.5\n",
      "계급:[11.5 21.5 31.5 41.5 51.5 61.5]\n"
     ]
    },
    {
     "data": {
      "text/html": [
       "<div>\n",
       "<style scoped>\n",
       "    .dataframe tbody tr th:only-of-type {\n",
       "        vertical-align: middle;\n",
       "    }\n",
       "\n",
       "    .dataframe tbody tr th {\n",
       "        vertical-align: top;\n",
       "    }\n",
       "\n",
       "    .dataframe thead th {\n",
       "        text-align: right;\n",
       "    }\n",
       "</style>\n",
       "<table border=\"1\" class=\"dataframe\">\n",
       "  <thead>\n",
       "    <tr style=\"text-align: right;\">\n",
       "      <th></th>\n",
       "      <th>도수</th>\n",
       "      <th>상대도수</th>\n",
       "      <th>누적도수</th>\n",
       "      <th>누적상대도수</th>\n",
       "      <th>계급값</th>\n",
       "    </tr>\n",
       "    <tr>\n",
       "      <th>계급간격</th>\n",
       "      <th></th>\n",
       "      <th></th>\n",
       "      <th></th>\n",
       "      <th></th>\n",
       "      <th></th>\n",
       "    </tr>\n",
       "  </thead>\n",
       "  <tbody>\n",
       "    <tr>\n",
       "      <th>11.5 ~ 21.5</th>\n",
       "      <td>6</td>\n",
       "      <td>0.12</td>\n",
       "      <td>6</td>\n",
       "      <td>0.12</td>\n",
       "      <td>16.5</td>\n",
       "    </tr>\n",
       "    <tr>\n",
       "      <th>21.5 ~ 31.5</th>\n",
       "      <td>15</td>\n",
       "      <td>0.30</td>\n",
       "      <td>21</td>\n",
       "      <td>0.78</td>\n",
       "      <td>26.5</td>\n",
       "    </tr>\n",
       "    <tr>\n",
       "      <th>31.5 ~ 41.5</th>\n",
       "      <td>20</td>\n",
       "      <td>0.40</td>\n",
       "      <td>41</td>\n",
       "      <td>0.94</td>\n",
       "      <td>36.5</td>\n",
       "    </tr>\n",
       "    <tr>\n",
       "      <th>41.5 ~ 51.5</th>\n",
       "      <td>8</td>\n",
       "      <td>0.16</td>\n",
       "      <td>49</td>\n",
       "      <td>0.98</td>\n",
       "      <td>46.5</td>\n",
       "    </tr>\n",
       "    <tr>\n",
       "      <th>51.5 ~ 61.5</th>\n",
       "      <td>1</td>\n",
       "      <td>0.02</td>\n",
       "      <td>50</td>\n",
       "      <td>1.00</td>\n",
       "      <td>56.5</td>\n",
       "    </tr>\n",
       "  </tbody>\n",
       "</table>\n",
       "</div>"
      ],
      "text/plain": [
       "             도수  상대도수  누적도수  누적상대도수   계급값\n",
       "계급간격                                     \n",
       "11.5 ~ 21.5   6  0.12     6    0.12  16.5\n",
       "21.5 ~ 31.5  15  0.30    21    0.78  26.5\n",
       "31.5 ~ 41.5  20  0.40    41    0.94  36.5\n",
       "41.5 ~ 51.5   8  0.16    49    0.98  46.5\n",
       "51.5 ~ 61.5   1  0.02    50    1.00  56.5"
      ]
     },
     "execution_count": 33,
     "metadata": {},
     "output_type": "execute_result"
    }
   ],
   "source": [
    "import math \n",
    "import numpy as np\n",
    "import pandas as pd\n",
    "\n",
    "datas = [26, 31, 28, 38, 41, 26, 18, 16, 25, 29,\n",
    "         39, 38, 38, 40, 43, 38, 39, 41, 41, 40,\n",
    "         26, 19, 39, 28, 43, 34, 21, 41, 29, 30,\n",
    "         12, 22, 45, 34, 29, 26, 29, 58, 42, 16,\n",
    "         41, 42, 38, 42, 28, 42, 39, 41, 39, 43]\n",
    "\n",
    "# 도수분포표 만들기 사전 과정\n",
    "k = 5                       # 1.계급 수\n",
    "R = max(datas) - min(datas) # 2.R : 최대측정값 - 최소측정값\n",
    "w = math.ceil(R/k)          # 3.계급 간격\n",
    "s = min(datas) - 0.5        # 4.시작 계급값\n",
    "bins = np.arange(s, max(datas)+w, step=w)  #계급\n",
    "index = [f'{bins[i]} ~ {bins[i+1]}' for i in range(len(bins)) if i<(len(bins)-1) ] # 계급 구간(index)\n",
    "hist, bins = np.histogram(datas, bins)  # 계급 구간별 도수 데이터\n",
    "print(f'계급수(K):{k}, R:{R}, 계급간격(w):{w}, 계급시작값(s):{s}')\n",
    "print(f'계급:{bins}')\n",
    "\n",
    "\n",
    "# 도수분포표 만들기\n",
    "df = pd.DataFrame(hist, index=index, columns=['도수'])\n",
    "df.index.name = '계급간격'\n",
    "\n",
    "df['상대도수'] = [x/sum(hist) for x in hist]\n",
    "df['누적도수'] = [sum(hist[:i+1]) if i>0 else hist[i] for i in range(k)]\n",
    "df['누적상대도수'] = [sum(tmp[:i+1]) if i>0 else df['상대도수'].values[i] for i in range(k)] \n",
    "df['계급값'] = [ (bins[x]+bins[x+1])/2 for x in range(k)]\n",
    "\n",
    "df"
   ]
  },
  {
   "cell_type": "markdown",
   "metadata": {},
   "source": [
    "-------------------------------"
   ]
  },
  {
   "attachments": {},
   "cell_type": "markdown",
   "metadata": {},
   "source": [
    "### @히스토그램(frequency histogram)\n",
    "**수평축에 도수분포표의 계급구간을 나타내고 수직방향으로 각 계급에 대응하는 도수를 높이로 갖는 사각형으로 나타낸 그림**\n",
    "도수분포표로 정리한 자료를 시각적으로 쉽게 이해할 수 있도록 작성한 그림"
   ]
  },
  {
   "cell_type": "markdown",
   "metadata": {},
   "source": [
    "### [실습] 예제3-10: (도수)히스토그램 그리기"
   ]
  },
  {
   "cell_type": "code",
   "execution_count": 34,
   "metadata": {
    "scrolled": true
   },
   "outputs": [
    {
     "name": "stdout",
     "output_type": "stream",
     "text": [
      "모집단: 50\n"
     ]
    },
    {
     "data": {
      "image/png": "[encoded data removed]",
      "text/plain": [
       "<Figure size 640x480 with 1 Axes>"
      ]
     },
     "metadata": {},
     "output_type": "display_data"
    }
   ],
   "source": [
    "import matplotlib.pyplot as plt\n",
    "import numpy as np\n",
    "\n",
    "datas = [26, 31, 28, 38, 41, 26, 18, 16, 25, 29,\n",
    "         39, 38, 38, 40, 43, 38, 39, 41, 41, 40,\n",
    "         26, 19, 39, 28, 43, 34, 21, 41, 29, 30,\n",
    "         12, 22, 45, 34, 29, 26, 29, 58, 42, 16,\n",
    "         41, 42, 38, 42, 28, 42, 39, 41, 39, 43]\n",
    "\n",
    "print(f'모집단: {len(datas)}')\n",
    "\n",
    "plt.hist(datas, bins=k, edgecolor='w') # matplotlib.pyplot의 hist() 함수 이용\n",
    "plt.show()"
   ]
  },
  {
   "cell_type": "code",
   "execution_count": 35,
   "metadata": {
    "scrolled": false
   },
   "outputs": [
    {
     "name": "stderr",
     "output_type": "stream",
     "text": [
      "c:\\Python\\lib\\site-packages\\IPython\\core\\pylabtools.py:152: UserWarning:\n",
      "\n",
      "Glyph 46020 (\\N{HANGUL SYLLABLE DO}) missing from current font.\n",
      "\n",
      "c:\\Python\\lib\\site-packages\\IPython\\core\\pylabtools.py:152: UserWarning:\n",
      "\n",
      "Glyph 49688 (\\N{HANGUL SYLLABLE SU}) missing from current font.\n",
      "\n",
      "c:\\Python\\lib\\site-packages\\IPython\\core\\pylabtools.py:152: UserWarning:\n",
      "\n",
      "Glyph 55176 (\\N{HANGUL SYLLABLE HI}) missing from current font.\n",
      "\n",
      "c:\\Python\\lib\\site-packages\\IPython\\core\\pylabtools.py:152: UserWarning:\n",
      "\n",
      "Glyph 49828 (\\N{HANGUL SYLLABLE SEU}) missing from current font.\n",
      "\n",
      "c:\\Python\\lib\\site-packages\\IPython\\core\\pylabtools.py:152: UserWarning:\n",
      "\n",
      "Glyph 53664 (\\N{HANGUL SYLLABLE TO}) missing from current font.\n",
      "\n",
      "c:\\Python\\lib\\site-packages\\IPython\\core\\pylabtools.py:152: UserWarning:\n",
      "\n",
      "Glyph 44536 (\\N{HANGUL SYLLABLE GEU}) missing from current font.\n",
      "\n",
      "c:\\Python\\lib\\site-packages\\IPython\\core\\pylabtools.py:152: UserWarning:\n",
      "\n",
      "Glyph 47016 (\\N{HANGUL SYLLABLE RAEM}) missing from current font.\n",
      "\n",
      "c:\\Python\\lib\\site-packages\\IPython\\core\\pylabtools.py:152: UserWarning:\n",
      "\n",
      "Glyph 44228 (\\N{HANGUL SYLLABLE GYE}) missing from current font.\n",
      "\n",
      "c:\\Python\\lib\\site-packages\\IPython\\core\\pylabtools.py:152: UserWarning:\n",
      "\n",
      "Glyph 44553 (\\N{HANGUL SYLLABLE GEUB}) missing from current font.\n",
      "\n",
      "c:\\Python\\lib\\site-packages\\IPython\\core\\pylabtools.py:152: UserWarning:\n",
      "\n",
      "Glyph 44050 (\\N{HANGUL SYLLABLE GABS}) missing from current font.\n",
      "\n"
     ]
    },
    {
     "data": {
      "image/png": "[encoded data removed]",
      "text/plain": [
       "<Figure size 640x480 with 1 Axes>"
      ]
     },
     "metadata": {},
     "output_type": "display_data"
    }
   ],
   "source": [
    "x = df['계급값']\n",
    "y = df['도수']\n",
    "# print(x)\n",
    "\n",
    "plt.bar(x,y, width=10, edgecolor='w') # 막대 그래프로 표현\n",
    "plt.xticks(ticks=x, labels=x)\n",
    "\n",
    "plt.title('(도수)히스토그램')\n",
    "plt.xlabel('계급값')\n",
    "plt.ylabel('도수')\n",
    "plt.show()"
   ]
  },
  {
   "cell_type": "markdown",
   "metadata": {},
   "source": [
    "### @도수다각형(frequency polygon)\n",
    "**히스토그램에서 연속적인 막대의 상단 중심부를 선분으로 연결하여 다각형으로 표현한 그림**"
   ]
  },
  {
   "cell_type": "markdown",
   "metadata": {},
   "source": [
    "### [실습] 예제 3-11: 히스토그램 위에 도수다각형 그리기"
   ]
  },
  {
   "cell_type": "code",
   "execution_count": 36,
   "metadata": {
    "scrolled": false
   },
   "outputs": [
    {
     "name": "stdout",
     "output_type": "stream",
     "text": [
      "[6.5, 16.5, 26.5, 36.5, 46.5, 56.5, 66.5]\n",
      "[0, 6, 15, 20, 8, 1, 0]\n"
     ]
    },
    {
     "name": "stderr",
     "output_type": "stream",
     "text": [
      "c:\\Python\\lib\\site-packages\\IPython\\core\\pylabtools.py:152: UserWarning:\n",
      "\n",
      "Glyph 45796 (\\N{HANGUL SYLLABLE DA}) missing from current font.\n",
      "\n",
      "c:\\Python\\lib\\site-packages\\IPython\\core\\pylabtools.py:152: UserWarning:\n",
      "\n",
      "Glyph 44033 (\\N{HANGUL SYLLABLE GAG}) missing from current font.\n",
      "\n",
      "c:\\Python\\lib\\site-packages\\IPython\\core\\pylabtools.py:152: UserWarning:\n",
      "\n",
      "Glyph 54805 (\\N{HANGUL SYLLABLE HYEONG}) missing from current font.\n",
      "\n"
     ]
    },
    {
     "data": {
      "image/png": "[encoded data removed]",
      "text/plain": [
       "<Figure size 640x480 with 1 Axes>"
      ]
     },
     "metadata": {},
     "output_type": "display_data"
    }
   ],
   "source": [
    "x = df['계급값'].to_list()\n",
    "y = df['도수'].to_list()\n",
    "x.insert(0, x[0] - w)         # 맨 앞에 추가\n",
    "y.insert(0, 0)                \n",
    "x.insert(len(x), x[-1] + w)   # 맨 뒤\n",
    "y.insert(len(y), 0)\n",
    "print(x)\n",
    "print(y)\n",
    "\n",
    "\n",
    "plt.bar(x, y, width=10, edgecolor='w') # 막대 그래프로 표현\n",
    "plt.plot(x, y, 'o-',c='r')\n",
    "plt.xticks(ticks=x, labels=x)\n",
    "\n",
    "plt.title('도수다각형')\n",
    "plt.xlabel('계급값')\n",
    "plt.ylabel('도수')\n",
    "plt.grid(axis='y', linestyle='dashed')\n",
    "plt.show()"
   ]
  },
  {
   "cell_type": "markdown",
   "metadata": {},
   "source": [
    "### [줄기-잎 그림]\n",
    "- **실제 측정값을 이용하여 변동이 적은 부분은 줄기, 변동이 많은 부분은 잎 모양으로 나타낸 그림**"
   ]
  },
  {
   "cell_type": "markdown",
   "metadata": {},
   "source": [
    "### [실습]  줄기-잎 그림"
   ]
  },
  {
   "cell_type": "markdown",
   "metadata": {},
   "source": [
    "#### 방법1: stemgraphic 라이브러리 이용"
   ]
  },
  {
   "cell_type": "code",
   "execution_count": null,
   "metadata": {},
   "outputs": [],
   "source": [
    "!pip install stemgraphic  "
   ]
  },
  {
   "cell_type": "markdown",
   "metadata": {},
   "source": [
    "####  [표 3-4] 청소년의 핸드폰 사용시간 데이터 사용"
   ]
  },
  {
   "cell_type": "code",
   "execution_count": null,
   "metadata": {
    "scrolled": true
   },
   "outputs": [],
   "source": [
    "import stemgraphic\n",
    "\n",
    "# 청소년 핸드폰 사용시간\n",
    "datas = [10, 37, 22, 32, 18, 15, 15, 18, 22, 15,\n",
    "        20, 25, 38, 28, 25, 30, 20, 22, 18, 22,\n",
    "        22, 12, 22, 26, 22, 32, 22, 23, 20, 23,\n",
    "        23, 20, 25, 51, 20, 25, 26, 22, 26, 28,\n",
    "        28, 20, 23, 30, 12, 22, 35, 11, 20, 25]\n",
    "\n",
    "# stemgraphic.stem_graphic(datas, scale=10\n",
    "stemgraphic.stem_graphic(datas, scale=10, asc=False) \n",
    "\n",
    "plt.show()"
   ]
  },
  {
   "cell_type": "markdown",
   "metadata": {},
   "source": [
    "#### 방법2: pyplot.stem 이용"
   ]
  },
  {
   "cell_type": "code",
   "execution_count": 37,
   "metadata": {
    "scrolled": true
   },
   "outputs": [
    {
     "data": {
      "image/png": "[encoded data removed]",
      "text/plain": [
       "<Figure size 640x480 with 1 Axes>"
      ]
     },
     "metadata": {},
     "output_type": "display_data"
    }
   ],
   "source": [
    "stems = [i//10 for i in datas]  # 10으로 나눈 몫만 저장\n",
    "stems.sort()\n",
    "\n",
    "plt.stem(stems, datas)  \n",
    "\n",
    "plt.xticks(ticks=stems, label=stems)\n",
    "plt.xlabel('stem')\n",
    "plt.ylabel('data')\n",
    "\n",
    "plt.show()"
   ]
  },
  {
   "cell_type": "markdown",
   "metadata": {},
   "source": [
    "### [실습] 예제 3-12:  줄기-잎 그래프 그리기"
   ]
  },
  {
   "cell_type": "code",
   "execution_count": null,
   "metadata": {},
   "outputs": [],
   "source": [
    "import stemgraphic\n",
    "\n",
    "# 3-9자료 사용\n",
    "datas = [26, 31, 28, 38, 41, 26, 18, 16, 25, 29,\n",
    "         39, 38, 38, 40, 43, 38, 39, 41, 41, 40,\n",
    "         26, 19, 39, 28, 43, 34, 21, 41, 29, 30,\n",
    "         12, 22, 45, 34, 29, 26, 29, 58, 42, 16,\n",
    "         41, 42, 38, 42, 28, 42, 39, 41, 39, 43]\n",
    "\n",
    "\n",
    "#stemgraphic.stem_graphic(data, scale=10) asc=True\n",
    "stemgraphic.stem_graphic(datas, scale=10, asc=False)\n",
    "\n",
    "plt.show()"
   ]
  },
  {
   "cell_type": "code",
   "execution_count": null,
   "metadata": {},
   "outputs": [],
   "source": [
    "stems = [i//10 for i in datas]\n",
    "stems.sort()\n",
    "\n",
    "plt.stem(stems, datas)\n",
    "\n",
    "plt.xticks(ticks=stems, label=stems)\n",
    "plt.xlabel('stem')\n",
    "plt.ylabel('data')\n",
    "\n",
    "plt.show()"
   ]
  },
  {
   "cell_type": "markdown",
   "metadata": {},
   "source": [
    "-------"
   ]
  },
  {
   "cell_type": "markdown",
   "metadata": {},
   "source": [
    "끝"
   ]
  }
 ],
 "metadata": {
  "kernelspec": {
   "display_name": "Python 3 (ipykernel)",
   "language": "python",
   "name": "python3"
  },
  "language_info": {
   "codemirror_mode": {
    "name": "ipython",
    "version": 3
   },
   "file_extension": ".py",
   "mimetype": "text/x-python",
   "name": "python",
   "nbconvert_exporter": "python",
   "pygments_lexer": "ipython3",
   "version": "3.10.5"
  }
 },
 "nbformat": 4,
 "nbformat_minor": 4
}
