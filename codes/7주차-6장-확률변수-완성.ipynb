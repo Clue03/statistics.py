{
 "cells": [
  {
   "cell_type": "markdown",
   "id": "218b7526",
   "metadata": {},
   "source": [
    "# Chapter 06 확률변수(Random Variable)"
   ]
  },
  {
   "cell_type": "markdown",
   "id": "de0e4a67",
   "metadata": {},
   "source": [
    "- <a href=\"#6.1이산확률변수\">6.1 이산확률변수</a>\n",
    "- <a href=\"#6.2연속확률변수\">6.2 연속확률변수</a>\n",
    "- <a href=\"#6.3확률변수의평균과분산\">6.3 확률변수의 평균과 분산</a>"
   ]
  },
  {
   "cell_type": "code",
   "execution_count": null,
   "id": "5471f03e",
   "metadata": {},
   "outputs": [],
   "source": [
    "%precision 2"
   ]
  },
  {
   "cell_type": "markdown",
   "id": "5b5b05c6",
   "metadata": {},
   "source": [
    "## <a name=\"6.1이산확률변수\">6.1 이산확률변수</a>"
   ]
  },
  {
   "cell_type": "markdown",
   "id": "7ddd1432",
   "metadata": {},
   "source": [
    "### 확률변수(Random Variable)\n",
    "- 표본공간 S안의 원소에 **실수를 대응시키는 함수**를 확률변수라 하며, 보통 X와 같이 대문자로 나타낸다.\n",
    "- 일정한 **확률로 발생하는 각각의 결과를 수치적 값**으로 표현하는 변수. \n",
    "- 시행결과에 따라 값이 결정되는 변수를 나타내는 함수\n",
    "- **확률변수 예제:** \n",
    "    - 동전 두 번 던지기 : 표본공간 {HH, HT, TH, TT} **→ {0, 1, 2 }**\n",
    "    - 동전 세 번 던지기 : 앞면이 나온 횟수를 확률변수 𝑋라 하면, 표본공간 {HHH, HHT, HTH, THH, HTT, THT, TTH, TTT} **→ {0, 1, 2, 3 }**"
   ]
  },
  {
   "cell_type": "markdown",
   "id": "8ef80630",
   "metadata": {},
   "source": [
    "### 확률변수의 종류\n",
    "#### *이산확률변수(Discrete Random Variable)\n",
    "- 확률변수 X의 원소의 수(치역)가 유한개이거나 셀수 있는 경우의 확률변수\n",
    "- $X(Ω) = \\{1,2,3,4...\\}$\n",
    "#### *연속확률변수(Continuous random variable)\n",
    "- 어떤 연속하는 범위 안에서 모든 실숫값을 가지는 확률변수 X\n",
    "- $X(Ω) = \\{x \\in R, 0 \\leq x \\leq 100 \\}$"
   ]
  },
  {
   "cell_type": "markdown",
   "id": "407ad62c",
   "metadata": {},
   "source": [
    "### 확률분포함수\n",
    "- 확률변수의 값에 대한 확률분포를 나타내는 함수\n",
    "- 확률이 어디에 어느 정도 분포되어 있는가를 수학적으로 명시하고 명확하게 전달하기 위한 도구가 바로 확률분포함수다.\n",
    "\n",
    "### 확률분포함수의 종류\n",
    "- **확률질량함수(PMF:Probability mass function)** : 이산확률변수의 확률분포\n",
    "- **확률밀도함수(PDF:Probability density function)** : 연속확률변수의 확률분포"
   ]
  },
  {
   "cell_type": "markdown",
   "id": "2f182910",
   "metadata": {},
   "source": [
    "------------------------------------"
   ]
  },
  {
   "cell_type": "markdown",
   "id": "8421894d",
   "metadata": {},
   "source": [
    "### 이산확률변수(Discrete Random Variable)"
   ]
  },
  {
   "cell_type": "markdown",
   "id": "66bc617c",
   "metadata": {},
   "source": [
    "### [실습]  예제 6-1: 확률변수X의 상태공간(Sx) 구하기\n",
    "주사위를 두 번 반복하여 던지는 시행에서 두 분의 차의 절대값을  확률변수 X라고 할 때,  X의 상태공간은?"
   ]
  },
  {
   "cell_type": "markdown",
   "id": "95b8247d",
   "metadata": {},
   "source": [
    "#### 확률변수X의 상태공간(Sx) 구하기"
   ]
  },
  {
   "cell_type": "code",
   "execution_count": null,
   "id": "f3bea483",
   "metadata": {},
   "outputs": [],
   "source": [
    "X = list()\n",
    "for i in range(1, 7):\n",
    "    for j in range(1, 7):    # 주사위를 두번 던지는 시행\n",
    "        X.append( abs(i-j) )  # abs() 절대값 나타내는 함수\n",
    "x_set = set(X)\n",
    "print(f'확률변수 X 상태공간 Sx = {x_set}')"
   ]
  },
  {
   "cell_type": "code",
   "execution_count": null,
   "id": "36c9328f",
   "metadata": {},
   "outputs": [],
   "source": [
    "import itertools\n",
    "\n",
    "D = list(range(1,7))  # [1,2,3,4,5,6]\n",
    "outcomes = list( itertools.product(D, repeat=2) ) # 주사위를 두번 던지는 시행\n",
    "outcomes\n",
    "\n",
    "x_set = { abs(x1-x2) for x1, x2 in outcomes } # 두 눈의 차의 절대값을 나타내는 확률변수의 상태공간\n",
    "print(f'상태공간 Sx = {x_set}')"
   ]
  },
  {
   "cell_type": "markdown",
   "id": "f2efb956",
   "metadata": {},
   "source": [
    "### 확률질량함수 (Probability Mass Function: PMF) \n",
    "이산확률변수의 분포를 나타내는 함수"
   ]
  },
  {
   "cell_type": "markdown",
   "id": "7bef7dd3",
   "metadata": {},
   "source": [
    "### [실습] 예제 6-3:주사위를 두 번 반복 시행해서 두 눈의 차의 절대값: 확률변수 X "
   ]
  },
  {
   "cell_type": "markdown",
   "id": "7e2b3dd7",
   "metadata": {},
   "source": [
    "#### 확률변수 X"
   ]
  },
  {
   "cell_type": "code",
   "execution_count": null,
   "id": "32932d76",
   "metadata": {},
   "outputs": [],
   "source": [
    "'''\n",
    "주사위 2번 던져 두 눈의 차의 절대값을 확률변수 X라할 때\n",
    "'''\n",
    "import itertools\n",
    "\n",
    "D = list(range(1,7))\n",
    "outcomes = list( itertools.product(D, repeat=2) ) # 주사위를 두번 던지는 시행\n",
    "\n",
    "x_set = { abs(x1-x2) for x1, x2 in outcomes } # 두 눈의 차의 절대값을 나타내는 확률변수의 상태공간\n",
    "X = list( set(x_set) )    # 프로그램에서 사용을 편하기 하기 위해 집합데이터를 리스트데이터로 변경함\n",
    "\n",
    "print(f'#확률변수 X 상태공간: {x_set}')      "
   ]
  },
  {
   "cell_type": "markdown",
   "id": "5444a415",
   "metadata": {},
   "source": [
    "**(a). 확률변수 X의 확률질량함수 f(x)**"
   ]
  },
  {
   "cell_type": "code",
   "execution_count": null,
   "id": "7b8bb5fa",
   "metadata": {},
   "outputs": [],
   "source": [
    "# 확률변수 X의 확률질량함수\n",
    "def f(x) :\n",
    "    freq = [(x1, x2) for x1, x2 in outcomes if abs(x1-x2)== x ]  \n",
    "    print(x,':', freq)\n",
    "    return  len(freq) / len(outcomes)\n",
    "\n",
    "prob = [f(x) for x in x_set ]  \n",
    "prob\n",
    "\n",
    "\n",
    "# 확률변수 X와 X의 확률질량함수를 딕셔너리로 만들면\n",
    "P_X = dict(zip(X, prob))\n",
    "print(f'#확률변수 X의 확률질량함수 f(x) = {P_X} ')\n",
    "print(f'#확률의 합: {sum(prob)}')"
   ]
  },
  {
   "cell_type": "markdown",
   "id": "e81a4e6d",
   "metadata": {},
   "source": [
    "- **확률변수가 취할 수 있는 값과 확률의 대응 그래프**"
   ]
  },
  {
   "cell_type": "code",
   "execution_count": null,
   "id": "29528fdf",
   "metadata": {
    "scrolled": true
   },
   "outputs": [],
   "source": [
    "def draw_probability(X, Y): \n",
    "    import matplotlib.pyplot as plt\n",
    "\n",
    "    plt.rcParams['font.family'] = 'Malgun Gothic' #폰트: 맑은 고딕으로 설정 \n",
    "    plt.rcParams['axes.unicode_minus'] = False    #그래프축 값 마이너스 표시\n",
    "\n",
    "    plt.bar(X, Y, zorder=1)  # zorder: 그래프 그리기 순서. 큰 수가 가장 나중에 그려짐\n",
    "    plt.scatter(X, Y, c='r', zorder=2)\n",
    "    for x, y in  zip(X, Y):\n",
    "        plt.text(x, y, (x,round(y,2)))\n",
    "\n",
    "    plt.xlabel(\"확률변수X\")\n",
    "    plt.ylabel(\"확률\")\n",
    "    plt.grid()\n",
    "    plt.show()\n",
    "\n",
    "draw_probability(X, prob)   # draw_probability(P_X.keys(), P_X.values())"
   ]
  },
  {
   "cell_type": "markdown",
   "id": "3da3e34f",
   "metadata": {},
   "source": [
    "#### # 확률 구하기"
   ]
  },
  {
   "cell_type": "code",
   "execution_count": null,
   "id": "b6f4ff84",
   "metadata": {},
   "outputs": [],
   "source": [
    "# 확률 구하기\n",
    "print(f'#(b) 두 눈의 차의 절대값이 3일 확률: { f(3)}')\n",
    "print(f'#(c) 두 눈의 차의 절대값이 2 이상 4 이하일 확률: { sum([f(x) for x in X if x>=2 and x<=4]) }')\n",
    "print(f'#(d) 두 눈의 차의 절대값이 4 이상일 확률: { sum([f(x) for x in X if x>=4]) }')"
   ]
  },
  {
   "cell_type": "markdown",
   "id": "2628b7dd",
   "metadata": {},
   "source": [
    "### [실습] 확률질량함수와 확률 구하기\n",
    "동전을 네 번 반복하여 던지는 시행에서 앞면이 나온 횟수를 확률변수 X라 할 때"
   ]
  },
  {
   "cell_type": "markdown",
   "id": "6eb5d2fc",
   "metadata": {},
   "source": [
    "(a). 확률변수 X의 확률질량함수  "
   ]
  },
  {
   "cell_type": "code",
   "execution_count": null,
   "id": "35d87e3f",
   "metadata": {
    "scrolled": true
   },
   "outputs": [],
   "source": [
    "'''\n",
    "동전 던지기 4번 앞면이 나온 횟수\n",
    "'''\n",
    "import itertools\n",
    "\n",
    "# 1.확률변수 X 상태공간\n",
    "outcomes = list(itertools.product({'H', 'T'}, repeat=4)) # 동전던지기 경우의 수\n",
    "x_set = {c.count('H') for c in outcomes }       # 앞면(H)의 수 상태공간\n",
    "X = list(set(x_set))                            # 확률변수 X\n",
    "print(f'#확률변수 X 상태공간: {x_set}')\n",
    "\n",
    "  \n",
    "# 2.확률변수 X의 확률질량함수\n",
    "def f(x) :\n",
    "    freq = [ c for c in outcomes if c.count('H')== x ]  \n",
    "    return  len(freq) / len(outcomes)\n",
    "\n",
    "prob = [f(x) for x in X ]  \n",
    "prob\n",
    "\n",
    "\n",
    "# 확률변수 X와 X의확률질량함수를 딕셔너리로 만들면\n",
    "P_X = dict(zip(X, prob))\n",
    "print(f'#확률변수 X의 확률질량함수 f(x) = {P_X} ')\n",
    "\n",
    "\n",
    "# 확률변수와 확률 그래프로 나타내기\n",
    "# draw_probability(X, prob)\n",
    "\n",
    "\n",
    "# 확률 구하기\n",
    "print(f'#(b) 2일 확률: {f(2)}')\n",
    "print(f'#(c) 2이상일 확률: { sum([f(x) for x in X if x>=2]) }')\n",
    "print(f'#(d) 3이하일 확률: { sum([f(x) for x in X if x<=3]) }')"
   ]
  },
  {
   "cell_type": "markdown",
   "id": "fd130602",
   "metadata": {},
   "source": [
    "### 이산확률변수 분포함수"
   ]
  },
  {
   "cell_type": "markdown",
   "id": "d2f7e3af",
   "metadata": {},
   "source": [
    "동전 두 번 던지기에서 앞면이 나온 횟수를 확률변수 X라 할 때"
   ]
  },
  {
   "cell_type": "code",
   "execution_count": null,
   "id": "802ed72b",
   "metadata": {},
   "outputs": [],
   "source": [
    "'''\n",
    "동전 던지기 2번 앞면이 나온 횟수\n",
    "'''\n",
    "import itertools\n",
    "\n",
    "# 1.확률변수 X의 상태공간\n",
    "outcomes = list(itertools.product({'H', 'T'}, repeat=2)) # 동전던지기 경우의 수\n",
    "x_set = {c.count('H') for c in outcomes }       # 앞면(H)의 수 상태공간\n",
    "X = list(set(x_set))                            # 확률변수 X\n",
    "print(f'#확률변수 X 상태공간: {x_set}')\n",
    "  \n",
    "# 2.확률변수 X의 확률질량함수\n",
    "def f(x) :\n",
    "    if x in x_set:\n",
    "        freq = [ c for c in outcomes if c.count('H')== x ]  \n",
    "        return  len(freq) / len(outcomes)\n",
    "    else:\n",
    "        0\n",
    "\n",
    "\n",
    "# 3.확률분포함수(F(x)): 누적분포함수\n",
    "def F(x):\n",
    "    return sum([f(u) for u in X if u <= x])\n",
    "\n",
    "\n",
    "# 확률누적분포 그래프로 그려보기\n",
    "def graph_F(X, probs, s_probs):\n",
    "    # 그래프로 그리기\n",
    "    import matplotlib.pyplot as plt\n",
    "\n",
    "    plt.bar(X, probs, zorder=2)\n",
    "    plt.bar(X, s_probs, zorder=1)\n",
    "    for x, y in  zip(X, s_probs):\n",
    "        plt.text(x, y, (x,round(y,2)) )\n",
    "    plt.grid()\n",
    "    plt.show()\n",
    "\n",
    "# 4.확률분포함수 누적확률\n",
    "probs = [f(x) for x in X]\n",
    "s_probs = [F(x) for x in X]\n",
    "print(f'#확률변수X의 확률질량함수: {dict(zip(X, probs))}')\n",
    "print(f'#확률변수X의 확률분포함수: {dict(zip(X, s_probs))}')\n",
    "\n",
    "graph_F(X, probs, s_probs) # 확률누적분포 그래프로 그려보기"
   ]
  },
  {
   "cell_type": "markdown",
   "id": "166c752f",
   "metadata": {},
   "source": [
    "### [실습] 예제 6-4 : 분포함수 \n",
    "주사위 두 번 던지기, 확률변수X: 두 눈의 차의 절대값 "
   ]
  },
  {
   "cell_type": "code",
   "execution_count": null,
   "id": "02e65b0a",
   "metadata": {},
   "outputs": [],
   "source": [
    "'''\n",
    "주사위 2번 던져 두 눈의 차의 절대값을 확률변수 X라할 때\n",
    "'''\n",
    "import itertools\n",
    "\n",
    "# 1.확률변수 X의 상태공간\n",
    "D = list(range(1,7))\n",
    "outcomes = list( itertools.product(D, repeat=2) ) # 주사위를 두번 던지는 시행\n",
    "\n",
    "x_set = { abs(x1-x2) for x1, x2 in outcomes } # 두 눈의 차의 절대값을 나타내는 확률변수의 상태공간\n",
    "X = list( set(x_set) )    # 프로그램에서 사용을 편하기 하기 위해 집합데이터를 리스트데이터로 변경함\n",
    "print(f'#확률변수 X 상태공간: {x_set}')   \n",
    "\n",
    "\n",
    "# 2.확률질량함수 f(x)\n",
    "def f(x) :\n",
    "    freq = [(x1, x2) for x1, x2 in outcomes if abs(x1-x2)== x ]  \n",
    "    return  len(freq) / len(outcomes)\n",
    "\n",
    "\n",
    "# 3.확률분포함수 F(x)\n",
    "def F(x):\n",
    "    return sum([f(u) for u in X if u <= x])\n",
    "\n",
    "\n",
    "# 4.확률분포함수 누적확률\n",
    "probs = [f(x) for x in X]\n",
    "s_probs = [F(x) for x in X]\n",
    "print(f'#확률변수X의 확률질량함수: {dict(zip(X, probs))}')\n",
    "print(f'#확률변수X의 확률분포함수: {dict(zip(X, s_probs))}')\n",
    "\n",
    "graph_F(X, probs, s_probs) # 확률누적분포 그래프로 그려보기\n",
    "\n",
    "\n",
    "# 확률 구하기\n",
    "print('#확률 구하기')\n",
    "#(b) P(X=3)절대값이 3 이하가 되는 확률\n",
    "print(f'#(b) P(X=3)     : { F(3) - F(2) } ')\n",
    "\n",
    "#(c) P(2<=X<=4)\n",
    "print(f'#(c) P(2<=X<=4) : { F(4) - F(2) + probs[2] } ')\n",
    "\n",
    "#(d) P(X>=4) = 1 - P(X<=3)\n",
    "print(f'#(d) P(X>=4)    : { 1-F(3) } ')"
   ]
  },
  {
   "cell_type": "markdown",
   "id": "62aca7ae",
   "metadata": {},
   "source": [
    "-------"
   ]
  },
  {
   "cell_type": "markdown",
   "id": "03e16d70",
   "metadata": {},
   "source": [
    "## <a name=\"6.2연속확률변수\">6.2 연속확률변수</a>\n"
   ]
  },
  {
   "cell_type": "markdown",
   "id": "c42a8958",
   "metadata": {},
   "source": [
    "### 연속확률변수 (Continuous Random Variable)"
   ]
  },
  {
   "cell_type": "markdown",
   "id": "8253459d",
   "metadata": {},
   "source": [
    "### 성인 남성의 키 데이터\n",
    "- 데이터출처: https://sizekorea.kr/\n",
    "- 최근 데이터 참고: https://kosis.kr/statHtml/statHtml.do?orgId=350&tblId=DT_35007_N130"
   ]
  },
  {
   "cell_type": "code",
   "execution_count": null,
   "id": "372a0a12",
   "metadata": {
    "scrolled": true
   },
   "outputs": [],
   "source": [
    "import pandas as pd\n",
    "\n",
    "# 자신의 PC에서 '키데이터.csv'파일 위치에 맞게 지정\n",
    "df = pd.read_csv('data/키데이터.csv', encoding='utf-8')\n",
    "df\n",
    "\n",
    "#20대 이상 남성 데이터 가져오기\n",
    "# df_man = df.query(\"성별=='남' and 나이>=20 and 나이<30\")\n",
    "df_man = df.query(\"성별=='남' and 나이>=20\")\n",
    "df_man['키'] = df_man['키']//10\n",
    "df_man"
   ]
  },
  {
   "cell_type": "code",
   "execution_count": null,
   "id": "e6b958fa",
   "metadata": {},
   "outputs": [],
   "source": [
    "df_man.describe()  # 해당 데이터의 기술통계량\n",
    "# df_man.mean()\n",
    "# df_man.median()\n",
    "# df_man.mode()"
   ]
  },
  {
   "cell_type": "markdown",
   "id": "cc0fbc0c",
   "metadata": {},
   "source": [
    "#### 히스토그램 구간: '키' 로 지정"
   ]
  },
  {
   "cell_type": "code",
   "execution_count": null,
   "id": "7b48774e",
   "metadata": {
    "scrolled": true
   },
   "outputs": [],
   "source": [
    "import matplotlib.pyplot as plt\n",
    "plt.rcParams['font.family'] = 'Malgun Gothic' #폰트: 맑은 고딕으로 설정 \n",
    "plt.rcParams['axes.unicode_minus'] = False    #그래프축 값 마이너스 표시\n",
    "\n",
    "# 히스토그램 구간 만들기\n",
    "plt.hist(df_man['키'], bins=10)\n",
    "plt.title(\"히스토그램으로 나타낸 키 데이터 분포\")\n",
    "plt.xlabel(\"키구간\")\n",
    "plt.ylabel(\"도수\")\n",
    "plt.show()"
   ]
  },
  {
   "cell_type": "code",
   "execution_count": null,
   "id": "d15b6fcb",
   "metadata": {},
   "outputs": [],
   "source": [
    "# seaborn 라이브러리로 히스토그램 그리기\n",
    "# KDE: kernel density estimate\n",
    "import seaborn as sns \n",
    "sns.histplot(df_man['키'], kde=True, bins=10)"
   ]
  },
  {
   "cell_type": "markdown",
   "id": "91a6986f",
   "metadata": {},
   "source": [
    "### 그래프 여러 개 하나로 나타내기"
   ]
  },
  {
   "cell_type": "code",
   "execution_count": null,
   "id": "7bd73109",
   "metadata": {},
   "outputs": [],
   "source": [
    "w = 10\n",
    "h = 6\n",
    "fig = plt.figure(figsize=(w, h))\n",
    "ax1 = fig.add_subplot(2, 2, 1)\n",
    "ax2 = fig.add_subplot(2, 2, 2)\n",
    "ax3 = fig.add_subplot(2, 2, 3)\n",
    "ax4 = fig.add_subplot(2, 2, 4)\n",
    "\n",
    "ax1.hist(df_man['키'], bins=10, edgecolor='w') \n",
    "ax2.hist(df_man['키'], bins=20, edgecolor='w')\n",
    "ax3.hist(df_man['키'], bins=30, edgecolor='w') \n",
    "ax4.hist(df_man['키'], bins=40, edgecolor='w')\n",
    "plt.show()"
   ]
  },
  {
   "cell_type": "markdown",
   "id": "49f22577",
   "metadata": {},
   "source": [
    "### 확률밀도함수(Probability Density Function)\n",
    "- 연속확률변수 X가 특정한 구강네 포함될 확률을 나타내 주는 함수\n",
    "- $\\int_{-\\infty}^{\\infty} f(x)dx = 1 $"
   ]
  },
  {
   "cell_type": "markdown",
   "id": "a6eb712b",
   "metadata": {},
   "source": [
    "#### 그래프에 수평선/수직선 그리기\n",
    "- Axes.hlines(self, y, xmin, xmax, colors=None, linestyles='solid', label='', *, data=None, **kwargs)\n",
    "- Axes.vlines(self, x, ymin, ymax, colors=None, linestyles='solid', label='', *, data=None, **kwargs)\n",
    "- Axes.fill_between(self, x, y1, y2=0, where=None, interpolate=False, step=None, **kwargs)"
   ]
  },
  {
   "cell_type": "markdown",
   "id": "fbf53957",
   "metadata": {},
   "source": [
    "### [실습] 예제 6-7: 연속확률변수의 확률밀도함수 구하기\n",
    "- $f(x) = kx: 0\\leq x \\leq 4$, $0:  otherwise$"
   ]
  },
  {
   "cell_type": "code",
   "execution_count": 1,
   "id": "41cb9b7c",
   "metadata": {
    "scrolled": true
   },
   "outputs": [
    {
     "data": {
      "image/png": "[encoded data removed]",
      "text/plain": [
       "<Figure size 1000x500 with 1 Axes>"
      ]
     },
     "metadata": {},
     "output_type": "display_data"
    },
    {
     "name": "stdout",
     "output_type": "stream",
     "text": [
      "면적--> P(2<X<=3) : (0.3125, 3.469446951953614e-15) \n"
     ]
    }
   ],
   "source": [
    "import numpy as np\n",
    "import matplotlib.pyplot as plt\n",
    "\n",
    "plt.figure(figsize=(10,5))\n",
    "\n",
    "\n",
    "# 1.연속확률변수X\n",
    "X_range = np.array([0, 4]) # 실수로 나타내기 위해서\n",
    "\n",
    "\n",
    "# 2.확률밀도함수(fx)\n",
    "def f(x):\n",
    "    if X_range[0] <= x <= X_range[1]:\n",
    "        return (1/8*x)\n",
    "    else:\n",
    "        return 0\n",
    "\n",
    "    \n",
    "# 3.그래프로 구간 나타내기  \n",
    "X = np.linspace(X_range[0], X_range[1], 100) #0~4를 100개의 구간으로 나누기\n",
    "Y = [f(x) for x in X]\n",
    "# print(f'X : {X}')\n",
    "# print(f'Y : {Y}')\n",
    "\n",
    "\n",
    "plt.plot(X, Y, label='f(x)')\n",
    "plt.hlines(0, -0.1, 4.2, alpha=0.3)\n",
    "plt.vlines(0, -0.1, 0.6, alpha=0.3)\n",
    "plt.vlines(X.max(), 0, 0.6, linestyles=':', color='gray')\n",
    "# 구간 색칠하기\n",
    "plt.fill_between(X, Y, where=(X>2) & (X<=3), label='probs', color='orange')\n",
    "plt.legend()\n",
    "plt.title('$\\int_{0}^{4}x/8dx$ --> $P(2<X<=3)$')\n",
    "plt.show()\n",
    "\n",
    "\n",
    "# **확률(면적) 구하기**\n",
    "from scipy import integrate\n",
    "\n",
    "print(f'면적--> P(2<X<=3) : {integrate.quad(f, 2, 3)} ')\n",
    "#결과값: (0.3125, 3.469446951953614e-15)=(적분값, 추정오차)"
   ]
  },
  {
   "cell_type": "markdown",
   "id": "e7eb854f",
   "metadata": {},
   "source": [
    "### [실습] 확률밀도함수의 면적 구하기\n",
    "- $f(x) = k: 1\\leq x \\leq 10$, $0:  otherwise$"
   ]
  },
  {
   "cell_type": "code",
   "execution_count": null,
   "id": "d89333d0",
   "metadata": {},
   "outputs": [],
   "source": [
    "from scipy import integrate\n",
    "\n",
    "print(f'면적--> P(2<X<=3) : {integrate.quad(f, 2, 3)} ')"
   ]
  },
  {
   "cell_type": "markdown",
   "id": "25e903c7",
   "metadata": {},
   "source": [
    "#### 누적분포함수"
   ]
  },
  {
   "cell_type": "code",
   "execution_count": 3,
   "id": "36b1a447",
   "metadata": {},
   "outputs": [
    {
     "data": {
      "text/plain": [
       "0.3124999999999945"
      ]
     },
     "execution_count": 3,
     "metadata": {},
     "output_type": "execute_result"
    }
   ],
   "source": [
    "# 면적--> P(2<X<=3)\n",
    "def F(x):\n",
    "    return integrate.quad(f, -np.inf, x)[0]    #(-np.inf, np.inp: 무한대)\n",
    "\n",
    "F(3) - F(2)"
   ]
  },
  {
   "cell_type": "markdown",
   "id": "d52fa3f0",
   "metadata": {},
   "source": [
    "#### 누적분포함수 그리기"
   ]
  },
  {
   "cell_type": "code",
   "execution_count": 4,
   "id": "6ca7522a",
   "metadata": {
    "scrolled": true
   },
   "outputs": [
    {
     "data": {
      "image/png": "[encoded data removed]",
      "text/plain": [
       "<Figure size 1000x500 with 1 Axes>"
      ]
     },
     "metadata": {},
     "output_type": "display_data"
    }
   ],
   "source": [
    "X = np.linspace(X_range[0], X_range[1], 100) #0~4를 100개의 구간으로 나누기\n",
    "Y = [F(x) for x in X]\n",
    "\n",
    "plt.figure(figsize=(10,5))\n",
    "plt.plot(X, Y, label='F(x)')\n",
    "plt.hlines(0, -0.1, 4, alpha=0.3)\n",
    "plt.vlines(0, -0.1, 1.1, alpha=0.3)\n",
    "plt.vlines(X.max(), 0, 1, linestyles=':',color='gray')\n",
    "\n",
    "plt.xticks(np.arange(-0.1, 5, 1))\n",
    "plt.xlim(-0.2, 5)\n",
    "plt.ylim(-0.2, 1.1)\n",
    "plt.legend()\n",
    "\n",
    "plt.show()\n"
   ]
  },
  {
   "cell_type": "markdown",
   "id": "77dd2a1a",
   "metadata": {},
   "source": [
    "### [실습] 예제 6-8 : (구간 색칠하기 오류발생함)"
   ]
  },
  {
   "cell_type": "code",
   "execution_count": 5,
   "id": "f7b2730c",
   "metadata": {},
   "outputs": [
    {
     "data": {
      "image/png": "[encoded data removed]",
      "text/plain": [
       "<Figure size 1000x500 with 1 Axes>"
      ]
     },
     "metadata": {},
     "output_type": "display_data"
    },
    {
     "name": "stdout",
     "output_type": "stream",
     "text": [
      "면적--> P(X>2)    : (0.018315638888710205, 9.175589109027242e-09) \n",
      "면적--> P(1<X<=2) : (0.1170196443478785, 1.2991790348846178e-15) \n"
     ]
    }
   ],
   "source": [
    "# F(x) = 1 -e^-2x 미분하기\n",
    "import numpy as np\n",
    "import matplotlib.pyplot as plt\n",
    "import sympy\n",
    "import math\n",
    "\n",
    "plt.figure(figsize=(10,5))\n",
    "\n",
    "\n",
    "# 1.연속확률변수X\n",
    "X_range = np.array([0, 4]) # 실수로 나타내기 위해서\n",
    "\n",
    "\n",
    "# 2.확률밀도함수(fx)\n",
    "def f(x):\n",
    "    return 2*sympy.exp(-2*x)\n",
    "    #return 2*math.exp(-2*x)\n",
    "    \n",
    "# 3.그래프로 구간 나타내기  \n",
    "X = np.linspace(X_range[0], X_range[1], 100) #0~4를 100개의 구간으로 나누기\n",
    "Y = [f(x) for x in X]\n",
    "# print(f'X : {X}')\n",
    "# print(f'Y : {Y}')\n",
    "\n",
    "plt.plot(X, Y, label='f(x)')\n",
    "plt.hlines(0, -0.1, 4.2, alpha=0.3)\n",
    "plt.vlines(0, -0.1, 0.6, alpha=0.3)\n",
    "plt.vlines(X.max(), 0, 0.6, linestyles=':', color='gray')\n",
    "# 구간 색칠하기 (구간 색칠하기 오류발생함)\n",
    "#plt.fill_between(X, Y, where=(X>1) & (X<=2), label='probs', color='orange')\n",
    "plt.legend()\n",
    "plt.show()\n",
    "\n",
    "\n",
    "# **확률(면적) 구하기**\n",
    "from scipy import integrate \n",
    "print(f'면적--> P(X>2)    : {integrate.quad(f, 2, np.inf)} ') \n",
    "print(f'면적--> P(1<X<=2) : {integrate.quad(f, 1, 2)} ')\n"
   ]
  },
  {
   "cell_type": "markdown",
   "id": "a98735b3",
   "metadata": {},
   "source": [
    "### [실습] 예제: 확률구하고 그래프로 나타내기 \n",
    " - 전체 초등학생의 수는 10만명\n",
    " - 평균 키는 140, 표준편차는 5\n",
    "일 때\n",
    " - 무작위로 한 명을 추출할 때, 145<=키<150일 확률은?\n",
    " - **참고 모듈**\n",
    "     - numpy.random.randint(n): 균일분포의 0~n-1사이의 정수 난수 1개 생성\n",
    "     - numpy.random.rand(m,n) : 0 ~ 1 사이의 균일분포(표준정규분포) 난수를 matrix array(m,n) 생성\n",
    "     - numpy.random.randn(m,n): 평균 0, 표준편차 1의 가우시안(표준정규분포) 난수를 matrix array(m,n) 생성 \n"
   ]
  },
  {
   "cell_type": "markdown",
   "id": "40b4311d",
   "metadata": {},
   "source": [
    " ##### 1. 평균 140, 표준편차 5인 결과로 10만명의 초등학생 키 데이터 만들기"
   ]
  },
  {
   "cell_type": "code",
   "execution_count": 11,
   "id": "152fc390",
   "metadata": {},
   "outputs": [
    {
     "data": {
      "text/plain": [
       "array([136.96208524, 148.14769861, 141.98932647, ..., 146.11101606,\n",
       "       144.85500358, 146.84030161])"
      ]
     },
     "execution_count": 11,
     "metadata": {},
     "output_type": "execute_result"
    }
   ],
   "source": [
    "S, MEAN, STD = 100000, 140, 5\n",
    "data =  MEAN + np.random.randn(S) * STD\n",
    "data"
   ]
  },
  {
   "cell_type": "code",
   "execution_count": 12,
   "id": "7d26a3d5",
   "metadata": {},
   "outputs": [
    {
     "data": {
      "text/plain": [
       "139.99990252225115"
      ]
     },
     "execution_count": 12,
     "metadata": {},
     "output_type": "execute_result"
    }
   ],
   "source": [
    "data.mean() # 평균"
   ]
  },
  {
   "cell_type": "code",
   "execution_count": 13,
   "id": "4e491785",
   "metadata": {},
   "outputs": [
    {
     "data": {
      "text/plain": [
       "4.997765049221735"
      ]
     },
     "execution_count": 13,
     "metadata": {},
     "output_type": "execute_result"
    }
   ],
   "source": [
    "data.std()  # 표준편차"
   ]
  },
  {
   "cell_type": "markdown",
   "id": "350cd960",
   "metadata": {},
   "source": [
    "##### 2. 145~150에 속할 확률 구하기"
   ]
  },
  {
   "cell_type": "code",
   "execution_count": 14,
   "id": "f28c7abe",
   "metadata": {},
   "outputs": [
    {
     "data": {
      "text/plain": [
       "0.13567"
      ]
     },
     "execution_count": 14,
     "metadata": {},
     "output_type": "execute_result"
    }
   ],
   "source": [
    "prob = len([ i for i in data if i >=145 and i<150]) / S\n",
    "prob"
   ]
  },
  {
   "cell_type": "markdown",
   "id": "495a87d7",
   "metadata": {},
   "source": [
    "##### 3. 그래프로 나타내기"
   ]
  },
  {
   "cell_type": "code",
   "execution_count": 15,
   "id": "024fd3ed",
   "metadata": {
    "scrolled": true
   },
   "outputs": [
    {
     "data": {
      "image/png": "[encoded data removed]",
      "text/plain": [
       "<Figure size 640x480 with 1 Axes>"
      ]
     },
     "metadata": {},
     "output_type": "display_data"
    }
   ],
   "source": [
    "# 히스토그램으로 나타내보기\n",
    "import matplotlib.pyplot as plt\n",
    "plt.hist(data,bins=100) # bins의 개수를 10~100개로 변경해 보기\n",
    "plt.show()"
   ]
  },
  {
   "cell_type": "markdown",
   "id": "48a34e5c",
   "metadata": {},
   "source": [
    "- 확률밀도함수(pdf) 그래프 그리기"
   ]
  },
  {
   "cell_type": "code",
   "execution_count": 17,
   "id": "9e6202e5",
   "metadata": {},
   "outputs": [
    {
     "data": {
      "image/png": "[encoded data removed]",
      "text/plain": [
       "<Figure size 640x480 with 1 Axes>"
      ]
     },
     "metadata": {},
     "output_type": "display_data"
    }
   ],
   "source": [
    "from scipy.stats import norm    # 정규분포관련\n",
    "\n",
    "data.sort()\n",
    "X = data\n",
    "Y = norm.pdf(X, MEAN, STD)   #표준정규분포(norm)형태 확률밀도함수(pdf)의 확률 \n",
    "\n",
    "plt.plot(X, Y)\n",
    "plt.hlines(0, min(X), max(X), alpha=0.3)\n",
    "plt.fill_between(X, Y, where=(X>=145) & (X<150), color='red', alpha=0.5)\n",
    "plt.show()"
   ]
  },
  {
   "cell_type": "markdown",
   "id": "778c6d10",
   "metadata": {},
   "source": [
    "-----"
   ]
  },
  {
   "cell_type": "markdown",
   "id": "51fce0c8",
   "metadata": {},
   "source": [
    "---------"
   ]
  },
  {
   "cell_type": "markdown",
   "id": "1f7b652e",
   "metadata": {},
   "source": [
    "## <a name=\"6.3확률변수의평균과분산\">6.3 확률변수의 평균과 분산</a>"
   ]
  },
  {
   "cell_type": "markdown",
   "id": "35975225",
   "metadata": {},
   "source": [
    "### 예제: 상품권과 복권 수, 평균 상금"
   ]
  },
  {
   "cell_type": "markdown",
   "id": "772d4ea8",
   "metadata": {},
   "source": [
    "1. 표로 나타내기"
   ]
  },
  {
   "cell_type": "code",
   "execution_count": 19,
   "id": "701c7b53",
   "metadata": {},
   "outputs": [
    {
     "data": {
      "text/html": [
       "<div>\n",
       "<style scoped>\n",
       "    .dataframe tbody tr th:only-of-type {\n",
       "        vertical-align: middle;\n",
       "    }\n",
       "\n",
       "    .dataframe tbody tr th {\n",
       "        vertical-align: top;\n",
       "    }\n",
       "\n",
       "    .dataframe thead th {\n",
       "        text-align: right;\n",
       "    }\n",
       "</style>\n",
       "<table border=\"1\" class=\"dataframe\">\n",
       "  <thead>\n",
       "    <tr style=\"text-align: right;\">\n",
       "      <th>복권</th>\n",
       "      <th>상품권</th>\n",
       "      <th>복권수</th>\n",
       "    </tr>\n",
       "  </thead>\n",
       "  <tbody>\n",
       "    <tr>\n",
       "      <th>0</th>\n",
       "      <td>100</td>\n",
       "      <td>2</td>\n",
       "    </tr>\n",
       "    <tr>\n",
       "      <th>1</th>\n",
       "      <td>50</td>\n",
       "      <td>8</td>\n",
       "    </tr>\n",
       "    <tr>\n",
       "      <th>2</th>\n",
       "      <td>10</td>\n",
       "      <td>10</td>\n",
       "    </tr>\n",
       "    <tr>\n",
       "      <th>3</th>\n",
       "      <td>0</td>\n",
       "      <td>30</td>\n",
       "    </tr>\n",
       "  </tbody>\n",
       "</table>\n",
       "</div>"
      ],
      "text/plain": [
       "복권  상품권  복권수\n",
       "0   100    2\n",
       "1    50    8\n",
       "2    10   10\n",
       "3     0   30"
      ]
     },
     "execution_count": 19,
     "metadata": {},
     "output_type": "execute_result"
    }
   ],
   "source": [
    "import pandas as pd\n",
    "\n",
    "data = {'상품권': [100,50,10,0],\n",
    "        '복권수': [2,8,10,30]}\n",
    "df = pd.DataFrame(data)\n",
    "df.columns.name='복권'\n",
    "df"
   ]
  },
  {
   "cell_type": "markdown",
   "id": "3668c2b9",
   "metadata": {},
   "source": [
    "2. 당첨 확률 표시하기 (상대도수)"
   ]
  },
  {
   "cell_type": "code",
   "execution_count": 20,
   "id": "f63423f9",
   "metadata": {},
   "outputs": [
    {
     "data": {
      "text/html": [
       "<div>\n",
       "<style scoped>\n",
       "    .dataframe tbody tr th:only-of-type {\n",
       "        vertical-align: middle;\n",
       "    }\n",
       "\n",
       "    .dataframe tbody tr th {\n",
       "        vertical-align: top;\n",
       "    }\n",
       "\n",
       "    .dataframe thead th {\n",
       "        text-align: right;\n",
       "    }\n",
       "</style>\n",
       "<table border=\"1\" class=\"dataframe\">\n",
       "  <thead>\n",
       "    <tr style=\"text-align: right;\">\n",
       "      <th>복권</th>\n",
       "      <th>상품권</th>\n",
       "      <th>복권수</th>\n",
       "      <th>당첨확률</th>\n",
       "    </tr>\n",
       "  </thead>\n",
       "  <tbody>\n",
       "    <tr>\n",
       "      <th>0</th>\n",
       "      <td>100</td>\n",
       "      <td>2</td>\n",
       "      <td>0.04</td>\n",
       "    </tr>\n",
       "    <tr>\n",
       "      <th>1</th>\n",
       "      <td>50</td>\n",
       "      <td>8</td>\n",
       "      <td>0.16</td>\n",
       "    </tr>\n",
       "    <tr>\n",
       "      <th>2</th>\n",
       "      <td>10</td>\n",
       "      <td>10</td>\n",
       "      <td>0.20</td>\n",
       "    </tr>\n",
       "    <tr>\n",
       "      <th>3</th>\n",
       "      <td>0</td>\n",
       "      <td>30</td>\n",
       "      <td>0.60</td>\n",
       "    </tr>\n",
       "  </tbody>\n",
       "</table>\n",
       "</div>"
      ],
      "text/plain": [
       "복권  상품권  복권수  당첨확률\n",
       "0   100    2  0.04\n",
       "1    50    8  0.16\n",
       "2    10   10  0.20\n",
       "3     0   30  0.60"
      ]
     },
     "execution_count": 20,
     "metadata": {},
     "output_type": "execute_result"
    }
   ],
   "source": [
    "total = df['복권수'].sum()\n",
    "df['당첨확률'] = [ cnt/total for cnt in df['복권수'] ]\n",
    "df               "
   ]
  },
  {
   "cell_type": "markdown",
   "id": "4ce77b39",
   "metadata": {},
   "source": [
    "3. 평균 상금"
   ]
  },
  {
   "cell_type": "code",
   "execution_count": 21,
   "id": "15b43451",
   "metadata": {},
   "outputs": [
    {
     "data": {
      "text/plain": [
       "14.0"
      ]
     },
     "execution_count": 21,
     "metadata": {},
     "output_type": "execute_result"
    }
   ],
   "source": [
    "sum([ val*df['당첨확률'][idx] for idx, val in enumerate(df['상품권']) ])"
   ]
  },
  {
   "cell_type": "code",
   "execution_count": 22,
   "id": "79741bda",
   "metadata": {},
   "outputs": [
    {
     "data": {
      "text/plain": [
       "14.0"
      ]
     },
     "execution_count": 22,
     "metadata": {},
     "output_type": "execute_result"
    }
   ],
   "source": [
    "sum(df.상품권 * df.당첨확률)"
   ]
  },
  {
   "cell_type": "markdown",
   "id": "cecc1264",
   "metadata": {},
   "source": [
    "### 기대값: 확률변수의 평균\n",
    "- 확률변수를 몇 번이나(무제한) 시행하여 얻어진 실현값의 평균\n",
    "- 무제한 시행할 수 없으므로 확률변수가 취할 수 있는 값과 확률의 곱의 총합"
   ]
  },
  {
   "cell_type": "markdown",
   "id": "489aaaf5",
   "metadata": {},
   "source": [
    "### [실습] 예제:6-9 (이산확률변수의 평균= 기대값(Ex) )\n",
    "- **이산확률변수의 기댓값은 표본공간의 원소 $x_i$의 가중평균**"
   ]
  },
  {
   "cell_type": "code",
   "execution_count": 53,
   "id": "dc936f22",
   "metadata": {},
   "outputs": [
    {
     "name": "stdout",
     "output_type": "stream",
     "text": [
      "#확률변수 X 상태공간: {0, 1, 2, 3, 4, 5}\n",
      "#확률변수 X 확률: [0.16666666666666666, 0.2777777777777778, 0.2222222222222222, 0.16666666666666666, 0.1111111111111111, 0.05555555555555555]\n",
      "#확률변수 X 기대값 E(X): 1.9444444444444446\n"
     ]
    }
   ],
   "source": [
    "'''\n",
    "주사위 2번 던져 두 눈의 차의 절대값을 확률변수 X라할 때\n",
    "'''\n",
    "import itertools\n",
    "D = list(range(1,7))\n",
    "\n",
    "\n",
    "#확률변수 X의 상태공간\n",
    "outcomes = list( itertools.product(D, repeat=2) ) # 주사위를 두번 던지는 시행\n",
    "x_set = { abs(x1-x2) for x1, x2 in outcomes } # 두 눈의 차의 절대값을 나타내는 확률변수의 상태공간\n",
    "X = list( set(x_set) )    # 프로그램에서 사용을 편하기 하기 위해 집합데이터를 리스트데이터로 변경함\n",
    "print(f'#확률변수 X 상태공간: {x_set}')\n",
    "\n",
    "\n",
    "#확률변수 X의 확률질량함수\n",
    "def f(x) :\n",
    "    freq = [(x1, x2) for x1, x2 in outcomes if abs(x1-x2)== x ]  \n",
    "    return  len(freq) / len(outcomes)\n",
    "\n",
    "#확률변수 X의 확률\n",
    "probs = [f(x) for x in x_set ]  \n",
    "print(f'#확률변수 X 확률: {probs}')\n",
    "\n",
    "\n",
    "#확률변수 X의 기대값 E(x)\n",
    "def E(X):\n",
    "    return np.sum([x * f(x) for x in X])\n",
    "\n",
    "print(f'#확률변수 X 기대값 E(X): {E(X)}')"
   ]
  },
  {
   "cell_type": "markdown",
   "id": "43255019",
   "metadata": {},
   "source": [
    "- **이산확률변수에 대해 DataFrame을 이용하여 기대값 E(x) 구하기**"
   ]
  },
  {
   "cell_type": "code",
   "execution_count": 54,
   "id": "9ce94152",
   "metadata": {
    "scrolled": false
   },
   "outputs": [
    {
     "data": {
      "text/html": [
       "<div>\n",
       "<style scoped>\n",
       "    .dataframe tbody tr th:only-of-type {\n",
       "        vertical-align: middle;\n",
       "    }\n",
       "\n",
       "    .dataframe tbody tr th {\n",
       "        vertical-align: top;\n",
       "    }\n",
       "\n",
       "    .dataframe thead th {\n",
       "        text-align: right;\n",
       "    }\n",
       "</style>\n",
       "<table border=\"1\" class=\"dataframe\">\n",
       "  <thead>\n",
       "    <tr style=\"text-align: right;\">\n",
       "      <th></th>\n",
       "      <th>확률변수</th>\n",
       "      <th>확률</th>\n",
       "    </tr>\n",
       "  </thead>\n",
       "  <tbody>\n",
       "    <tr>\n",
       "      <th>0</th>\n",
       "      <td>0</td>\n",
       "      <td>0.166667</td>\n",
       "    </tr>\n",
       "    <tr>\n",
       "      <th>1</th>\n",
       "      <td>1</td>\n",
       "      <td>0.277778</td>\n",
       "    </tr>\n",
       "    <tr>\n",
       "      <th>2</th>\n",
       "      <td>2</td>\n",
       "      <td>0.222222</td>\n",
       "    </tr>\n",
       "    <tr>\n",
       "      <th>3</th>\n",
       "      <td>3</td>\n",
       "      <td>0.166667</td>\n",
       "    </tr>\n",
       "    <tr>\n",
       "      <th>4</th>\n",
       "      <td>4</td>\n",
       "      <td>0.111111</td>\n",
       "    </tr>\n",
       "    <tr>\n",
       "      <th>5</th>\n",
       "      <td>5</td>\n",
       "      <td>0.055556</td>\n",
       "    </tr>\n",
       "  </tbody>\n",
       "</table>\n",
       "</div>"
      ],
      "text/plain": [
       "   확률변수        확률\n",
       "0     0  0.166667\n",
       "1     1  0.277778\n",
       "2     2  0.222222\n",
       "3     3  0.166667\n",
       "4     4  0.111111\n",
       "5     5  0.055556"
      ]
     },
     "execution_count": 54,
     "metadata": {},
     "output_type": "execute_result"
    }
   ],
   "source": [
    "# 표로 만들어 보기\n",
    "data = list(zip(X, probs))\n",
    "df = pd.DataFrame(data, columns=['확률변수','확률'])\n",
    "df"
   ]
  },
  {
   "cell_type": "code",
   "execution_count": 55,
   "id": "5d081733",
   "metadata": {},
   "outputs": [
    {
     "data": {
      "text/plain": [
       "1.9444444444444446"
      ]
     },
     "execution_count": 55,
     "metadata": {},
     "output_type": "execute_result"
    }
   ],
   "source": [
    "# 기대값 E(x)\n",
    "sum(df.확률변수 * df.확률)"
   ]
  },
  {
   "cell_type": "code",
   "execution_count": 57,
   "id": "f1bbd9f2",
   "metadata": {},
   "outputs": [
    {
     "data": {
      "text/plain": [
       "1.9444444444444446"
      ]
     },
     "execution_count": 57,
     "metadata": {},
     "output_type": "execute_result"
    }
   ],
   "source": [
    "#확률변수 X의 기대값 E(x)\n",
    "def E(X, g=lambda x:x**2):\n",
    "    return np.sum([x * f(x) for x in X])\n",
    "\n",
    "E(X, g=lambda x:x**2)"
   ]
  },
  {
   "cell_type": "markdown",
   "id": "b0d254d2",
   "metadata": {},
   "source": [
    "### 분산"
   ]
  },
  {
   "cell_type": "code",
   "execution_count": null,
   "id": "6dab225c",
   "metadata": {},
   "outputs": [],
   "source": [
    "mean = E(X)\n",
    "np.sum([(x - mean)**2 * f(x) for x in X])"
   ]
  },
  {
   "cell_type": "code",
   "execution_count": null,
   "id": "1e421fcf",
   "metadata": {},
   "outputs": [],
   "source": [
    "def V(X, g=lambda x:x):\n",
    "    mean = E(X, g)\n",
    "    return np.sum([(g(x) - mean)**2 * f(x) for x in X])\n",
    "\n",
    "V(X)"
   ]
  },
  {
   "cell_type": "code",
   "execution_count": null,
   "id": "f85b059b",
   "metadata": {
    "scrolled": true
   },
   "outputs": [],
   "source": [
    "V(X, g=lambda x:2*x+3)"
   ]
  },
  {
   "cell_type": "markdown",
   "id": "9f702a9f",
   "metadata": {},
   "source": [
    "### 표준편차"
   ]
  },
  {
   "cell_type": "code",
   "execution_count": null,
   "id": "976c72e3",
   "metadata": {},
   "outputs": [],
   "source": [
    "V(X)**(1/2)"
   ]
  },
  {
   "cell_type": "markdown",
   "id": "335bdd16",
   "metadata": {},
   "source": [
    "-------"
   ]
  },
  {
   "cell_type": "markdown",
   "id": "5f0e5375",
   "metadata": {},
   "source": [
    "끝"
   ]
  },
  {
   "cell_type": "code",
   "execution_count": null,
   "id": "a05f5a73",
   "metadata": {},
   "outputs": [],
   "source": []
  }
 ],
 "metadata": {
  "kernelspec": {
   "display_name": "Python 3 (ipykernel)",
   "language": "python",
   "name": "python3"
  },
  "language_info": {
   "codemirror_mode": {
    "name": "ipython",
    "version": 3
   },
   "file_extension": ".py",
   "mimetype": "text/x-python",
   "name": "python",
   "nbconvert_exporter": "python",
   "pygments_lexer": "ipython3",
   "version": "3.10.9"
  }
 },
 "nbformat": 4,
 "nbformat_minor": 5
}
