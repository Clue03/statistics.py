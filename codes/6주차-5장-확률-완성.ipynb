{
 "cells": [
  {
   "cell_type": "markdown",
   "metadata": {},
   "source": [
    "# Chapter 05 확률\n",
    "\n",
    "- <a href=\"#5.1시행과사건\">5.1 시행과사건</a>\n",
    "- <a href=\"#5.2확률\">5.2 확률</a>\n",
    "- <a href=\"#5.3조건부 확률\">5.3 조건부 확률</a>\n",
    "- <a href=\"#5.4베이즈정리\">5.4 베이즈정리</a>"
   ]
  },
  {
   "cell_type": "markdown",
   "metadata": {},
   "source": [
    "## <a name=\"5.1시행과사건\">5-1 시행과 사건</a>"
   ]
  },
  {
   "cell_type": "markdown",
   "metadata": {},
   "source": [
    "### 시행 (trial)"
   ]
  },
  {
   "cell_type": "markdown",
   "metadata": {},
   "source": [
    "동일한 조건 아래서 반복할 수 있으며, 그 결과가 우연에 의해 달라질 수 있는 실험 또는 관찰"
   ]
  },
  {
   "cell_type": "markdown",
   "metadata": {},
   "source": [
    "### [실습] 예제 5-1: 주사위를 두 번 반복하여 던지는 시행\n",
    "주사위를 두 번 반복하여 던지는 시행에서 나타날 수 있는 모든 경우 나타내기"
   ]
  },
  {
   "cell_type": "code",
   "execution_count": 35,
   "metadata": {
    "scrolled": false
   },
   "outputs": [
    {
     "name": "stdout",
     "output_type": "stream",
     "text": [
      "--------------------------------------------------\n",
      "(1,1) (1,2) (1,3) (1,4) (1,5) (1,6) \n",
      "(2,1) (2,2) (2,3) (2,4) (2,5) (2,6) \n",
      "(3,1) (3,2) (3,3) (3,4) (3,5) (3,6) \n",
      "(4,1) (4,2) (4,3) (4,4) (4,5) (4,6) \n",
      "(5,1) (5,2) (5,3) (5,4) (5,5) (5,6) \n",
      "(6,1) (6,2) (6,3) (6,4) (6,5) (6,6) \n"
     ]
    }
   ],
   "source": [
    "# 주사위에서 나올 수 있는 경우의 수\n",
    "# 방법1\n",
    "D = list(range(1,7))  # [1,2,3,4,5,6]\n",
    "print('-'*50)\n",
    "for i in D :\n",
    "    for j in D:   \n",
    "        print(f'({i},{j})', end=' ')\n",
    "    print()"
   ]
  },
  {
   "cell_type": "markdown",
   "metadata": {},
   "source": [
    "#### #파이썬 itertools 라이브러리\n",
    "https://docs.python.org/ko/3/library/itertools.html\n",
    "\n",
    "- 중복(O) + 순서(O) : product( )\n",
    "- 중복(O) + 순서(x) : combination_with_replacement()\n",
    "- 중복(x) + 순서(O) : permutations()\n",
    "- 중복(x) + 순서(x) : combinations()"
   ]
  },
  {
   "cell_type": "code",
   "execution_count": 36,
   "metadata": {
    "scrolled": true
   },
   "outputs": [
    {
     "name": "stdout",
     "output_type": "stream",
     "text": [
      "\n",
      "(1, 1) (1, 2) (1, 3) (1, 4) (1, 5) (1, 6) \n",
      "(2, 1) (2, 2) (2, 3) (2, 4) (2, 5) (2, 6) \n",
      "(3, 1) (3, 2) (3, 3) (3, 4) (3, 5) (3, 6) \n",
      "(4, 1) (4, 2) (4, 3) (4, 4) (4, 5) (4, 6) \n",
      "(5, 1) (5, 2) (5, 3) (5, 4) (5, 5) (5, 6) \n",
      "(6, 1) (6, 2) (6, 3) (6, 4) (6, 5) (6, 6) "
     ]
    }
   ],
   "source": [
    "# 방법2\n",
    "import itertools\n",
    "\n",
    "D = list(range(1,7))\n",
    "outcomes = list( itertools.product(D, repeat=2) ) \n",
    "\n",
    "for idx, d in enumerate(outcomes):\n",
    "    if idx%6==0: print()\n",
    "    print(d, end = ' ')"
   ]
  },
  {
   "cell_type": "markdown",
   "metadata": {},
   "source": [
    "### [실습] 예제 5-2: 복원추출, 비복원추출"
   ]
  },
  {
   "cell_type": "code",
   "execution_count": 44,
   "metadata": {},
   "outputs": [
    {
     "name": "stdout",
     "output_type": "stream",
     "text": [
      "복원추출 경우의 수 쌍 : [('w1', 'w1'), ('w1', 'w2'), ('w1', 'b1'), ('w1', 'b2')]\n",
      "두번째 바둑돌 경우의 수  : ['w1', 'w2', 'b1', 'b2']\n",
      "--------------------------------------------------\n",
      "비복원추출 경우의 수 쌍: [('w1', 'w2'), ('w1', 'b1'), ('w1', 'b2')]\n",
      "두번째 바둑돌 경우의 수  : ['w2', 'b1', 'b2']\n"
     ]
    }
   ],
   "source": [
    "import itertools\n",
    "\n",
    "S = ['w1','w2','b1','b2']\n",
    "\n",
    "outcomes = list(itertools.combinations_with_replacement(S, r=2) ) # 복원추출 시행\n",
    "results = [ (x1, x2) for  x1, x2 in outcomes if x1 == 'w1' ] # 경우의 수 순서쌍\n",
    "stones = [ x2 for x1, x2 in results ] # 두번째 바둑돌 경우의 수\n",
    "print(f'복원추출 경우의 수 쌍 : {results}')\n",
    "print(f'두번째 바둑돌 경우의 수  : {stones}')  \n",
    "\n",
    "print('-'*50)\n",
    "outcomes = list(itertools.combinations(S, r=2))  # 비복원추출\n",
    "results = [ (x1, x2) for  x1, x2 in outcomes if x1 == 'w1' ] # 경우의 수 순서쌍\n",
    "stones = [ x2 for x1, x2 in results ] # 두번째 바둑돌 경우의 수 \n",
    "print(f'비복원추출 경우의 수 쌍: {results}')\n",
    "print(f'두번째 바둑돌 경우의 수  : {stones}')  "
   ]
  },
  {
   "cell_type": "markdown",
   "metadata": {},
   "source": [
    "--------"
   ]
  },
  {
   "cell_type": "markdown",
   "metadata": {},
   "source": [
    "### 사건 (event)"
   ]
  },
  {
   "cell_type": "markdown",
   "metadata": {},
   "source": [
    "- **표본(sample)** : 풀고자 하는 확률적 문제에서 발생(Realize)할 수 있는 하나의 현상 또는 선택(Sampled)될 수 있는 하나의 경우\n",
    "- **표본공간(sample space)** : 어떤 시행 결과로 기록되거나 관찰될 수 있는 모든 결과들의 집합\n",
    "- **표본점(sample point)** : 시행에서 나타날 수 있는 개개의 결과, element\n",
    "- **사건**: 표본공간의 부분집합"
   ]
  },
  {
   "cell_type": "markdown",
   "metadata": {},
   "source": [
    "#### 동전 반복해서 두 번 던지는 모든 사건 "
   ]
  },
  {
   "cell_type": "code",
   "execution_count": 49,
   "metadata": {},
   "outputs": [
    {
     "name": "stdout",
     "output_type": "stream",
     "text": [
      "동전 2번 던지는 표본공간(S): {'TH', 'HT', 'TT', 'HH'}\n"
     ]
    }
   ],
   "source": [
    "from itertools import product, chain, combinations\n",
    "\n",
    "# 표본공간 \n",
    "def get_samplespace(t, r):    \n",
    "    S = list(product(t, repeat=r))  # itertools.product(a,a,a)\n",
    "    S = [''.join(s) for s in S]   #  ('H,'H')-->'HH'로 표현\n",
    "    return S\n",
    "\n",
    "    \n",
    "# 동전 던지기\n",
    "t = ['H', 'T'] # coin\n",
    "r = 2          # repeat\n",
    "S = get_samplespace(t, r)\n",
    "print(f'동전 {r}번 던지는 표본공간(S): {set(S)}')"
   ]
  },
  {
   "cell_type": "markdown",
   "metadata": {},
   "source": [
    "### [실습] 예제 5-3: 동전 세 번 던지는 사건\n",
    "- 표본공간(Ω, S) : 전체 사건 \n",
    "- 사건(A): 적어도 앞면이 2번 이상 나오는 사건 "
   ]
  },
  {
   "cell_type": "code",
   "execution_count": 73,
   "metadata": {},
   "outputs": [
    {
     "name": "stdout",
     "output_type": "stream",
     "text": [
      "동전 3번 던지는 표본공간(S): ['HHH', 'HHT', 'HTH', 'HTT', 'THH', 'THT', 'TTH', 'TTT']\n",
      "적어도 두번 앞면이 나오는 사건: ['HHH', 'HHT', 'HTH', 'THH']\n"
     ]
    }
   ],
   "source": [
    "import itertools\n",
    "\n",
    "# 표본공간 \n",
    "def get_samplespace(t, r):    \n",
    "    S = list(product(t, repeat=r))  # itertools.product(a,a,a)\n",
    "    S = [''.join(s) for s in S]   #  ('H,'H')-->'HH'로 표현\n",
    "    return S\n",
    "   \n",
    "    \n",
    "# 동전 던지기\n",
    "t = ['H', 'T'] # coin\n",
    "r = 3          # repeat\n",
    "S = get_samplespace(t, r)\n",
    "print(f'동전 {r}번 던지는 표본공간(S): {S}')\n",
    "\n",
    "#  적어도 두번 앞면이 나오는 사건\n",
    "samples = [ a.count('H') for a in S]\n",
    "A = [ S[idx] for idx, a in enumerate(samples) if a > 1 ]\n",
    "print(f'적어도 두번 앞면이 나오는 사건: {A}')"
   ]
  },
  {
   "cell_type": "markdown",
   "metadata": {},
   "source": [
    "### 사건의 연산\n",
    "- 집합의 성질을 이용하여 사건을 연산한다."
   ]
  },
  {
   "cell_type": "markdown",
   "metadata": {},
   "source": [
    "### [실습] 예제 5-4: 사건의 연산\n",
    "1. $A ∩ B$\n",
    "2. $A ∪ B$\n",
    "3. $𝐴^𝑐$  \n",
    "4. $B - C$\n",
    "5. 배반인 두 사건   "
   ]
  },
  {
   "cell_type": "code",
   "execution_count": 67,
   "metadata": {},
   "outputs": [
    {
     "name": "stdout",
     "output_type": "stream",
     "text": [
      "곱사건(A ∩ B): {4}\n",
      "합사건(A ∪ B): {1, 2, 3, 4, 5}\n",
      "여사건(𝐴𝑐): {5, 6}\n",
      "차사건(B-C): {4}\n",
      "배반인 두 사건(A ∩ C = ∅): set() \n"
     ]
    }
   ],
   "source": [
    "#주사위를 던지는 실험\n",
    "S = {1,2,3,4,5,6}  #표본공간=전체집합\n",
    "A = {1,2,3,4}\n",
    "B = {4,5}\n",
    "C = {5,6}\n",
    "\n",
    "#  A ∩ B: (곱사건 : 교집합)\n",
    "print(f'곱사건(A ∩ B): {A & B}')  #print(A.intersection(B)) \n",
    "\n",
    "# A ∪ B (합사건 : 합집합)\n",
    "print(f'합사건(A ∪ B): {A | B}') #print(A.union(B))\n",
    "\n",
    "# A^𝑐 (여사건 : 여집합)\n",
    "print(f'여사건(𝐴𝑐): {S - A}')    #print(S.difference(A))\n",
    "\n",
    "# B - C (차사건 : 차집합)\n",
    "print(f'차사건(B-C): {B - C}')  #print(B.difference(C))\n",
    "\n",
    "# A ∩ C = ∅ (배반인 두 사건 : 공집합)\n",
    "print(f'배반인 두 사건(A ∩ C = ∅): {A & C} ')"
   ]
  },
  {
   "cell_type": "markdown",
   "metadata": {},
   "source": [
    "### [실습] 분배법칙이 성립하는지 파이썬 코드로 증명\n",
    "다음 세 집합 A, B, C에 대해서 분배법칙이 성립하는지 파이썬 코드로 증명하기\n",
    "- $A∪(B∩C)$ \n",
    "- $A∩(B∪C)$"
   ]
  },
  {
   "cell_type": "code",
   "execution_count": 68,
   "metadata": {},
   "outputs": [
    {
     "name": "stdout",
     "output_type": "stream",
     "text": [
      "True\n",
      "True\n"
     ]
    }
   ],
   "source": [
    "A = {1,3,5}\n",
    "B = {1,2,3}\n",
    "C = {2,4,6}\n",
    "\n",
    "print( A|(B&C) == (A|B)&(A|C) )\n",
    "print( A&(B|C) == (A&B)|(A&C) )"
   ]
  },
  {
   "cell_type": "markdown",
   "metadata": {},
   "source": [
    "### [실습] 예제 5-5:  사건의 연산\n",
    "- a. $A ∩ B ∩ C$ \n",
    "- b. $(A∪B)∩ C$\n",
    "- c. $(A ∩ C)^𝑐$\n",
    "- d. $(A∪B)^𝑐$"
   ]
  },
  {
   "cell_type": "code",
   "execution_count": 69,
   "metadata": {},
   "outputs": [
    {
     "name": "stdout",
     "output_type": "stream",
     "text": [
      "a. A ∩ B ∩ C: {4}\n",
      "b. (A∪B)∩ C:  {3, 4}\n",
      "c. (A ∩ C)^𝑐: {1, 2, 5, 6}\n",
      "c. (A ∩ C)^𝑐: {1, 2, 5, 6}\n",
      "d. (A∪B)^𝑐: {2, 6}\n",
      "d. (A∪B)^𝑐: {2, 6}\n"
     ]
    }
   ],
   "source": [
    "#주사위를 던지는 실험\n",
    "S = {1,2,3,4,5,6}  #표본공간=전체집합\n",
    "A = {1,3,4}\n",
    "B = {4,5}\n",
    "C = {3,4,6}\n",
    "\n",
    "#(a). A ∩ B ∩ C\n",
    "print(f'a. A ∩ B ∩ C: {A & B & C}')\n",
    "\n",
    "#(b). (A∪B)∩ C\n",
    "print(f'b. (A∪B)∩ C:  {(A|B) & C}')\n",
    "\n",
    "#(c). (A ∩ C)^𝑐\n",
    "print(f'c. (A ∩ C)^𝑐: {S - (A&C)}')\n",
    "print(f'c. (A ∩ C)^𝑐: {(S-A) | (S-C)}')\n",
    "\n",
    "#(d). (A∪B)^𝑐\n",
    "print(f'd. (A∪B)^𝑐: {S - (A|B)}')\n",
    "print(f'd. (A∪B)^𝑐: {(S-A) & (S-B)}')"
   ]
  },
  {
   "cell_type": "markdown",
   "metadata": {},
   "source": [
    "--------"
   ]
  },
  {
   "cell_type": "markdown",
   "metadata": {},
   "source": [
    "## <a name=\"5.2확률\">5.2 확률</a>\n",
    "- **확률(Probability)이란 사건(부분집합)을 입력하면 숫자(확률값)가 출력되는 함수**이다.\n",
    "- 즉, 모든 각각의 사건(부분집합)에 어떤 숫자를 할당하는 함수가 확률이다."
   ]
  },
  {
   "cell_type": "markdown",
   "metadata": {},
   "source": [
    "### 수학적 확률\n",
    "일반적으로 1회의 시행에서 일어날 수 있는 경우의 수가 N 인 표본공간에서  각 근원사건이 발생할  가능성이 같을 경우, 사건 A 가 일어나는 경우의 수를 n 이라고 하면 A 의 확률은 다음과 같이 정의할 수 있다!<br>\n",
    "$P(A) = $ $n(A) \\over  n(S)$"
   ]
  },
  {
   "cell_type": "markdown",
   "metadata": {},
   "source": [
    "### [실습] 예제 5-6: 주사위 던지는 사건\n",
    "주사위를 반복해서 세 번 던져서 적어도 두번 앞면에 나오는 확률"
   ]
  },
  {
   "cell_type": "code",
   "execution_count": 75,
   "metadata": {},
   "outputs": [
    {
     "name": "stdout",
     "output_type": "stream",
     "text": [
      "동전 3번 던지는 표본공간(S): ['HHH', 'HHT', 'HTH', 'HTT', 'THH', 'THT', 'TTH', 'TTT']\n",
      "적어도 두번 앞면이 나오는 사건: ['HHH', 'HHT', 'HTH', 'THH']\n",
      "------------------------------\n",
      "적어도 두번 앞면이 나오는 확률 P(A)=n(A)/n(S) : 0.5\n"
     ]
    }
   ],
   "source": [
    "import itertools\n",
    "\n",
    "# 표본공간 \n",
    "def get_samplespace(t, r):    \n",
    "    S = list(product(t, repeat=r))  # itertools.product(a,a,a)\n",
    "    S = [''.join(s) for s in S]   #  ('H,'H')-->'HH'로 표현\n",
    "    return S\n",
    "   \n",
    "    \n",
    "# 동전 던지기\n",
    "t = ['H', 'T'] # coin\n",
    "r = 3          # repeat\n",
    "S = get_samplespace(t, r)\n",
    "print(f'동전 {r}번 던지는 표본공간(S): {S}')\n",
    "\n",
    "#  적어도 두번 앞면이 나오는 사건\n",
    "samples = [ a.count('H') for a in S]\n",
    "A = [ S[idx] for idx, a in enumerate(samples) if a > 1 ]\n",
    "print(f'적어도 두번 앞면이 나오는 사건: {A}')\n",
    "\n",
    "# 확률\n",
    "print('-'*30)\n",
    "print(f'적어도 두번 앞면이 나오는 확률 P(A)=n(A)/n(S) : {len(A)/len(S)}')"
   ]
  },
  {
   "cell_type": "markdown",
   "metadata": {},
   "source": [
    "### 통계적 확률"
   ]
  },
  {
   "cell_type": "markdown",
   "metadata": {},
   "source": [
    "#### 시행회수 증가에 따른 확률의 변화 \n",
    "동전 던지는 시행 횟수가 많아질수로 앞면에 나오는 확률은 0.5에 가까워진다."
   ]
  },
  {
   "cell_type": "code",
   "execution_count": 80,
   "metadata": {},
   "outputs": [
    {
     "data": {
      "text/html": [
       "<div>\n",
       "<style scoped>\n",
       "    .dataframe tbody tr th:only-of-type {\n",
       "        vertical-align: middle;\n",
       "    }\n",
       "\n",
       "    .dataframe tbody tr th {\n",
       "        vertical-align: top;\n",
       "    }\n",
       "\n",
       "    .dataframe thead th {\n",
       "        text-align: right;\n",
       "    }\n",
       "</style>\n",
       "<table border=\"1\" class=\"dataframe\">\n",
       "  <thead>\n",
       "    <tr style=\"text-align: right;\">\n",
       "      <th></th>\n",
       "      <th>50</th>\n",
       "      <th>100</th>\n",
       "      <th>500</th>\n",
       "      <th>1000</th>\n",
       "      <th>2000</th>\n",
       "      <th>2500</th>\n",
       "      <th>5000</th>\n",
       "      <th>10000</th>\n",
       "    </tr>\n",
       "  </thead>\n",
       "  <tbody>\n",
       "    <tr>\n",
       "      <th>앞면의수</th>\n",
       "      <td>18.00</td>\n",
       "      <td>54.00</td>\n",
       "      <td>245.00</td>\n",
       "      <td>491.000</td>\n",
       "      <td>998.000</td>\n",
       "      <td>1254.000</td>\n",
       "      <td>2504.000</td>\n",
       "      <td>5043.000</td>\n",
       "    </tr>\n",
       "    <tr>\n",
       "      <th>앞면의 상대도수</th>\n",
       "      <td>0.36</td>\n",
       "      <td>0.54</td>\n",
       "      <td>0.49</td>\n",
       "      <td>0.491</td>\n",
       "      <td>0.499</td>\n",
       "      <td>0.502</td>\n",
       "      <td>0.501</td>\n",
       "      <td>0.504</td>\n",
       "    </tr>\n",
       "  </tbody>\n",
       "</table>\n",
       "</div>"
      ],
      "text/plain": [
       "          50     100     500      1000     2000      2500      5000      10000\n",
       "앞면의수      18.00  54.00  245.00  491.000  998.000  1254.000  2504.000  5043.000\n",
       "앞면의 상대도수   0.36   0.54    0.49    0.491    0.499     0.502     0.501     0.504"
      ]
     },
     "execution_count": 80,
     "metadata": {},
     "output_type": "execute_result"
    }
   ],
   "source": [
    "import random\n",
    "import math\n",
    "\n",
    "ns = [50,100,500,1000,2000,2500,5000,10000] # 시행횟수\n",
    "rs = []   # 앞면의 수\n",
    "ps = []   # 앞면의 삼대도수(확률)\n",
    "\n",
    "for n in ns:\n",
    "    tmp= []\n",
    "    for i in range(n):\n",
    "        tmp.append( random.choice(['H','T']) ) # 동전의 앞, 뒤 임의 선택\n",
    "    r = tmp.count('H')  # 앞면의 수\n",
    "    rs.append(r)              # 앞면의 수를 rs 리스트에 추가\n",
    "    ps.append(round(r/n,3))  # P(앞면): 앞면이 나올 확률을 ps 리스트에 추가\n",
    "\n",
    "\n",
    "# pandas 테이블 형태로 보여주기    \n",
    "import pandas as pd\n",
    "dics = dict()\n",
    "for idx, n in enumerate(ns):\n",
    "    key = ns[idx]\n",
    "    values = [rs[idx], ps[idx]]\n",
    "    dics[key] = values\n",
    "\n",
    "df = pd.DataFrame(dics, columns=ns, index=['앞면의수','앞면의 상대도수'])\n",
    "df"
   ]
  },
  {
   "cell_type": "code",
   "execution_count": 79,
   "metadata": {
    "scrolled": true
   },
   "outputs": [
    {
     "data": {
      "image/png": "[encoded data removed]",
      "text/plain": [
       "<Figure size 640x480 with 1 Axes>"
      ]
     },
     "metadata": {},
     "output_type": "display_data"
    }
   ],
   "source": [
    "import matplotlib.pyplot as plt\n",
    "    \n",
    "x = ns  # 시행횟수\n",
    "y = ps  # 확률\n",
    "\n",
    "plt.plot(x, y, 'o', linestyle='solid' )\n",
    "plt.axhline(0.5, c='r', ls='--')           # 모평균\n",
    "plt.grid()\n",
    "plt.show()"
   ]
  },
  {
   "cell_type": "markdown",
   "metadata": {},
   "source": [
    "### 확률의 성질"
   ]
  },
  {
   "cell_type": "markdown",
   "metadata": {},
   "source": [
    "### [실습] 예제 5-8:  배반사건 확률구하기\n",
    "남자 10명과 여자 5명으로 구성된 모임에서 회장과 총무를 임의로 뽑고자 한다. 이때 회장과 총무가 모두 남자이거나 여자일 확률은? <br>\n",
    "$P(A U B) = P(A) + P(B)$"
   ]
  },
  {
   "cell_type": "code",
   "execution_count": 110,
   "metadata": {},
   "outputs": [
    {
     "name": "stdout",
     "output_type": "stream",
     "text": [
      "전체 집합 수 n(S): 105\n",
      "사건 A(회장,총무 모두 남자)의 확률: 0.42857142857142855\n",
      "사건 B(회장,총무 모두 여자)의 확률: 0.09523809523809523\n",
      "P(A U B) = P(A) + P(B): 0.5238095238095237\n"
     ]
    }
   ],
   "source": [
    "import itertools\n",
    "\n",
    "# 전체 표본공간\n",
    "M = [f\"m{i}\" for i in range(1, 11)]  # 남자 10명\n",
    "W = [f\"w{i}\" for i in range(1, 6)]   # 여자 5명\n",
    "data = M + W\n",
    "\n",
    "\n",
    "# 전체에서 2명 선택\n",
    "r = 2     # 선택    \n",
    "S = list(itertools.combinations(data, r)) # 반복(x) 순서(X)\n",
    "print(f'전체 집합 수 n(S): {len(S)}')  \n",
    "# print(f'전체 집합 S: {S}')\n",
    "\n",
    "\n",
    "# 확률구하기\n",
    "A = [(x1, x2) for x1, x2 in S if (x1 in M and x2 in M) ] # 모두 남자인 사건\n",
    "B = [(x1, x2) for x1, x2 in S if (x1 in W and x2 in W) ] # 모두 여자인 사건\n",
    "print(f'사건 A(회장,총무 모두 남자)의 확률: {len(A)/len(S)}')\n",
    "print(f'사건 B(회장,총무 모두 여자)의 확률: {len(B)/len(S)}')\n",
    "print((f'P(A U B) = P(A) + P(B): {len(A)/len(S) + len(B)/len(S)}'))"
   ]
  },
  {
   "cell_type": "markdown",
   "metadata": {},
   "source": [
    "### [실습] 예제 5-9\n",
    "10개의 배터리 중에 불량품이 3개 들어있다. 이 중에서 동시에 4개를 꺼낼 때, 불량품이 적어도 하나 포함될 확률은"
   ]
  },
  {
   "cell_type": "code",
   "execution_count": 112,
   "metadata": {
    "scrolled": true
   },
   "outputs": [
    {
     "name": "stdout",
     "output_type": "stream",
     "text": [
      "전체 집합 수 n(S): 210\n",
      "Ac 확률: 0.16666666666666666\n",
      "A  확률: 0.8333333333333334\n"
     ]
    }
   ],
   "source": [
    "import itertools\n",
    "\n",
    "# 전체 표본공간\n",
    "normal = [f\"n{i}\" for i in range(1, 8)]  # 정상 7\n",
    "bad    = [f\"b{i}\" for i in range(1, 4)]  # 불량 3\n",
    "data = normal + bad\n",
    "   \n",
    "\n",
    "# 전체에서 4개를 선택하는 경우의 수\n",
    "r = 4     # 선택 \n",
    "S = list(itertools.combinations(data, r))  # 반복(x) 순서(X)\n",
    "print(f'전체 집합 수 n(S): {len(S)}') \n",
    "# print(f'전체 집합 S: {S}')\n",
    "\n",
    "\n",
    "# 정상 배터리만 꺼내는 경우의 수\n",
    "Ac = list(itertools.combinations(normal, r))  \n",
    "\n",
    "# 확률 구하기\n",
    "print(f'Ac 확률: {len(Ac)/len(S)}')\n",
    "print(f'A  확률: {1 - len(Ac)/len(S)}')\n",
    "    "
   ]
  },
  {
   "cell_type": "markdown",
   "metadata": {},
   "source": [
    "### [실습] 예제 5-10\n",
    "어느 학생이 통계학과 영어에서 A학점을 받을 확률이 각각 70%와 65%이고 통계학과 또는 영어에서 A학점을 받을 확률이 86%일 때 다음을 구하라.<br>\n",
    "- 두 과목 모두 A를 받을 확률\n",
    "- 통계학에서만 A를 받을 확률"
   ]
  },
  {
   "cell_type": "code",
   "execution_count": 126,
   "metadata": {},
   "outputs": [
    {
     "name": "stdout",
     "output_type": "stream",
     "text": [
      "P(A∩B) = P(A) + P(B) - P(A∪B ): 0.4900000000000001\n",
      "P(A - B)= P(A) - P(A∩B):  0.20999999999999985\n"
     ]
    }
   ],
   "source": [
    "P_A = 70/100\n",
    "P_B = 65/100\n",
    "P_AB =  86/100            # P(A∪B)\n",
    "P_AB_ = P_A + P_B - P_AB  # P(A∩B )\n",
    "print(f\"P(A∩B) = P(A) + P(B) - P(A∪B ): {P_AB_}\") \n",
    "print(f\"P(A - B)= P(A) - P(A∩B):  {P_A - P_AB_}\") "
   ]
  },
  {
   "cell_type": "markdown",
   "metadata": {},
   "source": [
    "### [실습] 확률구하기\n",
    "주사위 2개를 던져서 나오는 눈의 수를 순서쌍(x1, x2)로 나타낼 때 임의의 두 사건 A와 B가 다음을 만족한다. 주어진 확률을 구하라.<br>\n",
    "$A = \\{ (x_{1},x_{2}) | x_{1}+x_{2}=10 \\} $, $B = \\{ (x_{1},x_{2}) | x_{1}>x_{2} \\}$"
   ]
  },
  {
   "cell_type": "code",
   "execution_count": 130,
   "metadata": {},
   "outputs": [
    {
     "name": "stdout",
     "output_type": "stream",
     "text": [
      "P(A): 0.08333333333333333\n",
      "P(B): 0.4166666666666667\n",
      "P(A∩B): 0.027777777777777776\n",
      "P(A∪B): 0.4722222222222222\n",
      "P(Ac): 0.9166666666666666\n"
     ]
    }
   ],
   "source": [
    "import itertools\n",
    "\n",
    "D = list(range(1,7))\n",
    "S = list( itertools.product(D, repeat=2) ) \n",
    "\n",
    "A = [(x1, x2) for x1, x2 in S if x1 + x2 == 10]\n",
    "B = [(x1, x2) for x1, x2 in S if x1 > x2 ]\n",
    "AB_=[(x1, x2) for x1, x2 in S if (x1 + x2 == 10) and (x1 > x2) ] #  A∩B\n",
    "P_A = len(A)/len(S)     # P(A)\n",
    "P_B = len(B)/len(S)     # P(B)\n",
    "P_AB_= len(AB_)/len(S)  # P(A∩B)\n",
    "P_AB = P_A +P_B - P_AB_   # P(A) + P(B) - P(A∩B)\n",
    "print(f\"P(A): {P_A}\")\n",
    "print(f\"P(B): {P_B}\")\n",
    "print(f\"P(A∩B): {P_AB_}\")\n",
    "print(f\"P(A∪B): {P_AB}\")\n",
    "print(f\"P(Ac): {1 - P_A}\")"
   ]
  },
  {
   "cell_type": "code",
   "execution_count": 122,
   "metadata": {},
   "outputs": [
    {
     "data": {
      "text/plain": [
       "0.9166666666666666"
      ]
     },
     "execution_count": 122,
     "metadata": {},
     "output_type": "execute_result"
    }
   ],
   "source": [
    "11/12"
   ]
  },
  {
   "cell_type": "markdown",
   "metadata": {},
   "source": [
    "------------------------------------"
   ]
  },
  {
   "cell_type": "markdown",
   "metadata": {},
   "source": [
    "## <a name=\"5.3조건부 확률\">5.3 조건부 확률</a>"
   ]
  },
  {
   "cell_type": "markdown",
   "metadata": {},
   "source": [
    "### 조건부 확률\n",
    "$P(B|A) = $ $P(A∩B) \\over P(A) $, $P(A) > 0$"
   ]
  },
  {
   "cell_type": "markdown",
   "metadata": {},
   "source": [
    "### [실습] 5-11: 조건부 확률\n",
    "주사위를 두 번 던지는 게임에서 처음에 3의 배수가 나왔다는 조건 아래서 두번째도 3의 배수가 나올 확률 구하기"
   ]
  },
  {
   "cell_type": "code",
   "execution_count": 134,
   "metadata": {
    "scrolled": true
   },
   "outputs": [
    {
     "name": "stdout",
     "output_type": "stream",
     "text": [
      "A: [(3, 1), (3, 2), (3, 3), (3, 4), (3, 5), (3, 6), (6, 1), (6, 2), (6, 3), (6, 4), (6, 5), (6, 6)]\n",
      "B: [(1, 3), (1, 6), (2, 3), (2, 6), (3, 3), (3, 6), (4, 3), (4, 6), (5, 3), (5, 6), (6, 3), (6, 6)]\n",
      "A∩B: [(3, 3), (3, 6), (6, 3), (6, 6)]\n",
      "--------------------------------------------------\n",
      "P(A): 0.3333333333333333\n",
      "P(B): 0.3333333333333333\n",
      "P(A∩B): 0.1111111111111111\n",
      "P(B|A): 0.3333333333333333\n"
     ]
    }
   ],
   "source": [
    "import itertools\n",
    "\n",
    "D = list(range(1,7))\n",
    "S = list( itertools.product(D, repeat=2) ) \n",
    "A = [(x1,x2) for x1, x2 in S if x1%3==0 ] # A\n",
    "B = [(x1,x2) for x1, x2 in S if x2%3==0 ] # B\n",
    "AB_ = [(x1,x2) for x1, x2 in S if (x1%3==0) and (x2%3==0)] # A∩B\n",
    "\n",
    "P_A = len(A)/len(S)      # P(A)\n",
    "P_B = len(B)/len(S)      # P(B)\n",
    "P_AB_ = len(AB_)/len(S)  # P(A∩B)\n",
    "P_B_A = P_AB_/ P_A    # P(A∩B) / P(A) --> 조건부확률, A조건하에서 B가 나올 확률\n",
    "\n",
    "print(f\"A: {A}\")\n",
    "print(f\"B: {B}\")\n",
    "print(f\"A∩B: {AB_}\")\n",
    "print('-'*50)\n",
    "print(f\"P(A): {P_A}\")\n",
    "print(f\"P(B): {P_B}\")\n",
    "print(f\"P(A∩B): {P_AB_}\")\n",
    "print(f\"P(B|A): {P_B_A}\")"
   ]
  },
  {
   "cell_type": "markdown",
   "metadata": {},
   "source": [
    "### [실습] 조건부 확률 \n",
    "기상청에서 오늘 비가 올 확률은 60%, 내일 비가 올 확률은 50%, 오늘과 내일 이틀 동안 비가 올 확률은 40%라고 발표하였다. 오늘 비가 왔을 때 내일 비가 올 확률을 구하라."
   ]
  },
  {
   "cell_type": "code",
   "execution_count": 138,
   "metadata": {},
   "outputs": [
    {
     "data": {
      "text/plain": [
       "0.6666666666666667"
      ]
     },
     "execution_count": 138,
     "metadata": {},
     "output_type": "execute_result"
    }
   ],
   "source": [
    "P_A = 0.6\n",
    "P_B = 0.5\n",
    "P_AB_ = 0.4\n",
    "P_B_A = P_AB_ / P_A    # P(B|A)\n",
    "P_B_A"
   ]
  },
  {
   "cell_type": "markdown",
   "metadata": {},
   "source": [
    "### 곱의 법칙\n",
    "$P(A∩B) = $ $P(A) * P(B|A) $, $P(A)>0,P(B)>0$ <br>\n",
    "$P(A∩B) = $ $P(B) * P(A|B) $"
   ]
  },
  {
   "cell_type": "markdown",
   "metadata": {},
   "source": [
    "### [실습] 조건부 확률 - 곱셈 법칙\n",
    "주머니 안에 같은 크기의 흰 구슬 7개와 검은 구슬 3개가 들어 있다. 주머니 안에서 2개의 구슬을 1개씩 차례로 꺼낼 때, 처음에 흰 구슬이 나오고 나중에 검은 구슬이 나올 확률을 구하라. (단, 꺼낸 구슬은 다시 주머니에 넣지 않는다.)"
   ]
  },
  {
   "cell_type": "code",
   "execution_count": 139,
   "metadata": {},
   "outputs": [
    {
     "name": "stdout",
     "output_type": "stream",
     "text": [
      "처음에 흰 구슬이 나오고 나중에 검은 구슬이 나올 확률: 0.2333333333333333\n"
     ]
    }
   ],
   "source": [
    "# 필요한 변수 설정\n",
    "num_white = 7\n",
    "num_black = 3\n",
    "total_balls = num_white + num_black\n",
    "\n",
    "# 처음에 흰 구슬이 나오고 나중에 검은 구슬이 나올 확률 구하기\n",
    "prob_white_first_black_second = (num_white / total_balls) * (num_black / (total_balls - 1))\n",
    "\n",
    "print(\"처음에 흰 구슬이 나오고 나중에 검은 구슬이 나올 확률:\", prob_white_first_black_second)"
   ]
  },
  {
   "cell_type": "markdown",
   "metadata": {},
   "source": [
    "### 독립과 종속\n",
    "$P(B|A) = P(B), P(A|B) = P(A) $, (두 사건 A, B가 독립이면)"
   ]
  },
  {
   "cell_type": "markdown",
   "metadata": {},
   "source": [
    "### [실습] 조건부 확률 - 독립성\n",
    "환자에게 신약을 투약할 때, 부작용을 일으킬 확률이 0.15이고 환자들의 부작용 여부는 독립이다. 이 신약을 환자 3명에게 투약할 때, 다음 확률을 구하라.<br\n",
    "- 3명 모두 부작용을 일으킬 확률\n",
    "- 적어도 1명이 부작용을 일으킬 확률\n"
   ]
  },
  {
   "cell_type": "code",
   "execution_count": 140,
   "metadata": {},
   "outputs": [
    {
     "name": "stdout",
     "output_type": "stream",
     "text": [
      "3명 모두 부작용을 일으킬 확률: 0.0034\n",
      "적어도 한 명이 부작용을 일으킬 확률: 0.3859\n"
     ]
    }
   ],
   "source": [
    "'''이 문제는 이항분포를 따르는 문제이므로, \n",
    "파이썬의 SciPy 라이브러리의 이항분포 함수인 binom.pmf()를 사용하여 구할 수 있다.\n",
    "'''\n",
    "from scipy.stats import binom\n",
    "\n",
    "p = 0.15\n",
    "n = 3\n",
    "prob = binom.pmf(n, n, p)\n",
    "\n",
    "print(f\"3명 모두 부작용을 일으킬 확률: {prob:.4f}\")\n",
    "\n",
    "prob = binom.pmf(n, n, 1-p)  # 3명 모두 부작용을 일으키지 않을 확률\n",
    "print(f\"적어도 한 명이 부작용을 일으킬 확률: {1-prob:.4f}\")"
   ]
  },
  {
   "cell_type": "markdown",
   "metadata": {},
   "source": [
    "---------------------------------------"
   ]
  },
  {
   "cell_type": "markdown",
   "metadata": {},
   "source": [
    "## <a name=\"5.4베이즈정리\">5.4 베이즈정리</a>"
   ]
  },
  {
   "cell_type": "markdown",
   "metadata": {},
   "source": [
    "### 베이즈 정리\n",
    "- 일어난 일을 토대로 일어나지 않은 일에 대한 확률을 구할 때 사용\n",
    "- ① 표본공간의 분할 개념을 통해 전확률(total probability)과(사건이 서로 배반이고 모두의 합사건이 표본공간 전체일 때)\n",
    "- ② 임의의 사건 A에 대한 사건 B의 조건부 확률(conditional probability) P(B|A)로 부터 정의될 수 있다\n",
    "\n",
    "- **전확률(total probability)** \n",
    "$P(B) = $ $\\sum_{i=1}^n P(A_i)P(B|A_i)$\n",
    "- **베이즈 정리** <br>\n",
    "$P(A_i|B) = $ $P(A_i)P(B|A_i) \\over \\sum_{j=1}^n P(A_j)P(B|A_j) $"
   ]
  },
  {
   "cell_type": "code",
   "execution_count": null,
   "metadata": {},
   "outputs": [],
   "source": [
    "def bayes_theorem(A, B, P_A, P_B_given_A, P_B):\n",
    "    # P(A|B) = P(B|A) * P(A) / P(B)\n",
    "    P_A_given_B = P_B_given_A * P_A / P_B\n",
    "    return P_A_given_B\n",
    "\n",
    "P_A = 0.3\n",
    "P_B_given_A = 0.6\n",
    "P_B = 0.4\n",
    "P_A_given_B = bayes_theorem('A', 'B', P_A, P_B_given_A, P_B)\n",
    "print(P_A_given_B)"
   ]
  },
  {
   "cell_type": "markdown",
   "metadata": {},
   "source": [
    "----------------------------------"
   ]
  },
  {
   "cell_type": "code",
   "execution_count": null,
   "metadata": {},
   "outputs": [],
   "source": [
    "THE END"
   ]
  }
 ],
 "metadata": {
  "kernelspec": {
   "display_name": "Python 3 (ipykernel)",
   "language": "python",
   "name": "python3"
  },
  "language_info": {
   "codemirror_mode": {
    "name": "ipython",
    "version": 3
   },
   "file_extension": ".py",
   "mimetype": "text/x-python",
   "name": "python",
   "nbconvert_exporter": "python",
   "pygments_lexer": "ipython3",
   "version": "3.10.9"
  }
 },
 "nbformat": 4,
 "nbformat_minor": 4
}
