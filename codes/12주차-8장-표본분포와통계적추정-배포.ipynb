{
 "cells": [
  {
   "attachments": {},
   "cell_type": "markdown",
   "metadata": {},
   "source": [
    "# Chapter08 표본분포와 통계적 추정"
   ]
  },
  {
   "attachments": {},
   "cell_type": "markdown",
   "metadata": {},
   "source": [
    "- <a href=\"#8.1모집단과표본\">8.1 모집단과 표본</a>\n",
    "- <a href=\"#8.2모평균의추정\">8.2 모평균의 추정</a>\n",
    "- <a href=\"#8.3모비율의추정\">8.3 모비율의 추정</a>"
   ]
  },
  {
   "cell_type": "code",
   "execution_count": 2,
   "metadata": {},
   "outputs": [],
   "source": [
    "# 공통으로 사용하는 라이브러리 가져오기\n",
    "import numpy as np\n",
    "import scipy as sp\n",
    "import matplotlib.pyplot as plt\n",
    "\n",
    "plt.rcParams['figure.figsize'] = (4,3)\n",
    "plt.rcParams['font.family'] = 'Malgun Gothic'  # '맑은 고딕'으로 설정 \n",
    "plt.rcParams['axes.unicode_minus'] = False     # 그래프에서 (-)숫자표시"
   ]
  },
  {
   "attachments": {},
   "cell_type": "markdown",
   "metadata": {},
   "source": [
    "### Numpy 균등분포 & 정규분포"
   ]
  },
  {
   "cell_type": "code",
   "execution_count": 3,
   "metadata": {},
   "outputs": [
    {
     "data": {
      "image/png": "[encoded data removed]",
      "text/plain": [
       "<Figure size 400x300 with 1 Axes>"
      ]
     },
     "metadata": {},
     "output_type": "display_data"
    }
   ],
   "source": [
    "data = np.random.uniform(0,1,1000) # 균등분포(평균, 표준편차, 개수)\n",
    "plt.hist(data)\n",
    "plt.show()"
   ]
  },
  {
   "cell_type": "code",
   "execution_count": 4,
   "metadata": {
    "scrolled": true
   },
   "outputs": [
    {
     "data": {
      "image/png": "[encoded data removed]",
      "text/plain": [
       "<Figure size 400x300 with 1 Axes>"
      ]
     },
     "metadata": {},
     "output_type": "display_data"
    }
   ],
   "source": [
    "data = np.random.normal(0,1,1000) # 정규분포(평균, 표준편차, 개수)\n",
    "plt.hist(data)\n",
    "plt.show()"
   ]
  },
  {
   "attachments": {},
   "cell_type": "markdown",
   "metadata": {},
   "source": [
    "---------------------"
   ]
  },
  {
   "attachments": {},
   "cell_type": "markdown",
   "metadata": {},
   "source": [
    "## <a name=\"8.1모집단과표본\">8.1 모집단과 표본</a>"
   ]
  },
  {
   "attachments": {},
   "cell_type": "markdown",
   "metadata": {},
   "source": [
    "### 모집단 분포와 표본분포"
   ]
  },
  {
   "attachments": {},
   "cell_type": "markdown",
   "metadata": {},
   "source": [
    "### [실습] 예제 8-1: 모수 구하기 (모평균, 모분산, 모표준편차 )\n",
    "경부고속도로 서울 요금소~ 부산 구서 나들목에 있는 34개의 나들목 사이의 거리 측정 결과(소수점 셋째자리에서 반올림)"
   ]
  },
  {
   "cell_type": "code",
   "execution_count": 5,
   "metadata": {},
   "outputs": [
    {
     "name": "stdout",
     "output_type": "stream",
     "text": [
      "a. 모평균   : 12.21\n",
      "b. 모분산   : 37.35\n",
      "c. 모표준편차: 6.11\n"
     ]
    }
   ],
   "source": [
    "#방법1 : 수학식 사용\n",
    "data =[9.59, 4.62, 0.65, 7.75, 16.98, 11.78, 7.24, 10.15, 25.49, 11.44, 10.37,\n",
    "    9.33, 15.04, 12.16, 16.63, 12.06, 9.70, 12.46, 8.05, 19.91, 5.58, 12.48,\n",
    "    4.35, 16.41, 22.53, 17.56, 18.4, 10.86, 27.43, 7.39, 14.57, 11.92, 2.00]  \n",
    "\n",
    "mu = sum(data)/len(data)\n",
    "S2 = 1/len(data) * sum([(i-mu)**2 for i in data])\n",
    "S  = S2**(1/2) \n",
    "\n",
    "print(f'a. 모평균   : {round(mu, 2)}')\n",
    "print(f'b. 모분산   : {round(S2, 2)}')   # ddof=0 --> n, #ddof=1 --> (n-1)  'delta degrees of freedom'\n",
    "print(f'c. 모표준편차: {round(S, 2)}')   # ddof=0"
   ]
  },
  {
   "cell_type": "code",
   "execution_count": 6,
   "metadata": {},
   "outputs": [
    {
     "name": "stdout",
     "output_type": "stream",
     "text": [
      "a. 모평균   : 12.21\n",
      "b. 모분산   : 37.35\n",
      "c. 모표준편차: 6.11\n"
     ]
    }
   ],
   "source": [
    "#방법2 : numpy 사용\n",
    "import numpy as np\n",
    "\n",
    "data =[9.59, 4.62, 0.65, 7.75, 16.98, 11.78, 7.24, 10.15, 25.49, 11.44, 10.37,\n",
    "    9.33, 15.04, 12.16, 16.63, 12.06, 9.70, 12.46, 8.05, 19.91, 5.58, 12.48,\n",
    "    4.35, 16.41, 22.53, 17.56, 18.4, 10.86, 27.43, 7.39, 14.57, 11.92, 2.00]  \n",
    "\n",
    "data = np.array(data)\n",
    "\n",
    "print(f'a. 모평균   : {round(data.mean(), 2)}')\n",
    "print(f'b. 모분산   : {round(data.var(), 2)}')   # ddof=0 --> n, #ddof=1 --> (n-1)  'delta degrees of freedom'\n",
    "print(f'c. 모표준편차: {round(data.std(), 2)}')   # ddof=0"
   ]
  },
  {
   "cell_type": "code",
   "execution_count": 7,
   "metadata": {},
   "outputs": [
    {
     "name": "stdout",
     "output_type": "stream",
     "text": [
      "a. 모평균   : 12.21\n",
      "b. 모분산   : 37.35\n",
      "c. 모표준편차: 6.11\n"
     ]
    }
   ],
   "source": [
    "# 방법3 : pandas 사용\n",
    "import pandas as pd\n",
    "\n",
    "df = pd.Series(data)\n",
    "data = df.values\n",
    "\n",
    "print(f'a. 모평균   : {round(data.mean(), 2)}')\n",
    "print(f'b. 모분산   : {round(data.var(ddof=0), 2)}')\n",
    "print(f'c. 모표준편차: {round(data.std(ddof=0), 2)}')"
   ]
  },
  {
   "cell_type": "code",
   "execution_count": 8,
   "metadata": {},
   "outputs": [
    {
     "ename": "FileNotFoundError",
     "evalue": "[Errno 2] No such file or directory: 'data/distance.csv'",
     "output_type": "error",
     "traceback": [
      "\u001b[1;31m---------------------------------------------------------------------------\u001b[0m",
      "\u001b[1;31mFileNotFoundError\u001b[0m                         Traceback (most recent call last)",
      "Cell \u001b[1;32mIn[8], line 4\u001b[0m\n\u001b[0;32m      1\u001b[0m \u001b[39m# 방법4 : pandas 사용 - 파일 읽어서 처리\u001b[39;00m\n\u001b[0;32m      2\u001b[0m \u001b[39mimport\u001b[39;00m \u001b[39mpandas\u001b[39;00m \u001b[39mas\u001b[39;00m \u001b[39mpd\u001b[39;00m\n\u001b[1;32m----> 4\u001b[0m df \u001b[39m=\u001b[39m pd\u001b[39m.\u001b[39;49mread_csv(\u001b[39m\"\u001b[39;49m\u001b[39mdata/distance.csv\u001b[39;49m\u001b[39m\"\u001b[39;49m, header\u001b[39m=\u001b[39;49m\u001b[39mNone\u001b[39;49;00m)\n\u001b[0;32m      5\u001b[0m df\u001b[39m.\u001b[39mcolumns \u001b[39m=\u001b[39m [\u001b[39m'\u001b[39m\u001b[39m거리\u001b[39m\u001b[39m'\u001b[39m]\n\u001b[0;32m      6\u001b[0m data \u001b[39m=\u001b[39m  df\u001b[39m.\u001b[39m거리  \u001b[39m# df['거리'] \u001b[39;00m\n",
      "File \u001b[1;32mc:\\Python\\lib\\site-packages\\pandas\\io\\parsers\\readers.py:912\u001b[0m, in \u001b[0;36mread_csv\u001b[1;34m(filepath_or_buffer, sep, delimiter, header, names, index_col, usecols, dtype, engine, converters, true_values, false_values, skipinitialspace, skiprows, skipfooter, nrows, na_values, keep_default_na, na_filter, verbose, skip_blank_lines, parse_dates, infer_datetime_format, keep_date_col, date_parser, date_format, dayfirst, cache_dates, iterator, chunksize, compression, thousands, decimal, lineterminator, quotechar, quoting, doublequote, escapechar, comment, encoding, encoding_errors, dialect, on_bad_lines, delim_whitespace, low_memory, memory_map, float_precision, storage_options, dtype_backend)\u001b[0m\n\u001b[0;32m    899\u001b[0m kwds_defaults \u001b[39m=\u001b[39m _refine_defaults_read(\n\u001b[0;32m    900\u001b[0m     dialect,\n\u001b[0;32m    901\u001b[0m     delimiter,\n\u001b[1;32m   (...)\u001b[0m\n\u001b[0;32m    908\u001b[0m     dtype_backend\u001b[39m=\u001b[39mdtype_backend,\n\u001b[0;32m    909\u001b[0m )\n\u001b[0;32m    910\u001b[0m kwds\u001b[39m.\u001b[39mupdate(kwds_defaults)\n\u001b[1;32m--> 912\u001b[0m \u001b[39mreturn\u001b[39;00m _read(filepath_or_buffer, kwds)\n",
      "File \u001b[1;32mc:\\Python\\lib\\site-packages\\pandas\\io\\parsers\\readers.py:577\u001b[0m, in \u001b[0;36m_read\u001b[1;34m(filepath_or_buffer, kwds)\u001b[0m\n\u001b[0;32m    574\u001b[0m _validate_names(kwds\u001b[39m.\u001b[39mget(\u001b[39m\"\u001b[39m\u001b[39mnames\u001b[39m\u001b[39m\"\u001b[39m, \u001b[39mNone\u001b[39;00m))\n\u001b[0;32m    576\u001b[0m \u001b[39m# Create the parser.\u001b[39;00m\n\u001b[1;32m--> 577\u001b[0m parser \u001b[39m=\u001b[39m TextFileReader(filepath_or_buffer, \u001b[39m*\u001b[39m\u001b[39m*\u001b[39mkwds)\n\u001b[0;32m    579\u001b[0m \u001b[39mif\u001b[39;00m chunksize \u001b[39mor\u001b[39;00m iterator:\n\u001b[0;32m    580\u001b[0m     \u001b[39mreturn\u001b[39;00m parser\n",
      "File \u001b[1;32mc:\\Python\\lib\\site-packages\\pandas\\io\\parsers\\readers.py:1407\u001b[0m, in \u001b[0;36mTextFileReader.__init__\u001b[1;34m(self, f, engine, **kwds)\u001b[0m\n\u001b[0;32m   1404\u001b[0m     \u001b[39mself\u001b[39m\u001b[39m.\u001b[39moptions[\u001b[39m\"\u001b[39m\u001b[39mhas_index_names\u001b[39m\u001b[39m\"\u001b[39m] \u001b[39m=\u001b[39m kwds[\u001b[39m\"\u001b[39m\u001b[39mhas_index_names\u001b[39m\u001b[39m\"\u001b[39m]\n\u001b[0;32m   1406\u001b[0m \u001b[39mself\u001b[39m\u001b[39m.\u001b[39mhandles: IOHandles \u001b[39m|\u001b[39m \u001b[39mNone\u001b[39;00m \u001b[39m=\u001b[39m \u001b[39mNone\u001b[39;00m\n\u001b[1;32m-> 1407\u001b[0m \u001b[39mself\u001b[39m\u001b[39m.\u001b[39m_engine \u001b[39m=\u001b[39m \u001b[39mself\u001b[39;49m\u001b[39m.\u001b[39;49m_make_engine(f, \u001b[39mself\u001b[39;49m\u001b[39m.\u001b[39;49mengine)\n",
      "File \u001b[1;32mc:\\Python\\lib\\site-packages\\pandas\\io\\parsers\\readers.py:1661\u001b[0m, in \u001b[0;36mTextFileReader._make_engine\u001b[1;34m(self, f, engine)\u001b[0m\n\u001b[0;32m   1659\u001b[0m     \u001b[39mif\u001b[39;00m \u001b[39m\"\u001b[39m\u001b[39mb\u001b[39m\u001b[39m\"\u001b[39m \u001b[39mnot\u001b[39;00m \u001b[39min\u001b[39;00m mode:\n\u001b[0;32m   1660\u001b[0m         mode \u001b[39m+\u001b[39m\u001b[39m=\u001b[39m \u001b[39m\"\u001b[39m\u001b[39mb\u001b[39m\u001b[39m\"\u001b[39m\n\u001b[1;32m-> 1661\u001b[0m \u001b[39mself\u001b[39m\u001b[39m.\u001b[39mhandles \u001b[39m=\u001b[39m get_handle(\n\u001b[0;32m   1662\u001b[0m     f,\n\u001b[0;32m   1663\u001b[0m     mode,\n\u001b[0;32m   1664\u001b[0m     encoding\u001b[39m=\u001b[39;49m\u001b[39mself\u001b[39;49m\u001b[39m.\u001b[39;49moptions\u001b[39m.\u001b[39;49mget(\u001b[39m\"\u001b[39;49m\u001b[39mencoding\u001b[39;49m\u001b[39m\"\u001b[39;49m, \u001b[39mNone\u001b[39;49;00m),\n\u001b[0;32m   1665\u001b[0m     compression\u001b[39m=\u001b[39;49m\u001b[39mself\u001b[39;49m\u001b[39m.\u001b[39;49moptions\u001b[39m.\u001b[39;49mget(\u001b[39m\"\u001b[39;49m\u001b[39mcompression\u001b[39;49m\u001b[39m\"\u001b[39;49m, \u001b[39mNone\u001b[39;49;00m),\n\u001b[0;32m   1666\u001b[0m     memory_map\u001b[39m=\u001b[39;49m\u001b[39mself\u001b[39;49m\u001b[39m.\u001b[39;49moptions\u001b[39m.\u001b[39;49mget(\u001b[39m\"\u001b[39;49m\u001b[39mmemory_map\u001b[39;49m\u001b[39m\"\u001b[39;49m, \u001b[39mFalse\u001b[39;49;00m),\n\u001b[0;32m   1667\u001b[0m     is_text\u001b[39m=\u001b[39;49mis_text,\n\u001b[0;32m   1668\u001b[0m     errors\u001b[39m=\u001b[39;49m\u001b[39mself\u001b[39;49m\u001b[39m.\u001b[39;49moptions\u001b[39m.\u001b[39;49mget(\u001b[39m\"\u001b[39;49m\u001b[39mencoding_errors\u001b[39;49m\u001b[39m\"\u001b[39;49m, \u001b[39m\"\u001b[39;49m\u001b[39mstrict\u001b[39;49m\u001b[39m\"\u001b[39;49m),\n\u001b[0;32m   1669\u001b[0m     storage_options\u001b[39m=\u001b[39;49m\u001b[39mself\u001b[39;49m\u001b[39m.\u001b[39;49moptions\u001b[39m.\u001b[39;49mget(\u001b[39m\"\u001b[39;49m\u001b[39mstorage_options\u001b[39;49m\u001b[39m\"\u001b[39;49m, \u001b[39mNone\u001b[39;49;00m),\n\u001b[0;32m   1670\u001b[0m )\n\u001b[0;32m   1671\u001b[0m \u001b[39massert\u001b[39;00m \u001b[39mself\u001b[39m\u001b[39m.\u001b[39mhandles \u001b[39mis\u001b[39;00m \u001b[39mnot\u001b[39;00m \u001b[39mNone\u001b[39;00m\n\u001b[0;32m   1672\u001b[0m f \u001b[39m=\u001b[39m \u001b[39mself\u001b[39m\u001b[39m.\u001b[39mhandles\u001b[39m.\u001b[39mhandle\n",
      "File \u001b[1;32mc:\\Python\\lib\\site-packages\\pandas\\io\\common.py:859\u001b[0m, in \u001b[0;36mget_handle\u001b[1;34m(path_or_buf, mode, encoding, compression, memory_map, is_text, errors, storage_options)\u001b[0m\n\u001b[0;32m    854\u001b[0m \u001b[39melif\u001b[39;00m \u001b[39misinstance\u001b[39m(handle, \u001b[39mstr\u001b[39m):\n\u001b[0;32m    855\u001b[0m     \u001b[39m# Check whether the filename is to be opened in binary mode.\u001b[39;00m\n\u001b[0;32m    856\u001b[0m     \u001b[39m# Binary mode does not support 'encoding' and 'newline'.\u001b[39;00m\n\u001b[0;32m    857\u001b[0m     \u001b[39mif\u001b[39;00m ioargs\u001b[39m.\u001b[39mencoding \u001b[39mand\u001b[39;00m \u001b[39m\"\u001b[39m\u001b[39mb\u001b[39m\u001b[39m\"\u001b[39m \u001b[39mnot\u001b[39;00m \u001b[39min\u001b[39;00m ioargs\u001b[39m.\u001b[39mmode:\n\u001b[0;32m    858\u001b[0m         \u001b[39m# Encoding\u001b[39;00m\n\u001b[1;32m--> 859\u001b[0m         handle \u001b[39m=\u001b[39m \u001b[39mopen\u001b[39;49m(\n\u001b[0;32m    860\u001b[0m             handle,\n\u001b[0;32m    861\u001b[0m             ioargs\u001b[39m.\u001b[39;49mmode,\n\u001b[0;32m    862\u001b[0m             encoding\u001b[39m=\u001b[39;49mioargs\u001b[39m.\u001b[39;49mencoding,\n\u001b[0;32m    863\u001b[0m             errors\u001b[39m=\u001b[39;49merrors,\n\u001b[0;32m    864\u001b[0m             newline\u001b[39m=\u001b[39;49m\u001b[39m\"\u001b[39;49m\u001b[39m\"\u001b[39;49m,\n\u001b[0;32m    865\u001b[0m         )\n\u001b[0;32m    866\u001b[0m     \u001b[39melse\u001b[39;00m:\n\u001b[0;32m    867\u001b[0m         \u001b[39m# Binary mode\u001b[39;00m\n\u001b[0;32m    868\u001b[0m         handle \u001b[39m=\u001b[39m \u001b[39mopen\u001b[39m(handle, ioargs\u001b[39m.\u001b[39mmode)\n",
      "\u001b[1;31mFileNotFoundError\u001b[0m: [Errno 2] No such file or directory: 'data/distance.csv'"
     ]
    }
   ],
   "source": [
    "# 방법4 : pandas 사용 - 파일 읽어서 처리\n",
    "import pandas as pd\n",
    "\n",
    "df = pd.read_csv(\"data/distance.csv\", header=None)\n",
    "df.columns = ['거리']\n",
    "data =  df.거리  # df['거리'] \n",
    "\n",
    "print(f'a. 모평균   : {round(data.mean(), 2)}')\n",
    "print(f'b. 모분산   : {round(data.var(ddof=0), 2)}')\n",
    "print(f'c. 모표준편차: {round(data.std(ddof=0), 2)}')"
   ]
  },
  {
   "attachments": {},
   "cell_type": "markdown",
   "metadata": {},
   "source": [
    "### [실습] 예제 8-2 : 표본 통계량 구하기\n",
    "sample = 7.75, 9.70, 10.86"
   ]
  },
  {
   "cell_type": "code",
   "execution_count": null,
   "metadata": {},
   "outputs": [
    {
     "name": "stdout",
     "output_type": "stream",
     "text": [
      "a. 표본평균   : 9.44\n",
      "a. 표본분산   : 2.47\n",
      "a. 표본표준편차: 1.57\n"
     ]
    }
   ],
   "source": [
    "# 방법1 : 수학식 사용\n",
    "sample = [7.75, 9.70, 10.86]\n",
    "x_ = sum(sample) / len(sample)\n",
    "print(f'a. 표본평균   : {round(x_, 2)}')\n",
    "\n",
    "S2 = 1/(len(sample) -1) *  sum([(i - x_)**2 for i in sample ])\n",
    "print(f'a. 표본분산   : {round(S2, 2)}')\n",
    "\n",
    "S = S2**(1/2)\n",
    "print(f'a. 표본표준편차: {np.round(S, 2)}')"
   ]
  },
  {
   "cell_type": "code",
   "execution_count": null,
   "metadata": {
    "scrolled": true
   },
   "outputs": [
    {
     "name": "stdout",
     "output_type": "stream",
     "text": [
      "a. 표본평균   : 9.44\n",
      "a. 표본분산   : 2.47\n",
      "a. 표본표준편차: 1.57\n"
     ]
    }
   ],
   "source": [
    "# 방법2 : numpy 사용\n",
    "import numpy as np\n",
    "\n",
    "sample = [7.75, 9.70, 10.86]\n",
    "n = np.array(sample)\n",
    "\n",
    "print(f'a. 표본평균   : {round(n.mean(), 2)}')\n",
    "print(f'a. 표본분산   : {round(n.var(ddof=1), 2)}')\n",
    "print(f'a. 표본표준편차: {round(n.std(ddof=1), 2)}')"
   ]
  },
  {
   "attachments": {},
   "cell_type": "markdown",
   "metadata": {},
   "source": [
    "#### data에서 임의로 3개 추출(비복원 추출)"
   ]
  },
  {
   "cell_type": "code",
   "execution_count": null,
   "metadata": {},
   "outputs": [
    {
     "name": "stdout",
     "output_type": "stream",
     "text": [
      "[10.37  9.59 11.78]\n",
      "a. 표본평균   : 10.58\n",
      "a. 표본분산   : 1.23\n",
      "a. 표본표준편차: 1.11\n"
     ]
    }
   ],
   "source": [
    "sample = np.random.choice(data, 3, replace=False)\n",
    "print(sample)\n",
    "\n",
    "print(f'a. 표본평균   : {round(sample.mean(), 2)}')\n",
    "print(f'a. 표본분산   : {round(sample.var(ddof=1), 2)}')\n",
    "print(f'a. 표본표준편차: {round(sample.std(ddof=1), 2)}')"
   ]
  },
  {
   "attachments": {},
   "cell_type": "markdown",
   "metadata": {},
   "source": [
    "### 표본평균의 분포 - 이산균등분포"
   ]
  },
  {
   "attachments": {},
   "cell_type": "markdown",
   "metadata": {},
   "source": [
    "#### # 경우의 수 : n=2인 표본평균의 경우의 수"
   ]
  },
  {
   "cell_type": "code",
   "execution_count": null,
   "metadata": {},
   "outputs": [
    {
     "name": "stdout",
     "output_type": "stream",
     "text": [
      "**경우의 수 : 16개\n",
      "[(1, 1), (1, 2), (1, 3), (1, 4), (2, 1), (2, 2), (2, 3), (2, 4), (3, 1), (3, 2), (3, 3), (3, 4), (4, 1), (4, 2), (4, 3), (4, 4)]\n"
     ]
    }
   ],
   "source": [
    "import itertools\n",
    "\n",
    "n = 2\n",
    "result = list(itertools.product(([1,2,3,4]), repeat=n)) # 복원추출\n",
    "print(\"**경우의 수 : %s개\" % len(result))\n",
    "print(result)"
   ]
  },
  {
   "attachments": {},
   "cell_type": "markdown",
   "metadata": {},
   "source": [
    "#### # x_set: 확률변수 상태공간 (표본 평균 X_ 가 취할 수 있는 모든 값)"
   ]
  },
  {
   "cell_type": "code",
   "execution_count": null,
   "metadata": {},
   "outputs": [
    {
     "data": {
      "text/plain": [
       "[1.0, 1.5, 2.0, 2.5, 3.0, 3.5, 4.0]"
      ]
     },
     "execution_count": 12,
     "metadata": {},
     "output_type": "execute_result"
    }
   ],
   "source": [
    "x_set = [ sum([j for j in i])/n for i in result] \n",
    "x_set = list(set(x_set))\n",
    "x_set.sort()\n",
    "x_set"
   ]
  },
  {
   "attachments": {},
   "cell_type": "markdown",
   "metadata": {},
   "source": [
    "#### 확률질량함수: f(x)"
   ]
  },
  {
   "cell_type": "code",
   "execution_count": null,
   "metadata": {},
   "outputs": [],
   "source": [
    "def f(x):\n",
    "    cnt = 0\n",
    "    for i in result:\n",
    "        if sum([j for j in i])/n == x:\n",
    "            cnt += 1\n",
    "    return cnt / (len(result))"
   ]
  },
  {
   "attachments": {},
   "cell_type": "markdown",
   "metadata": {},
   "source": [
    "#### 확률변수: X"
   ]
  },
  {
   "cell_type": "code",
   "execution_count": null,
   "metadata": {},
   "outputs": [],
   "source": [
    "X = [x_set, f]"
   ]
  },
  {
   "attachments": {},
   "cell_type": "markdown",
   "metadata": {},
   "source": [
    "#### 확률: P(prob)"
   ]
  },
  {
   "cell_type": "code",
   "execution_count": null,
   "metadata": {},
   "outputs": [
    {
     "data": {
      "text/plain": [
       "[0.0625, 0.125, 0.1875, 0.25, 0.1875, 0.125, 0.0625]"
      ]
     },
     "execution_count": 15,
     "metadata": {},
     "output_type": "execute_result"
    }
   ],
   "source": [
    "prob = [f(x_k) for x_k in x_set]\n",
    "prob"
   ]
  },
  {
   "attachments": {},
   "cell_type": "markdown",
   "metadata": {},
   "source": [
    "#### 확률분포표 "
   ]
  },
  {
   "cell_type": "code",
   "execution_count": null,
   "metadata": {
    "scrolled": false
   },
   "outputs": [
    {
     "data": {
      "text/html": [
       "<div>\n",
       "<style scoped>\n",
       "    .dataframe tbody tr th:only-of-type {\n",
       "        vertical-align: middle;\n",
       "    }\n",
       "\n",
       "    .dataframe tbody tr th {\n",
       "        vertical-align: top;\n",
       "    }\n",
       "\n",
       "    .dataframe thead th {\n",
       "        text-align: right;\n",
       "    }\n",
       "</style>\n",
       "<table border=\"1\" class=\"dataframe\">\n",
       "  <thead>\n",
       "    <tr style=\"text-align: right;\">\n",
       "      <th>X_</th>\n",
       "      <th>1.0</th>\n",
       "      <th>1.5</th>\n",
       "      <th>2.0</th>\n",
       "      <th>2.5</th>\n",
       "      <th>3.0</th>\n",
       "      <th>3.5</th>\n",
       "      <th>4.0</th>\n",
       "    </tr>\n",
       "  </thead>\n",
       "  <tbody>\n",
       "    <tr>\n",
       "      <th>P(X_=x_)</th>\n",
       "      <td>0.0625</td>\n",
       "      <td>0.125</td>\n",
       "      <td>0.1875</td>\n",
       "      <td>0.25</td>\n",
       "      <td>0.1875</td>\n",
       "      <td>0.125</td>\n",
       "      <td>0.0625</td>\n",
       "    </tr>\n",
       "  </tbody>\n",
       "</table>\n",
       "</div>"
      ],
      "text/plain": [
       "X_           1.0    1.5     2.0   2.5     3.0    3.5     4.0\n",
       "P(X_=x_)  0.0625  0.125  0.1875  0.25  0.1875  0.125  0.0625"
      ]
     },
     "execution_count": 16,
     "metadata": {},
     "output_type": "execute_result"
    }
   ],
   "source": [
    "df = pd.DataFrame([prob], columns=x_set, index=['P(X_=x_)'])\n",
    "df.columns.names = ['X_']\n",
    "df"
   ]
  },
  {
   "attachments": {},
   "cell_type": "markdown",
   "metadata": {},
   "source": [
    "#### 평균의 기대값"
   ]
  },
  {
   "cell_type": "code",
   "execution_count": null,
   "metadata": {},
   "outputs": [
    {
     "data": {
      "text/plain": [
       "2.5"
      ]
     },
     "execution_count": 17,
     "metadata": {},
     "output_type": "execute_result"
    }
   ],
   "source": [
    "def E(X):\n",
    "    x_set, f = X\n",
    "    return np.sum([x_k * f(x_k) for x_k in x_set]) \n",
    "\n",
    "E(X)"
   ]
  },
  {
   "attachments": {},
   "cell_type": "markdown",
   "metadata": {},
   "source": [
    "#### 표본평균의 분산"
   ]
  },
  {
   "cell_type": "code",
   "execution_count": null,
   "metadata": {},
   "outputs": [
    {
     "data": {
      "text/plain": [
       "0.625"
      ]
     },
     "execution_count": 18,
     "metadata": {},
     "output_type": "execute_result"
    }
   ],
   "source": [
    "def V(X):\n",
    "    x_set, f = X\n",
    "    mean = E(X)\n",
    "    return np.sum([(x_k - mean)**2 * f(x_k) for x_k in x_set])\n",
    "\n",
    "V(X)"
   ]
  },
  {
   "attachments": {},
   "cell_type": "markdown",
   "metadata": {},
   "source": [
    "#### 이항균등분포의 표본평균의 분포 그래프로 나타내기"
   ]
  },
  {
   "cell_type": "code",
   "execution_count": null,
   "metadata": {
    "scrolled": true
   },
   "outputs": [
    {
     "name": "stdout",
     "output_type": "stream",
     "text": [
      "[-- X=1 --]\n",
      "**경우의 수 : 4개\n",
      "**모든 경우 : [(1,), (2,), (3,), (4,)]\n",
      "**확률분포표:\n",
      "/X_         1.0   2.0   3.0   4.0\n",
      "P(X_=x_)  0.25  0.25  0.25  0.25\n",
      "--------------------------------------------------\n",
      "[-- X=2 --]\n",
      "**경우의 수 : 16개\n",
      "**모든 경우 : [(1, 1), (1, 2), (1, 3), (1, 4), (2, 1), (2, 2), (2, 3), (2, 4), (3, 1), (3, 2), (3, 3), (3, 4), (4, 1), (4, 2), (4, 3), (4, 4)]\n",
      "**확률분포표:\n",
      "/X_           1.0    1.5     2.0   2.5     3.0    3.5     4.0\n",
      "P(X_=x_)  0.0625  0.125  0.1875  0.25  0.1875  0.125  0.0625\n",
      "--------------------------------------------------\n",
      "[-- X=3 --]\n",
      "**경우의 수 : 64개\n",
      "**모든 경우 : [(1, 1, 1), (1, 1, 2), (1, 1, 3), (1, 1, 4), (1, 2, 1), (1, 2, 2), (1, 2, 3), (1, 2, 4), (1, 3, 1), (1, 3, 2), (1, 3, 3), (1, 3, 4), (1, 4, 1), (1, 4, 2), (1, 4, 3), (1, 4, 4), (2, 1, 1), (2, 1, 2), (2, 1, 3), (2, 1, 4), (2, 2, 1), (2, 2, 2), (2, 2, 3), (2, 2, 4), (2, 3, 1), (2, 3, 2), (2, 3, 3), (2, 3, 4), (2, 4, 1), (2, 4, 2), (2, 4, 3), (2, 4, 4), (3, 1, 1), (3, 1, 2), (3, 1, 3), (3, 1, 4), (3, 2, 1), (3, 2, 2), (3, 2, 3), (3, 2, 4), (3, 3, 1), (3, 3, 2), (3, 3, 3), (3, 3, 4), (3, 4, 1), (3, 4, 2), (3, 4, 3), (3, 4, 4), (4, 1, 1), (4, 1, 2), (4, 1, 3), (4, 1, 4), (4, 2, 1), (4, 2, 2), (4, 2, 3), (4, 2, 4), (4, 3, 1), (4, 3, 2), (4, 3, 3), (4, 3, 4), (4, 4, 1), (4, 4, 2), (4, 4, 3), (4, 4, 4)]\n",
      "**확률분포표:\n",
      "/X_        1.000000  1.333333  1.666667  2.000000  2.333333  2.666667  \\\n",
      "P(X_=x_)  0.015625  0.046875   0.09375   0.15625    0.1875    0.1875   \n",
      "\n",
      "X_        3.000000  3.333333  3.666667  4.000000  \n",
      "P(X_=x_)   0.15625   0.09375  0.046875  0.015625  \n",
      "--------------------------------------------------\n",
      "[-- X=4 --]\n",
      "**경우의 수 : 256개\n",
      "**모든 경우 : [(1, 1, 1, 1), (1, 1, 1, 2), (1, 1, 1, 3), (1, 1, 1, 4), (1, 1, 2, 1), (1, 1, 2, 2), (1, 1, 2, 3), (1, 1, 2, 4), (1, 1, 3, 1), (1, 1, 3, 2), (1, 1, 3, 3), (1, 1, 3, 4), (1, 1, 4, 1), (1, 1, 4, 2), (1, 1, 4, 3), (1, 1, 4, 4), (1, 2, 1, 1), (1, 2, 1, 2), (1, 2, 1, 3), (1, 2, 1, 4), (1, 2, 2, 1), (1, 2, 2, 2), (1, 2, 2, 3), (1, 2, 2, 4), (1, 2, 3, 1), (1, 2, 3, 2), (1, 2, 3, 3), (1, 2, 3, 4), (1, 2, 4, 1), (1, 2, 4, 2), (1, 2, 4, 3), (1, 2, 4, 4), (1, 3, 1, 1), (1, 3, 1, 2), (1, 3, 1, 3), (1, 3, 1, 4), (1, 3, 2, 1), (1, 3, 2, 2), (1, 3, 2, 3), (1, 3, 2, 4), (1, 3, 3, 1), (1, 3, 3, 2), (1, 3, 3, 3), (1, 3, 3, 4), (1, 3, 4, 1), (1, 3, 4, 2), (1, 3, 4, 3), (1, 3, 4, 4), (1, 4, 1, 1), (1, 4, 1, 2), (1, 4, 1, 3), (1, 4, 1, 4), (1, 4, 2, 1), (1, 4, 2, 2), (1, 4, 2, 3), (1, 4, 2, 4), (1, 4, 3, 1), (1, 4, 3, 2), (1, 4, 3, 3), (1, 4, 3, 4), (1, 4, 4, 1), (1, 4, 4, 2), (1, 4, 4, 3), (1, 4, 4, 4), (2, 1, 1, 1), (2, 1, 1, 2), (2, 1, 1, 3), (2, 1, 1, 4), (2, 1, 2, 1), (2, 1, 2, 2), (2, 1, 2, 3), (2, 1, 2, 4), (2, 1, 3, 1), (2, 1, 3, 2), (2, 1, 3, 3), (2, 1, 3, 4), (2, 1, 4, 1), (2, 1, 4, 2), (2, 1, 4, 3), (2, 1, 4, 4), (2, 2, 1, 1), (2, 2, 1, 2), (2, 2, 1, 3), (2, 2, 1, 4), (2, 2, 2, 1), (2, 2, 2, 2), (2, 2, 2, 3), (2, 2, 2, 4), (2, 2, 3, 1), (2, 2, 3, 2), (2, 2, 3, 3), (2, 2, 3, 4), (2, 2, 4, 1), (2, 2, 4, 2), (2, 2, 4, 3), (2, 2, 4, 4), (2, 3, 1, 1), (2, 3, 1, 2), (2, 3, 1, 3), (2, 3, 1, 4), (2, 3, 2, 1), (2, 3, 2, 2), (2, 3, 2, 3), (2, 3, 2, 4), (2, 3, 3, 1), (2, 3, 3, 2), (2, 3, 3, 3), (2, 3, 3, 4), (2, 3, 4, 1), (2, 3, 4, 2), (2, 3, 4, 3), (2, 3, 4, 4), (2, 4, 1, 1), (2, 4, 1, 2), (2, 4, 1, 3), (2, 4, 1, 4), (2, 4, 2, 1), (2, 4, 2, 2), (2, 4, 2, 3), (2, 4, 2, 4), (2, 4, 3, 1), (2, 4, 3, 2), (2, 4, 3, 3), (2, 4, 3, 4), (2, 4, 4, 1), (2, 4, 4, 2), (2, 4, 4, 3), (2, 4, 4, 4), (3, 1, 1, 1), (3, 1, 1, 2), (3, 1, 1, 3), (3, 1, 1, 4), (3, 1, 2, 1), (3, 1, 2, 2), (3, 1, 2, 3), (3, 1, 2, 4), (3, 1, 3, 1), (3, 1, 3, 2), (3, 1, 3, 3), (3, 1, 3, 4), (3, 1, 4, 1), (3, 1, 4, 2), (3, 1, 4, 3), (3, 1, 4, 4), (3, 2, 1, 1), (3, 2, 1, 2), (3, 2, 1, 3), (3, 2, 1, 4), (3, 2, 2, 1), (3, 2, 2, 2), (3, 2, 2, 3), (3, 2, 2, 4), (3, 2, 3, 1), (3, 2, 3, 2), (3, 2, 3, 3), (3, 2, 3, 4), (3, 2, 4, 1), (3, 2, 4, 2), (3, 2, 4, 3), (3, 2, 4, 4), (3, 3, 1, 1), (3, 3, 1, 2), (3, 3, 1, 3), (3, 3, 1, 4), (3, 3, 2, 1), (3, 3, 2, 2), (3, 3, 2, 3), (3, 3, 2, 4), (3, 3, 3, 1), (3, 3, 3, 2), (3, 3, 3, 3), (3, 3, 3, 4), (3, 3, 4, 1), (3, 3, 4, 2), (3, 3, 4, 3), (3, 3, 4, 4), (3, 4, 1, 1), (3, 4, 1, 2), (3, 4, 1, 3), (3, 4, 1, 4), (3, 4, 2, 1), (3, 4, 2, 2), (3, 4, 2, 3), (3, 4, 2, 4), (3, 4, 3, 1), (3, 4, 3, 2), (3, 4, 3, 3), (3, 4, 3, 4), (3, 4, 4, 1), (3, 4, 4, 2), (3, 4, 4, 3), (3, 4, 4, 4), (4, 1, 1, 1), (4, 1, 1, 2), (4, 1, 1, 3), (4, 1, 1, 4), (4, 1, 2, 1), (4, 1, 2, 2), (4, 1, 2, 3), (4, 1, 2, 4), (4, 1, 3, 1), (4, 1, 3, 2), (4, 1, 3, 3), (4, 1, 3, 4), (4, 1, 4, 1), (4, 1, 4, 2), (4, 1, 4, 3), (4, 1, 4, 4), (4, 2, 1, 1), (4, 2, 1, 2), (4, 2, 1, 3), (4, 2, 1, 4), (4, 2, 2, 1), (4, 2, 2, 2), (4, 2, 2, 3), (4, 2, 2, 4), (4, 2, 3, 1), (4, 2, 3, 2), (4, 2, 3, 3), (4, 2, 3, 4), (4, 2, 4, 1), (4, 2, 4, 2), (4, 2, 4, 3), (4, 2, 4, 4), (4, 3, 1, 1), (4, 3, 1, 2), (4, 3, 1, 3), (4, 3, 1, 4), (4, 3, 2, 1), (4, 3, 2, 2), (4, 3, 2, 3), (4, 3, 2, 4), (4, 3, 3, 1), (4, 3, 3, 2), (4, 3, 3, 3), (4, 3, 3, 4), (4, 3, 4, 1), (4, 3, 4, 2), (4, 3, 4, 3), (4, 3, 4, 4), (4, 4, 1, 1), (4, 4, 1, 2), (4, 4, 1, 3), (4, 4, 1, 4), (4, 4, 2, 1), (4, 4, 2, 2), (4, 4, 2, 3), (4, 4, 2, 4), (4, 4, 3, 1), (4, 4, 3, 2), (4, 4, 3, 3), (4, 4, 3, 4), (4, 4, 4, 1), (4, 4, 4, 2), (4, 4, 4, 3), (4, 4, 4, 4)]\n",
      "**확률분포표:\n",
      "/X_            1.00      1.25      1.50      1.75      2.00     2.25      2.50  \\\n",
      "P(X_=x_)  0.003906  0.015625  0.039062  0.078125  0.121094  0.15625  0.171875   \n",
      "\n",
      "X_           2.75      3.00      3.25      3.50      3.75      4.00  \n",
      "P(X_=x_)  0.15625  0.121094  0.078125  0.039062  0.015625  0.003906  \n",
      "--------------------------------------------------\n"
     ]
    },
    {
     "data": {
      "image/png": "[encoded data removed]",
      "text/plain": [
       "<Figure size 1000x600 with 4 Axes>"
      ]
     },
     "metadata": {},
     "output_type": "display_data"
    }
   ],
   "source": [
    "def get_sample_dist(X, n):\n",
    "    \n",
    "    import itertools\n",
    "    result = list(itertools.product((X), repeat=n)) # 복원추출\n",
    "    print(f'**경우의 수 : {len(result)}개')\n",
    "    print(f'**모든 경우 : {result}')\n",
    "\n",
    "\n",
    "    # 확률변수 상태공간\n",
    "    x_set = [ sum([j for j in i])/n for i in result] \n",
    "    x_set = list(set(x_set))\n",
    "    x_set.sort()\n",
    "#     print(f'**모든 확률변수 : {x_set}')\n",
    "\n",
    "    # 확률질량함수\n",
    "    def f(x):\n",
    "        cnt = 0\n",
    "        for i in result:\n",
    "            if sum([j for j in i])/n == x:\n",
    "                cnt += 1\n",
    "        return cnt / (len(result))\n",
    "\n",
    "    prob = [f(x_k) for x_k in x_set]\n",
    "#     print(f'**모든 확률   : {prob}')\n",
    "\n",
    "\n",
    "    # 확률분포표\n",
    "    df = pd.DataFrame([prob], columns=x_set, index=['P(X_=x_)'])\n",
    "    df.columns.names = ['X_']\n",
    "    print(f'**확률분포표:\\n/{df}')\n",
    "\n",
    "    return x_set, prob, df\n",
    "\n",
    "\n",
    "#---------------------\n",
    "# 그래프로 나타내기 \n",
    "#---------------------\n",
    "plt.figure(figsize=(10,6))\n",
    "\n",
    "X = [1,2,3,4]\n",
    "for idx, x in enumerate(X): \n",
    "    print(f'[-- X={x} --]')\n",
    "    x_set, prob, df = get_sample_dist(X, x)\n",
    "    print('-'*50)\n",
    "\n",
    "    plt.subplot(2, 2, idx+1) \n",
    "    plt.plot(x_set, prob, 'o-')\n",
    "    plt.title(f'n={n}')\n",
    "    \n",
    "plt.show() "
   ]
  },
  {
   "cell_type": "code",
   "execution_count": null,
   "metadata": {},
   "outputs": [],
   "source": [
    "### [실습] 예제 8-3 : 표본평균의 분포"
   ]
  },
  {
   "cell_type": "code",
   "execution_count": null,
   "metadata": {},
   "outputs": [
    {
     "name": "stdout",
     "output_type": "stream",
     "text": [
      "**경우의 수 : 9개\n",
      "**모든 경우 : [(-1, -1), (-1, 0), (-1, 1), (0, -1), (0, 0), (0, 1), (1, -1), (1, 0), (1, 1)]\n",
      "**확률분포표:\n",
      "/X_            -1.0      -0.5       0.0       0.5       1.0\n",
      "P(X_=x_)  0.111111  0.333333  0.361111  0.166667  0.027778\n",
      "#(a) 표본평균의 분포: X_            -1.0      -0.5       0.0       0.5       1.0\n",
      "P(X_=x_)  0.111111  0.333333  0.361111  0.166667  0.027778\n",
      "#(b) 표본평균의 평균: -0.16666666666666669\n"
     ]
    }
   ],
   "source": [
    "def get_sample_dist(X, P, n):\n",
    "    import itertools\n",
    "    result = list(itertools.product((X), repeat=n)) # 복원추출\n",
    "    print(f'**경우의 수 : {len(result)}개')\n",
    "    print(f'**모든 경우 : {result}')\n",
    "\n",
    "    # 확률질량함수 : 확률구하기    \n",
    "    def f(x):\n",
    "        p = 1\n",
    "        for i in x:\n",
    "            p *= P[X.index(i)]\n",
    "        return p\n",
    "    \n",
    "    x_set, prob = [], []\n",
    "    for i in result:\n",
    "        tmp = sum([j for j in i])/n # 표본평균(-1, -1): (-1+-1)/2 \n",
    "        if tmp in x_set:\n",
    "            idx = x_set.index(tmp)\n",
    "            prob[idx] = prob[idx] + f(i)\n",
    "        else:\n",
    "            x_set.append(tmp)\n",
    "            prob.append(f(i))\n",
    "    \n",
    "#     print(f'**표본평균     : {x_set}')\n",
    "#     print(f'**표본평균 확률: {prob}')\n",
    "\n",
    "\n",
    "    # 확률분포표\n",
    "    df = pd.DataFrame([prob], columns=x_set, index=['P(X_=x_)'])\n",
    "    df.columns.names = ['X_']\n",
    "    print(f'**확률분포표:\\n/{df}')\n",
    "\n",
    "    return x_set, prob, df\n",
    "\n",
    "#---------------------\n",
    "# 표본평균의 분포\n",
    "\n",
    "X = [-1, 0, 1]        # 표본\n",
    "P = [1/3, 1/2, 1/6]   # 표본 확률\n",
    "x_set, prob, df = get_sample_dist(X, P, n) # 표본평균, 표본평균 확률, 확률분포표\n",
    "X_mean = sum([x_*prob[idx] for idx, x_ in enumerate(x_set)])\n",
    "X_var = sum([x_*prob[idx] for idx, x_ in enumerate(x_set)])\n",
    "\n",
    "print(f'#(a) 표본평균의 분포: {df}')\n",
    "print(f'#(b) 표본평균의 평균: {X_mean}')\n",
    "# print(f'#(b) 표본평균의 분산: {df}')"
   ]
  },
  {
   "cell_type": "code",
   "execution_count": null,
   "metadata": {},
   "outputs": [
    {
     "data": {
      "text/plain": [
       "-0.16666666666666666"
      ]
     },
     "execution_count": 22,
     "metadata": {},
     "output_type": "execute_result"
    }
   ],
   "source": [
    "-1/6"
   ]
  },
  {
   "attachments": {},
   "cell_type": "markdown",
   "metadata": {},
   "source": [
    "### [실습] 예제 8-4 : 표본평균의 분포 및 확률 구하기\n",
    "$N(178, 16)$인 모집단에서 크기 9인 표본 선정, 표본평균 $ \\bar{X}$\n",
    "- a. $\\bar{X}$ 분포\n",
    "- b. $P(\\bar{X} \\le 180)$ \n",
    "- c. $P(176 \\le \\bar{X} \\le 180)$\n"
   ]
  },
  {
   "cell_type": "code",
   "execution_count": null,
   "metadata": {},
   "outputs": [
    {
     "name": "stdout",
     "output_type": "stream",
     "text": [
      "a. 𝑋_분포 : 𝑋_ ~ N((178, 1.7777777777777777)) \n",
      "P(X<=180)    : 0.9332\n",
      "c.P(176<=X<=180): 0.8664\n"
     ]
    }
   ],
   "source": [
    "import scipy as sp\n",
    "\n",
    "mu, var, n = 178, 16, 9\n",
    "\n",
    "print(f'a. 𝑋_분포 : 𝑋_ ~ N({mu, var/n}) ')\n",
    "\n",
    "rv = sp.stats.norm(loc=mu, scale=(var/n)**(1/2))\n",
    "rv = sp.stats.norm(loc=mu, scale=np.sqrt(var/n))\n",
    "\n",
    "print(f'P(X<=180)    : {round(rv.cdf(180), 4)}')\n",
    "print(f'c.P(176<=X<=180): {round(rv.cdf(180) - rv.cdf(176), 4)}')"
   ]
  },
  {
   "attachments": {},
   "cell_type": "markdown",
   "metadata": {},
   "source": [
    "#### [실습] $N(166, 9)$인 모집단에서 크기 16인 표본 선정, 표본평균 $ \\bar{X}$\n",
    "- a. $\\bar{X}$ 분포\n",
    "- b. $P(\\bar{X} \\le 180)$ \n",
    "- c. $P(176 \\le \\bar{X} \\le 180)$\n"
   ]
  },
  {
   "cell_type": "code",
   "execution_count": null,
   "metadata": {
    "scrolled": true
   },
   "outputs": [
    {
     "name": "stdout",
     "output_type": "stream",
     "text": [
      "a.𝑋¯분포 : 𝑋¯ ~ N((166, 0.5625)) \n",
      "b.P(X<=164)    : 0.0038\n",
      "c.P(164<=X<=168): 0.9923\n"
     ]
    }
   ],
   "source": [
    "mu, var, n = 166, 9, 16\n",
    "\n",
    "print(f'a.𝑋¯분포 : 𝑋¯ ~ N({mu, var/n}) ')\n",
    "\n",
    "rv = sp.stats.norm(loc=mu, scale=(var/n)**(1/2))\n",
    "rv = sp.stats.norm(loc=mu, scale=np.sqrt(var/n))\n",
    "\n",
    "print(f'b.P(X<=164)    : {round(rv.cdf(164), 4)}')\n",
    "print(f'c.P(164<=X<=168): {round(rv.cdf(168) - rv.cdf(164), 4)}')"
   ]
  },
  {
   "attachments": {},
   "cell_type": "markdown",
   "metadata": {},
   "source": [
    "### [실습] 예제 8-5 : 표본비율의 분포 및 확률 구하기\n",
    "$p=0.45$인 모집단에서 크기 100인 표본 선정, 표본비율 $ \\hat{p}$\n",
    "- a. $ \\hat{p}$ 분포\n",
    "- b. $P(\\hat{p} \\le 0.35)$ \n",
    "- c. $P(0.41 \\le \\hat{p} \\le 0.51)$"
   ]
  },
  {
   "cell_type": "code",
   "execution_count": null,
   "metadata": {},
   "outputs": [
    {
     "name": "stdout",
     "output_type": "stream",
     "text": [
      "n, p, q, sigma : (100, 0.45, 0.55, 0.05)\n",
      "a.p^분포 : p^ ~ N(0.45, 0.0025000000000000005) \n",
      "b.P(X<=0.35)    : 0.0228\n",
      "c.P(0.41<=X<=0.51): 0.6731\n"
     ]
    }
   ],
   "source": [
    "import scipy as sp\n",
    "\n",
    "n, p, q = 100, 0.45, 0.55\n",
    "sigma = round(np.sqrt(p*q/n),3)\n",
    "print(f'n, p, q, sigma : {n, p, q, sigma}')\n",
    "print(f'a.p^분포 : p^ ~ N({p}, {sigma**2}) ')\n",
    "\n",
    "rv = sp.stats.norm(loc=p, scale=sigma)\n",
    "\n",
    "print(f'b.P(X<=0.35)    : {round(rv.cdf(0.35), 4)}')\n",
    "print(f'c.P(0.41<=X<=0.51): {round(rv.cdf(0.51) - rv.cdf(0.41), 4)}')"
   ]
  },
  {
   "attachments": {},
   "cell_type": "markdown",
   "metadata": {},
   "source": [
    "#### [실습] 𝑝=0.45 인 모집단에서 크기 200인 표본 선정, 표본비율 𝑝̂ \n",
    "- a. $ \\hat{p}$ 분포\n",
    "- b. $P(\\hat{p} \\le 0.35)$ \n",
    "- c. $P(0.41 \\le \\hat{p} \\le 0.51)$\n"
   ]
  },
  {
   "cell_type": "code",
   "execution_count": null,
   "metadata": {},
   "outputs": [
    {
     "name": "stdout",
     "output_type": "stream",
     "text": [
      "n, p, q, sigma : (200, 0.45, 0.55, 0.035)\n",
      "a.p^분포 : p^ ~ N(0.45, 0.0012250000000000002) \n",
      "b.P(X<=0.35)    : 0.0021\n",
      "c.P(0.41<=X<=0.51): 0.8302\n"
     ]
    }
   ],
   "source": [
    "n, p, q = 200, 0.45, 0.55\n",
    "sigma = round(np.sqrt(p*q/n),3)\n",
    "print(f'n, p, q, sigma : {n, p, q, sigma}')\n",
    "print(f'a.p^분포 : p^ ~ N({p}, {sigma**2}) ')\n",
    "\n",
    "rv = sp.stats.norm(loc=p, scale=sigma)\n",
    "\n",
    "print(f'b.P(X<=0.35)    : {round(rv.cdf(0.35), 4)}')\n",
    "print(f'c.P(0.41<=X<=0.51): {round(rv.cdf(0.51) - rv.cdf(0.41), 4)}')"
   ]
  },
  {
   "attachments": {},
   "cell_type": "markdown",
   "metadata": {},
   "source": [
    "----------------------------------------------------------"
   ]
  },
  {
   "attachments": {},
   "cell_type": "markdown",
   "metadata": {},
   "source": [
    "## <a name=\"8.2모평균의추정\">8.2 모평균의 추정</a>"
   ]
  },
  {
   "attachments": {},
   "cell_type": "markdown",
   "metadata": {},
   "source": [
    "### 모평균의 점추정"
   ]
  },
  {
   "attachments": {},
   "cell_type": "markdown",
   "metadata": {},
   "source": [
    "### [실습] 예제 8-6 : 모평균의 점추정\n",
    "- 모평균 $\\mu$ 에 대한 점추정값 구하기--> 표본평균 x̄ 구하기"
   ]
  },
  {
   "cell_type": "code",
   "execution_count": 9,
   "metadata": {},
   "outputs": [
    {
     "name": "stdout",
     "output_type": "stream",
     "text": [
      "모평균 뮤에 대한 점추정값: \n",
      "a. 표본평균   : 71.7\n",
      "a. 표본분산   : 4.9\n",
      "a. 표본표준편차: 2.214\n"
     ]
    }
   ],
   "source": [
    "import numpy as np\n",
    "\n",
    "data = [72, 71, 71, 73, 76, 71, 68, 70, 71, 74]\n",
    "n = np.array(data)\n",
    "\n",
    "print('모평균 뮤에 대한 점추정값: ')\n",
    "print(f'a. 표본평균   : {round(n.mean(), 3)}')\n",
    "print(f'a. 표본분산   : {round(n.var(ddof=1), 3)}')\n",
    "print(f'a. 표본표준편차: {round(n.std(ddof=1), 3)}')"
   ]
  },
  {
   "attachments": {},
   "cell_type": "markdown",
   "metadata": {},
   "source": [
    "### 모평균의 신뢰구간"
   ]
  },
  {
   "attachments": {},
   "cell_type": "markdown",
   "metadata": {},
   "source": [
    "#### #모분산이 알려진 정규모집단의 모평균에 대한 신뢰구간"
   ]
  },
  {
   "attachments": {},
   "cell_type": "markdown",
   "metadata": {},
   "source": [
    "### [실습] 예제 8-7 : 모분산이 알려진 정규모집단의 신뢰구간"
   ]
  },
  {
   "cell_type": "code",
   "execution_count": 11,
   "metadata": {},
   "outputs": [
    {
     "name": "stdout",
     "output_type": "stream",
     "text": [
      "n, x_, var : (25, 30, 9)\n",
      "모평균의 신뢰구간 : 28.824 <= mu <= 31.176\n"
     ]
    }
   ],
   "source": [
    "Z = {90:1.645, 95:1.96, 99:2.58}   # 중심확률분포\n",
    "\n",
    "n, x_, var = 25, 30 ,9          # 표본개수, 표본평균, 분산\n",
    "print(f'n, x_, var : {n, x_, var}')\n",
    "\n",
    "a = x_ - Z[95] * (np.sqrt(var)/np.sqrt(n)) \n",
    "b = x_ + Z[95] * (np.sqrt(var)/np.sqrt(n))\n",
    "print(f'모평균의 신뢰구간 : {a} <= mu <= {b}')"
   ]
  },
  {
   "attachments": {},
   "cell_type": "markdown",
   "metadata": {},
   "source": [
    "### [실습] "
   ]
  },
  {
   "cell_type": "code",
   "execution_count": 12,
   "metadata": {},
   "outputs": [
    {
     "name": "stdout",
     "output_type": "stream",
     "text": [
      "n, x_, var : (25, 54, 16)\n",
      "모평균의 신뢰구간 : 51.936 <= mu <= 56.064\n"
     ]
    }
   ],
   "source": [
    "Z = {90:1.645, 95:1.96, 99:2.58}   # 중심확률분포\n",
    "\n",
    "n, x_, var = 25, 54 ,16          # 표본개수, 표본평균, 분산\n",
    "print(f'n, x_, var : {n, x_, var}')\n",
    "\n",
    "a = x_ - Z[99] * (np.sqrt(var)/np.sqrt(n)) \n",
    "b = x_ + Z[99] * (np.sqrt(var)/np.sqrt(n))\n",
    "print(f'모평균의 신뢰구간 : {a} <= mu <= {b}')\n"
   ]
  },
  {
   "attachments": {},
   "cell_type": "markdown",
   "metadata": {},
   "source": [
    "#### #모분산이 알려지지 않은 정규모집단의 신뢰구간(근사확률분포)"
   ]
  },
  {
   "attachments": {},
   "cell_type": "markdown",
   "metadata": {},
   "source": [
    "### [실습] 예제 8-8 : 모분산이 알려지지 않은 정규모집단의 신뢰구간"
   ]
  },
  {
   "cell_type": "code",
   "execution_count": 13,
   "metadata": {
    "scrolled": true
   },
   "outputs": [
    {
     "name": "stdout",
     "output_type": "stream",
     "text": [
      "n, x_, sigma : (125, 75, 9)\n",
      "모평균의 신뢰구간 : 73.42 <= mu <= 76.58\n"
     ]
    }
   ],
   "source": [
    "n, x_, sigma = 125, 75, 9        # 표본개수, 표본평균, 표본표준편차\n",
    "print(f'n, x_, sigma : {n, x_, sigma}')\n",
    "\n",
    "a = x_ - Z[95] * (sigma/np.sqrt(n)) \n",
    "b = x_ + Z[95] * (sigma/np.sqrt(n))\n",
    "print(f'모평균의 신뢰구간 : {round(a,2)} <= mu <= {round(b,2)}')"
   ]
  },
  {
   "attachments": {},
   "cell_type": "markdown",
   "metadata": {},
   "source": [
    "### 두 모평균의 신뢰구간"
   ]
  },
  {
   "attachments": {},
   "cell_type": "markdown",
   "metadata": {},
   "source": [
    "### [실습] 예제 8-9 : 두 모평균 차의 신뢰구간\n",
    "- 모분산이 알려지지 않았을 때"
   ]
  },
  {
   "cell_type": "code",
   "execution_count": null,
   "metadata": {},
   "outputs": [],
   "source": [
    "n, x_, sigma1 = 56,261.6,21.5**2\n",
    "m, y_, sigma2 = 44,254.4,\n",
    "print(f'n, x_, sigma1 : {n, x_, sigma1}')\n",
    "print(f'm, y_, sigma2 : {m, y_, sigma2}')\n",
    "\n",
    "a = (x_-y_) - Z[95] * np.sqrt(sigma1**2/n + sigma2**2/m) \n",
    "b = (x_-y_) + Z[95] * np.sqrt(sigma1**2/n + sigma2**2/m) \n",
    "print(f'두 모평균 차의 신뢰구간 : {round(a,2)} <= x_ - y_ <= {round(b,2)}')"
   ]
  },
  {
   "attachments": {},
   "cell_type": "markdown",
   "metadata": {},
   "source": [
    "### [실습]\n",
    "- 모분산이 알려졌을 때"
   ]
  },
  {
   "cell_type": "code",
   "execution_count": null,
   "metadata": {},
   "outputs": [],
   "source": [
    "\n",
    "\n"
   ]
  },
  {
   "attachments": {},
   "cell_type": "markdown",
   "metadata": {},
   "source": [
    "----------------------------------------------------------"
   ]
  },
  {
   "attachments": {},
   "cell_type": "markdown",
   "metadata": {},
   "source": [
    "## <a name=\"8.3모비율의추정\">8.3 모비율의 추정</a>"
   ]
  },
  {
   "attachments": {},
   "cell_type": "markdown",
   "metadata": {},
   "source": [
    "### 모비율의 신뢰구간"
   ]
  },
  {
   "attachments": {},
   "cell_type": "markdown",
   "metadata": {},
   "source": [
    "### [실습] 예제 8-10 : 모비율의 신뢰구간"
   ]
  },
  {
   "cell_type": "code",
   "execution_count": null,
   "metadata": {},
   "outputs": [],
   "source": [
    "Z = {90:1.645, 95:1.96, 99:2.58}\n",
    "\n",
    "n, x =  \n",
    "p, q = round(x/n, 2), round(1-x/n, 2)\n",
    "print(f'n, x, p, q : {n, x, p, q}')\n",
    "\n",
    "a = p - Z[95] * np.sqrt((p*q)/n) \n",
    "b = p + Z[95] * np.sqrt((p*q)/n)\n",
    "print(f'모비율의 신뢰구간 : {round(a, 2)} <= p^ <= {round(b, 2)}')"
   ]
  },
  {
   "attachments": {},
   "cell_type": "markdown",
   "metadata": {},
   "source": [
    "### [실습] "
   ]
  },
  {
   "cell_type": "code",
   "execution_count": null,
   "metadata": {},
   "outputs": [],
   "source": [
    "\n"
   ]
  },
  {
   "attachments": {},
   "cell_type": "markdown",
   "metadata": {},
   "source": [
    "### 두 모비율의 신뢰구간"
   ]
  },
  {
   "attachments": {},
   "cell_type": "markdown",
   "metadata": {},
   "source": [
    "### [실습] 예제 8-11 : 두 모비율 차의 신뢰구간"
   ]
  },
  {
   "cell_type": "code",
   "execution_count": null,
   "metadata": {},
   "outputs": [],
   "source": [
    "n, m  =  \n",
    "p1,p2 =  \n",
    "q1,q2 =  \n",
    "print(f'n, p1, q1 : {n, p1, q1}')\n",
    "print(f'm, p2, q2 : {n, p2, q2}')\n",
    "\n",
    "a = (p1-p2) - Z[95] * np.sqrt((p1*q1)/n + (p2*q2)/m) \n",
    "b = (p1-p2) + Z[95] * np.sqrt((p1*q1)/n + (p2*q2)/m) \n",
    "print(p1-p2)\n",
    "print(Z[95] * np.sqrt((p1*q1)/n + (p2*q2)/m))\n",
    "print(f'두 모비율 차의 신뢰구간 : {round(a,4)} <= p1-p2 <= {round(b,4)}')"
   ]
  },
  {
   "attachments": {},
   "cell_type": "markdown",
   "metadata": {},
   "source": [
    "### [실습]"
   ]
  },
  {
   "cell_type": "code",
   "execution_count": null,
   "metadata": {},
   "outputs": [],
   "source": [
    "\n",
    "\n",
    "\n"
   ]
  },
  {
   "attachments": {},
   "cell_type": "markdown",
   "metadata": {},
   "source": [
    "----------------------------------------------------------"
   ]
  },
  {
   "attachments": {},
   "cell_type": "markdown",
   "metadata": {},
   "source": [
    "끝"
   ]
  }
 ],
 "metadata": {
  "kernelspec": {
   "display_name": "Python 3 (ipykernel)",
   "language": "python",
   "name": "python3"
  },
  "language_info": {
   "codemirror_mode": {
    "name": "ipython",
    "version": 3
   },
   "file_extension": ".py",
   "mimetype": "text/x-python",
   "name": "python",
   "nbconvert_exporter": "python",
   "pygments_lexer": "ipython3",
   "version": "3.10.5"
  }
 },
 "nbformat": 4,
 "nbformat_minor": 4
}
