{
 "cells": [
  {
   "cell_type": "markdown",
   "metadata": {},
   "source": [
    "# [부교재] Chapter10 상관분석과 회귀분석"
   ]
  },
  {
   "cell_type": "markdown",
   "metadata": {},
   "source": [
    "- <a href=\"#10.1상관분석\">10.1 상관분석</a>\n",
    "- <a href=\"#10.2회귀분석\">10.2 회귀분석</a>\n",
    "- <a href=\"#사이킷런을이용한선형회귀\">사이킷런을 이용한 선형회귀</a>"
   ]
  },
  {
   "cell_type": "code",
   "execution_count": null,
   "metadata": {},
   "outputs": [],
   "source": [
    "# 공통으로 사용하는 라이브러리 가져오기\n",
    "import numpy as np\n",
    "import scipy as sp\n",
    "import matplotlib.pyplot as plt\n",
    "\n",
    "plt.rcParams['figure.figsize'] = (4,3)\n",
    "plt.rcParams['font.family'] = 'Malgun Gothic'  # '맑은 고딕'으로 설정 \n",
    "plt.rcParams['axes.unicode_minus'] = False     # 그래프에서 (-)숫자표시"
   ]
  },
  {
   "cell_type": "markdown",
   "metadata": {},
   "source": [
    "-----------------------------"
   ]
  },
  {
   "attachments": {},
   "cell_type": "markdown",
   "metadata": {},
   "source": [
    "## <a name=\"10.1상관분석\">10.1 상관분석</a> (correlation analysis)"
   ]
  },
  {
   "attachments": {},
   "cell_type": "markdown",
   "metadata": {},
   "source": [
    "### 관련성을 분석하는 통계적 방법\n",
    "- **상관분석(correlation analysis)** <br> \n",
    "변수 간에 존재하는 **선형 관련성 정도**를 **상관계수**를 이용하여 분석하는 방법\n",
    "- **회귀분석(regression analysis)** <br>\n",
    "변수가 **다른 변수에 영향을 미치는 관계를 식별**하기 위한 통계적 방법"
   ]
  },
  {
   "attachments": {},
   "cell_type": "markdown",
   "metadata": {},
   "source": [
    "### [실습] 산점도와 상관계수\n",
    "학생 건강검사 자료(2019년도 학생 건강검사 표본통계, 교육부) 중 서울지역 \n",
    "초등학교 3학년 남학생에 대한 표본에 대해 키와 몸무게를 이용하여 산점도를 \n",
    "나타내고 상관계수를 계산하시오. "
   ]
  },
  {
   "cell_type": "code",
   "execution_count": null,
   "metadata": {},
   "outputs": [],
   "source": [
    "!pip install openpyxl"
   ]
  },
  {
   "cell_type": "code",
   "execution_count": null,
   "metadata": {
    "scrolled": true
   },
   "outputs": [],
   "source": [
    "# 1. 데이터 확인\n",
    "import pandas as pd\n",
    "\n",
    "df = pd.read_excel('./data/초등학교3학년_남자.xlsx')\n",
    "df\n",
    "df.describe()"
   ]
  },
  {
   "cell_type": "code",
   "execution_count": null,
   "metadata": {
    "scrolled": false
   },
   "outputs": [],
   "source": [
    "# 2. 산점도로 확인\n",
    "import matplotlib.pyplot as plt\n",
    "\n",
    "plt.scatter(df.키, df.몸무게)\n",
    "plt.xlabel('키')\n",
    "plt.ylabel('몸무게')\n",
    "plt.grid()\n",
    "plt.show()"
   ]
  },
  {
   "cell_type": "code",
   "execution_count": null,
   "metadata": {
    "scrolled": true
   },
   "outputs": [],
   "source": [
    "# 표본 상관계수(print(df.corr(method='pearson')) 확인\n",
    "import scipy as sp\n",
    "\n",
    "corr = sp.stats.pearsonr(df.키, df.몸무게) # 피어슨 상관계수\n",
    "print(f'scipy stats 피어슨상관계수: {corr}')\n",
    "print()\n",
    "# pandas print(df.corr(method='pearson'))\n",
    "print(f'pandas 피어슨상관계수: {df.corr(method=\"pearson\")}')"
   ]
  },
  {
   "cell_type": "markdown",
   "metadata": {},
   "source": [
    "---------------------------"
   ]
  },
  {
   "cell_type": "markdown",
   "metadata": {},
   "source": [
    "### #상관계수의 검정"
   ]
  },
  {
   "cell_type": "markdown",
   "metadata": {},
   "source": [
    "### [실습] 예제 10-1: 표본상관계수 구하기\n",
    "어떤 반응 실험에서 원료의 첨가량(X)과 반응수율(Y)의 관계 자료 10개를 임의로 추출하여 얻은 결과이다. 이때 X, Y의 표본상관계수를 구하가 "
   ]
  },
  {
   "cell_type": "code",
   "execution_count": null,
   "metadata": {},
   "outputs": [],
   "source": [
    "# 산점도 그리기\n",
    "def draw_correlation_diagram(a, b, xlabel='X', ylabel='Y'):\n",
    "    import matplotlib.pyplot as plt\n",
    "\n",
    "    plt.scatter(a, b)\n",
    "    plt.xlabel(xlabel)\n",
    "    plt.ylabel(ylabel)\n",
    "    plt.title(f\"'{xlabel}'과 '{ylabel}'간의 상관도\")\n",
    "    plt.grid()  #axis = 'x', axis = 'y'\n",
    "    plt.show()    \n",
    "    \n",
    "# 표본상관계수(피어슨 상관계수)로 변수간 상관관계 확인하기 \n",
    "def get_correlation_coefficient(a, b):\n",
    "    import scipy as sp\n",
    "    \n",
    "    corr = sp.stats.pearsonr(a, b)\n",
    "    print(f'두 변수간 표본상관계수: {corr[0] : .4f}')\n",
    "    if corr[0] > 0.4 :   # 양의 상관 관계가 있다.\n",
    "        print(f'두 변수간 양의 상관관계를 가진다.')\n",
    "    elif corr[0] < -0.4 : # 음의 상관 관계가 있다.\n",
    "        print(f'두 변수간 음의 상관관계를 가진다.')\n",
    "    else:\n",
    "        print(f'두 변수간 상관관계를 가진다고 볼 수 없다.')\n",
    "    return corr[0]"
   ]
  },
  {
   "cell_type": "code",
   "execution_count": null,
   "metadata": {},
   "outputs": [],
   "source": [
    "data = {'X':[12, 13, 14, 10, 11, 8, 10, 11, 12, 9],\n",
    "        'Y':[45, 50, 55, 40, 40, 35, 45, 45, 60, 45]}\n",
    "\n",
    "df = pd.DataFrame(data)\n",
    "# print('변수간 상관계수: ', df.corr(method=\"pearson\") )\n",
    "# print()\n",
    "\n",
    "draw_correlation_diagram(df.X, df.Y, xlabel='X', ylabel='Y')\n",
    "get_correlation_coefficient(df.X, df.Y)"
   ]
  },
  {
   "cell_type": "markdown",
   "metadata": {},
   "source": [
    "### [실습] 예제 10-2: 표본상관계수  & 상관도\n",
    "어떤 고가도로의 시간당 최고 교통량(X)과 일일 교통량(Y)을 7일 동안 관측한 결과, X와 Y의 상관도를 그리고 표본상관계수를 구하라"
   ]
  },
  {
   "cell_type": "code",
   "execution_count": null,
   "metadata": {
    "scrolled": true
   },
   "outputs": [],
   "source": [
    "data = {'X':[1.5, 4.6, 3.0, 5.5, 7.8, 6.8, 6.3],\n",
    "        'Y':[0.6, 3.4, 2.5, 2.8, 4.8, 6.4, 5.0]}\n",
    "\n",
    "\n"
   ]
  },
  {
   "cell_type": "markdown",
   "metadata": {},
   "source": [
    "### [실습] 예제 10-3: 표본상관계수\n",
    "한 연구자가 사람의 연령(X)과 최대 맥박수(Y)의 관계를 알아보기 위해 연령별로 최대 맥박수를 측정한 결과가 아래와 같을 때, 연령과 최대 맥박수 간의 표본상관계수를 구하라"
   ]
  },
  {
   "cell_type": "code",
   "execution_count": null,
   "metadata": {
    "scrolled": true
   },
   "outputs": [],
   "source": [
    "data = {'X':[25, 39, 19, 44, 53, 66, 72],\n",
    "        'Y':[210, 185, 220, 164, 123, 115, 110]}\n",
    "\n",
    "\n"
   ]
  },
  {
   "cell_type": "markdown",
   "metadata": {},
   "source": [
    "### [실습] 예제 10-4: 표본상관계수, 5%유의수준 검정\n",
    "수학성적(X)과 어휘력(Y)의 상관관계를 알아보기 위해 학생 8명을 임의로 추출하였다.<br>\n",
    "- a.표본상관계수 r을 구하라.\n",
    "- b.수학성정(X)과 어휘력(Y) 간의 상관관계가 존재하는지 유의수준 5%로 검정하라"
   ]
  },
  {
   "cell_type": "markdown",
   "metadata": {},
   "source": [
    "- https://docs.scipy.org/doc/scipy/reference/generated/scipy.stats.t.html\n",
    "- interval(confidence, df, loc=0, scale=1)"
   ]
  },
  {
   "cell_type": "code",
   "execution_count": null,
   "metadata": {},
   "outputs": [],
   "source": [
    "rv = sp.stats.t(df=n-2)     # 자유도: 독립변수의 수 (2개)\n",
    "interval = rv.interval(1-alpha)\n",
    "interval"
   ]
  },
  {
   "cell_type": "code",
   "execution_count": null,
   "metadata": {},
   "outputs": [],
   "source": [
    "def uncorr_test(n, r, H0, alpha=0.05):  # 무상관 검정\n",
    "    import scipy as sp\n",
    "    \n",
    "    rv = sp.stats.t(df=n-2)            # 변수 1개: n-1, 변수 2개: n-2\n",
    "    interval = rv.interval(1-alpha)    # 분포구간    \n",
    "    \n",
    "    t0 = r * np.sqrt( (n-2)/(1-r**2) ) # 검정통계량 관측값\n",
    "    print(f'신뢰구간: {interval}, 검정통계량 관측값: {t0: .4f}')\n",
    "    \n",
    "    if interval[0] <= t0 <= interval[1]:\n",
    "        print(f\"귀무가설[ {H0} ]을 채택\")\n",
    "    else:\n",
    "        print(f\"귀무가설[ {H0} ]을 기각 -> 상관관계 있다\") \n",
    "    \n",
    "    \n",
    "    \n",
    "\n",
    "data = {'X':[36, 80, 50, 58, 72, 60, 56, 68],\n",
    "        'Y':[35, 65, 60, 39, 48, 44, 48, 61]}\n",
    "\n",
    "df = pd.DataFrame(data)\n",
    "\n",
    "# 상관도\n",
    "#draw_correlation_diagram(df.X, df.Y, xlabel='수학 성적(X)', ylabel='어휘력(Y)')\n",
    "# 상관계수\n",
    "corr = get_correlation_coefficient(df.X, df.Y)\n",
    "\n",
    "# 상관관계 유의수준 검정\n",
    "H0 = f'H0: p=0(변수간 상관관계가 없다)'  # 모상관계수는 0--> 상관이 없다\n",
    "uncorr_test(len(df.X), corr, H0)"
   ]
  },
  {
   "cell_type": "markdown",
   "metadata": {},
   "source": [
    "### [실습] 예제 10-5: 표본상관계수, 5%유의수준 검정\n",
    "어떤 세닥 공장에서 물 소비량(X)과 세탁량(Y) 사이의 상관관계가 존재하는지 조사하기 위해 표본을 다음과 같이 얻다. 공장 전체의 물 소비량과 세탁량은 이변량 정규분포를 따른다고 가정할 때,  <br>\n",
    "- a.표본상관계수 r을 구하라.\n",
    "- b.물 소비량(X)과 세탁량(Y) 사이의 상관관계가 존재하는지 유의수준 5%로 검정하라"
   ]
  },
  {
   "cell_type": "code",
   "execution_count": null,
   "metadata": {
    "scrolled": true
   },
   "outputs": [],
   "source": [
    "data = {'X':[20, 30, 25, 40, 35, 50, 70, 60, 65, 55],\n",
    "        'Y':[2.5, 3.0, 2.5, 3.5, 4.0, 4.5, 5.0, 4.5, 4.0, 3.5]}\n",
    "\n",
    "df = pd.DataFrame(data)\n",
    "\n",
    "# 상관도\n",
    "draw_correlation_diagram(df.X, df.Y, xlabel='물 소비량(X)', ylabel='세탁량(Y)')\n",
    "# 상관계수\n",
    "\n",
    "\n",
    "\n",
    "# 상관관계 유의수준 검정\n",
    "\n",
    "\n"
   ]
  },
  {
   "cell_type": "markdown",
   "metadata": {},
   "source": [
    "### [실습] 예제 10-6: 표본상관계수, 5%유의수준 검정\n",
    "연령(X)과 최대 맥박수(Y)의 상관관계가 있는지 유의수준 5%로 검정하라"
   ]
  },
  {
   "cell_type": "code",
   "execution_count": null,
   "metadata": {},
   "outputs": [],
   "source": [
    "data = {'X':[25, 39, 19, 44, 53, 66, 72],\n",
    "        'Y':[210, 185, 220, 164, 123, 115, 110]}\n",
    "\n",
    "df = pd.DataFrame(data)\n",
    "\n",
    "# 상관도\n",
    "\n",
    "\n",
    "# 상관계수\n",
    "\n",
    "\n",
    "\n",
    "# 상관관계 유의수준 검정\n",
    "\n"
   ]
  },
  {
   "cell_type": "markdown",
   "metadata": {},
   "source": [
    "------------------------------------------------------"
   ]
  },
  {
   "cell_type": "markdown",
   "metadata": {},
   "source": [
    "## <a name=\"10.2회귀분석\">10.2 회귀분석</a>"
   ]
  },
  {
   "attachments": {},
   "cell_type": "markdown",
   "metadata": {},
   "source": [
    "### 회귀분석(regression analysis)** \n",
    "- 변수가 **다른 변수에 영향을 미치는 관계를 식별**하기 위한 통계적 방법\n",
    "- 두 변수 간의 관계를 파악하여 **한 변수의 값으로부터 그에 대응하는 다른 변수의 값을 예측**하고자 할 때 사용하는 통계적 방법\n",
    "<br><br>\n",
    "- **독립변수(independent variable)** : 다른 변수에 영향을 주는 변수, 설명변수(explanatory variable)\n",
    "- **종속변수(dependent variable)** : 영향을 받는 변수, 반응변수(response variable)"
   ]
  },
  {
   "attachments": {},
   "cell_type": "markdown",
   "metadata": {},
   "source": [
    "### 단순선형회귀모형(simple linear regression model) : 직선회귀모형\n",
    "\n",
    " - $y_i = a + bx_i + e_i$   $(e_i ~ N(0,\\sigma^2), i=1,2,...,n)$ <br><br>\n",
    " - $a, b$ : 모회귀계수\n",
    " - $x_i$  : 독립변수(설명변수), $y_i$:종속변수(반응변수)\n",
    " - $e_i$  : $N(0,\\sigma^2)$을 따르는 확률변수(오차항) <br><br>\n",
    " -- **==> 모회귀계수 $a, b$를 추정함으로서 회귀직선을 추정할 수 있다!**"
   ]
  },
  {
   "cell_type": "markdown",
   "metadata": {},
   "source": [
    "### [실습] 단순 회귀분석"
   ]
  },
  {
   "cell_type": "code",
   "execution_count": null,
   "metadata": {
    "scrolled": true
   },
   "outputs": [],
   "source": [
    "# 1. 데이터 확인\n",
    "import pandas as pd\n",
    "\n",
    "cm = 2.54  # 키데이터를  inch --> cm로 변환하기 위해\n",
    "# df = pd.read_excel('./data/Galtons Height Data.xlsx')\n",
    "# df['father'] = df.father * cm\n",
    "# df['mother'] = df.mother * cm\n",
    "# df['height'] = df.height * cm\n",
    "# df= df.query(\"gender=='F'\")  # 자녀가 딸인 데이터만 추출\n",
    "\n",
    "df = pd.read_excel('./data/Galtons Height Data_딸.xlsx')\n",
    "df['father'] = df.father * cm\n",
    "df['daughter'] = df.daughter * cm\n",
    "df"
   ]
  },
  {
   "cell_type": "code",
   "execution_count": null,
   "metadata": {
    "scrolled": false
   },
   "outputs": [],
   "source": [
    "# 2. 산점도(추정된 회귀직선 표시) 확인\n",
    "# 방법: seaborn 사용하기\n",
    "import matplotlib.pyplot as plt\n",
    "import seaborn as sns\n",
    "\n",
    "sns.regplot(x=df.father, y=df.daughter)\n",
    "plt.xlabel('father')\n",
    "plt.ylabel('daughter')\n",
    "plt.show()"
   ]
  },
  {
   "cell_type": "code",
   "execution_count": null,
   "metadata": {
    "scrolled": false
   },
   "outputs": [],
   "source": [
    "# 3. 결정계수 구하기\n",
    "# 방법: statsmodels 사용하기\n",
    "from statsmodels.formula.api import ols\n",
    "\n",
    "model = ols('df.daughter ~ df.father', data=df).fit() #ols('종속변수명 ~ 독립변수명', data=데이터프레임객체)\n",
    "\n",
    "print(f'결정계수: {model.rsquared: .4f}')\n",
    "\n",
    "model.summary() # 모델 요약"
   ]
  },
  {
   "cell_type": "markdown",
   "metadata": {},
   "source": [
    "-----------------"
   ]
  },
  {
   "cell_type": "markdown",
   "metadata": {},
   "source": [
    "#### 데이터를 이용해 (추정된 회귀직선 표시) & (결정계수) 구하기"
   ]
  },
  {
   "cell_type": "code",
   "execution_count": null,
   "metadata": {},
   "outputs": [],
   "source": [
    "# 2. 산점도(추정된 회귀직선 표시) 확인\n",
    "# 방법1: 직접 그리기\n",
    "target_pred = model.predict()\n",
    "\n",
    "plt.scatter(df.father, df.daughter, marker='o', label='$MEDV_i$ 실제 관측치')\n",
    "plt.plot(df.father, target_pred, color = 'g', label='$\\hat{MEDV}_i$ 회귀선')\n",
    "plt.hlines(df.daughter.mean(), df.father.min(), df.father.max(), color = 'r', label='$MEDV_i$ 평균선')\n",
    "plt.legend()\n",
    "plt.xlabel('df.father')\n",
    "plt.ylabel('df.daughter')\n",
    "plt.show()"
   ]
  },
  {
   "cell_type": "code",
   "execution_count": null,
   "metadata": {},
   "outputs": [],
   "source": [
    "# 3. 결정계수, 오차항의 분산 𝜎2의 추정량(MSE)구하기\n",
    "# 방법1: 직접구하기\n",
    "target_array = df.daughter\n",
    "target_pred1 = model.predict()\n",
    "\n",
    "SST = sum((target_array - target_array.mean()) ** 2)  # SST(편차의 제곱, 총변동), \n",
    "SSR = sum((target_pred1 - target_array.mean()) ** 2)  # SSR(편차와 잔차의 차이 제곱 : 회귀식으로 설명가능한 변동), \n",
    "SSE = sum((model.resid) ** 2)                         # SSE(잔차의 제곱, 오차제곱합 : 회귀식으로 설명하지 못하는 변동)\n",
    "MSE = SSE / (len(target_array) - 2)                   # MSE(평균제곱오차: 오차항의 분산 𝜎2의 추정량 S2)\n",
    "S   = np.sqrt(MSE)                                    # S = 오차항의 분산 𝜎2에  대한 추정값의 표준오차 \n",
    "r_squared = (1 - (SSE/SST))                           # 결정계수\n",
    "\n",
    "\n",
    "print(f' 결정계수 R-squared : {r_squared : .4f}')"
   ]
  },
  {
   "cell_type": "code",
   "execution_count": null,
   "metadata": {
    "scrolled": true
   },
   "outputs": [],
   "source": [
    "# sns.pairplot(pd.concat([df.father, df.daughter], axis= 1),  kind='reg')\n",
    "# plt.show()"
   ]
  },
  {
   "cell_type": "markdown",
   "metadata": {},
   "source": [
    "----------------\n",
    "### #추정된 회귀직선의 정확도"
   ]
  },
  {
   "cell_type": "markdown",
   "metadata": {},
   "source": [
    "### [실습] 예제 10-7: 추정회귀직선 구하기\n",
    "봉강의 길이가 온도ㅔ 의해 어느정도 영향을 받는지 관계 확인하기 <br>\n",
    "- a.온도(X)와 봉강 길이(Y)의 상관도 그리기\n",
    "- b.최소제곱법을 이용하여 X에 대한 Y의 추정회귀직선 구하기 <br><br>\n",
    "- $H_0$ : 온도가 증가할 때 봉강의 길이도 증가한다."
   ]
  },
  {
   "cell_type": "markdown",
   "metadata": {},
   "source": [
    "- **numpy.polyfit()** : Least squares polynomial \n",
    "- https://numpy.org/doc/stable/reference/generated/numpy.polyfit.html"
   ]
  },
  {
   "cell_type": "code",
   "execution_count": null,
   "metadata": {},
   "outputs": [],
   "source": [
    "# 추정회귀직선 상관도 그리기\n",
    "def draw_linear_regression(a, b, xlabel='X', ylabel='Y'):\n",
    "    import matplotlib.pyplot as plt\n",
    "    import seaborn as sns\n",
    "\n",
    "    sns.regplot(x=df.X, y=df.Y) \n",
    "    plt.xlabel(xlabel)\n",
    "    plt.ylabel(ylabel)\n",
    "    plt.title('추정회귀직선')\n",
    "    plt.show()    \n",
    "  \n",
    " \n",
    "# 추정회귀직선 회귀식 구하기 \n",
    "def get_linear_regression_equation(a, b):\n",
    "    import numpy as np\n",
    "    \n",
    "    z = np.polyfit(a, b, 1)   # 기울기와 절편 구하기\n",
    "    f = np.poly1d(z)          # f(x) : x값에 따른 y값을 구할 때 사용함\n",
    "    print(f'기울기 : {z[0]:.2f}   y절편 : {z[1]:.2f}  ')\n",
    "    print(f'추정회귀직선 : y = {z[0]:.2f}x + {z[1]:.2f}')\n",
    "#     return z, f\n",
    "\n",
    " \n",
    "    \n",
    "data = {'X':[10, 15, 20, 25, 30],\n",
    "        'Y':[1002, 1006, 1009, 1007, 1014]}\n",
    "\n",
    "df = pd.DataFrame(data)\n",
    "\n",
    "# 추정회귀직선 상관도 그리기\n",
    "draw_linear_regression(df.X, df.Y, xlabel='온도(C)', ylabel='봉강의 길이(mm)')\n",
    "\n",
    "\n",
    "# 추정회귀직선 회귀식 구하기 \n",
    "get_linear_regression_equation(df.X, df.Y)"
   ]
  },
  {
   "attachments": {},
   "cell_type": "markdown",
   "metadata": {},
   "source": [
    "### [실습] 예제 10-8: 추정회귀직선 구하기\n",
    "[예제 10-5]의 물 소비량(X)과 세탁량(Y)의 자료로부터 X에 대한 Y의 추정회귀직선을 구하기"
   ]
  },
  {
   "cell_type": "code",
   "execution_count": null,
   "metadata": {},
   "outputs": [],
   "source": [
    "data = {'X':[20, 30, 25, 40, 35, 50, 70, 60, 65, 55],\n",
    "        'Y':[2.5, 3.0, 2.5, 3.5, 4.0, 4.5, 5.0, 4.5, 4.0, 3.5]}\n",
    "\n",
    "df = pd.DataFrame(data)\n",
    "\n",
    "# 추정회귀직선 상관도 그리기\n",
    "\n",
    "\n",
    "# 추정회귀직선 회귀식 구하기 \n",
    "\n"
   ]
  },
  {
   "attachments": {},
   "cell_type": "markdown",
   "metadata": {},
   "source": [
    "### [실습] 예제 10-9: 추정회귀직선 구하기\n",
    "200여 개의 대리점을 가지고 있는 어느 제품 판매회사에서는 대리점의 크기( X )에 따른 판매 사원의 수( Y )를 예측하기 위해 10개의 대리점을 임의로 추출하여 다음과 같은 자료를 얻었다.<br>\n",
    "- a.단순선형회귀모형을 가정할 때, 추정회귀직선 구하기\n",
    "- b.오차항의 분산 $\\sigma^2$을 추정하라 : (MSE:평균제곱오차 구하기)\n",
    "- c.결정계수 $r^2$을 구하가"
   ]
  },
  {
   "cell_type": "code",
   "execution_count": null,
   "metadata": {
    "scrolled": false
   },
   "outputs": [],
   "source": [
    "# 추정회귀직선 회귀식 구하기 \n",
    "def get_linear_regression_value(a, b, df):\n",
    "    from statsmodels.formula.api import ols   # ols(Ordinary Least Squares): 선형 모형 계수 추정 방법\n",
    "\n",
    "    model = ols('df.Y ~ df.X', data=df).fit() # ols('종속변수명 ~ C(독립변수명)+C(독립변수명)..', data=데이터프레임객체)\n",
    "#     print(model.summary())\n",
    "    target_array = df.Y\n",
    "    target_pred1 = model.predict()\n",
    "    \n",
    "    # 방법1 : 직접 계산식 이용하는 경우\n",
    "    SST = np.sum((target_array - np.mean(target_array))**2)  # SST(편차의 제곱, 총변동), \n",
    "    SSR = np.sum((target_pred1 - np.mean(target_array))**2)  # SSR(편차와 잔차의 차이 제곱 : 회귀식으로 설명가능한 변동), \n",
    "    SSE = np.sum((target_array - target_pred1)**2)           # SSE(잔차의 제곱, 오차제곱합 : 회귀식으로 설명하지 못하는 변동)\n",
    "    MSE = SSE / (len(target_array) - 2)                   # MSE(평균제곱오차: 오차항의 분산 𝜎2의 추정량 S2)\n",
    "    S   = np.sqrt(MSE)                                    # S = 오차항의 분산 𝜎2에  대한 추정값의 표준오차 \n",
    "    r_squared = (1 - (SSE/SST))                           # 결정계수\n",
    "\n",
    "    print(f'SSE : {SSE : .4f} , n : {len(target_array)}')\n",
    "    print(f'평균제곱오차:오차항의 분산𝜎2의 추정량(S2)   : {MSE : .4f}')\n",
    "    print(f'오차항의 분산𝜎2에 대한 추정값의 표준오차(S) : {S : .4f}')\n",
    "    print(f'결정계수 R-squared : {r_squared : .4f}')\n",
    "    \n",
    "    # 방법2 : 모델 이용하는 경우\n",
    "#     SSE = sum((model.resid) ** 2)               # 모델 이용\n",
    "#     print(f'SSE : {SSE : .4f} , n : {len(target_array)}')\n",
    "#     print(f'결정계수: {model.rsquared: .4f}')   # 모델 이용\n",
    "\n",
    "\n",
    "\n",
    "data = {'X':[1, 1, 2, 3, 4, 4, 5, 6, 6, 8],\n",
    "        'Y':[2, 3, 4, 5, 7, 8, 10, 11, 12, 15]}\n",
    "\n",
    "df = pd.DataFrame(data)\n",
    "\n",
    "# 추정회귀직선 상관도 그리기\n",
    "# draw_linear_regression(df.X, df.Y, xlabel='대리점의크기(X)', ylabel='판매사원수(Y)')\n",
    "\n",
    "# a.단순선형회귀모형을 가정할 때, 추정회귀직선\n",
    "get_linear_regression_equation(df.X, df.Y)\n",
    "print()\n",
    "\n",
    "# b.오차항의 분산  𝜎2  추정\n",
    "get_linear_regression_value(df.X, df.Y, df)\n"
   ]
  },
  {
   "cell_type": "markdown",
   "metadata": {},
   "source": [
    "-------------------"
   ]
  },
  {
   "cell_type": "markdown",
   "metadata": {},
   "source": [
    "## <a name=\"사이킷런을이용한선형회귀\">사이킷런을 이용한 선형회귀</a> "
   ]
  },
  {
   "cell_type": "markdown",
   "metadata": {},
   "source": [
    "### 사이킷런(Scikit-learn)\n",
    "- **대표적인 머신러닝 라이브러리** : https://scikit-learn.org/\n",
    "- 2007년 구글 하계 코드 프로젝트 모임에 참여한 개발자들 중심으로 시작된 오픈 소스 개발 방식 라이브러리\n",
    "- 딥러닝 프레임워크는 제공 안함"
   ]
  },
  {
   "cell_type": "markdown",
   "metadata": {},
   "source": [
    "#### 머신러닝을 위해서는 필요한 것 5가지 \n",
    "- 1.데이터준비(데이터셋): 특성과 테이블(optional)로 이루어진 데이터\n",
    "- 2.모델선정: 데이터를 바탕으로 동자기 결정되는 모델\n",
    "- 3.하이퍼파라미터: 모델 설정 위해 학습에 사용되는 파라미터 (ex: learning rate, 훈련반복횟수, 가중치 초기화 값 등)\n",
    "- 4.학습:  학습을 위한 훈련단계\n",
    "- 5.검증: 검증의 여러 단계"
   ]
  },
  {
   "cell_type": "markdown",
   "metadata": {},
   "source": [
    "#### 선형 회귀분석 모델의 예측력 향상에 좋은 **4가지 기본 가정**\n",
    "- 1.**선형성**:   독립변수와 종속변수 간의 분포 관계가 **선형의 관계**를 가진다.\n",
    "- 2.**독립성**:   독립성은 다중 회귀분석의 중요한 기본 가정으로 독립변수와 다른 독립변수 간의 **상관관계가 적을 경우** 선형 회귀 모델의 예측력이 좋아진다.\n",
    "- 3.**등분산성**: 분산이란 데이터의 분포 정도에 대한 척도인데, 데이터가 특정한 패턴 없이 **고르게 분포**하는 것이, 특정한 좁은 구간에만 집중해서 분포하는 것보다 더 나은 예측을 보인다.\n",
    "- 4.**정규성**:   잔차(residual)란 회귀직선과 관측값과의 차이인데, 오차(error)라고도 한다. 이 **차이(오차)가 정규성을 만족**해야 한다."
   ]
  },
  {
   "cell_type": "markdown",
   "metadata": {},
   "source": [
    "### [실습] 사이킷런으로 선형회귀직선(추정회귀직선) 구하기\n",
    "예제 10-9 데이터를 이용하여 선형회귀직선 구하기"
   ]
  },
  {
   "cell_type": "code",
   "execution_count": null,
   "metadata": {},
   "outputs": [],
   "source": [
    "import pandas as pd\n",
    "import numpy as np\n",
    "from sklearn import linear_model  \n",
    "\n",
    "# 1. 데이터 준비\n",
    "data = {'X':[1, 1, 2, 3, 4, 4, 5, 6, 6, 8],\n",
    "        'Y':[2, 3, 4, 5, 7, 8, 10, 11, 12, 15]}\n",
    "df = pd.DataFrame(data)\n",
    "\n",
    "# 2. 학습모델 선정\n",
    "model = linear_model.LinearRegression()  # 선형회귀모델\n",
    "\n",
    "# 3. 하이퍼파라미터\n",
    "\n",
    "# 4. 학습\n",
    "X = [[i] for i in df.X]  # 사이킷런에서 독립변수(X)값은 2차원 형태로 만들어줘야한다.\n",
    "Y = df.Y\n",
    "model.fit(X, Y)\n",
    "\n",
    "# 5. 검증\n",
    "# y = ax + b\n",
    "coef = model.coef_               # 직선의 기울기(a)\n",
    "intercept = model.intercept_     # 직선의 절편(b)\n",
    "score = model.score(X, Y)        # 추정된 회귀직선의 정확도(결정계수 r2)\n",
    "print(f\"선형회귀직선: y = {coef[0]:.2f}x + {intercept: .2f}\")\n",
    "print(f\"선형회귀직선의 관계점수(R2): {score: .2f}\")"
   ]
  },
  {
   "cell_type": "markdown",
   "metadata": {},
   "source": [
    "### [실습] 키로 몸무게 추정하는 선형회귀 모델\n",
    "- 167cm 남학생의 몸무게는?\n",
    "- 167cm 여학생의 몸무게는? "
   ]
  },
  {
   "cell_type": "code",
   "execution_count": null,
   "metadata": {},
   "outputs": [],
   "source": [
    "# 1. 데이터 준비\n",
    "df = pd.read_excel('./data/키와몸무게.xlsx')\n",
    "df\n",
    "\n",
    "# 2. 학습모델 선정\n",
    "model = linear_model.LinearRegression()  # 선형회귀모델\n",
    "\n",
    "# 3. 하이퍼파라미터\n",
    "\n",
    "# 4. 학습\n",
    "X = df[['키','구분']]  # 구분: 남자 0, 여자 1\n",
    "Y = df.몸무게\n",
    "model.fit(X.values, Y)  # X 대신 X.values (warnings.warn 메시지 안나오게 하려면)\n",
    "\n",
    "# 5. 검증\n",
    "# y = ax + b\n",
    "coef = model.coef_               # 직선의 기울기(a)\n",
    "intercept = model.intercept_     # 직선의 절편(b)\n",
    "score = model.score(X, Y)        # 추정된 회귀직선의 정확도(결정계수 r2)\n",
    "print(f\"선형회귀직선: y = {coef[0]:.2f}x + {intercept: .2f}\")\n",
    "print(f\"선형회귀직선의 관계점수(R2): {score: .2f}\")\n",
    "print(f\"167cm 남학생 추정 몸무게: {model.predict([[167,0]])}\")\n",
    "print(f\"167cm 여학생 추정 몸무게: {model.predict([[167,1]])}\")\n",
    "print(f\"167cm 남학생, 여학생의 추정 몸무게: {model.predict([[167,0], [167,1]])}\")"
   ]
  },
  {
   "cell_type": "markdown",
   "metadata": {},
   "source": [
    "### [실습] 사이킷런 오차 함수 : 평균 제곱 오차"
   ]
  },
  {
   "cell_type": "code",
   "execution_count": null,
   "metadata": {},
   "outputs": [],
   "source": [
    "from sklearn.metrics import mean_squared_error\n",
    "\n",
    "y = np.array([1.2, 2.4, 2.5, 4.6, 5.4]) # 실측치\n",
    "y_hat = np.array([1, 2, 3, 4, 5])       # 추정치\n",
    "\n",
    "MSE = np.sum((y_hat - y)**2) /len(y)\n",
    "print(f'평균제곱오차(MSE) 직접계산: {MSE}')\n",
    "print(f'평균제곱오차(MSE) 함수사용: {mean_squared_error(y_hat, y)}')"
   ]
  },
  {
   "cell_type": "markdown",
   "metadata": {},
   "source": [
    "### [실습] 경사하강법과 학습의 원리\n",
    "- learning_rate : 경사 하강법에서 반복적으로 조금씩 최소값에 접근할 때 변화되는 변수 x의 양\n",
    "- epoch :  전체 데이터를 모두 넣어서 에러를 구하는 것을 1 에폭이라고 한다."
   ]
  },
  {
   "cell_type": "code",
   "execution_count": null,
   "metadata": {
    "scrolled": false
   },
   "outputs": [],
   "source": [
    "X = np.array([1, 4.5, 9, 10, 13])\n",
    "Y = np.array([0, 0.2, 2.5, 5.4, 7.3])\n",
    "\n",
    "# 직접계산하여 \n",
    "w, b = 0, 0   # y = wx + b 의 초기값\n",
    "learning_rate, epoch = 0.005, 1000  # 학습률과 학습 횟수\n",
    "for i in range(epoch):\n",
    "    y_pred = w*X + b      # 추정 선형회귀직선 식\n",
    "    error = y_pred - Y    # 성능척도: 잔차\n",
    "    w = w - learning_rate * (error * X).sum()    \n",
    "    b = b - learning_rate * error.sum()\n",
    "    \n",
    "print(f'w={w: .2f}, b={b: .2f}')\n",
    "print(f\"선형회귀직선: y = {w:.2f}x + {b: .2f}\")\n",
    "\n",
    "    \n",
    "# 산점도 + 추정회귀직선\n",
    "plt.scatter(X, Y, color='blue', marker='D')\n",
    "y_pred = w*X + b\n",
    "plt.plot(X, y_pred, 'r:')\n",
    "plt.show()"
   ]
  },
  {
   "cell_type": "markdown",
   "metadata": {},
   "source": [
    "--------------------------------"
   ]
  },
  {
   "cell_type": "markdown",
   "metadata": {},
   "source": [
    "### [실습] 사이킷런으로 상관분석하기 :  국가별 기대수명 \n",
    "- Data : https://www.kaggle.com/datasets/kumarajarshi/life-expectancy-who \n",
    "- WHO 데이터 : 2000 ~ 2015년 나라별 기대수명과 보건 예산, 질병 통계, 비만도 등 "
   ]
  },
  {
   "cell_type": "code",
   "execution_count": null,
   "metadata": {},
   "outputs": [],
   "source": [
    "# 1. 데이터 준비\n",
    "df = pd.read_csv('./data/life_expectancy.csv')\n",
    "df.head(3)"
   ]
  },
  {
   "cell_type": "code",
   "execution_count": null,
   "metadata": {},
   "outputs": [],
   "source": [
    "# 컬럼간 상관관계 확인\n",
    "df.dropna(inplace=True)   # 결측치 제거\n",
    "\n",
    "correlation_matrix = df.corr().round(2)\n",
    "sns.set(rc={'figure.figsize':(22, 20)})\n",
    "sns.heatmap(data=correlation_matrix, annot=True)\n",
    "plt.show()"
   ]
  },
  {
   "cell_type": "code",
   "execution_count": null,
   "metadata": {},
   "outputs": [],
   "source": [
    "# 기대수명과 피어슨 상관계수 높은 컬럼 선택\n",
    "print('기대수명과 상관계수 높은 변수')\n",
    "c = df.corr().round(3)['Life expectancy'] \n",
    "c = np.abs( c ) # 상관계수 절대값\n",
    "\n",
    "c.sort_values(ascending=True, inplace=True)  # 오름차순 정렬\n",
    "c = c[:-1]   # 자기 자신을 제외\n",
    "\n",
    "# 시각화\n",
    "plt.barh(c.index, c.values)\n",
    "plt.title('Correlation Coef with Life expectancy')\n",
    "plt.xlabel('Features')\n",
    "plt.ylabel('Correlation Coef')\n",
    "plt.show()"
   ]
  },
  {
   "cell_type": "code",
   "execution_count": null,
   "metadata": {},
   "outputs": [],
   "source": [
    "# 기대수명과 피어슨 상관계수 높은 컬럼 선택\n",
    "# 조건 검색\n",
    "c = c[c.values > 0.5]     # 상관계수 0.5 이상인 값 추출\n",
    "c.sort_values(ascending=False, inplace=True)  # 내림차순 정렬\n",
    "print(f'기대수명과 상관관계 높은 컬럼 : {c.index.to_list()}' )            # 컬럼명\n",
    "\n",
    "# 시각화\n",
    "sns.pairplot(df[c.index.to_list()])\n",
    "plt.show()"
   ]
  },
  {
   "cell_type": "code",
   "execution_count": null,
   "metadata": {},
   "outputs": [],
   "source": [
    "# 선형회귀모델 점수 확인\n",
    "X = df[c.index.to_list()]\n",
    "Y = df['Life expectancy']\n",
    "\n",
    "from sklearn.linear_model import LinearRegression\n",
    "from sklearn.model_selection import train_test_split\n",
    "\n",
    "X_train, X_test, y_train, y_test = train_test_split(X, Y, test_size=0.2)\n",
    "\n",
    "model = LinearRegression()\n",
    "model.fit(X_train, y_train)\n",
    "print(f'선형회귀모델 점수 = {model.score(X_test, y_test): .3f}')\n"
   ]
  },
  {
   "cell_type": "markdown",
   "metadata": {},
   "source": [
    "--------"
   ]
  },
  {
   "cell_type": "markdown",
   "metadata": {},
   "source": [
    "끝"
   ]
  }
 ],
 "metadata": {
  "kernelspec": {
   "display_name": "Python 3 (ipykernel)",
   "language": "python",
   "name": "python3"
  },
  "language_info": {
   "codemirror_mode": {
    "name": "ipython",
    "version": 3
   },
   "file_extension": ".py",
   "mimetype": "text/x-python",
   "name": "python",
   "nbconvert_exporter": "python",
   "pygments_lexer": "ipython3",
   "version": "3.10.9"
  }
 },
 "nbformat": 4,
 "nbformat_minor": 4
}
