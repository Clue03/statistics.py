{
 "cells": [
  {
   "cell_type": "markdown",
   "id": "bd2d669b",
   "metadata": {},
   "source": [
    "# 1장-집합과 함수\n",
    "\n",
    "- <a href=\"#1.1집합\">1.1 집합</a>\n",
    "- <a href=\"#1.2함수\">1.2 함수</a>\n",
    "- <a href=\"#1.3경우의수\">1.3 경우의 수</a>"
   ]
  },
  {
   "cell_type": "markdown",
   "id": "525265dc",
   "metadata": {},
   "source": [
    "## <a name=\"1.1집합\">1.1 집합<a>"
   ]
  },
  {
   "cell_type": "markdown",
   "id": "c35a2e2a",
   "metadata": {},
   "source": [
    "### 집합의 정의"
   ]
  },
  {
   "cell_type": "markdown",
   "id": "6f098961",
   "metadata": {},
   "source": [
    "- **주어진 조건에 의해 그 대상을 명확하게 구별할 수 있는 대상들의 모임**\n",
    "- 집합은 가장 기본적인 이산 구조(discrete structure)\n",
    "- 집합이란 순서를 고려하지 않은 서로 다른 개체(Object)들의 모임"
   ]
  },
  {
   "cell_type": "markdown",
   "id": "91d2ebba",
   "metadata": {},
   "source": [
    "### 파이썬에서의 집합(set) 자료형\n",
    "- ① 집합 자료는 키만 모아 놓은 딕셔너리의 특수한 형태\n",
    "- ② 딕셔너리의 키는 중복되면 안 되므로 세트에 들어 있는 값은 항상 유일\n",
    "- ③ 중복된 키는 자동으로 하나만 남음\n"
   ]
  },
  {
   "cell_type": "code",
   "execution_count": null,
   "id": "54183759",
   "metadata": {},
   "outputs": [],
   "source": [
    "# 파이썬에서 여러 데이터를 담을 수 있는 자료형\n",
    "\n",
    "l = list() # []\n",
    "t = tuple() #()\n",
    "d = dict()  #{key:value}\n",
    "s = set() #{}"
   ]
  },
  {
   "cell_type": "markdown",
   "id": "7307a011",
   "metadata": {},
   "source": [
    "### 집합의 정의와 사용"
   ]
  },
  {
   "cell_type": "code",
   "execution_count": 2,
   "id": "18c811ff",
   "metadata": {},
   "outputs": [
    {
     "name": "stdout",
     "output_type": "stream",
     "text": [
      "set() <class 'set'>\n",
      "{1, 2, 3, 4, 5} <class 'set'>\n"
     ]
    }
   ],
   "source": [
    "mySet = set()\n",
    "print(mySet, type(mySet))\n",
    "\n",
    "mySet = {1,2,3,4,5}\n",
    "print(mySet, type(mySet))\n"
   ]
  },
  {
   "cell_type": "code",
   "execution_count": 5,
   "id": "8bbaf41b",
   "metadata": {},
   "outputs": [
    {
     "name": "stdout",
     "output_type": "stream",
     "text": [
      "{'o', 'H', 'e', 'l'}\n"
     ]
    }
   ],
   "source": [
    "mySet = set('Hello')\n",
    "print(mySet)"
   ]
  },
  {
   "cell_type": "markdown",
   "id": "dcae3fb7",
   "metadata": {},
   "source": [
    "### 집합을 표현하는 방법"
   ]
  },
  {
   "cell_type": "code",
   "execution_count": null,
   "id": "06586602",
   "metadata": {},
   "outputs": [],
   "source": [
    "# 원소나열별\n",
    "print(f\"원소나열법: { {'b','y','t','e'} }\")\n",
    "\n",
    "string = 'byte'\n",
    "print(f'원소나열법: {set(string)}')\n",
    "\n",
    "# 조건제시법\n",
    "print(f'조건제시법: { { s for s in string } }')"
   ]
  },
  {
   "cell_type": "markdown",
   "id": "c778e63c",
   "metadata": {},
   "source": [
    "### 집합의 크기(cardinality)"
   ]
  },
  {
   "cell_type": "code",
   "execution_count": 6,
   "id": "5ff86a1c",
   "metadata": {},
   "outputs": [
    {
     "name": "stdout",
     "output_type": "stream",
     "text": [
      "4\n"
     ]
    }
   ],
   "source": [
    "mySet = {1,2,2,3,3,4,4,4,}\n",
    "\n",
    "print(len(mySet))"
   ]
  },
  {
   "cell_type": "code",
   "execution_count": null,
   "id": "1dbb8cde",
   "metadata": {},
   "outputs": [],
   "source": [
    "mySet = {'사과','포도','오렌지','포도','포도'}\n",
    "\n"
   ]
  },
  {
   "cell_type": "code",
   "execution_count": 8,
   "id": "28004c91",
   "metadata": {
    "scrolled": true
   },
   "outputs": [
    {
     "name": "stdout",
     "output_type": "stream",
     "text": [
      "5\n"
     ]
    }
   ],
   "source": [
    "myList = ['사과','포도','오렌지','포도','포도']\n",
    "\n",
    "print(len(myList))\n"
   ]
  },
  {
   "cell_type": "markdown",
   "id": "89c3e9b6",
   "metadata": {},
   "source": [
    "### 부분집합( ⊂ ) "
   ]
  },
  {
   "cell_type": "code",
   "execution_count": 9,
   "id": "1bbecab9",
   "metadata": {},
   "outputs": [
    {
     "name": "stdout",
     "output_type": "stream",
     "text": [
      "False\n",
      "True\n",
      "True\n",
      "True\n"
     ]
    }
   ],
   "source": [
    "A = {2, 4, 6, 8, 10}\n",
    "B = {1, 2, 3, 4, 5}\n",
    "C = {2, 4, 8}\n",
    "D = set()    # 공집합\n",
    "\n",
    "print(B.issubset(A))   # B ⊂ A 부분집합 확인 함수 issubset()\n",
    "print(C.issubset(A))   # C ⊂ A \n",
    "print(D.issubset(A))   # D ⊂ A 공집합도 부분집합\n",
    "print(A.issubset(A))   # A ⊂ A 자기 자신도 부분집합"
   ]
  },
  {
   "cell_type": "markdown",
   "id": "9b6a04ea",
   "metadata": {},
   "source": [
    "### 여러 가지 집합"
   ]
  },
  {
   "cell_type": "markdown",
   "id": "d2d71e27",
   "metadata": {},
   "source": [
    "### 1.교집합 : &, intersection()"
   ]
  },
  {
   "cell_type": "code",
   "execution_count": 11,
   "id": "56c123ad",
   "metadata": {},
   "outputs": [
    {
     "name": "stdout",
     "output_type": "stream",
     "text": [
      "{2, 4}\n",
      "{2, 4}\n"
     ]
    }
   ],
   "source": [
    "A = {2, 4, 6, 8, 10}\n",
    "B = {1, 2, 3, 4, 5}\n",
    "\n",
    "print(B.intersection(A))\n",
    "print(A & B)\n"
   ]
  },
  {
   "cell_type": "markdown",
   "id": "759420f4",
   "metadata": {},
   "source": [
    "### 2. 합집합 : |, union()"
   ]
  },
  {
   "cell_type": "code",
   "execution_count": 12,
   "id": "73c5bda2",
   "metadata": {},
   "outputs": [
    {
     "name": "stdout",
     "output_type": "stream",
     "text": [
      "{1, 2, 3, 4, 5, 6, 8, 10}\n",
      "{1, 2, 3, 4, 5, 6, 8, 10}\n"
     ]
    }
   ],
   "source": [
    "print(A | B)\n",
    "print(A.union(B))\n"
   ]
  },
  {
   "cell_type": "markdown",
   "id": "61def58b",
   "metadata": {},
   "source": [
    "### 3. 차집합 : -, difference()"
   ]
  },
  {
   "cell_type": "code",
   "execution_count": 13,
   "id": "79240a71",
   "metadata": {},
   "outputs": [
    {
     "name": "stdout",
     "output_type": "stream",
     "text": [
      "{8, 10, 6}\n",
      "{8, 10, 6}\n"
     ]
    }
   ],
   "source": [
    "print(A - B)\n",
    "print(A.difference(B))\n"
   ]
  },
  {
   "cell_type": "markdown",
   "id": "58ab7dba",
   "metadata": {},
   "source": [
    "### 4. 여집합: ^"
   ]
  },
  {
   "cell_type": "code",
   "execution_count": 14,
   "id": "42c107db",
   "metadata": {},
   "outputs": [
    {
     "name": "stdout",
     "output_type": "stream",
     "text": [
      "{1, 3, 5, 7, 9}\n"
     ]
    }
   ],
   "source": [
    "U = {1, 2, 3, 4, 5, 6, 7, 8, 9, 10}\n",
    "A = {2, 4, 6, 8, 10}\n",
    "\n",
    "print(U^A)\n"
   ]
  },
  {
   "cell_type": "markdown",
   "id": "d10a39f3",
   "metadata": {},
   "source": [
    "### [실습] 예제1-2:  집합 구하기\n",
    "전체집합이 U = {x|x는 자연수, x<=10}일 때, 두 집합 A={1,3,5,7}과 B={3,4,5,6}에 대해 다음 집합을 구하라.\n",
    "- a. $A ∩ B$ , $A \\cap B$\n",
    "- b. $A ∪ B$, $A \\cup B$\n",
    "- c. $A - B$\n",
    "- d. $A ∩ B^c$ "
   ]
  },
  {
   "cell_type": "code",
   "execution_count": 15,
   "id": "79ae28bb",
   "metadata": {
    "scrolled": true
   },
   "outputs": [
    {
     "name": "stdout",
     "output_type": "stream",
     "text": [
      "{1, 7}\n"
     ]
    }
   ],
   "source": [
    "U = {1,2,3,4,5,6,7,8,9,10}\n",
    "A = {1,3,5,7}\n",
    "B = {3,4,5,6}\n",
    "\n",
    "print(A.intersection(U ^ B))\n"
   ]
  },
  {
   "cell_type": "markdown",
   "id": "31389a68",
   "metadata": {},
   "source": [
    "### [실습] 예제1-3: 집합의 성질\n",
    "전체집합이 U = {x|x는 자연수, x<=10}에 대해 부분집합 A, B, C를 다음과 같이 정의한다. \n",
    "A={x|x는 홀수}, B={x|x는 소수}, C={x|x는 3의 배수}\n",
    "다음 집합을 구하라.\n",
    "- a. $(A ∩ B) ∪ C$ \n",
    "- b. $(A ∪ C) ∩ (B ∪ C)$\n",
    "- c. $(A ∪ B) ∩ C$\n",
    "- d. $(A ∩ C) ∪ (B ∩ C)$"
   ]
  },
  {
   "cell_type": "code",
   "execution_count": null,
   "id": "9b1b10f9",
   "metadata": {},
   "outputs": [],
   "source": [
    "%pip install sympy"
   ]
  },
  {
   "cell_type": "code",
   "execution_count": 16,
   "id": "6b28d551",
   "metadata": {
    "scrolled": true
   },
   "outputs": [
    {
     "name": "stdout",
     "output_type": "stream",
     "text": [
      "{1, 2, 3, 4, 5, 6, 7, 8, 9, 10}\n",
      "{1, 3, 5, 7, 9}\n",
      "{2, 3, 5, 7}\n",
      "{9, 3, 6}\n",
      "a.(A ∩ B) ∪ C       = {3, 5, 6, 7, 9}\n",
      "b.(A ∪ C) ∩ (B ∪ C)= {3, 5, 6, 7, 9}\n",
      "c.(A ∪ B) ∩ C       = {9, 3}\n",
      "d(A ∩ C) ∪ (B ∩ C) = {9, 3}\n"
     ]
    }
   ],
   "source": [
    "import sympy\n",
    "\n",
    "U = {1,2,3,4,5,6,7,8,9,10}   # x <=10인 자연수\n",
    "A = {1,3,5,7,9}   # x는 홀수\n",
    "B = {2,3,5,7}   # x는 소수 \n",
    "C = {3,6,9}   # x는 3의 배수\n",
    "\n",
    "print(U)\n",
    "print(A)\n",
    "print(B)\n",
    "print(C)\n",
    "\n",
    "print(f'a.(A ∩ B) ∪ C       = {(A & B) | C}')\n",
    "print(f'b.(A ∪ C) ∩ (B ∪ C) = {(A | C) & (B | C)}')\n",
    "print(f'c.(A ∪ B) ∩ C       = {(A | B) &  C}')\n",
    "print(f'd(A ∩ C) ∪ (B ∩ C) = {(A & C) | (B & C)}')"
   ]
  },
  {
   "cell_type": "markdown",
   "id": "ce659944",
   "metadata": {},
   "source": [
    "#### [참고] 소수(prime number) 판별 알고리즘"
   ]
  },
  {
   "cell_type": "code",
   "execution_count": null,
   "id": "09dba016",
   "metadata": {},
   "outputs": [],
   "source": [
    "def is_prime_number(x):\n",
    "    # 1 not being a prime number, is ignored\n",
    "    if x > 1:\n",
    "        for i in range(2, x):   \n",
    "            if (x % i) == 0:  \n",
    "                print(f\"{x} is not a prime number\")\n",
    "                return False\n",
    "        print(f\"{x} is a prime number\")\n",
    "    else:\n",
    "         print(f\"{x} is not a prime number\")\n",
    "        \n",
    "X = {1, 2, 5, 6, 7, 8, 9}\n",
    "for x in X:\n",
    "    is_prime_number(x)\n"
   ]
  },
  {
   "cell_type": "markdown",
   "id": "60004525",
   "metadata": {},
   "source": [
    "### 집합에 요소 추가하기 & 삭제하기"
   ]
  },
  {
   "cell_type": "markdown",
   "id": "8687ecf3",
   "metadata": {},
   "source": [
    "#### *(element) 한 개 추가하기 : A.add()"
   ]
  },
  {
   "cell_type": "code",
   "execution_count": null,
   "id": "a1b5890b",
   "metadata": {
    "scrolled": true
   },
   "outputs": [],
   "source": [
    "A = {1,3,5,7}\n",
    "\n",
    "# 요소 한개 추가하기\n",
    "print('요소 한개 추가: add')\n",
    "A.add(9)\n",
    "print(A)"
   ]
  },
  {
   "cell_type": "markdown",
   "id": "6e038909",
   "metadata": {},
   "source": [
    "#### *(element) 여러 개 추가하기: a.update()"
   ]
  },
  {
   "cell_type": "code",
   "execution_count": null,
   "id": "692f0501",
   "metadata": {},
   "outputs": [],
   "source": [
    "A = {1,3,5,7}\n",
    "\n",
    "# 요소 여러 개 추가하기\n",
    "print('요소 여러개 추가:update')\n",
    "A.update([9,11,13])\n",
    "print(A)"
   ]
  },
  {
   "cell_type": "markdown",
   "id": "eb2734c4",
   "metadata": {},
   "source": [
    "#### *(element) 요소 한 개 삭제하기 : A.remove"
   ]
  },
  {
   "cell_type": "code",
   "execution_count": null,
   "id": "3587c46c",
   "metadata": {
    "scrolled": false
   },
   "outputs": [],
   "source": [
    "A = {1,3,5,7}\n",
    "\n",
    "print('요소 한개 제거: remove')\n",
    "A.remove(5)  # 5 제거하기\n",
    "\n",
    "print(A)"
   ]
  },
  {
   "cell_type": "markdown",
   "id": "81e1549a",
   "metadata": {},
   "source": [
    "--------"
   ]
  },
  {
   "cell_type": "markdown",
   "id": "d6afd509",
   "metadata": {},
   "source": [
    "## <a name=\"1.2함수\">1.2 함수</a>"
   ]
  },
  {
   "cell_type": "markdown",
   "id": "0bb8ba67",
   "metadata": {},
   "source": [
    "### 함수의 정의"
   ]
  },
  {
   "cell_type": "code",
   "execution_count": 17,
   "id": "114e7008",
   "metadata": {},
   "outputs": [
    {
     "data": {
      "text/plain": [
       "20"
      ]
     },
     "execution_count": 17,
     "metadata": {},
     "output_type": "execute_result"
    }
   ],
   "source": [
    "# 함수 정의 : y = f(x) = 2x\n",
    "def f(x):\n",
    "    return x * 2\n",
    "\n",
    "\n",
    "# 함수 호출\n",
    "\n",
    "f(10)"
   ]
  },
  {
   "cell_type": "markdown",
   "id": "a1af1bdb",
   "metadata": {},
   "source": [
    "### 함수 판별하기\n",
    "함수란 공집합이 아닌 두 집합 X와 Y에 대해, X안의 각 원소 x를 Y안의 오직 한 원소 y에 대응시키는 관계 : **1대1로의 관계**"
   ]
  },
  {
   "cell_type": "code",
   "execution_count": 18,
   "id": "7ae32763",
   "metadata": {
    "scrolled": true
   },
   "outputs": [
    {
     "name": "stdout",
     "output_type": "stream",
     "text": [
      "domainCnt = {4: 1, 2: 1, 3: 1, 1: 1}\n",
      "f는 함수다.\n",
      "f의 정의역 Dom(f)={1, 2, 3, 4}\n",
      "f의 공변역 coDom(f)={'d', 'a', 'c', 'b'}\n",
      "f의 치역 Ran(f)={'d', 'a', 'c'}\n"
     ]
    }
   ],
   "source": [
    "# f의 원소(x,y)가 (X, Y)에 속하는지 + 정의역의 개수\n",
    "def isFunction(X, Y, f):\n",
    "    is_func = True\n",
    "    domainCnt= dict()   # 정의역의 대응 개수를 딕셔너리형태로 만듦\n",
    "    \n",
    "    # 함수 여부 체크\n",
    "    for r in f:\n",
    "        x, y = r[0], r[1]        \n",
    "        if x not in X: is_func = False\n",
    "        if y not in Y: is_func = False\n",
    "        \n",
    "        # 정의역 개수 세기\n",
    "        if x not in domainCnt: domainCnt[x] = 1\n",
    "        else: domainCnt[x] += 1     \n",
    "        # 함수 체크(X가 여러 개의 Y와 연결되어 있는지 확인)\n",
    "        if domainCnt[x] > 1: is_func = False \n",
    "    \n",
    "    print(f'domainCnt = {domainCnt}')\n",
    "    return is_func\n",
    "\n",
    "\n",
    "X = {1, 2, 3, 4}\n",
    "Y = {'a','b','c','d'}\n",
    "f = {(1,'a'), (2,'a'), (3,'d'), (4,'c')}\n",
    "\n",
    "if isFunction(X, Y, f):\n",
    "    print(f'f는 함수다.')\n",
    "    print(f'f의 정의역 Dom(f)={X}')\n",
    "    print(f'f의 공변역 coDom(f)={Y}') \n",
    "    print(f'f의 치역 Ran(f)={ set(r[1] for r in f)}')       \n",
    "else:\n",
    "    print(f'f는 함수가 아니다.')"
   ]
  },
  {
   "attachments": {},
   "cell_type": "markdown",
   "id": "0a6af24b",
   "metadata": {},
   "source": [
    "### [실습] 예제 1-7: 함수의 합성: 합성 함수 표현\n",
    "- $𝑔∘𝑓:𝑋 → 𝑍, (𝑔∘𝑓)(𝑥)=𝑔[𝑓(𝑥)]$\n",
    "- $f(x)=x^2+3, g(x)=x+2$에 대해 𝑔∘𝑓, 𝑓∘𝑔, 𝑓∘𝑓  구하기"
   ]
  },
  {
   "cell_type": "code",
   "execution_count": 19,
   "id": "47fe1cb7",
   "metadata": {},
   "outputs": [
    {
     "name": "stdout",
     "output_type": "stream",
     "text": [
      "{6, 9, 14, 21, 30}\n"
     ]
    }
   ],
   "source": [
    "def f(x):\n",
    "    return x**2 + 3\n",
    "\n",
    "def g(x):\n",
    "    return x + 2\n",
    "\n",
    "def h(func, x):\n",
    "    f1 = func[0]\n",
    "    f2 = func[1]\n",
    "    return f2(f1(x))\n",
    "    \n",
    "    \n",
    "X = {1, 2, 3, 4, 5}\n",
    "\n",
    "# 𝑔∘𝑓\n",
    "func = [f, g]\n",
    "Z = { h(func, x) for x in X }\n",
    "print(Z)"
   ]
  },
  {
   "cell_type": "code",
   "execution_count": null,
   "id": "facc767f",
   "metadata": {},
   "outputs": [],
   "source": [
    "# 𝑓∘𝑔\n",
    "func = [g, f]\n",
    "Z = { h(func, x) for x in X }\n",
    "print(Z)"
   ]
  },
  {
   "cell_type": "code",
   "execution_count": null,
   "id": "15df4da5",
   "metadata": {},
   "outputs": [],
   "source": [
    "# 𝑓∘𝑓\n",
    "func = [f, f]\n",
    "Z = { h(func, x) for x in X }\n",
    "print(Z)"
   ]
  },
  {
   "cell_type": "markdown",
   "id": "56fb3ff7",
   "metadata": {},
   "source": [
    "### [실습] 1-8: 일차함수 그래프 그리기"
   ]
  },
  {
   "cell_type": "code",
   "execution_count": null,
   "id": "19e5a0ad",
   "metadata": {},
   "outputs": [],
   "source": [
    "# 그래프 라이브러리 설치하기\n",
    "%pip install matplotlib"
   ]
  },
  {
   "cell_type": "code",
   "execution_count": 20,
   "id": "d5a509b4",
   "metadata": {},
   "outputs": [],
   "source": [
    "import matplotlib.pyplot as plt\n",
    "\n",
    "# 그래프 크기 설정\n",
    "plt.rcParams['figure.figsize'] = (5, 3)        # 그래프 크기: (가로,세로) 인치 단위\n",
    "plt.rcParams['axes.unicode_minus'] = False    # 그래프 눈금 값에서 (-)숫자표시"
   ]
  },
  {
   "cell_type": "markdown",
   "id": "8a938015",
   "metadata": {},
   "source": [
    "### 일차함수(linear function)"
   ]
  },
  {
   "cell_type": "code",
   "execution_count": 21,
   "id": "1dc9b517",
   "metadata": {
    "scrolled": true
   },
   "outputs": [
    {
     "data": {
      "image/png": "[encoded data removed]",
      "text/plain": [
       "<Figure size 500x300 with 1 Axes>"
      ]
     },
     "metadata": {},
     "output_type": "display_data"
    }
   ],
   "source": [
    "import matplotlib.pyplot as plt\n",
    "\n",
    "\n",
    "def draw_linear_graph(a=1, b=1):    \n",
    "    X = list(range(-5,5,1))     # X축 값\n",
    "    Y = [(a*x + b) for x in X] # Y축 값\n",
    "    #print(f'X: {X}')\n",
    "    #print(f'Y: {Y}')\n",
    "    \n",
    "    plt.plot(X, Y)        # 선 그래프 그리기\n",
    "    plt.grid()            # grid표시\n",
    "    plt.xlabel('X-axis')  # X축 이름\n",
    "    plt.ylabel('Y-axis')  # Y축 이름\n",
    "    title = f'Linear equation graph: $y={str(a)}x+{str(b)}$'\n",
    "    plt.title(title)\n",
    "    #pl.savefig('Linear_graph_1.png')\n",
    "\n",
    "\n",
    "# y = ax + b\n",
    "# 분수 표현을 input()함수로 입력받기 위해 eval()함수 사용한다.\n",
    "a = eval(input('Enter the coefficient of x: ')) \n",
    "b = eval(input('Enter the constant: '))\n",
    "\n",
    "draw_linear_graph(a, b)"
   ]
  },
  {
   "cell_type": "markdown",
   "id": "166c4fb6",
   "metadata": {},
   "source": [
    "### 이차함수(quadratic function)"
   ]
  },
  {
   "cell_type": "code",
   "execution_count": 22,
   "id": "c390c1f0",
   "metadata": {},
   "outputs": [
    {
     "data": {
      "image/png": "[encoded data removed]",
      "text/plain": [
       "<Figure size 500x300 with 1 Axes>"
      ]
     },
     "metadata": {},
     "output_type": "display_data"
    }
   ],
   "source": [
    "import matplotlib.pyplot as plt\n",
    "\n",
    "def f(x):\n",
    "    return x ** 2\n",
    "\n",
    "X = [-1,0,1]\n",
    "Y = [f(x) for x in X]\n",
    "\n",
    "plt.plot(X, Y, 'ro-', label=\"$ y=f(x)=x^2 $\")\n",
    "plt.xlabel(\"x\")\n",
    "plt.ylabel(\"y\")\n",
    "plt.grid()\n",
    "plt.title(\"function graph: $ y=f(x)=x^2 $\")\n",
    "plt.legend()\n",
    "\n",
    "plt.show()"
   ]
  },
  {
   "cell_type": "code",
   "execution_count": 24,
   "id": "7d57e514",
   "metadata": {},
   "outputs": [
    {
     "data": {
      "image/png": "[encoded data removed]",
      "text/plain": [
       "<Figure size 500x300 with 1 Axes>"
      ]
     },
     "metadata": {},
     "output_type": "display_data"
    }
   ],
   "source": [
    "import matplotlib.pyplot as plt\n",
    "import numpy as np\n",
    "\n",
    "def f(x):\n",
    "    return x ** 2\n",
    "\n",
    "x = np.linspace(-1, 1, 1000)   # -1 ~ 1 사이 균등분할 10개 실수\n",
    "\n",
    "plt.plot(x, f(x), 'ro-', label=\"$ y=f(x)=x^2 $\")   \n",
    "plt.xlabel(\"x\")\n",
    "plt.ylabel(\"y\")\n",
    "plt.grid()\n",
    "plt.title(\"function graph: $ y=f(x)=x^2 $\")\n",
    "plt.legend()\n",
    "\n",
    "plt.show()"
   ]
  },
  {
   "cell_type": "markdown",
   "id": "3a8531c7",
   "metadata": {},
   "source": [
    "### [실습] 1-9: 일차함수 그래프 그리기"
   ]
  },
  {
   "cell_type": "code",
   "execution_count": 25,
   "id": "756f9f77",
   "metadata": {
    "scrolled": true
   },
   "outputs": [
    {
     "data": {
      "image/png": "[encoded data removed]",
      "text/plain": [
       "<Figure size 500x300 with 1 Axes>"
      ]
     },
     "metadata": {},
     "output_type": "display_data"
    }
   ],
   "source": [
    "import matplotlib.pyplot as plt\n",
    "import numpy as np\n",
    "\n",
    "def draw_graph(a=1, b=1, c=1, xmin=1, xmax=5):\n",
    "    X = np.arange(xmin,xmax,0.001)\n",
    "    Y = [(a*x**2 + b*x + c) for x in X]\n",
    "    \n",
    "    plt.plot(X, Y)             # 선 그래프 그리기\n",
    "    plt.grid()                 # grid표시\n",
    "    plt.xlabel('X-axis')       # X축 이름\n",
    "    plt.ylabel('Y-axis')       # Y축 이름\n",
    "    title = f'function graph: $y={str(a)}x^2+{str(b)}x+{str(c)}$'\n",
    "    plt.title(title)\n",
    "    plt.show()\n",
    "\n",
    "# y=ax^2 + bx + c\n",
    "a = eval(input('Enter the coefficient of x^2: ')) # 계수\n",
    "b = eval(input('Enter the coefficient of x: '))   # 계수\n",
    "c = eval(input('Enter the constant: '))           # 상수\n",
    "\n",
    "xmin = float(input('Enter the minimum of x-range: '))  # x축 최소값\n",
    "xmax = float(input('Enter the maximum of x-range: '))  # x축 최대값\n",
    "    \n",
    "draw_graph(a, b, c, xmin, xmax)\n"
   ]
  },
  {
   "cell_type": "markdown",
   "id": "e1a8b9a4",
   "metadata": {},
   "source": [
    "----------"
   ]
  },
  {
   "cell_type": "markdown",
   "id": "348501b7",
   "metadata": {},
   "source": [
    "## <a name=\"1.3경우의수\">1.3 경우의 수"
   ]
  },
  {
   "cell_type": "markdown",
   "id": "a100dd6d",
   "metadata": {},
   "source": [
    "### 합의 법칙(rule of sum)"
   ]
  },
  {
   "cell_type": "markdown",
   "id": "bde718cb",
   "metadata": {},
   "source": [
    "### [실습] 예제1-10 경우의 수 구하기\n",
    "주사위를 두 번 던져서 나온 눈의 수의 합이 소수인 경우의 수 구하라."
   ]
  },
  {
   "cell_type": "markdown",
   "id": "ce7f0b5e",
   "metadata": {},
   "source": [
    "#### 소수판별 함수를 만들어서 사용"
   ]
  },
  {
   "cell_type": "code",
   "execution_count": null,
   "id": "270129f5",
   "metadata": {
    "scrolled": true
   },
   "outputs": [],
   "source": [
    "def is_prime_number(x):\n",
    "    # 1 not being a prime number, is ignored\n",
    "    if x > 1:\n",
    "        for i in range(2, x):\n",
    "             if (x % i) == 0:\n",
    "                return False\n",
    "        return True\n",
    "    else:\n",
    "         return False\n",
    "        \n",
    "# 주사위 2개 두 번 던져서 나온 눈의 합이 소수인 경우\n",
    "d1 = list(range(1,7))  # [1,2,3,4,5,6]\n",
    "d2 = list(range(1,7))\n",
    "cases = list()\n",
    "\n",
    "for x in d1:\n",
    "    for y in d2:\n",
    "        if is_prime_number(x+y):\n",
    "            cases.append((x,y))\n",
    "            \n",
    "print(f'주사위 두 눈의 수의 합이 소수인 경우 -> {cases}')\n",
    "print(f'경우의 수 -> {len(cases)} 가지')"
   ]
  },
  {
   "cell_type": "markdown",
   "id": "53a27fbc",
   "metadata": {},
   "source": [
    "#### sympy라이브러리의 isprime함수 사용"
   ]
  },
  {
   "cell_type": "code",
   "execution_count": 26,
   "id": "8b5f992e",
   "metadata": {},
   "outputs": [
    {
     "name": "stdout",
     "output_type": "stream",
     "text": [
      "주사위 두 눈의 수의 합이 소수인 경우 -> [(1, 1), (1, 2), (1, 4), (1, 6), (2, 1), (2, 3), (2, 5), (3, 2), (3, 4), (4, 1), (4, 3), (5, 2), (5, 6), (6, 1), (6, 5)]\n",
      "경우의 수 -> 15 가지\n"
     ]
    }
   ],
   "source": [
    "import sympy\n",
    "\n",
    "d1 = list(range(1,7))  # [1,2,3,4,5,6]\n",
    "d2 = list(range(1,7))\n",
    "cases = list()\n",
    "\n",
    "for x in d1:\n",
    "    for y in d2:\n",
    "        if sympy.isprime(x+y):\n",
    "            cases.append((x,y))\n",
    "            \n",
    "print(f'주사위 두 눈의 수의 합이 소수인 경우 -> {cases}')\n",
    "print(f'경우의 수 -> {len(cases)} 가지')\n"
   ]
  },
  {
   "cell_type": "markdown",
   "id": "b339da66",
   "metadata": {},
   "source": [
    "### 곱의 법칙(rule of product)"
   ]
  },
  {
   "cell_type": "markdown",
   "id": "8ffd8892",
   "metadata": {},
   "source": [
    "### [실습] 예제1-11 경우의 수 구하기\n",
    "한 평면 위에 서로 다른 점 5개 중에서 두 점을 연결하여 만들 수 있는 서로 다른 선분의 개수"
   ]
  },
  {
   "cell_type": "markdown",
   "id": "746b3025",
   "metadata": {},
   "source": [
    "#### 반복문으로 모든 경우의 수 세기"
   ]
  },
  {
   "cell_type": "code",
   "execution_count": null,
   "id": "4c557f2a",
   "metadata": {},
   "outputs": [],
   "source": [
    "S = {'A','B','C','D','E'}\n",
    "\n",
    "cases = set() \n",
    "for x in S:\n",
    "    for y in S:\n",
    "        if (x == y) or ((x, y) in cases) or ((y, x) in cases):\n",
    "            continue\n",
    "        cases.add((x, y))\n",
    "            \n",
    "print(f'조합의 경우 -> {cases} ')     \n",
    "print(f'경우의 수 -> {len(cases)} 가지')"
   ]
  },
  {
   "cell_type": "markdown",
   "id": "bcf3e047",
   "metadata": {},
   "source": [
    "#### itertools의 조합(combinations 사용하는 경우)"
   ]
  },
  {
   "cell_type": "code",
   "execution_count": 27,
   "id": "b0419668",
   "metadata": {},
   "outputs": [
    {
     "name": "stdout",
     "output_type": "stream",
     "text": [
      "조합의 경우 -> [('B', 'C'), ('B', 'E'), ('B', 'D'), ('B', 'A'), ('C', 'E'), ('C', 'D'), ('C', 'A'), ('E', 'D'), ('E', 'A'), ('D', 'A')] \n",
      "경우의 수 -> 10 가지\n"
     ]
    }
   ],
   "source": [
    "import itertools\n",
    "\n",
    "S = {'A','B','C','D','E'}\n",
    "\n",
    "cases = list(itertools.combinations(S, 2))\n",
    "\n",
    "print(f'조합의 경우 -> {cases} ')     \n",
    "print(f'경우의 수 -> {len(cases)} 가지')"
   ]
  },
  {
   "cell_type": "markdown",
   "id": "089ec2a1",
   "metadata": {},
   "source": [
    "### 순열과 조합"
   ]
  },
  {
   "cell_type": "markdown",
   "id": "d3e59056",
   "metadata": {},
   "source": [
    "#### #파이썬 itertools 라이브러리\n",
    "\n",
    "- 중복(O) + 순서(O) : product( )\n",
    "- 중복(O) + 순서(x) : combination_with_replacement()\n",
    "- 중복(x) + 순서(O) : permutations()\n",
    "- 중복(x) + 순서(x) : combinations()"
   ]
  },
  {
   "cell_type": "markdown",
   "id": "e53e0ead",
   "metadata": {},
   "source": [
    "### [실습] 4개 문자 A, B, C, D 나열하는 경우의 수"
   ]
  },
  {
   "cell_type": "markdown",
   "id": "fc6a8663",
   "metadata": {},
   "source": [
    "#### 4개의 문자를 서로 다르게 나열하는 방법의 수: 중복(x) + 순서(O) : permutations()"
   ]
  },
  {
   "cell_type": "code",
   "execution_count": null,
   "id": "6cc416cf",
   "metadata": {},
   "outputs": [],
   "source": [
    "import itertools\n",
    "\n",
    "\n"
   ]
  },
  {
   "cell_type": "code",
   "execution_count": null,
   "id": "24f3e586",
   "metadata": {},
   "outputs": [],
   "source": [
    "\n"
   ]
  },
  {
   "cell_type": "markdown",
   "id": "7c109251",
   "metadata": {},
   "source": [
    "#### 4개 중 서로 다른 문자 2개 순서없이 나열하는 방법의 수: 반복(x) + 순서(x) : combinations()"
   ]
  },
  {
   "cell_type": "code",
   "execution_count": null,
   "id": "725c1d80",
   "metadata": {},
   "outputs": [],
   "source": [
    "\n",
    "\n"
   ]
  },
  {
   "cell_type": "code",
   "execution_count": null,
   "id": "4b509e7a",
   "metadata": {},
   "outputs": [],
   "source": [
    "\n"
   ]
  },
  {
   "cell_type": "markdown",
   "id": "7223b518",
   "metadata": {},
   "source": [
    "### [실습] 예제1-12: 순열 - 서로 다른 숫자 나열하는 경우의 수\n",
    "숫자 0,1,2,3,4,5 중 서로 다른 숫자 3개를 선택하여 세 자리 숫자 만드는 경우"
   ]
  },
  {
   "cell_type": "code",
   "execution_count": null,
   "id": "fd86043f",
   "metadata": {},
   "outputs": [],
   "source": [
    "cases = list(itertools.permutations({0,1,2,3,4,5}, 3))\n",
    "\n",
    "set_a = set()  # 각 데이터가 저장될 집합\n",
    "set_b = set() \n",
    "set_c = set() \n",
    "set_d = set()  \n",
    "\n",
    "for (x, y, z) in cases:\n",
    "    if x == 0: continue  # 세 자리 숫자중 첫째자리가 0인 경우 제외\n",
    "    if z == 0 and (z in {0,2,4}): set_a.add( (x, y, z) )  # a.일의 자리가 0인 짝수\n",
    "    if z == 2 and (z in {0,2,4}): set_b.add( (x, y, z) )  # b.일의 자리가 2인 짝수 \n",
    "    if z == 4 and (z in {0,2,4}): set_c.add( (x, y, z) )  # c.일의 자리가 4인 짝수 \n",
    "    if z in {0,2,4}: set_d.add( (x, y, z) )  # d.세자리 숫자가 짝수 \n",
    "        \n",
    "print(f'a.일의 자리가 0인 짝수 경우의 수 -> {len(set_a)} ')\n",
    "print(f'b.일의 자리가 2인 짝수 경우의 수 -> {len(set_b)} ')\n",
    "print(f'c.일의 자리가 4인 짝수 경우의 수 -> {len(set_c)} ')\n",
    "print(f'd.세 자리 숫자가 짝수 경우의 수 -> {len(set_d)} ')"
   ]
  },
  {
   "attachments": {},
   "cell_type": "markdown",
   "id": "ff8bd962",
   "metadata": {},
   "source": [
    "### [실습] 예제1-13: 조합 - 동아리 멤버 선정하는 경우의 수\n",
    "남학생 7명, 여학생 5명인 동아리에서 남학생 3명 여학생 2명을 선정하는 경우의 수\n",
    "- 중복(x) + 순서(x) = combination(조합) \n",
    "- 동시에 일어난다.  (곱의 법칙)"
   ]
  },
  {
   "cell_type": "code",
   "execution_count": null,
   "id": "5b984380",
   "metadata": {
    "scrolled": true
   },
   "outputs": [],
   "source": [
    "\n",
    "\n",
    "\n"
   ]
  },
  {
   "cell_type": "markdown",
   "id": "d3b05e16",
   "metadata": {},
   "source": [
    "----------------------------"
   ]
  },
  {
   "cell_type": "markdown",
   "id": "8c7ae635",
   "metadata": {},
   "source": [
    "끝"
   ]
  }
 ],
 "metadata": {
  "kernelspec": {
   "display_name": "Python 3 (ipykernel)",
   "language": "python",
   "name": "python3"
  },
  "language_info": {
   "codemirror_mode": {
    "name": "ipython",
    "version": 3
   },
   "file_extension": ".py",
   "mimetype": "text/x-python",
   "name": "python",
   "nbconvert_exporter": "python",
   "pygments_lexer": "ipython3",
   "version": "3.10.5"
  }
 },
 "nbformat": 4,
 "nbformat_minor": 5
}
