{
 "cells": [
  {
   "attachments": {},
   "cell_type": "markdown",
   "metadata": {},
   "source": [
    "# Chapter08 표본분포와 통계적 추정"
   ]
  },
  {
   "attachments": {},
   "cell_type": "markdown",
   "metadata": {},
   "source": [
    "- <a href=\"#8.1모집단과표본\">8.1 모집단과 표본</a>\n",
    "- <a href=\"#8.2모평균의추정\">8.2 모평균의 추정</a>\n",
    "- <a href=\"#8.3모비율의추정\">8.3 모비율의 추정</a>"
   ]
  },
  {
   "cell_type": "code",
   "execution_count": 1,
   "metadata": {},
   "outputs": [],
   "source": [
    "# 공통으로 사용하는 라이브러리 가져오기\n",
    "import numpy as np\n",
    "import scipy as sp\n",
    "import matplotlib.pyplot as plt\n",
    "\n",
    "plt.rcParams['figure.figsize'] = (4,3)\n",
    "plt.rcParams['font.family'] = 'Malgun Gothic'  # '맑은 고딕'으로 설정 \n",
    "plt.rcParams['axes.unicode_minus'] = False     # 그래프에서 (-)숫자표시"
   ]
  },
  {
   "attachments": {},
   "cell_type": "markdown",
   "metadata": {},
   "source": [
    "### Numpy 균등분포 & 정규분포"
   ]
  },
  {
   "cell_type": "code",
   "execution_count": 2,
   "metadata": {
    "scrolled": true
   },
   "outputs": [
    {
     "data": {
      "image/png": "[encoded data removed]",
      "text/plain": [
       "<Figure size 400x300 with 1 Axes>"
      ]
     },
     "metadata": {},
     "output_type": "display_data"
    }
   ],
   "source": [
    "data = np.random.uniform(0,1,1000) # 균등분포(평균, 표준편차, 개수)\n",
    "plt.hist(data)\n",
    "plt.show()"
   ]
  },
  {
   "cell_type": "code",
   "execution_count": 3,
   "metadata": {
    "scrolled": true
   },
   "outputs": [
    {
     "data": {
      "image/png": "[encoded data removed]",
      "text/plain": [
       "<Figure size 400x300 with 1 Axes>"
      ]
     },
     "metadata": {},
     "output_type": "display_data"
    }
   ],
   "source": [
    "data = np.random.normal(0,1,1000) # 정규분포(평균, 표준편차, 개수)\n",
    "plt.hist(data)\n",
    "plt.show()"
   ]
  },
  {
   "attachments": {},
   "cell_type": "markdown",
   "metadata": {},
   "source": [
    "---------------------"
   ]
  },
  {
   "attachments": {},
   "cell_type": "markdown",
   "metadata": {},
   "source": [
    "## <a name=\"8.1모집단과표본\">8.1 모집단과 표본</a>"
   ]
  },
  {
   "attachments": {},
   "cell_type": "markdown",
   "metadata": {},
   "source": [
    "### 모집단 분포와 표본분포"
   ]
  },
  {
   "attachments": {},
   "cell_type": "markdown",
   "metadata": {},
   "source": [
    "### [실습] 예제 8-1: 모수 구하기 (모평균, 모분산, 모표준편차 )\n",
    "경부고속도로 서울 요금소~ 부산 구서 나들목에 있는 34개의 나들목 사이의 거리 측정 결과(소수점 셋째자리에서 반올림)"
   ]
  },
  {
   "cell_type": "code",
   "execution_count": 10,
   "metadata": {},
   "outputs": [
    {
     "name": "stdout",
     "output_type": "stream",
     "text": [
      "a. 모평균   : 12.21\n",
      "b. 모분산   : 37.35\n",
      "c. 모표준편차: 6.11\n"
     ]
    }
   ],
   "source": [
    "#방법1 : 수학식 사용\n",
    "data =[9.59, 4.62, 0.65, 7.75, 16.98, 11.78, 7.24, 10.15, 25.49, 11.44, 10.37,\n",
    "    9.33, 15.04, 12.16, 16.63, 12.06, 9.70, 12.46, 8.05, 19.91, 5.58, 12.48,\n",
    "    4.35, 16.41, 22.53, 17.56, 18.4, 10.86, 27.43, 7.39, 14.57, 11.92, 2.00]  \n",
    "\n",
    "mu =  sum(data)/len(data) # 모평균\n",
    "S2 =  1/len(data) * sum((i - mu)**2 for i in data) # 모분산\n",
    "S  =  S2**(1/2) # 모표준편차\n",
    "\n",
    "print(f'a. 모평균   : {round(mu, 2)}')\n",
    "print(f'b. 모분산   : {round(S2, 2)}')   # ddof=0 --> n, #ddof=1 --> (n-1)  'delta degrees of freedom'\n",
    "print(f'c. 모표준편차: {round(S, 2)}')   # ddof=0"
   ]
  },
  {
   "cell_type": "code",
   "execution_count": 5,
   "metadata": {},
   "outputs": [
    {
     "name": "stdout",
     "output_type": "stream",
     "text": [
      "a. 모평균   : 12.21\n",
      "b. 모분산   : 37.35\n",
      "c. 모표준편차: 6.11\n"
     ]
    }
   ],
   "source": [
    "#방법2 : numpy 사용\n",
    "import numpy as np\n",
    "\n",
    "data =[9.59, 4.62, 0.65, 7.75, 16.98, 11.78, 7.24, 10.15, 25.49, 11.44, 10.37,\n",
    "    9.33, 15.04, 12.16, 16.63, 12.06, 9.70, 12.46, 8.05, 19.91, 5.58, 12.48,\n",
    "    4.35, 16.41, 22.53, 17.56, 18.4, 10.86, 27.43, 7.39, 14.57, 11.92, 2.00]  \n",
    "\n",
    "mu =  np.mean(data) # 모평균\n",
    "S2 =  np.var(data) # 모분산\n",
    "S  =  np.std(data) # 모표준편차\n",
    "\n",
    "print(f'a. 모평균   : {round(mu, 2)}')\n",
    "print(f'b. 모분산   : {round(S2, 2)}')   # ddof=0 --> n, #ddof=1 --> (n-1)  'delta degrees of freedom'\n",
    "print(f'c. 모표준편차: {round(S, 2)}')   # ddof=0"
   ]
  },
  {
   "attachments": {},
   "cell_type": "markdown",
   "metadata": {},
   "source": [
    "### [실습] 예제 8-2 : 표본 통계량 구하기\n",
    "sample = 7.75, 9.70, 10.86"
   ]
  },
  {
   "cell_type": "code",
   "execution_count": 11,
   "metadata": {},
   "outputs": [
    {
     "name": "stdout",
     "output_type": "stream",
     "text": [
      "a. 표본평균   : 0.86\n",
      "a. 표본분산   : 75.24\n",
      "a. 표본표준편차: 8.67\n"
     ]
    }
   ],
   "source": [
    "# 방법1 : 수학식 사용\n",
    "sample = [7.75, 9.70, 10.86]\n",
    "x_ =  sum(sample)/len(data)\n",
    "print(f'a. 표본평균   : {round(x_, 2)}')\n",
    "\n",
    "S2 =  1/len(sample) * sum((i - x_)**2 for i in sample)\n",
    "print(f'a. 표본분산   : {round(S2, 2)}')\n",
    "\n",
    "S =  S2**(1/2)\n",
    "print(f'a. 표본표준편차: {np.round(S, 2)}')"
   ]
  },
  {
   "cell_type": "code",
   "execution_count": 6,
   "metadata": {},
   "outputs": [
    {
     "name": "stdout",
     "output_type": "stream",
     "text": [
      "a. 표본평균   : 9.44\n",
      "b. 표본분산   : 1.65\n",
      "c. 표본표준편차: 1.28\n"
     ]
    }
   ],
   "source": [
    "# 방법2 : numpy 사용\n",
    "import numpy as np\n",
    "\n",
    "sample = [7.75, 9.70, 10.86]\n",
    " \n",
    "mu =  np.mean(sample) \n",
    "S2 =  np.var(sample) \n",
    "S  =  np.std(sample)\n",
    "\n",
    "print(f'a. 표본평균   : {round(mu, 2)}')\n",
    "print(f'b. 표본분산   : {round(S2, 2)}')   # ddof=0 --> n, #ddof=1 --> (n-1)  'delta degrees of freedom'\n",
    "print(f'c. 표본표준편차: {round(S, 2)}')   # ddof=0\n",
    " "
   ]
  },
  {
   "attachments": {},
   "cell_type": "markdown",
   "metadata": {},
   "source": [
    "#### data에서 임의로 3개 추출(비복원 추출)"
   ]
  },
  {
   "cell_type": "code",
   "execution_count": null,
   "metadata": {},
   "outputs": [],
   "source": [
    "\n"
   ]
  },
  {
   "attachments": {},
   "cell_type": "markdown",
   "metadata": {},
   "source": [
    "### 표본평균의 분포 - 이산균등분포"
   ]
  },
  {
   "attachments": {},
   "cell_type": "markdown",
   "metadata": {},
   "source": [
    "#### # 경우의 수 : n=2인 표본평균의 경우의 수"
   ]
  },
  {
   "cell_type": "code",
   "execution_count": null,
   "metadata": {},
   "outputs": [],
   "source": [
    "import itertools\n",
    "\n",
    "n = 2\n",
    "result = list(itertools.product(([1,2,3,4]), repeat=n)) # 복원추출\n",
    "print(\"**경우의 수 : %s개\" % len(result))\n",
    "print(result)"
   ]
  },
  {
   "attachments": {},
   "cell_type": "markdown",
   "metadata": {},
   "source": [
    "#### # x_set: 확률변수 상태공간 (표본 평균 X_ 가 취할 수 있는 모든 값)"
   ]
  },
  {
   "cell_type": "code",
   "execution_count": null,
   "metadata": {},
   "outputs": [],
   "source": [
    "x_set = [ sum([j for j in i])/n for i in result] \n",
    "x_set = list(set(x_set))\n",
    "x_set.sort()\n",
    "x_set"
   ]
  },
  {
   "attachments": {},
   "cell_type": "markdown",
   "metadata": {},
   "source": [
    "#### 확률질량함수: f(x)"
   ]
  },
  {
   "cell_type": "code",
   "execution_count": null,
   "metadata": {},
   "outputs": [],
   "source": [
    "def f(x):\n",
    "    cnt = 0\n",
    "    for i in result:\n",
    "        if sum([j for j in i])/n == x:\n",
    "            cnt += 1\n",
    "    return cnt / (len(result))"
   ]
  },
  {
   "attachments": {},
   "cell_type": "markdown",
   "metadata": {},
   "source": [
    "#### 확률변수: X"
   ]
  },
  {
   "cell_type": "code",
   "execution_count": null,
   "metadata": {},
   "outputs": [],
   "source": [
    "X = [x_set, f]"
   ]
  },
  {
   "attachments": {},
   "cell_type": "markdown",
   "metadata": {},
   "source": [
    "#### 확률: P(prob)"
   ]
  },
  {
   "cell_type": "code",
   "execution_count": null,
   "metadata": {},
   "outputs": [],
   "source": [
    "prob = [f(x_k) for x_k in x_set]\n",
    "prob"
   ]
  },
  {
   "attachments": {},
   "cell_type": "markdown",
   "metadata": {},
   "source": [
    "#### 확률분포표 "
   ]
  },
  {
   "cell_type": "code",
   "execution_count": null,
   "metadata": {
    "scrolled": false
   },
   "outputs": [],
   "source": [
    "df = pd.DataFrame([prob], columns=x_set, index=['P(X_=x_)'])\n",
    "df.columns.names = ['X_']\n",
    "df"
   ]
  },
  {
   "attachments": {},
   "cell_type": "markdown",
   "metadata": {},
   "source": [
    "#### 평균의 기대값"
   ]
  },
  {
   "cell_type": "code",
   "execution_count": null,
   "metadata": {},
   "outputs": [],
   "source": [
    "def E(X):\n",
    "    x_set, f = X\n",
    "    return np.sum([x_k * f(x_k) for x_k in x_set]) \n",
    "\n",
    "E(X)"
   ]
  },
  {
   "attachments": {},
   "cell_type": "markdown",
   "metadata": {},
   "source": [
    "#### 표본평균의 분산"
   ]
  },
  {
   "cell_type": "code",
   "execution_count": null,
   "metadata": {},
   "outputs": [],
   "source": [
    "def V(X):\n",
    "    x_set, f = X\n",
    "    mean = E(X)\n",
    "    return np.sum([(x_k - mean)**2 * f(x_k) for x_k in x_set])\n",
    "\n",
    "V(X)"
   ]
  },
  {
   "attachments": {},
   "cell_type": "markdown",
   "metadata": {},
   "source": [
    "#### 이항균등분포의 표본평균의 분포 그래프로 나타내기"
   ]
  },
  {
   "cell_type": "code",
   "execution_count": null,
   "metadata": {
    "scrolled": true
   },
   "outputs": [],
   "source": [
    "def get_sample_dist(X, n):\n",
    "    \n",
    "    import itertools\n",
    "    result = list(itertools.product((X), repeat=n)) # 복원추출\n",
    "    print(f'**경우의 수 : {len(result)}개')\n",
    "    print(f'**모든 경우 : {result}')\n",
    "\n",
    "\n",
    "    # 확률변수 상태공간\n",
    "    x_set = [ sum([j for j in i])/n for i in result] \n",
    "    x_set = list(set(x_set))\n",
    "    x_set.sort()\n",
    "#     print(f'**모든 확률변수 : {x_set}')\n",
    "\n",
    "    # 확률질량함수\n",
    "    def f(x):\n",
    "        cnt = 0\n",
    "        for i in result:\n",
    "            if sum([j for j in i])/n == x:\n",
    "                cnt += 1\n",
    "        return cnt / (len(result))\n",
    "\n",
    "    prob = [f(x_k) for x_k in x_set]\n",
    "#     print(f'**모든 확률   : {prob}')\n",
    "\n",
    "\n",
    "    # 확률분포표\n",
    "    df = pd.DataFrame([prob], columns=x_set, index=['P(X_=x_)'])\n",
    "    df.columns.names = ['X_']\n",
    "    print(f'**확률분포표:\\n/{df}')\n",
    "\n",
    "    return x_set, prob, df\n",
    "\n",
    "\n",
    "#---------------------\n",
    "# 그래프로 나타내기 \n",
    "#---------------------\n",
    "plt.figure(figsize=(10,6))\n",
    "\n",
    "X = [1,2,3,4]\n",
    "for idx, x in enumerate(X): \n",
    "    print(f'[-- X={x} --]')\n",
    "    x_set, prob, df = get_sample_dist(X, x)\n",
    "    print('-'*50)\n",
    "\n",
    "    plt.subplot(2, 2, idx+1) \n",
    "    plt.plot(x_set, prob, 'o-')\n",
    "    plt.title(f'n={n}')\n",
    "    \n",
    "plt.show() "
   ]
  },
  {
   "attachments": {},
   "cell_type": "markdown",
   "metadata": {},
   "source": [
    "### [실습] 예제 8-4 : 표본평균의 분포 및 확률 구하기\n",
    "$N(178, 16)$인 모집단에서 크기 9인 표본 선정, 표본평균 $ \\bar{X}$\n",
    "- a. $\\bar{X}$ 분포\n",
    "- b. $P(\\bar{X} \\le 180)$ \n",
    "- c. $P(176 \\le \\bar{X} \\le 180)$\n"
   ]
  },
  {
   "cell_type": "code",
   "execution_count": null,
   "metadata": {},
   "outputs": [],
   "source": [
    "import scipy as sp\n",
    "\n",
    "mu, var, n =  \n",
    "\n",
    "print(f'a. 𝑋_분포 : 𝑋_ ~ N({mu, var/n}) ')\n",
    "\n",
    "\n",
    "\n"
   ]
  },
  {
   "attachments": {},
   "cell_type": "markdown",
   "metadata": {},
   "source": [
    "#### [실습] $N(166, 9)$인 모집단에서 크기 16인 표본 선정, 표본평균 $ \\bar{X}$\n",
    "- a. $\\bar{X}$ 분포\n",
    "- b. $P(\\bar{X} \\le 180)$ \n",
    "- c. $P(176 \\le \\bar{X} \\le 180)$\n"
   ]
  },
  {
   "cell_type": "code",
   "execution_count": null,
   "metadata": {
    "scrolled": true
   },
   "outputs": [],
   "source": [
    "\n",
    "\n"
   ]
  },
  {
   "attachments": {},
   "cell_type": "markdown",
   "metadata": {},
   "source": [
    "### [실습] 예제 8-5 : 표본비율의 분포 및 확률 구하기\n",
    "$p=0.45$인 모집단에서 크기 100인 표본 선정, 표본비율 $ \\hat{p}$\n",
    "- a. $ \\hat{p}$ 분포\n",
    "- b. $P(\\hat{p} \\le 0.35)$ \n",
    "- c. $P(0.41 \\le \\hat{p} \\le 0.51)$"
   ]
  },
  {
   "cell_type": "code",
   "execution_count": null,
   "metadata": {},
   "outputs": [],
   "source": [
    "import scipy as sp\n",
    "\n",
    "n, p, q = \n",
    "\n"
   ]
  },
  {
   "attachments": {},
   "cell_type": "markdown",
   "metadata": {},
   "source": [
    "#### [실습] 𝑝=0.45 인 모집단에서 크기 200인 표본 선정, 표본비율 𝑝̂ \n",
    "- a. $ \\hat{p}$ 분포\n",
    "- b. $P(\\hat{p} \\le 0.35)$ \n",
    "- c. $P(0.41 \\le \\hat{p} \\le 0.51)$\n"
   ]
  },
  {
   "cell_type": "code",
   "execution_count": null,
   "metadata": {},
   "outputs": [],
   "source": [
    "\n",
    "\n"
   ]
  },
  {
   "attachments": {},
   "cell_type": "markdown",
   "metadata": {},
   "source": [
    "----------------------------------------------------------"
   ]
  },
  {
   "attachments": {},
   "cell_type": "markdown",
   "metadata": {},
   "source": [
    "## <a name=\"8.2모평균의추정\">8.2 모평균의 추정</a>"
   ]
  },
  {
   "attachments": {},
   "cell_type": "markdown",
   "metadata": {},
   "source": [
    "### 모평균의 점추정"
   ]
  },
  {
   "cell_type": "code",
   "execution_count": null,
   "metadata": {},
   "outputs": [],
   "source": [
    "import numpy as np\n",
    "\n",
    "data = [17.4, 17.2, 18.1, 17.5, 17.7,\n",
    "       17.6, 17.5, 17.1, 17.8, 17.6]\n",
    "N = np.array(data)\n",
    "\n",
    "print(f'a. 표본평균   : {round(N.mean(), 4)}')\n",
    "print(f'a. 표본분산   : {round(N.var(ddof=1), 4)}')\n",
    "print(f'a. 표본표준편차: {round(N.std(ddof=1), 4)}')"
   ]
  },
  {
   "attachments": {},
   "cell_type": "markdown",
   "metadata": {},
   "source": [
    "### 모평균의 신뢰구간\n",
    "**모분산이 알려진 정규모집단의 모평균에 대한 신뢰구간**"
   ]
  },
  {
   "attachments": {},
   "cell_type": "markdown",
   "metadata": {},
   "source": [
    "### [실습] 예제 8-7 : 모분산이 알려진 정규모집단의 신뢰구간"
   ]
  },
  {
   "cell_type": "code",
   "execution_count": null,
   "metadata": {
    "scrolled": true
   },
   "outputs": [],
   "source": [
    "Z = {90:1.645, 95:1.96, 99:2.58}"
   ]
  },
  {
   "cell_type": "code",
   "execution_count": null,
   "metadata": {},
   "outputs": [],
   "source": [
    "n, x_, var =  \n",
    "print(f'n, x_, var : {n, x_, var}')\n",
    "\n",
    "a =  \n",
    "b =  \n",
    "print(f'모평균의 신뢰구간 : {a} <= mu <= {b}')"
   ]
  },
  {
   "attachments": {},
   "cell_type": "markdown",
   "metadata": {},
   "source": [
    "**모분산이 알려지지 않은 정규모집단의 신뢰구간(근사확률분포)**"
   ]
  },
  {
   "attachments": {},
   "cell_type": "markdown",
   "metadata": {},
   "source": [
    "### [실습] 예제 8-8 : 모분산이 알려지지 않은 정규모집단의 신뢰구간"
   ]
  },
  {
   "cell_type": "code",
   "execution_count": null,
   "metadata": {
    "scrolled": true
   },
   "outputs": [],
   "source": [
    "n, x_, sigma =  \n",
    "print(f'n, x_, sigma : {n, x_, sigma}')\n",
    "\n",
    " \n",
    "a =   \n",
    "b =     \n",
    "print(f'모평균의 신뢰구간 : {round(a,2)} <= mu <= {round(b,2)}')"
   ]
  },
  {
   "attachments": {},
   "cell_type": "markdown",
   "metadata": {},
   "source": [
    "### [실습] 예제 8-9 : 두 모평균 차의 신뢰구간"
   ]
  },
  {
   "cell_type": "code",
   "execution_count": null,
   "metadata": {},
   "outputs": [],
   "source": [
    "n, x_, sigma1 =  \n",
    "m, y_, sigma2 =  \n",
    "print(f'n, x_, sigma1 : {n, x_, sigma1}')\n",
    "print(f'm, y_, sigma2 : {m, y_, sigma2}')\n",
    "\n",
    "a =   \n",
    "b =  \n",
    "print(f'두 모평균 차의 신뢰구간 : {round(a,2)} <= x_ - y_ <= {round(b,2)}')"
   ]
  },
  {
   "attachments": {},
   "cell_type": "markdown",
   "metadata": {},
   "source": [
    "----------------------------------------------------------"
   ]
  },
  {
   "attachments": {},
   "cell_type": "markdown",
   "metadata": {},
   "source": [
    "## <a name=\"8.3모비율의추정\">8.3 모비율의 추정</a>"
   ]
  },
  {
   "attachments": {},
   "cell_type": "markdown",
   "metadata": {},
   "source": [
    "### 모비율의 신뢰구간"
   ]
  },
  {
   "attachments": {},
   "cell_type": "markdown",
   "metadata": {},
   "source": [
    "### [실습] 예제 8-10 : 모비율의 신뢰구간"
   ]
  },
  {
   "cell_type": "code",
   "execution_count": null,
   "metadata": {},
   "outputs": [],
   "source": [
    "Z = {90:1.645, 95:1.96, 99:2.58}\n",
    "\n",
    "n, p, q =  \n",
    "print(f'n, p, q : {n, p, q}')\n",
    "\n",
    "a =  \n",
    "b =  \n",
    "print(f'모비율의 신뢰구간 : {round(a, 2)} <= p^ <= {round(b, 2)}')"
   ]
  },
  {
   "attachments": {},
   "cell_type": "markdown",
   "metadata": {},
   "source": [
    "### [실습] 예제 8-11 : 두 모비율 차의 신뢰구간"
   ]
  },
  {
   "cell_type": "code",
   "execution_count": null,
   "metadata": {},
   "outputs": [],
   "source": [
    "n, m  =  \n",
    "p1,p2 =  \n",
    "q1,q2 =  \n",
    "print(f'n, p1, q1 : {n, p1, q1}')\n",
    "print(f'm, p2, q2 : {n, p2, q2}')\n",
    "\n",
    "a =  \n",
    "b =  \n",
    "print(p1-p2)\n",
    "print(Z[95] * np.sqrt((p1*q1)/n + (p2*q2)/m))\n",
    "print(f'두 모비율 차의 신뢰구간 : {round(a,4)} <= p1-p2 <= {round(b,4)}')"
   ]
  },
  {
   "attachments": {},
   "cell_type": "markdown",
   "metadata": {},
   "source": [
    "----------------------------------------------------------"
   ]
  },
  {
   "attachments": {},
   "cell_type": "markdown",
   "metadata": {},
   "source": [
    "끝"
   ]
  }
 ],
 "metadata": {
  "kernelspec": {
   "display_name": "Python 3 (ipykernel)",
   "language": "python",
   "name": "python3"
  },
  "language_info": {
   "codemirror_mode": {
    "name": "ipython",
    "version": 3
   },
   "file_extension": ".py",
   "mimetype": "text/x-python",
   "name": "python",
   "nbconvert_exporter": "python",
   "pygments_lexer": "ipython3",
   "version": "3.10.5"
  }
 },
 "nbformat": 4,
 "nbformat_minor": 4
}
