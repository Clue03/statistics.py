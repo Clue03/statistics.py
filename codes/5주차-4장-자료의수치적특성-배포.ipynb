{
 "cells": [
  {
   "cell_type": "markdown",
   "metadata": {},
   "source": [
    "# Chapter04 자료의 수치적 특성\n",
    "\n",
    "- <a href=\"#4.1대푯값\">4.1 대푯값</a>\n",
    "- <a href=\"#4.2산포도\">4.2 산포도</a>\n",
    "- <a href=\"#4.3위치척도와 상자그림\">4.3 위치척도와 상자그림</a>\n",
    "- <a href=\"#4.4도수분포표에서의 평균과 분산\">4.4 도수분포표에서의 평균과 분산</a>"
   ]
  },
  {
   "cell_type": "markdown",
   "metadata": {},
   "source": [
    "## <a name=\"4.1대푯값\">4.1 대푯값(중심위치의 척도)</a>\n",
    "데이터 분포의 중심 위치"
   ]
  },
  {
   "cell_type": "code",
   "execution_count": null,
   "metadata": {},
   "outputs": [],
   "source": [
    "# 소수점 3자리로 표현\n",
    "%precision 3\n",
    "\n",
    "# 원래로 돌아가려면\n",
    "# %precision %r"
   ]
  },
  {
   "cell_type": "markdown",
   "metadata": {},
   "source": [
    "### [실습] 예제3-9: 도수분포표 만들기"
   ]
  },
  {
   "cell_type": "code",
   "execution_count": 1,
   "metadata": {
    "scrolled": true
   },
   "outputs": [
    {
     "name": "stdout",
     "output_type": "stream",
     "text": [
      "계급수(K):5, R:46, 계급간격(w):10, 계급시작값(s):11.5\n",
      "계급:[11.5 21.5 31.5 41.5 51.5 61.5]\n"
     ]
    },
    {
     "data": {
      "text/html": [
       "<div>\n",
       "<style scoped>\n",
       "    .dataframe tbody tr th:only-of-type {\n",
       "        vertical-align: middle;\n",
       "    }\n",
       "\n",
       "    .dataframe tbody tr th {\n",
       "        vertical-align: top;\n",
       "    }\n",
       "\n",
       "    .dataframe thead th {\n",
       "        text-align: right;\n",
       "    }\n",
       "</style>\n",
       "<table border=\"1\" class=\"dataframe\">\n",
       "  <thead>\n",
       "    <tr style=\"text-align: right;\">\n",
       "      <th></th>\n",
       "      <th>도수</th>\n",
       "      <th>상대도수</th>\n",
       "      <th>누적도수</th>\n",
       "      <th>누적상대도수</th>\n",
       "      <th>계급값</th>\n",
       "    </tr>\n",
       "    <tr>\n",
       "      <th>계급간격</th>\n",
       "      <th></th>\n",
       "      <th></th>\n",
       "      <th></th>\n",
       "      <th></th>\n",
       "      <th></th>\n",
       "    </tr>\n",
       "  </thead>\n",
       "  <tbody>\n",
       "    <tr>\n",
       "      <th>11.5 ~ 21.5</th>\n",
       "      <td>6</td>\n",
       "      <td>0.12</td>\n",
       "      <td>6</td>\n",
       "      <td>0.12</td>\n",
       "      <td>16.5</td>\n",
       "    </tr>\n",
       "    <tr>\n",
       "      <th>21.5 ~ 31.5</th>\n",
       "      <td>15</td>\n",
       "      <td>0.30</td>\n",
       "      <td>21</td>\n",
       "      <td>21.00</td>\n",
       "      <td>26.5</td>\n",
       "    </tr>\n",
       "    <tr>\n",
       "      <th>31.5 ~ 41.5</th>\n",
       "      <td>20</td>\n",
       "      <td>0.40</td>\n",
       "      <td>41</td>\n",
       "      <td>41.00</td>\n",
       "      <td>36.5</td>\n",
       "    </tr>\n",
       "    <tr>\n",
       "      <th>41.5 ~ 51.5</th>\n",
       "      <td>8</td>\n",
       "      <td>0.16</td>\n",
       "      <td>49</td>\n",
       "      <td>49.00</td>\n",
       "      <td>46.5</td>\n",
       "    </tr>\n",
       "    <tr>\n",
       "      <th>51.5 ~ 61.5</th>\n",
       "      <td>1</td>\n",
       "      <td>0.02</td>\n",
       "      <td>50</td>\n",
       "      <td>50.00</td>\n",
       "      <td>56.5</td>\n",
       "    </tr>\n",
       "  </tbody>\n",
       "</table>\n",
       "</div>"
      ],
      "text/plain": [
       "             도수  상대도수  누적도수  누적상대도수   계급값\n",
       "계급간격                                     \n",
       "11.5 ~ 21.5   6  0.12     6    0.12  16.5\n",
       "21.5 ~ 31.5  15  0.30    21   21.00  26.5\n",
       "31.5 ~ 41.5  20  0.40    41   41.00  36.5\n",
       "41.5 ~ 51.5   8  0.16    49   49.00  46.5\n",
       "51.5 ~ 61.5   1  0.02    50   50.00  56.5"
      ]
     },
     "execution_count": 1,
     "metadata": {},
     "output_type": "execute_result"
    }
   ],
   "source": [
    "import math \n",
    "import numpy as np\n",
    "import pandas as pd\n",
    "import matplotlib.pyplot as plt\n",
    "\n",
    "# 그래프 기본 설정\n",
    "plt.rcParams['figure.figsize'] = (5, 3)        # (가로,세로) 인치 단위\n",
    "plt.rcParams['axes.unicode_minus'] = False    # 그래프 눈금 값에서 (-)숫자표시\n",
    "plt.rcParams['lines.linewidth'] = 2            # 선 굵기\n",
    "plt.rcParams['font.family'] = 'Malgun Gothic'  # 한글 폰트 사용  (AppleGothic)\n",
    "\n",
    "\n",
    "def makeFrequencyTable(datas, k=5):\n",
    "    # 도수분포표 만들기 사전 과정\n",
    "    # k = 5                       # 1.계급 수\n",
    "    R = round(max(datas) - min(datas), 6) # 2.R : 최대측정값 - 최소측정값\n",
    "    w = math.ceil(R/k)          # 3.계급 간격\n",
    "    s = min(datas) - 0.5        # 4.시작 계급값\n",
    "    bins = np.arange(s, max(datas)+w+1, step=w)  #계급\n",
    "    index = [f'{bins[i]} ~ {bins[i+1]}' for i in range(len(bins)) if i<(len(bins)-1) ] # 계급 구간(index)\n",
    "    hist, bins = np.histogram(datas, bins)  # 계급 구간별 도수 데이터\n",
    "    print(f'계급수(K):{k}, R:{R}, 계급간격(w):{w}, 계급시작값(s):{s}')\n",
    "    print(f'계급:{bins}')\n",
    "\n",
    "\n",
    "    # 도수분포표 만들기\n",
    "    df = pd.DataFrame(hist, index=index, columns=['도수'])\n",
    "    df.index.name = '계급간격'\n",
    "\n",
    "    df['상대도수'] = [x/sum(hist) for x in hist]\n",
    "    df['누적도수'] = [sum(hist[:i+1]) if i>0 else hist[i] for i in range(k)]\n",
    "    df['누적상대도수'] = [sum(hist[:i+1]) if i>0 else df['상대도수'].values[i] for i in range(k)] \n",
    "    df['계급값'] = [ (bins[x]+bins[x+1])/2 for x in range(k)]\n",
    "\n",
    "    return df\n",
    "\n",
    "\n",
    "datas = [26, 31, 28, 38, 41, 26, 18, 16, 25, 29,\n",
    "         39, 38, 38, 40, 43, 38, 39, 41, 41, 40,\n",
    "         26, 19, 39, 28, 43, 34, 21, 41, 29, 30,\n",
    "         12, 22, 45, 34, 29, 26, 29, 58, 42, 16,\n",
    "         41, 42, 38, 42, 28, 42, 39, 41, 39, 43]\n",
    "\n",
    "# 도수분포표 만들기\n",
    "df =  makeFrequencyTable(datas, k=5)\n",
    "df\n"
   ]
  },
  {
   "cell_type": "markdown",
   "metadata": {},
   "source": [
    "- https://matplotlib.org/stable/api/_as_gen/matplotlib.pyplot.annotate.html\n",
    "- https://matplotlib.org/stable/api/_as_gen/matplotlib.pyplot.axvline.html"
   ]
  },
  {
   "cell_type": "code",
   "execution_count": 2,
   "metadata": {
    "scrolled": false
   },
   "outputs": [
    {
     "data": {
      "image/png": "[encoded data removed]",
      "text/plain": [
       "<Figure size 500x300 with 1 Axes>"
      ]
     },
     "metadata": {},
     "output_type": "display_data"
    }
   ],
   "source": [
    "def make_histogram(datas, x, y, width=10):\n",
    "    fig = plt.bar(x,y, width=width, edgecolor='w') # 막대그래프\n",
    "    plt.xticks(ticks=x, labels=x)\n",
    "\n",
    "    x_ = np.mean(datas)      # 평균값\n",
    "    me = round(np.median(datas))    # 중앙값\n",
    "    from collections import Counter \n",
    "    counts = Counter(datas)\n",
    "    mo = counts.most_common(1)[0][0]  # 최빈값\n",
    "    \n",
    "    plt.axvline(x_, 0, max(y), \n",
    "                c='red', label=f'mean({x_})')     # # 평균값 표시\n",
    "    plt.annotate('평균', xy=(x_, 10), xytext=(50,10),\n",
    "                 fontsize=12,\n",
    "                 arrowprops=dict(facecolor='black', width=1, shrink=0.1, headwidth=5))\n",
    "\n",
    "    plt.axvline(me, 0, max(y), \n",
    "                c='green', label=f'median({me})') # 중앙값 표시\n",
    "\n",
    "    plt.axvline(mo, 0, max(y), \n",
    "                c='violet', label=f'mode({mo})')  # 최빈값 표시\n",
    "    \n",
    "    plt.title('(도수)히스토그램')\n",
    "    plt.xlabel('계급값')\n",
    "    plt.ylabel('도수')\n",
    "    \n",
    "    plt.legend()\n",
    "    plt.show()\n",
    "    \n",
    "    return \n",
    "\n",
    "x = df['계급값']\n",
    "y = df['도수']\n",
    "make_histogram(datas, x, y)\n"
   ]
  },
  {
   "cell_type": "markdown",
   "metadata": {},
   "source": [
    "-------------------------"
   ]
  },
  {
   "cell_type": "markdown",
   "metadata": {},
   "source": [
    "### (산술)평균(mean)"
   ]
  },
  {
   "cell_type": "code",
   "execution_count": 3,
   "metadata": {},
   "outputs": [
    {
     "name": "stdout",
     "output_type": "stream",
     "text": [
      "\n",
      "sum:1693\n",
      "len:50\n",
      "AVG:33.86\n"
     ]
    }
   ],
   "source": [
    "# 산술평균: 파이썬 기본 함수 이용\n",
    "\n",
    "print(f'''\n",
    "sum:{sum(datas)}\n",
    "len:{len(datas)}\n",
    "AVG:{sum(datas) / len(datas)}''')"
   ]
  },
  {
   "cell_type": "code",
   "execution_count": 4,
   "metadata": {},
   "outputs": [
    {
     "name": "stdout",
     "output_type": "stream",
     "text": [
      "mean: 33.86\n"
     ]
    }
   ],
   "source": [
    "# 산술평균: numpy 모듈 이용\n",
    "\n",
    "import numpy as np\n",
    "print('mean:', np.mean(datas))"
   ]
  },
  {
   "cell_type": "markdown",
   "metadata": {},
   "source": [
    "### 중앙값(median)"
   ]
  },
  {
   "cell_type": "code",
   "execution_count": 5,
   "metadata": {},
   "outputs": [
    {
     "name": "stdout",
     "output_type": "stream",
     "text": [
      "#정렬전: 50개 \n",
      "[26, 31, 28, 38, 41, 26, 18, 16, 25, 29, 39, 38, 38, 40, 43, 38, 39, 41, 41, 40, 26, 19, 39, 28, 43, 34, 21, 41, 29, 30, 12, 22, 45, 34, 29, 26, 29, 58, 42, 16, 41, 42, 38, 42, 28, 42, 39, 41, 39, 43]\n",
      "#정렬후: 50개 \n",
      "[12, 16, 16, 18, 19, 21, 22, 25, 26, 26, 26, 26, 28, 28, 28, 29, 29, 29, 29, 30, 31, 34, 34, 38, 38, 38, 38, 38, 39, 39, 39, 39, 39, 40, 40, 41, 41, 41, 41, 41, 41, 42, 42, 42, 42, 43, 43, 43, 45, 58]\n",
      "#중앙값-짝수: 38.0 \n"
     ]
    }
   ],
   "source": [
    "# 중앙값 찾기:  수학적 방법\n",
    "\n",
    "values = sorted( datas )  # 정렬하기\n",
    "print(f'#정렬전: {len(datas)}개 \\n{datas}')\n",
    "print(f'#정렬후: {len(values)}개 \\n{values}')\n",
    "\n",
    "# 전체 개수의 짝수 or 홀수에 따른 중앙값 찾기\n",
    "N = len(values)\n",
    "if N%2 == 0 : # 짝수    \n",
    "    M = (values[int(N/2) -1]+values[int(N/2+1) -1])/2   #인덱스를 위해 정수로 변환\n",
    "    print(f'#중앙값-짝수: {M} ')\n",
    "else : # 홀수\n",
    "    idx = int((N+1)/2)\n",
    "    M = values[idx-1]\n",
    "    print(f'#중앙값-홀수: idx({idx}), {M} ')"
   ]
  },
  {
   "cell_type": "code",
   "execution_count": 6,
   "metadata": {
    "scrolled": true
   },
   "outputs": [
    {
     "name": "stdout",
     "output_type": "stream",
     "text": [
      "중앙값 38\n"
     ]
    }
   ],
   "source": [
    "# 중앙값 찾기: numpy 함수 이용\n",
    "\n",
    "M = np.median(values)\n",
    "print('중앙값',int(M) )"
   ]
  },
  {
   "cell_type": "markdown",
   "metadata": {},
   "source": [
    "### 최빈값(mode)"
   ]
  },
  {
   "cell_type": "code",
   "execution_count": 7,
   "metadata": {
    "scrolled": true
   },
   "outputs": [
    {
     "name": "stdout",
     "output_type": "stream",
     "text": [
      "#데이터별 빈도: [(12, 1), (16, 2), (18, 1), (19, 1), (21, 1), (22, 1), (25, 1), (26, 4), (28, 3), (29, 4), (30, 1), (31, 1), (34, 2), (38, 5), (39, 5), (40, 2), (41, 6), (42, 4), (43, 3), (45, 1), (58, 1)]\n",
      "#최빈값(key):41, 최빈도(value): 6\n"
     ]
    }
   ],
   "source": [
    "# 최빈값 찾기:  수학적 방법\n",
    "\n",
    "values = sorted( list(set(datas)) )            # 고유값 리스트\n",
    "counts = [ datas.count(i) for i in values ]   # 빈도수 리스트\n",
    "print(f'#데이터별 빈도: {list(zip(values, counts))}')\n",
    "\n",
    "# 최다 빈도 배열 만들기: 최빈값이 여러개(중복) 있을 수 있다.\n",
    "maxs = [(k, v) for k, v in zip(values, counts) if max(counts)== v] \n",
    "\n",
    "# 최빈값이 출력하기\n",
    "for (max_k, max_v) in maxs:\n",
    "    print(f'#최빈값(key):{max_k}, 최빈도(value): {max_v}') "
   ]
  },
  {
   "cell_type": "code",
   "execution_count": 8,
   "metadata": {},
   "outputs": [
    {
     "name": "stdout",
     "output_type": "stream",
     "text": [
      "#데이터별 빈도: [(41, 6), (38, 5), (39, 5), (26, 4), (29, 4), (42, 4), (28, 3), (43, 3), (16, 2), (40, 2), (34, 2), (31, 1), (18, 1), (25, 1), (19, 1), (21, 1), (30, 1), (12, 1), (22, 1), (45, 1), (58, 1)]\n",
      "#최빈값: [(41, 6), (38, 5), (39, 5)]\n"
     ]
    }
   ],
   "source": [
    "# 최빈값 찾기: collections모듈의 counter 클래스 이용\n",
    "from collections import Counter \n",
    "\n",
    "counts = Counter(datas)\n",
    "counts.most_common()\n",
    "\n",
    "print(f'#데이터별 빈도: {counts.most_common()}')\n",
    "print(f'#최빈값: {counts.most_common(3)}') # 최빈값 상위 3개 "
   ]
  },
  {
   "cell_type": "code",
   "execution_count": 9,
   "metadata": {
    "scrolled": true
   },
   "outputs": [
    {
     "ename": "ModuleNotFoundError",
     "evalue": "No module named 'scipy'",
     "output_type": "error",
     "traceback": [
      "\u001b[1;31m---------------------------------------------------------------------------\u001b[0m",
      "\u001b[1;31mModuleNotFoundError\u001b[0m                       Traceback (most recent call last)",
      "Cell \u001b[1;32mIn[9], line 2\u001b[0m\n\u001b[0;32m      1\u001b[0m \u001b[39m# 최빈값 찾기: scipy.stats 서브패키지 이용 mode->modal(most common)\u001b[39;00m\n\u001b[1;32m----> 2\u001b[0m \u001b[39mfrom\u001b[39;00m \u001b[39mscipy\u001b[39;00m \u001b[39mimport\u001b[39;00m stats\n\u001b[0;32m      4\u001b[0m \u001b[39mprint\u001b[39m(\u001b[39mf\u001b[39m\u001b[39m'\u001b[39m\u001b[39m#최빈값: \u001b[39m\u001b[39m{\u001b[39;00m\u001b[39m \u001b[39mstats\u001b[39m.\u001b[39mmode(datas,\u001b[39m \u001b[39mkeepdims\u001b[39m=\u001b[39m\u001b[39mFalse\u001b[39;00m)\u001b[39m}\u001b[39;00m\u001b[39m \u001b[39m\u001b[39m'\u001b[39m)\n\u001b[0;32m      6\u001b[0m \u001b[39m# 범주(nominal)적 (숫자가 아닌) 데이터에도 적용됨\u001b[39;00m\n",
      "\u001b[1;31mModuleNotFoundError\u001b[0m: No module named 'scipy'"
     ]
    }
   ],
   "source": [
    "# 최빈값 찾기: scipy.stats 서브패키지 이용 mode->modal(most common)\n",
    "from scipy import stats\n",
    "\n",
    "print(f'#최빈값: { stats.mode(datas, keepdims=False)} ')\n",
    "\n",
    "# 범주(nominal)적 (숫자가 아닌) 데이터에도 적용됨\n",
    "colors = ['red', 'yellow',' blue', 'red',]\n",
    "stats.mode(colors, keepdims=False)"
   ]
  },
  {
   "cell_type": "code",
   "execution_count": 10,
   "metadata": {},
   "outputs": [
    {
     "name": "stdout",
     "output_type": "stream",
     "text": [
      "#최빈값: 41, 최빈도(value): 6 \n"
     ]
    }
   ],
   "source": [
    "# 최빈값 찾기: numpy.unique() 사용\n",
    "import numpy as np\n",
    "array = np.array(datas)\n",
    "values, counts = np.unique(array, return_counts=True)\n",
    "index = np.argmax(counts)\n",
    "print(f'#최빈값: {values[index]}, 최빈도(value): {counts[index]} ')"
   ]
  },
  {
   "cell_type": "code",
   "execution_count": 11,
   "metadata": {
    "scrolled": true
   },
   "outputs": [
    {
     "data": {
      "text/plain": [
       "[(41, 6)]"
      ]
     },
     "execution_count": 11,
     "metadata": {},
     "output_type": "execute_result"
    }
   ],
   "source": [
    "def get_data_count(datas):\n",
    "    '''데이터별 빈도'''\n",
    "    values = sorted( list(set(datas)) )            # 고유값 리스트\n",
    "    counts = [ datas.count(i) for i in values ]   # 빈도수 리스트\n",
    "#     print(f'#데이터별 빈도: {list(zip(values, counts))}')\n",
    "    return values, counts\n",
    "\n",
    "    \n",
    "def get_mode_value(datas):\n",
    "    '''최다 빈도'''\n",
    "    values, counts = get_data_count(datas)\n",
    "    maxs = [(k, v) for k, v in zip(values, counts) if max(counts)== v] \n",
    "    return maxs\n",
    "\n",
    "get_mode_value(datas)        # 최빈값 리스트\n",
    "# get_mode_value(datas)[0][1]  # 최빈값"
   ]
  },
  {
   "cell_type": "markdown",
   "metadata": {},
   "source": [
    "-------------------------"
   ]
  },
  {
   "cell_type": "markdown",
   "metadata": {},
   "source": [
    "### [실습] 예제 4-1~4-3: 조선조 왕의 수명 평균 - 딕셔너리로 표현\n",
    " 1. 왕들의　평균　수명\n",
    " 2. 수명이　가장　짧은　왕,　나이\n",
    " 3. 수명이　가장　긴　왕，　나이\n",
    " 4. 왕들의　중앙값（나이）\n",
    " 5. 왕들의　최빈값（나이）"
   ]
  },
  {
   "cell_type": "code",
   "execution_count": 23,
   "metadata": {
    "scrolled": true
   },
   "outputs": [
    {
     "name": "stdout",
     "output_type": "stream",
     "text": [
      "#조선의 왕: ['태조', '정조1', '태종', '세종', '문종', '단종', '세조', '예종', '성종', '연산군', '중종', '인종', '명종', '선조', '광해군', '인조', '효종', '현종', '숙종', '경종', '영조', '정조2', '순조', '헌종', '철종', '고종', '순종']\n",
      "#왕들의 나이: [73, 62, 45, 53, 38, 16, 51, 28, 37, 30, 56, 30, 33, 56, 66, 54, 40, 33, 59, 36, 82, 48, 44, 22, 32, 67, 52]\n",
      "\n",
      "#1.왕들의 평균나이   : 46세\n",
      "2.수명이 가장 짧은 왕: 16세\n",
      "3.수명이 가장 긴 왕  : 82세\n",
      "4.왕들의 중앙값(나이): 45.0세\n",
      "5.왕들의 최빈값(나이): [(30, 2), (56, 2), (33, 2), (73, 1), (62, 1), (45, 1), (53, 1), (38, 1), (16, 1), (51, 1), (28, 1), (37, 1), (66, 1), (54, 1), (40, 1), (59, 1), (36, 1), (82, 1), (48, 1), (44, 1), (22, 1), (32, 1), (67, 1), (52, 1)]세\n"
     ]
    }
   ],
   "source": [
    "import operator\n",
    "import numpy as np\n",
    "from collections import Counter \n",
    "\n",
    "# 키가 중복되면 안됨, 정조가 2개임 주의!!! \n",
    "data = {'태조':73, '정조1':62, '태종':45, '세종':53, '문종':38, \n",
    "        '단종':16, '세조':51, '예종':28, '성종':37, '연산군':30,\n",
    "        '중종':56, '인종':30, '명종':33, '선조':56, '광해군':66,\n",
    "        '인조':54, '효종':40, '현종':33, '숙종':59, '경종': 36,\n",
    "        '영조':82, '정조2':48, '순조':44, '헌종':22, '철종':32,\n",
    "        '고종':67, '순종':52}\n",
    "\n",
    "king_name = list(data.keys())\n",
    "king_age = list(data.values())\n",
    "\n",
    "#중앙값\n",
    "M = np.median(king_age)\n",
    "\n",
    "#최빈값\n",
    "counts = Counter(king_age)\n",
    "\n",
    "#평균 나이\n",
    "A = np.mean(king_age)\n",
    "\n",
    "Max = np.max(king_age)\n",
    "Min = np.min(king_age)\n",
    "\n",
    "print(f'#조선의 왕: {king_name}')\n",
    "print(f'#왕들의 나이: {king_age}')\n",
    "print()\n",
    "print(f'#1.왕들의 평균나이   : { int(A) }세')\n",
    "print(f'2.수명이 가장 짧은 왕: { Min }세')\n",
    "print(f'3.수명이 가장 긴 왕  : { Max }세')\n",
    "print(f'4.왕들의 중앙값(나이): { M }세')\n",
    "print(f\"5.왕들의 최빈값(나이): { counts.most_common() }세\")"
   ]
  },
  {
   "cell_type": "code",
   "execution_count": 13,
   "metadata": {
    "scrolled": false
   },
   "outputs": [
    {
     "data": {
      "text/plain": [
       "[('단종', 16),\n",
       " ('헌종', 22),\n",
       " ('예종', 28),\n",
       " ('연산군', 30),\n",
       " ('인종', 30),\n",
       " ('철종', 32),\n",
       " ('명종', 33),\n",
       " ('현종', 33),\n",
       " ('경종', 36),\n",
       " ('성종', 37),\n",
       " ('문종', 38),\n",
       " ('효종', 40),\n",
       " ('순조', 44),\n",
       " ('태종', 45),\n",
       " ('정조2', 48),\n",
       " ('세조', 51),\n",
       " ('순종', 52),\n",
       " ('세종', 53),\n",
       " ('인조', 54),\n",
       " ('중종', 56),\n",
       " ('선조', 56),\n",
       " ('숙종', 59),\n",
       " ('정조1', 62),\n",
       " ('광해군', 66),\n",
       " ('고종', 67),\n",
       " ('태조', 73),\n",
       " ('영조', 82)]"
      ]
     },
     "execution_count": 13,
     "metadata": {},
     "output_type": "execute_result"
    }
   ],
   "source": [
    "# 딕셔너리 정렬하기\n",
    "import operator\n",
    "\n",
    "# value로 정렬 (key로 정렬은 itemgetter(0) )\n",
    "data = sorted(data.items(), key=operator.itemgetter(1))\n",
    "data"
   ]
  },
  {
   "cell_type": "markdown",
   "metadata": {},
   "source": [
    "### [실습] 산술평균, 중앙값, 최빈값 사이의 관계 설명\n",
    "벤처기업에 근무하는 직원  30명의 연령 자료에 대한 산술평균, 중앙값, 최빈값 사이의 관계 설명하기"
   ]
  },
  {
   "cell_type": "code",
   "execution_count": null,
   "metadata": {
    "scrolled": true
   },
   "outputs": [],
   "source": [
    "datas = [31, 27, 25, 24, 21, 44, 36, 29, 35, 28,\n",
    "         16, 26, 21, 37, 26, 22, 30, 29, 40, 33,\n",
    "         35, 26, 22, 42, 25, 28, 39, 30, 27, 30]\n",
    "\n",
    "#평균\n",
    "A = np.mean(data)\n",
    "#중앙값\n",
    "M = np.median(data)\n",
    "#최빈값\n",
    "counts = Counter(data)\n",
    "\n",
    "\n",
    "\n",
    "\n",
    "\n"
   ]
  },
  {
   "cell_type": "markdown",
   "metadata": {},
   "source": [
    "---------"
   ]
  },
  {
   "cell_type": "markdown",
   "metadata": {},
   "source": [
    "## <a name=\"4.2산포도\">4.2 산포도(변이측도)</a>\n",
    "중심으로부터 데이터가 흩어져 있는 정도(변이도)를 수치적으로 측정"
   ]
  },
  {
   "cell_type": "markdown",
   "metadata": {},
   "source": [
    "### 산포도(measure of dispersion)"
   ]
  },
  {
   "cell_type": "code",
   "execution_count": null,
   "metadata": {},
   "outputs": [],
   "source": [
    "import matplotlib.pyplot as plt\n",
    "\n",
    "def make_dotGraph(data):\n",
    "    #1.고유한 측정값 찾기\n",
    "    idx = np.unique(data)\n",
    "    val = [data.count(i) for i in idx]\n",
    "\n",
    "    #2.계급구간 만들기\n",
    "    x = np.arange(len(idx)) + 1    #X축:데이터 속성\n",
    "    y = np.arange(1, max(val)+1)   #Y축:도수    \n",
    "    X, Y = np.meshgrid(x,y)        #x-y 평면 범위(격자형태)\n",
    "\n",
    "    #3.점도표 그리기\n",
    "    plt.figure(figsize=(4,1)) # 그래프 사이즈\n",
    "    plt.scatter(X, Y, c=Y<=val, cmap=\"Greys\")\n",
    "    plt.xticks(ticks=x, labels=idx)  #X축 레이블 지정함\n",
    "    plt.show()\n",
    "    \n",
    "A = [1,2,3,4,5,5,5,6,7,8,8,9,9,9,9]\n",
    "B = [4,5,5,5,6,6,6,6,6,6,6,7,7,7,8]\n",
    "\n",
    "make_dotGraph(A)\n",
    "make_dotGraph(B)"
   ]
  },
  {
   "cell_type": "code",
   "execution_count": null,
   "metadata": {
    "scrolled": false
   },
   "outputs": [],
   "source": [
    "import matplotlib.pyplot as plt\n",
    "\n",
    "def make_graph(data): \n",
    "    idx = np.unique(data)\n",
    "    val = [A.count(i) for i in idx]\n",
    "\n",
    "    plt.bar(idx, val)\n",
    "    plt.plot(idx, val, 'D', linestyle='dashdot', color='r', label=val)\n",
    "    plt.xticks(ticks=idx, labels=idx)  #X축 레이블 지정함\n",
    "    plt.yticks(ticks=val, labels=val)  #Y축 레이블 지정함\n",
    "    plt.grid()\n",
    "    plt.show()\n",
    "    \n",
    "A = [1,2,3,4,5,5,5,6,7,8,8,9,9,9,9]\n",
    "B = [4,5,5,5,6,6,6,6,6,6,6,7,7,7,8]\n",
    "    \n",
    "make_graph(A)\n",
    "make_graph(B)"
   ]
  },
  {
   "cell_type": "markdown",
   "metadata": {},
   "source": [
    "-----------------------"
   ]
  },
  {
   "cell_type": "markdown",
   "metadata": {},
   "source": [
    "### 범위(range)\n",
    "R = max(x) - min(x)"
   ]
  },
  {
   "cell_type": "code",
   "execution_count": 27,
   "metadata": {},
   "outputs": [
    {
     "name": "stdout",
     "output_type": "stream",
     "text": [
      "범위(R): max(9) - min(3) = 6\n"
     ]
    }
   ],
   "source": [
    "# 범위\n",
    "S = [3, 4, 6, 7, 7, 9]   # 표본\n",
    "\n",
    "R = max(S) - min(S)  # 범위 = 최대자료값 - 최소자료값\n",
    "print(f'범위(R): max({max(S)}) - min({min(S)}) = {R}')"
   ]
  },
  {
   "cell_type": "markdown",
   "metadata": {},
   "source": [
    "------------------------------"
   ]
  },
  {
   "cell_type": "markdown",
   "metadata": {},
   "source": [
    "### 사분위수 범위(interquartile range, IQR)\n",
    " - 백분위수(percentile): 수집한 자료를 크기순으로 나열할 때, 1%씩 등간격으로 구분하는 척도\n",
    " - 사분위수(quartiles): 수집한 자룔를 크기순으로 나열하여 4등분하는 척도, Q1, Q2, Q3 <br>\n",
    "- **IQR = Q3 - Q1**"
   ]
  },
  {
   "cell_type": "code",
   "execution_count": 24,
   "metadata": {},
   "outputs": [
    {
     "name": "stdout",
     "output_type": "stream",
     "text": [
      "IQR = Q3(17.5) - Q1(9.5) = 8.0\n"
     ]
    }
   ],
   "source": [
    "S = [16, 25, 4, 18, 11, 13, 20, 8, 11, 9]\n",
    "\n",
    "Q1 = np.percentile(S, 25) \n",
    "Q3 = np.percentile(S, 75)\n",
    "print(f'IQR = Q3({Q3}) - Q1({Q1}) = {Q3 - Q1}')"
   ]
  },
  {
   "cell_type": "code",
   "execution_count": 25,
   "metadata": {},
   "outputs": [
    {
     "name": "stdout",
     "output_type": "stream",
     "text": [
      "IQR = Q3(17.5) - Q1(9.5) = 8.0\n"
     ]
    }
   ],
   "source": [
    "import pandas as pd\n",
    "num = pd.Series(S)\n",
    "\n",
    "Q1 = num.quantile(.25)\n",
    "Q3 = num.quantile(.75)\n",
    "print(f'IQR = Q3({Q3}) - Q1({Q1}) = {Q3 - Q1}')"
   ]
  },
  {
   "cell_type": "markdown",
   "metadata": {},
   "source": [
    "--------"
   ]
  },
  {
   "cell_type": "markdown",
   "metadata": {},
   "source": [
    "### 평균편차(mean deviation)\n",
    "각 자료의 측정값과 평균과의 편차에 대한 절대값들의 평균"
   ]
  },
  {
   "cell_type": "code",
   "execution_count": 26,
   "metadata": {},
   "outputs": [
    {
     "name": "stdout",
     "output_type": "stream",
     "text": [
      "평균편차: 1.67\n"
     ]
    }
   ],
   "source": [
    "def get_mean_deviation(S, ddof=0):\n",
    "    M = sum(S)/len(S)                 # 평균\n",
    "    S1 = [abs(i - (M)) for i in S ]  # 평균과 측정값의 편차에 대한 절대값              \n",
    "    return sum(S1) / len(S)\n",
    "\n",
    "S = [3, 4, 6, 7, 7, 9]\n",
    "print('평균편차:', round(get_mean_deviation(S), 2))"
   ]
  },
  {
   "cell_type": "markdown",
   "metadata": {},
   "source": [
    "----------"
   ]
  },
  {
   "cell_type": "markdown",
   "metadata": {},
   "source": [
    "### 분산 (Variance)\n",
    "평균을 중심으로 밀집되거나 퍼짐 정도를 나타내는 척도"
   ]
  },
  {
   "cell_type": "code",
   "execution_count": 28,
   "metadata": {
    "scrolled": true
   },
   "outputs": [
    {
     "name": "stdout",
     "output_type": "stream",
     "text": [
      "#분산: 4.0\n",
      "#분산: 4.8\n"
     ]
    }
   ],
   "source": [
    "def get_variance(S, ddof=0):\n",
    "    # 모분산:   ddof=0, 1/n, np.var(S)  ddof: Delta Degrees of Freedom 자유도\n",
    "    # 표본분산: ddof=1, 1/n-1\n",
    "    var = np.var(S, ddof=ddof)  \n",
    "    return var\n",
    "\n",
    "S = [3, 4, 6, 7, 7, 9]\n",
    "print(f'#분산: {get_variance(S, ddof=0):>1.3}' ) # 모분산\n",
    "print(f'#분산: {get_variance(S, ddof=1):>1.3}' ) # 표본분산"
   ]
  },
  {
   "cell_type": "markdown",
   "metadata": {},
   "source": [
    "---------"
   ]
  },
  {
   "cell_type": "markdown",
   "metadata": {},
   "source": [
    "### 표준편차(standard deviation)"
   ]
  },
  {
   "cell_type": "code",
   "execution_count": 29,
   "metadata": {},
   "outputs": [
    {
     "name": "stdout",
     "output_type": "stream",
     "text": [
      "#표준편차: 2.0\n",
      "#표준편차: 2.19\n"
     ]
    }
   ],
   "source": [
    "def get_std(S, ddof=0):\n",
    "    # 모표준편차:   ddof=0, 1/n, np.std(S)  ddof: Delta Degrees of Freedom 자유도\n",
    "    # 표본표준편차: ddof=1, 1/n-1\n",
    "    std = np.std(S, ddof=ddof)  \n",
    "    return std\n",
    "\n",
    "S = [3, 4, 6, 7, 7, 9]\n",
    "print(f'#표준편차: {get_std(S, ddof=0):>1.3}' ) # 모표준편차\n",
    "print(f'#표준편차: {get_std(S, ddof=1):>1.3}' ) # 표본표준편차"
   ]
  },
  {
   "cell_type": "markdown",
   "metadata": {},
   "source": [
    "----------"
   ]
  },
  {
   "cell_type": "markdown",
   "metadata": {},
   "source": [
    "### 변동계수(coefficient of variation)\n",
    " - 측정단위가 동일한 두 자료집단: 평균이 큰 차이를 보이는 두 자료집단 \n",
    " - 측정단위가 서로 다른 두 자료집단: 산포의 척도를 비교할 때 많이 사용한다."
   ]
  },
  {
   "cell_type": "code",
   "execution_count": null,
   "metadata": {
    "scrolled": true
   },
   "outputs": [],
   "source": [
    "def get_cov(S, ddof=0):\n",
    "    M   = np.mean(S)            # 평균\n",
    "    STD = np.std(S, ddof=ddof)  # 표준편차\n",
    "    cov =  STD / M * 100        #변동계수\n",
    "    print('mean: %.2f'%M, 'std: %.2f'%STD) #소수점 2자리로 표현    \n",
    "    \n",
    "    return ( np.std(S, ddof=ddof) / np.mean(S) )* 100  #변동계수\n",
    "\n",
    "A = [171, 164, 167, 156, 159, 164]\n",
    "B = [11.5, 12.2, 12.0, 12.4, 13.6, 10.5]\n",
    "\n",
    "print(f'#A 변동계수: ', round(get_cov(A, ddof=1), 2))\n",
    "print(f'#B 변동계수: ', round(get_cov(B, ddof=1), 2) )"
   ]
  },
  {
   "cell_type": "markdown",
   "metadata": {},
   "source": [
    "---------------------------"
   ]
  },
  {
   "cell_type": "markdown",
   "metadata": {},
   "source": [
    "### 왜도(skewness)\n",
    "- 분포의 대칭이나 비대칭의 정도를 표시하는 척도\n",
    "- 정규분포로부터 얼마나 멀어져있는지를 보는 수치(왜도=0, 완전한 정규분포)\n",
    "- $\\alpha = 0$ :   완전한 정규분포\n",
    "- $\\alpha > 0$ :   왼쪽으로 치우친 분포\n",
    "- $\\alpha < 0$ :   오른쪽으로 치우친 분포"
   ]
  },
  {
   "cell_type": "markdown",
   "metadata": {},
   "source": [
    "### 첨도(kurtosis)\n",
    "- 뽀족함의 정도를 나타내는 척도\n",
    "- 정규뷴포상에서 평균을 중심으로 집중화된 정도를 나타냄\n",
    "- $\\beta = 3$ :   뽀족한 정도가 정규분포와 같다\n",
    "- $\\beta > 3$ :   표준정규분포보다 정점이 높고 뽀족하다, 꼬리가 더 두꺼워짐\n",
    "- $\\beta < 3$ :   표준정규분포보다 정점이 낮고 완만하다, 꼬리가 더 얇아짐"
   ]
  },
  {
   "cell_type": "code",
   "execution_count": null,
   "metadata": {},
   "outputs": [],
   "source": [
    "# 왜도 & 첨도 구하기:  수학적 방법\n",
    "import numpy as np\n",
    "\n",
    "def skew_kurtosis(data):\n",
    "    mean = np.mean(data)\n",
    "    var = np.var(data)\n",
    "    std = np.sqrt(var)\n",
    "    \n",
    "    # skewness\n",
    "    skew = np.sum((data - mean)**3) / (len(data) * std**3)    \n",
    "    # kurtosis\n",
    "    kurt = np.sum((data - mean)**4) / (len(data) * std**4) - 3\n",
    "    \n",
    "    return skew, kurt\n",
    "\n",
    "datas = [31, 27, 25, 24, 21, 44, 36, 29, 35, 28,\n",
    "         16, 26, 21, 37, 26, 22, 30, 29, 40, 33,\n",
    "         35, 26, 22, 42, 25, 28, 39, 30, 27, 30]\n",
    "\n",
    "skew, kurt = skew_kurtosis(datas)\n",
    "print(\"Skewness: \", skew)\n",
    "print(\"Kurtosis: \", kurt)"
   ]
  },
  {
   "cell_type": "code",
   "execution_count": null,
   "metadata": {},
   "outputs": [],
   "source": [
    "# 왜도 & 첨도 구하기:  scipy.stats 모듈 사용\n",
    "import scipy.stats as stats\n",
    "\n",
    "def skew_kurtosis(data):\n",
    "    # skewness & kurtosis\n",
    "    skew = stats.skew(datas)\n",
    "    kurtosis = stats.kurtosis(datas)\n",
    "    \n",
    "    return skew, kurtosis\n",
    "    \n",
    "# Define your data array\n",
    "A = [1,2,3,4,5,5,5,6,7,8,8,9,9,9,9]\n",
    "B = [4,5,5,5,6,6,6,6,6,6,6,7,7,7,8]\n",
    "datas = [31, 27, 25, 24, 21, 44, 36, 29, 35, 28,\n",
    "         16, 26, 21, 37, 26, 22, 30, 29, 40, 33,\n",
    "         35, 26, 22, 42, 25, 28, 39, 30, 27, 30]\n",
    "\n",
    "skew, kurt = skew_kurtosis(datas)\n",
    "print(\"Skewness: \", skew)\n",
    "print(\"Kurtosis: \", kurt)"
   ]
  },
  {
   "cell_type": "code",
   "execution_count": null,
   "metadata": {},
   "outputs": [],
   "source": [
    "# values, counts =  get_data_count(datas)\n",
    "# x, y = values, counts\n",
    "# 도수분포표 만들기\n",
    "df =  makeFrequencyTable(datas, k=6)\n",
    "x, y = df['계급값'], df['도수']\n",
    "make_histogram(datas, x, y, width=5)"
   ]
  },
  {
   "cell_type": "code",
   "execution_count": null,
   "metadata": {
    "scrolled": true
   },
   "outputs": [],
   "source": [
    "# seaborn 라이브러리로 히스토그램 그리기\n",
    "import seaborn as sns \n",
    "sns.histplot(datas, kde=True, bins=5)"
   ]
  },
  {
   "cell_type": "markdown",
   "metadata": {},
   "source": [
    "### [실습] 산포도 구하기\n",
    "다음은 어느 정유회사에서 생산하는 자동차용 휘발유의 옥탄가 자료이다. 평균, 분산, 표준편차, 왜도, 첨도, 분포 형태 설명"
   ]
  },
  {
   "cell_type": "code",
   "execution_count": 35,
   "metadata": {},
   "outputs": [
    {
     "name": "stdout",
     "output_type": "stream",
     "text": [
      "1. mean              :  90.91887\n",
      "2. variance          :  13.74115\n",
      "3. standard deviation:  3.70691\n",
      "4. Skewness          :  0.25306\n",
      "5. Kurtosis          :  0.17784\n",
      "분표 형태 설명: \n"
     ]
    }
   ],
   "source": [
    "import numpy as np\n",
    "import matplotlib.pyplot as plt\n",
    "import scipy.stats as stats\n",
    "\n",
    "datas=[ 90.7, 90.0, 92.2, 91.0, 88.5, 87.8, 83.4, 82.1, 88.6, 100.2,\n",
    "        95.6, 93.3, 88.2, 91.0, 92.7, 93.2, 91.0, 93.4, 85.3, 88.6, \n",
    "        96.1, 98.9, 89.9, 89.8, 91.1, 89.7, 88.2, 93.7, 84.3, 97.9, \n",
    "        87.9, 90.1, 88.3, 93.3, 95.4, 91.6, 88.9, 92.6, 97.4, 87.4, \n",
    "        86.7, 90.4, 91.1, 92.6, 88.8, 89.3, 89.8, 89.2, 88.6, 89.0, \n",
    "        96.1, 95.6, 92.2 ]\n",
    "#평균\n",
    "x = np.mean(datas)\n",
    "#분산\n",
    "var = np.var(datas, ddof=0)  \n",
    "#표준편차\n",
    "std = np.std(datas, ddof=0)  \n",
    "#왜도\n",
    "skew = stats.skew(datas)\n",
    "#척도\n",
    "kurt = stats.kurtosis(datas)\n",
    "\n",
    "\n",
    "print(\"1. mean              : \", round(x, 5) )\n",
    "print(\"2. variance          : \", round(var, 5) )\n",
    "print(\"3. standard deviation: \", round(std, 5) )\n",
    "print(\"4. Skewness          : \", round(skew, 5) )\n",
    "print(\"5. Kurtosis          : \", round(kurt, 5) )\n",
    "print(\"분표 형태 설명: \")"
   ]
  },
  {
   "cell_type": "markdown",
   "metadata": {},
   "source": [
    "### [실습] 변동계수 비교하기\n",
    "- data1 : 1부터 10 사이의 정수 100개 무작위 추출\n",
    "- data2 : 평균 1 이고, 표준편차가 1인 정규분포를 이루는 100개 무작위 추출"
   ]
  },
  {
   "cell_type": "code",
   "execution_count": 36,
   "metadata": {},
   "outputs": [
    {
     "ename": "NameError",
     "evalue": "name 'get_cov' is not defined",
     "output_type": "error",
     "traceback": [
      "\u001b[1;31m---------------------------------------------------------------------------\u001b[0m",
      "\u001b[1;31mNameError\u001b[0m                                 Traceback (most recent call last)",
      "Cell \u001b[1;32mIn[36], line 8\u001b[0m\n\u001b[0;32m      4\u001b[0m data1 \u001b[39m=\u001b[39m np\u001b[39m.\u001b[39mrandom\u001b[39m.\u001b[39mrandint(\u001b[39m1\u001b[39m, \u001b[39m11\u001b[39m, size \u001b[39m=\u001b[39m \u001b[39m100\u001b[39m) \u001b[39m# 1부터 10 사이의 정수 100개 무작위 추출\u001b[39;00m\n\u001b[0;32m      5\u001b[0m data2 \u001b[39m=\u001b[39m np\u001b[39m.\u001b[39mrandom\u001b[39m.\u001b[39mnormal(loc \u001b[39m=\u001b[39m \u001b[39m1\u001b[39m, scale \u001b[39m=\u001b[39m \u001b[39m1\u001b[39m, size \u001b[39m=\u001b[39m \u001b[39m100\u001b[39m) \u001b[39m# 평균 1, 표준편차 1인 정규분포에서 100개 무작위 추출\u001b[39;00m\n\u001b[1;32m----> 8\u001b[0m \u001b[39mprint\u001b[39m(\u001b[39m'\u001b[39m\u001b[39m#data1 변동계수: \u001b[39m\u001b[39m'\u001b[39m, get_cov(data1, ddof\u001b[39m=\u001b[39m\u001b[39m0\u001b[39m), \u001b[39m'\u001b[39m\u001b[39m%\u001b[39m\u001b[39m'\u001b[39m)\n\u001b[0;32m      9\u001b[0m \u001b[39mprint\u001b[39m(\u001b[39m'\u001b[39m\u001b[39m#data2 변동계수: \u001b[39m\u001b[39m'\u001b[39m, get_cov(data2, ddof\u001b[39m=\u001b[39m\u001b[39m0\u001b[39m), \u001b[39m'\u001b[39m\u001b[39m%\u001b[39m\u001b[39m'\u001b[39m)\n",
      "\u001b[1;31mNameError\u001b[0m: name 'get_cov' is not defined"
     ]
    }
   ],
   "source": [
    "import numpy as np\n",
    "\n",
    "# 데이터 집단 먼들기\n",
    "data1 = np.random.randint(1, 11, size = 100) # 1부터 10 사이의 정수 100개 무작위 추출\n",
    "data2 = np.random.normal(loc = 1, scale = 1, size = 100) # 평균 1, 표준편차 1인 정규분포에서 100개 무작위 추출\n",
    "\n",
    "\n",
    "print('#data1 변동계수: ', get_cov(data1, ddof=0), '%')\n",
    "print('#data2 변동계수: ', get_cov(data2, ddof=0), '%')"
   ]
  },
  {
   "cell_type": "markdown",
   "metadata": {},
   "source": [
    "----------------------------------"
   ]
  },
  {
   "cell_type": "markdown",
   "metadata": {},
   "source": [
    "--------"
   ]
  },
  {
   "cell_type": "markdown",
   "metadata": {},
   "source": [
    "## <a name=\"4.3위치척도와 상자그림\">4.3 위치척도와 상자그림</a>"
   ]
  },
  {
   "attachments": {},
   "cell_type": "markdown",
   "metadata": {},
   "source": [
    "### Z-점수\n",
    "- 각 자료의 측정값을 그 측정값과 평균과의 편차를 표준편차로 나눈 수치(z-score)\n",
    "- 표준점수라고도 불리우는 Z-점수는 통계학적으로 정규분포를 만들고 개개의 경우가 표준편차 상에 어떤 위치를 차지하는지를 보여주는 차원 없는 수치이다"
   ]
  },
  {
   "cell_type": "code",
   "execution_count": 40,
   "metadata": {
    "scrolled": false
   },
   "outputs": [
    {
     "name": "stdout",
     "output_type": "stream",
     "text": [
      "x_ :  163.5 std:  5.39\n"
     ]
    },
    {
     "data": {
      "text/html": [
       "<div>\n",
       "<style scoped>\n",
       "    .dataframe tbody tr th:only-of-type {\n",
       "        vertical-align: middle;\n",
       "    }\n",
       "\n",
       "    .dataframe tbody tr th {\n",
       "        vertical-align: top;\n",
       "    }\n",
       "\n",
       "    .dataframe thead th {\n",
       "        text-align: right;\n",
       "    }\n",
       "</style>\n",
       "<table border=\"1\" class=\"dataframe\">\n",
       "  <thead>\n",
       "    <tr style=\"text-align: right;\">\n",
       "      <th>A자료값</th>\n",
       "      <th>171</th>\n",
       "      <th>164</th>\n",
       "      <th>167</th>\n",
       "      <th>156</th>\n",
       "      <th>159</th>\n",
       "      <th>164</th>\n",
       "    </tr>\n",
       "  </thead>\n",
       "  <tbody>\n",
       "    <tr>\n",
       "      <th>z-점수</th>\n",
       "      <td>1.39</td>\n",
       "      <td>0.09</td>\n",
       "      <td>0.65</td>\n",
       "      <td>-1.39</td>\n",
       "      <td>-0.83</td>\n",
       "      <td>0.09</td>\n",
       "    </tr>\n",
       "  </tbody>\n",
       "</table>\n",
       "</div>"
      ],
      "text/plain": [
       "A자료값   171   164   167   156   159   164\n",
       "z-점수  1.39  0.09  0.65 -1.39 -0.83  0.09"
      ]
     },
     "execution_count": 40,
     "metadata": {},
     "output_type": "execute_result"
    }
   ],
   "source": [
    "import pandas as pd \n",
    "\n",
    "def get_z_score(data, ddof=0):\n",
    "    '''z-점수'''\n",
    "    x_ = round(np.mean(data), 2)   # 평균\n",
    "    std= round(get_std(data, ddof=ddof), 2)        # 표준편차  \n",
    "    print('x_ : ',x_, 'std: ', std)\n",
    "    zdata = [ (i - x_) / std for i in data] # z-점수\n",
    "    return [round(data, 2) for data in zdata]  # 소수점 절삭해서 리턴\n",
    "\n",
    "\n",
    "A = [171, 164, 167, 156, 159, 164]\n",
    "B = [11.5, 12.2, 12.0, 12.4, 13.6, 10.5]\n",
    "\n",
    "# (a) 표본 A & B  z-점수\n",
    "A_z = get_z_score(A, ddof=1)\n",
    "df_A = pd.DataFrame([A_z], columns=A, index=['z-점수'])\n",
    "df_A.columns.name = 'A자료값'\n",
    "df_A"
   ]
  },
  {
   "cell_type": "code",
   "execution_count": 41,
   "metadata": {
    "scrolled": true
   },
   "outputs": [
    {
     "name": "stdout",
     "output_type": "stream",
     "text": [
      "x_ :  12.03 std:  1.03\n"
     ]
    },
    {
     "data": {
      "text/html": [
       "<div>\n",
       "<style scoped>\n",
       "    .dataframe tbody tr th:only-of-type {\n",
       "        vertical-align: middle;\n",
       "    }\n",
       "\n",
       "    .dataframe tbody tr th {\n",
       "        vertical-align: top;\n",
       "    }\n",
       "\n",
       "    .dataframe thead th {\n",
       "        text-align: right;\n",
       "    }\n",
       "</style>\n",
       "<table border=\"1\" class=\"dataframe\">\n",
       "  <thead>\n",
       "    <tr style=\"text-align: right;\">\n",
       "      <th>B자료값</th>\n",
       "      <th>11.5</th>\n",
       "      <th>12.2</th>\n",
       "      <th>12.0</th>\n",
       "      <th>12.4</th>\n",
       "      <th>13.6</th>\n",
       "      <th>10.5</th>\n",
       "    </tr>\n",
       "  </thead>\n",
       "  <tbody>\n",
       "    <tr>\n",
       "      <th>z-점수</th>\n",
       "      <td>-0.51</td>\n",
       "      <td>0.17</td>\n",
       "      <td>-0.03</td>\n",
       "      <td>0.36</td>\n",
       "      <td>1.52</td>\n",
       "      <td>-1.49</td>\n",
       "    </tr>\n",
       "  </tbody>\n",
       "</table>\n",
       "</div>"
      ],
      "text/plain": [
       "B자료값  11.5  12.2  12.0  12.4  13.6  10.5\n",
       "z-점수 -0.51  0.17 -0.03  0.36  1.52 -1.49"
      ]
     },
     "execution_count": 41,
     "metadata": {},
     "output_type": "execute_result"
    }
   ],
   "source": [
    "B_z = get_z_score(B, ddof=1)\n",
    "df_B = pd.DataFrame([B_z], columns=B, index=['z-점수'])\n",
    "df_B.columns.name = 'B자료값'\n",
    "df_B"
   ]
  },
  {
   "cell_type": "markdown",
   "metadata": {},
   "source": [
    "-----------------------------"
   ]
  },
  {
   "cell_type": "markdown",
   "metadata": {},
   "source": [
    "### 백분위수와 사분위수(percentiles & quartiles)\n",
    " - 백분위수(percentile): 수집한 자료를 크기순으로 나열할 때, 1%씩 등간격으로 구분하는 척도\n",
    " - 사분위수(quartiles): 수집한 자룔를 크기순으로 나열하여 4등분하는 척도, Q1, Q2, Q3"
   ]
  },
  {
   "cell_type": "code",
   "execution_count": 42,
   "metadata": {},
   "outputs": [
    {
     "name": "stdout",
     "output_type": "stream",
     "text": [
      "1사분위(Q1: 25%): 27\n",
      "2사분위(Q2: 50%): 38\n",
      "3사분위(Q3: 75%): 41\n",
      "4사분위(Q4:100%): 58\n",
      "[12, 16, 17, 18, 19, 21, 22, 25, 26, 26, 26, 26, 27, 28, 28, 29, 29, 29, 30, 30, 31, 34, 34, 38, 38, 38, 38, 38, 39, 39, 39, 39, 39, 40, 40, 41, 41, 41, 42, 42, 42, 43, 43, 44, 44, 45, 46, 46, 48, 58]\n"
     ]
    }
   ],
   "source": [
    "import numpy as np\n",
    "\n",
    "datas = [26, 31, 27, 38, 42, 26, 18, 17, 25, 29,\n",
    "         39, 38, 38, 40, 46, 38, 39, 41, 41, 40,\n",
    "         26, 19, 39, 28, 45, 34, 21, 41, 30, 30,\n",
    "         12, 22, 48, 34, 29, 26, 29, 58, 43, 16,\n",
    "         42, 44, 38, 44, 28, 43, 39, 42, 39, 46]\n",
    "\n",
    "Q1 = np.percentile(datas, 25).astype('int') # 1사분위\n",
    "Q2 = np.percentile(datas, 50).astype('int')  # 2사분위\n",
    "Q3 = np.percentile(datas, 75).astype('int')  # 3사분위\n",
    "Q4 = np.percentile(datas, 100).astype('int') # 4사분위\n",
    "\n",
    "print('1사분위(Q1: 25%):', Q1 )\n",
    "print('2사분위(Q2: 50%):', Q2 )\n",
    "print('3사분위(Q3: 75%):', Q3 )\n",
    "print('4사분위(Q4:100%):', Q4 )\n",
    "print(sorted(datas))"
   ]
  },
  {
   "cell_type": "code",
   "execution_count": null,
   "metadata": {},
   "outputs": [],
   "source": [
    "# 사분위수 범위\n",
    "IQR = Q3 -Q1\n",
    "print('사분위수 범위(IQR): ', IQR)"
   ]
  },
  {
   "cell_type": "markdown",
   "metadata": {},
   "source": [
    "---------"
   ]
  },
  {
   "cell_type": "markdown",
   "metadata": {},
   "source": [
    "### 상자그림\n",
    " - Box Plot: 사분위수를 이용하여 수집한 자료에 포함된 **특이값**을 알려주는 그림\n",
    " - 두 개 이상의 자료 집단을 비교할 때 매우 유용\n",
    " - https://matplotlib.org/stable/api/_as_gen/matplotlib.pyplot.boxplot.html"
   ]
  },
  {
   "cell_type": "code",
   "execution_count": 38,
   "metadata": {
    "scrolled": false
   },
   "outputs": [
    {
     "data": {
      "image/png": "[encoded data removed]",
      "text/plain": [
       "<Figure size 500x300 with 1 Axes>"
      ]
     },
     "metadata": {},
     "output_type": "display_data"
    }
   ],
   "source": [
    "import matplotlib.pyplot as plt\n",
    "\n",
    "# 가로로 그리기\n",
    "plt.boxplot(datas, vert=False, showmeans=True)\n",
    "plt.grid()\n",
    "plt.show()"
   ]
  },
  {
   "cell_type": "code",
   "execution_count": 37,
   "metadata": {
    "scrolled": true
   },
   "outputs": [
    {
     "data": {
      "image/png": "[encoded data removed]",
      "text/plain": [
       "<Figure size 500x300 with 1 Axes>"
      ]
     },
     "metadata": {},
     "output_type": "display_data"
    }
   ],
   "source": [
    "import matplotlib.pyplot as plt\n",
    "\n",
    "plt.boxplot(datas, showmeans=True)\n",
    "plt.grid()\n",
    "plt.show()"
   ]
  },
  {
   "cell_type": "markdown",
   "metadata": {},
   "source": [
    "-------------------------------------------"
   ]
  },
  {
   "cell_type": "markdown",
   "metadata": {},
   "source": [
    "### [실습] 위치척도와 상자그림"
   ]
  },
  {
   "cell_type": "code",
   "execution_count": 43,
   "metadata": {},
   "outputs": [
    {
     "name": "stdout",
     "output_type": "stream",
     "text": [
      "data1: [56, 90, 88, 87, 68, 32, 76, 54, 100, 41]\n",
      "data2: [8, 51, 70, 86, 2, 77, 81, 75, 64, 89]\n",
      "data3: [15, 55, 64, 95, 67, 67, 51, 58, 57, 89]\n",
      "\n",
      "x_ :  69.2 std:  22.81\n",
      "x_ :  60.3 std:  31.16\n",
      "x_ :  61.8 std:  21.84\n",
      "#data1 z-점수: [-0.58, 0.91, 0.82, 0.78, -0.05, -1.63, 0.3, -0.67, 1.35, -1.24]\n",
      "#data2 z-점수: [-1.68, -0.3, 0.31, 0.82, -1.87, 0.54, 0.66, 0.47, 0.12, 0.92]\n",
      "#data3 z-점수: [-2.14, -0.31, 0.1, 1.52, 0.24, 0.24, -0.49, -0.17, -0.22, 1.25]\n",
      "\n",
      "ext_outlier      : []\n",
      "mid_outlier      : []\n",
      "ext_outlier      : []\n",
      "mid_outlier      : []\n",
      "ext_outlier      : []\n",
      "mid_outlier      : []\n"
     ]
    },
    {
     "data": {
      "image/png": "[encoded data removed]",
      "text/plain": [
       "<Figure size 500x300 with 1 Axes>"
      ]
     },
     "metadata": {},
     "output_type": "display_data"
    }
   ],
   "source": [
    "import numpy as np\n",
    "\n",
    "def get_outlier_data(data):\n",
    "    Q1 = np.percentile(datas, 25).astype('int') # 1사분위 (편의상 정수로 만듦)\n",
    "    Q3 = np.percentile(datas, 75).astype('int')  # 3사분위\n",
    "    IQR = Q3 - Q1\n",
    "    fl = Q1 - 1.5*IQR  # lower inner fence\n",
    "    fu = Q3 + 1.5*IQR  # upper inner fence\n",
    "    fL = Q1 - 3*IQR    # lower outer fence\n",
    "    fU = Q3 + 3*IQR    # upper outer fence\n",
    "    mid_outlier = [x for x in datas if (fL<=x<=fl) or (fu<=x<=fU)] # mid ouetlier(보통 특이값)\n",
    "    ext_outlier = [x for x in datas if (fL>=x) or (fU<=x)]         # extreme outlier(특이값)\n",
    "#     print(f\"ordered data     : {sorted(datas)} \")\n",
    "#     print(f'lower inner fence: {fl}')\n",
    "#     print(f'upper inner fence: {fu}')\n",
    "#     print(f'lower outer fence: {fL}')\n",
    "    print(f'ext_outlier      : {ext_outlier}')\n",
    "    print(f'mid_outlier      : {mid_outlier}')    \n",
    "    \n",
    "\n",
    "    \n",
    "data1 = [56,  90,  88,  87,  68,  32,  76,  54, 100,  41]  # 특이값 미 포함\n",
    "data2 = [8, 51, 70, 86,  2, 77, 81, 75, 64, 89]    # (보통)특이값 포함\n",
    "data3 = [15, 55, 64, 95, 67, 67, 51, 58, 57, 89]   # (보통)특이값 + 특이값 포함\n",
    "print(f'data1: {data1}')\n",
    "print(f'data2: {data2}')\n",
    "print(f'data3: {data3}')\n",
    "print()\n",
    "\n",
    "z_score1 =  get_z_score(data1, ddof=1)   # z-점수\n",
    "z_score2 =  get_z_score(data2, ddof=1)   # z-점수\n",
    "z_score3 =  get_z_score(data3, ddof=1)   # z-점수\n",
    "print(f'#data1 z-점수: {z_score1}')\n",
    "print(f'#data2 z-점수: {z_score2}')\n",
    "print(f'#data3 z-점수: {z_score3}')\n",
    "print()\n",
    "\n",
    "get_outlier_data(data1)                     # 상자그림\n",
    "get_outlier_data(data2)  \n",
    "get_outlier_data(data3)\n",
    "\n",
    "plt.boxplot([data1, data2, data3], showmeans=True)\n",
    "plt.grid()\n",
    "plt.show()"
   ]
  },
  {
   "cell_type": "markdown",
   "metadata": {},
   "source": [
    "#### 특이값(이상치) 데이터 만들기"
   ]
  },
  {
   "cell_type": "code",
   "execution_count": 44,
   "metadata": {},
   "outputs": [
    {
     "name": "stdout",
     "output_type": "stream",
     "text": [
      "data      : [43, 36, 25, 7, 47, 6, 23, 85, 48, 35]\n",
      "특이값    : []\n",
      "보통특이값: [85]\n"
     ]
    },
    {
     "data": {
      "image/png": "[encoded data removed]",
      "text/plain": [
       "<Figure size 500x300 with 1 Axes>"
      ]
     },
     "metadata": {},
     "output_type": "display_data"
    }
   ],
   "source": [
    "# 이상치 데이터 만들기\n",
    "def make_outlier_data(datas):\n",
    "    while True:\n",
    "        datas = np.random.randint(1, 101, size=10)  # 1부터 100 사이의 정수 10개 무작위 추출\n",
    "        Q1 = np.percentile(datas, 25).astype('int') # 1사분위\n",
    "        Q3 = np.percentile(datas, 75).astype('int')  # 3사분위\n",
    "        IQR = Q3 - Q1\n",
    "        fl = Q1 - 1.5*IQR\n",
    "        fu = Q3 + 1.5*IQR\n",
    "        fL = Q1 - 3*IQR\n",
    "        fU = Q3 + 3*IQR\n",
    "        mid_outlier = [x for x in datas if (fL<=x<=fl) or (fu<=x<=fU)] # 보통 특이값\n",
    "        ext_outlier = [x for x in datas if (fL>=x) or (fU<=x)] # 특이값\n",
    "        \n",
    "        if mid_outlier or ext_outlier:            \n",
    "            break\n",
    "    return list(datas), mid_outlier, ext_outlier\n",
    "\n",
    "def draw_boxplot(data):\n",
    "    plt.boxplot(data, showmeans=True)\n",
    "    plt.grid()\n",
    "    plt.show()\n",
    "\n",
    "datas, mid_outlier, ext_outlier = make_outlier_data(datas)\n",
    "print('data      :', datas)\n",
    "print('특이값    :', ext_outlier)\n",
    "print('보통특이값:', mid_outlier)\n",
    "draw_boxplot(datas)"
   ]
  },
  {
   "cell_type": "code",
   "execution_count": null,
   "metadata": {
    "scrolled": true
   },
   "outputs": [],
   "source": [
    "#  violinplot은 분포 현황(데이터 집중) 을 알 수 있다.\n",
    "plt.violinplot(datas)\n",
    "plt.grid()\n",
    "plt.show()"
   ]
  },
  {
   "cell_type": "markdown",
   "metadata": {},
   "source": [
    "----------"
   ]
  },
  {
   "cell_type": "markdown",
   "metadata": {},
   "source": [
    "## <a name=\"4.4도수분포표에서의 평균과 분산\">4.4 도수분포표에서의 평균과 분산</a>"
   ]
  },
  {
   "cell_type": "markdown",
   "metadata": {},
   "source": [
    "### 도수분포표"
   ]
  },
  {
   "cell_type": "code",
   "execution_count": 45,
   "metadata": {},
   "outputs": [
    {
     "name": "stdout",
     "output_type": "stream",
     "text": [
      "계급수(K):5, R:41, 계급간격(w):9, 계급시작값(s):9.5\n",
      "계급:[ 9.5 18.5 27.5 36.5 45.5 54.5]\n"
     ]
    },
    {
     "data": {
      "text/html": [
       "<div>\n",
       "<style scoped>\n",
       "    .dataframe tbody tr th:only-of-type {\n",
       "        vertical-align: middle;\n",
       "    }\n",
       "\n",
       "    .dataframe tbody tr th {\n",
       "        vertical-align: top;\n",
       "    }\n",
       "\n",
       "    .dataframe thead th {\n",
       "        text-align: right;\n",
       "    }\n",
       "</style>\n",
       "<table border=\"1\" class=\"dataframe\">\n",
       "  <thead>\n",
       "    <tr style=\"text-align: right;\">\n",
       "      <th></th>\n",
       "      <th>도수</th>\n",
       "      <th>계급값</th>\n",
       "    </tr>\n",
       "    <tr>\n",
       "      <th>계급간격</th>\n",
       "      <th></th>\n",
       "      <th></th>\n",
       "    </tr>\n",
       "  </thead>\n",
       "  <tbody>\n",
       "    <tr>\n",
       "      <th>9.5 ~ 18.5</th>\n",
       "      <td>10</td>\n",
       "      <td>14.0</td>\n",
       "    </tr>\n",
       "    <tr>\n",
       "      <th>18.5 ~ 27.5</th>\n",
       "      <td>29</td>\n",
       "      <td>23.0</td>\n",
       "    </tr>\n",
       "    <tr>\n",
       "      <th>27.5 ~ 36.5</th>\n",
       "      <td>8</td>\n",
       "      <td>32.0</td>\n",
       "    </tr>\n",
       "    <tr>\n",
       "      <th>36.5 ~ 45.5</th>\n",
       "      <td>2</td>\n",
       "      <td>41.0</td>\n",
       "    </tr>\n",
       "    <tr>\n",
       "      <th>45.5 ~ 54.5</th>\n",
       "      <td>1</td>\n",
       "      <td>50.0</td>\n",
       "    </tr>\n",
       "  </tbody>\n",
       "</table>\n",
       "</div>"
      ],
      "text/plain": [
       "             도수   계급값\n",
       "계급간격                 \n",
       "9.5 ~ 18.5   10  14.0\n",
       "18.5 ~ 27.5  29  23.0\n",
       "27.5 ~ 36.5   8  32.0\n",
       "36.5 ~ 45.5   2  41.0\n",
       "45.5 ~ 54.5   1  50.0"
      ]
     },
     "execution_count": 45,
     "metadata": {},
     "output_type": "execute_result"
    }
   ],
   "source": [
    "# 청소년 핸드폰 사용시간\n",
    "datas = [10, 37, 22, 32, 18, 15, 15, 18, 22, 15,\n",
    "        20, 25, 38, 28, 25, 30, 20, 22, 18, 22,\n",
    "        22, 12, 22, 26, 22, 32, 22, 23, 20, 23,\n",
    "        23, 20, 25, 51, 20, 25, 26, 22, 26, 28,\n",
    "        28, 20, 23, 30, 12, 22, 35, 11, 20, 25]\n",
    "\n",
    "# 도수분포표 만들기\n",
    "df =  makeFrequencyTable(datas, k=5)\n",
    "df\n",
    "\n",
    "df.drop(columns=['상대도수','누적도수','누적상대도수'], inplace=True)\n",
    "df"
   ]
  },
  {
   "cell_type": "markdown",
   "metadata": {},
   "source": [
    "### 도수분포표:  평균 & 분산 & 표준편차"
   ]
  },
  {
   "cell_type": "code",
   "execution_count": 46,
   "metadata": {
    "scrolled": true
   },
   "outputs": [
    {
     "name": "stdout",
     "output_type": "stream",
     "text": [
      "평균(x_): 23.9\n"
     ]
    },
    {
     "data": {
      "text/html": [
       "<div>\n",
       "<style scoped>\n",
       "    .dataframe tbody tr th:only-of-type {\n",
       "        vertical-align: middle;\n",
       "    }\n",
       "\n",
       "    .dataframe tbody tr th {\n",
       "        vertical-align: top;\n",
       "    }\n",
       "\n",
       "    .dataframe thead th {\n",
       "        text-align: right;\n",
       "    }\n",
       "</style>\n",
       "<table border=\"1\" class=\"dataframe\">\n",
       "  <thead>\n",
       "    <tr style=\"text-align: right;\">\n",
       "      <th></th>\n",
       "      <th>도수</th>\n",
       "      <th>계급값</th>\n",
       "      <th>평균차</th>\n",
       "      <th>분산</th>\n",
       "      <th>표준편차</th>\n",
       "    </tr>\n",
       "    <tr>\n",
       "      <th>계급간격</th>\n",
       "      <th></th>\n",
       "      <th></th>\n",
       "      <th></th>\n",
       "      <th></th>\n",
       "      <th></th>\n",
       "    </tr>\n",
       "  </thead>\n",
       "  <tbody>\n",
       "    <tr>\n",
       "      <th>9.5 ~ 18.5</th>\n",
       "      <td>10</td>\n",
       "      <td>14.0</td>\n",
       "      <td>-9.9</td>\n",
       "      <td>98.01</td>\n",
       "      <td>980.10</td>\n",
       "    </tr>\n",
       "    <tr>\n",
       "      <th>18.5 ~ 27.5</th>\n",
       "      <td>29</td>\n",
       "      <td>23.0</td>\n",
       "      <td>-0.9</td>\n",
       "      <td>0.81</td>\n",
       "      <td>23.49</td>\n",
       "    </tr>\n",
       "    <tr>\n",
       "      <th>27.5 ~ 36.5</th>\n",
       "      <td>8</td>\n",
       "      <td>32.0</td>\n",
       "      <td>8.1</td>\n",
       "      <td>65.61</td>\n",
       "      <td>524.88</td>\n",
       "    </tr>\n",
       "    <tr>\n",
       "      <th>36.5 ~ 45.5</th>\n",
       "      <td>2</td>\n",
       "      <td>41.0</td>\n",
       "      <td>17.1</td>\n",
       "      <td>292.41</td>\n",
       "      <td>584.82</td>\n",
       "    </tr>\n",
       "    <tr>\n",
       "      <th>45.5 ~ 54.5</th>\n",
       "      <td>1</td>\n",
       "      <td>50.0</td>\n",
       "      <td>26.1</td>\n",
       "      <td>681.21</td>\n",
       "      <td>681.21</td>\n",
       "    </tr>\n",
       "  </tbody>\n",
       "</table>\n",
       "</div>"
      ],
      "text/plain": [
       "             도수   계급값   평균차      분산    표준편차\n",
       "계급간격                                       \n",
       "9.5 ~ 18.5   10  14.0  -9.9   98.01  980.10\n",
       "18.5 ~ 27.5  29  23.0  -0.9    0.81   23.49\n",
       "27.5 ~ 36.5   8  32.0   8.1   65.61  524.88\n",
       "36.5 ~ 45.5   2  41.0  17.1  292.41  584.82\n",
       "45.5 ~ 54.5   1  50.0  26.1  681.21  681.21"
      ]
     },
     "execution_count": 46,
     "metadata": {},
     "output_type": "execute_result"
    }
   ],
   "source": [
    "# 리스트를 이용\n",
    "\n",
    "# x_: 도수분포표 평균\n",
    "x_ = sum([ df['도수'][idx] * i for idx, i in enumerate(df['계급값']) ]) / sum(df['도수'])\n",
    "print(f'평균(x_): {x_}')\n",
    "\n",
    "# x-x_: 평균차 (평균 - 계급값)\n",
    "df['평균차'] = [ x - x_ for x in df['계급값'] ]\n",
    "\n",
    "\n",
    "# (x-x_)**2 : 분산 (평균 - 계급값)**2\n",
    "df['분산'] = [ (x - x_)**2 for x in df['계급값'] ]\n",
    "\n",
    "\n",
    "# (x-x_)**2 * fi : 표준편차 (평균 - 계급값)**2*fi\n",
    "df['표준편차'] = [ (x - x_)**2*i for i, x in zip(df['도수'],df['계급값']) ]\n",
    "\n",
    "\n",
    "# 합계\n",
    "# df.loc['합계'] = [ sum(df['도수']), '','','',sum(df['표준편차']) ]\n",
    "\n",
    "df"
   ]
  },
  {
   "cell_type": "code",
   "execution_count": null,
   "metadata": {},
   "outputs": [],
   "source": [
    "# # DataFrame.apply() 이용\n",
    "\n",
    "# # x_: 도수분포표 평균\n",
    "# x_ = sum(df['계급값'] * df['도수'])/ df['도수'].sum()\n",
    "# print(f'평균(x_): {x_}')\n",
    "\n",
    "\n",
    "# # x-x_: 평균차 (평균 - 계급값)\n",
    "# df['평균차'] = df.apply(lambda x: x['계급값'] - x_, axis=1) \n",
    "\n",
    "\n",
    "# # (x-x_)**2 : 분산 (평균 - 계급값)**2\n",
    "# df['분산'] = df.apply(lambda x: (x['계급값'] - x_)**2, axis=1) \n",
    "\n",
    "\n",
    "# # (x-x_)**2 * fi : 표준편차 (평균 - 계급값)**2*fi\n",
    "# df['표준편차'] = df.apply(lambda x: (x['계급값'] - x_)**2 * x['도수'], axis=1) \n",
    "\n",
    "# # 합계\n",
    "# # df.loc['합계'] = [ sum(df['도수']), '','','',sum(df['표준편차']) ]\n",
    "\n",
    "# df"
   ]
  },
  {
   "cell_type": "code",
   "execution_count": 47,
   "metadata": {
    "scrolled": true
   },
   "outputs": [
    {
     "name": "stdout",
     "output_type": "stream",
     "text": [
      "도수분포표로부터 분산    : 57.03061224489796\n",
      "도수분포표로부터 표준편차: 7.551861508588327\n"
     ]
    }
   ],
   "source": [
    "fdt_var = sum(df['표준편차']) / ( sum(df['도수']) - 1 )           # 분산\n",
    "fdt_std = np.sqrt( sum(df['표준편차']) / (sum(df['도수']) - 1 ) ) # 표준편차\n",
    "print(f\"도수분포표로부터 분산    : {fdt_var}\")\n",
    "print(f\"도수분포표로부터 표준편차: {fdt_std}\")"
   ]
  },
  {
   "cell_type": "markdown",
   "metadata": {},
   "source": [
    "---------------------------------------------------------"
   ]
  },
  {
   "cell_type": "markdown",
   "metadata": {},
   "source": [
    "### [실습] 도수분포표 만들고 분산과 표준편차 추가하기"
   ]
  },
  {
   "cell_type": "code",
   "execution_count": null,
   "metadata": {
    "scrolled": true
   },
   "outputs": [],
   "source": [
    "# 예제1:  자동차 휘발유 옥탄가\n",
    "datas=[ 90.7, 90.0, 92.2, 91.0, 88.5, 87.8, 83.4, 82.1, 88.6, 100.2,\n",
    "        95.6, 93.3, 88.2, 91.0, 92.7, 93.2, 91.0, 93.4, 85.3, 88.6, \n",
    "        96.1, 98.9, 89.9, 89.8, 91.1, 89.7, 88.2, 93.7, 84.3, 97.9, \n",
    "        87.9, 90.1, 88.3, 93.3, 95.4, 91.6, 88.9, 92.6, 97.4, 87.4, \n",
    "        86.7, 90.4, 91.1, 92.6, 88.8, 89.3, 89.8, 89.2, 88.6, 89.0, \n",
    "        96.1, 95.6, 92.2 ]\n",
    "'''\n",
    "1. mean              :  90.91887\n",
    "2. variance          :  13.74115\n",
    "3. standard deviation:  3.70691\n",
    "4. Skewness          :  0.25306\n",
    "5. Kurtosis          :  0.17784\n",
    "\n",
    "'''\n",
    "# 도수분포표 만들기\n"
   ]
  },
  {
   "cell_type": "markdown",
   "metadata": {},
   "source": [
    "-----------------------------------"
   ]
  }
 ],
 "metadata": {
  "kernelspec": {
   "display_name": "Python 3 (ipykernel)",
   "language": "python",
   "name": "python3"
  },
  "language_info": {
   "codemirror_mode": {
    "name": "ipython",
    "version": 3
   },
   "file_extension": ".py",
   "mimetype": "text/x-python",
   "name": "python",
   "nbconvert_exporter": "python",
   "pygments_lexer": "ipython3",
   "version": "3.10.5"
  }
 },
 "nbformat": 4,
 "nbformat_minor": 4
}
